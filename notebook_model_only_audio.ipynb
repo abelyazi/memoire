{
 "cells": [
  {
   "cell_type": "code",
   "execution_count": 33,
   "id": "dff43604",
   "metadata": {},
   "outputs": [],
   "source": [
    "import sys\n",
    "import tensorflow as tf\n",
    "import matplotlib.pyplot as plt\n",
    "from sklearn import metrics\n",
    "from sklearn.impute import SimpleImputer\n",
    "import numpy as np, scipy as sp, scipy.stats, os, sys, joblib\n",
    "import os, numpy as np, scipy as sp, scipy.io, scipy.io.wavfile\n",
    "from sklearn.ensemble import RandomForestClassifier\n",
    "from sklearn.model_selection import train_test_split\n",
    "import random"
   ]
  },
  {
   "cell_type": "markdown",
   "id": "f34f1616",
   "metadata": {},
   "source": [
    "# Définition des fonctions utiles"
   ]
  },
  {
   "cell_type": "code",
   "execution_count": 34,
   "id": "00c8049f",
   "metadata": {},
   "outputs": [],
   "source": [
    "# Check if a variable is a number or represents a number.\n",
    "def is_number(x):\n",
    "    try:\n",
    "        float(x)\n",
    "        return True\n",
    "    except (ValueError, TypeError):\n",
    "        return False\n",
    "\n",
    "# Check if a variable is an integer or represents an integer.\n",
    "def is_integer(x):\n",
    "    if is_number(x):\n",
    "        return float(x).is_integer()\n",
    "    else:\n",
    "        return False\n",
    "\n",
    "# Check if a variable is a a finite number or represents a finite number.\n",
    "def is_finite_number(x):\n",
    "    if is_number(x):\n",
    "        return np.isfinite(float(x))\n",
    "    else:\n",
    "        return False\n",
    "\n",
    "# Compare normalized strings.\n",
    "def compare_strings(x, y):\n",
    "    try:\n",
    "        return str(x).strip().casefold()==str(y).strip().casefold()\n",
    "    except AttributeError: # For Python 2.x compatibility\n",
    "        return str(x).strip().lower()==str(y).strip().lower()\n",
    "\n",
    "# Find patient data files.\n",
    "def find_patient_files(data_folder):\n",
    "    # Find patient files.\n",
    "    filenames = list()\n",
    "    for f in sorted(os.listdir(data_folder)):\n",
    "        root, extension = os.path.splitext(f)\n",
    "        if not root.startswith('.') and extension=='.txt':\n",
    "            filename = os.path.join(data_folder, f)\n",
    "            filenames.append(filename)\n",
    "\n",
    "    # To help with debugging, sort numerically if the filenames are integers.\n",
    "    roots = [os.path.split(filename)[1][:-4] for filename in filenames]\n",
    "    if all(is_integer(root) for root in roots):\n",
    "        filenames = sorted(filenames, key=lambda filename: int(os.path.split(filename)[1][:-4]))\n",
    "        \n",
    "    return filenames\n",
    "\n",
    "# Load patient data as a string.\n",
    "def load_patient_data(filename):\n",
    "    with open(filename, 'r') as f:\n",
    "        data = f.read()\n",
    "    return data\n",
    "\n",
    "# Load a WAV file.\n",
    "def load_wav_file(filename):\n",
    "    frequency, recording = sp.io.wavfile.read(filename)\n",
    "    return recording, frequency\n",
    "\n",
    "# Load recordings.\n",
    "def load_recordings_AV(data_folder, data, get_frequencies=False):\n",
    "    num_locations = get_num_locations(data)\n",
    "    recording_information = data.split('\\n')[1:num_locations+1]\n",
    "\n",
    "    recordings = list()\n",
    "    frequencies = list()\n",
    "    for i in range(num_locations):\n",
    "        entries = recording_information[i].split(' ')\n",
    "        recording_file = entries[2]\n",
    "        filename = os.path.join(data_folder, recording_file)\n",
    "        if 'AV.wav' in filename:\n",
    "            recording, frequency = load_wav_file(filename)\n",
    "            recordings.append(recording)\n",
    "            frequencies.append(frequency)\n",
    "\n",
    "    if get_frequencies:\n",
    "        return recordings, frequencies\n",
    "    else:\n",
    "        return recordings\n",
    "\n",
    "# Load recordings.\n",
    "def load_recordings(data_folder, data, get_frequencies=False):\n",
    "    num_locations = get_num_locations(data)\n",
    "    recording_information = data.split('\\n')[1:num_locations+1]\n",
    "\n",
    "    recordings = list()\n",
    "    frequencies = list()\n",
    "    for i in range(num_locations):\n",
    "        entries = recording_information[i].split(' ')\n",
    "        recording_file = entries[2]\n",
    "        filename = os.path.join(data_folder, recording_file)\n",
    "        recording, frequency = load_wav_file(filename)\n",
    "        recordings.append(recording)\n",
    "        frequencies.append(frequency)\n",
    "\n",
    "    if get_frequencies:\n",
    "        return recordings, frequencies\n",
    "    else:\n",
    "        return recordings\n",
    "\n",
    "# Get patient ID from patient data.\n",
    "def get_patient_id(data):\n",
    "    patient_id = None\n",
    "    for i, l in enumerate(data.split('\\n')):\n",
    "        if i==0:\n",
    "            try:\n",
    "                patient_id = l.split(' ')[0]\n",
    "            except:\n",
    "                pass\n",
    "        else:\n",
    "            break\n",
    "    return patient_id\n",
    "\n",
    "# Get number of recording locations from patient data.\n",
    "def get_num_locations(data):\n",
    "    num_locations = None\n",
    "    for i, l in enumerate(data.split('\\n')):\n",
    "        if i==0:\n",
    "            try:\n",
    "                num_locations = int(l.split(' ')[1])\n",
    "            except:\n",
    "                pass\n",
    "        else:\n",
    "            break\n",
    "    return num_locations\n",
    "\n",
    "# Get frequency from patient data.\n",
    "def get_frequency(data):\n",
    "    frequency = None\n",
    "    for i, l in enumerate(data.split('\\n')):\n",
    "        if i==0:\n",
    "            try:\n",
    "                frequency = float(l.split(' ')[2])\n",
    "            except:\n",
    "                pass\n",
    "        else:\n",
    "            break\n",
    "    return frequency\n",
    "\n",
    "# Get recording locations from patient data.\n",
    "def get_locations(data):\n",
    "    num_locations = get_num_locations(data)\n",
    "    locations = list()\n",
    "    for i, l in enumerate(data.split('\\n')):\n",
    "        entries = l.split(' ')\n",
    "        if i==0:\n",
    "            pass\n",
    "        elif 1<=i<=num_locations:\n",
    "            locations.append(entries[0])\n",
    "        else:\n",
    "            break\n",
    "    return locations\n",
    "\n",
    "# Get age from patient data.\n",
    "def get_age(data):\n",
    "    age = None\n",
    "    for l in data.split('\\n'):\n",
    "        if l.startswith('#Age:'):\n",
    "            try:\n",
    "                age = l.split(': ')[1].strip()\n",
    "            except:\n",
    "                pass\n",
    "    return age\n",
    "\n",
    "# Get sex from patient data.\n",
    "def get_sex(data):\n",
    "    sex = None\n",
    "    for l in data.split('\\n'):\n",
    "        if l.startswith('#Sex:'):\n",
    "            try:\n",
    "                sex = l.split(': ')[1].strip()\n",
    "            except:\n",
    "                pass\n",
    "    return sex\n",
    "\n",
    "# Get height from patient data.\n",
    "def get_height(data):\n",
    "    height = None\n",
    "    for l in data.split('\\n'):\n",
    "        if l.startswith('#Height:'):\n",
    "            try:\n",
    "                height = float(l.split(': ')[1].strip())\n",
    "            except:\n",
    "                pass\n",
    "    return height\n",
    "\n",
    "# Get weight from patient data.\n",
    "def get_weight(data):\n",
    "    weight = None\n",
    "    for l in data.split('\\n'):\n",
    "        if l.startswith('#Weight:'):\n",
    "            try:\n",
    "                weight = float(l.split(': ')[1].strip())\n",
    "            except:\n",
    "                pass\n",
    "    return weight\n",
    "\n",
    "# Get pregnancy status from patient data.\n",
    "def get_pregnancy_status(data):\n",
    "    is_pregnant = None\n",
    "    for l in data.split('\\n'):\n",
    "        if l.startswith('#Pregnancy status:'):\n",
    "            try:\n",
    "                is_pregnant = bool(sanitize_binary_value(l.split(': ')[1].strip()))\n",
    "            except:\n",
    "                pass\n",
    "    return is_pregnant\n",
    "\n",
    "# Get murmur from patient data.\n",
    "def get_murmur(data):\n",
    "    murmur = None\n",
    "    for l in data.split('\\n'):\n",
    "        if l.startswith('#Murmur:'):\n",
    "            try:\n",
    "                murmur = l.split(': ')[1]\n",
    "            except:\n",
    "                pass\n",
    "    if murmur is None:\n",
    "        raise ValueError('No murmur available. Is your code trying to load labels from the hidden data?')\n",
    "    return murmur\n",
    "\n",
    "# Get outcome from patient data.\n",
    "def get_outcome(data):\n",
    "    outcome = None\n",
    "    for l in data.split('\\n'):\n",
    "        if l.startswith('#Outcome:'):\n",
    "            try:\n",
    "                outcome = l.split(': ')[1]\n",
    "            except:\n",
    "                pass\n",
    "    if outcome is None:\n",
    "        raise ValueError('No outcome available. Is your code trying to load labels from the hidden data?')\n",
    "    return outcome\n",
    "\n",
    "# Sanitize binary values from Challenge outputs.\n",
    "def sanitize_binary_value(x):\n",
    "    x = str(x).replace('\"', '').replace(\"'\", \"\").strip() # Remove any quotes or invisible characters.\n",
    "    if (is_finite_number(x) and float(x)==1) or (x in ('True', 'true', 'T', 't')):\n",
    "        return 1\n",
    "    else:\n",
    "        return 0\n",
    "\n",
    "# Santize scalar values from Challenge outputs.\n",
    "def sanitize_scalar_value(x):\n",
    "    x = str(x).replace('\"', '').replace(\"'\", \"\").strip() # Remove any quotes or invisible characters.\n",
    "    if is_finite_number(x) or (is_number(x) and np.isinf(float(x))):\n",
    "        return float(x)\n",
    "    else:\n",
    "        return 0.0\n",
    "\n",
    "# Save Challenge outputs.\n",
    "def save_challenge_outputs(filename, patient_id, classes, labels, probabilities):\n",
    "    # Format Challenge outputs.\n",
    "    patient_string = '#{}'.format(patient_id)\n",
    "    class_string = ','.join(str(c) for c in classes)\n",
    "    label_string = ','.join(str(l) for l in labels)\n",
    "    probabilities_string = ','.join(str(p) for p in probabilities)\n",
    "    output_string = patient_string + '\\n' + class_string + '\\n' + label_string + '\\n' + probabilities_string + '\\n'\n",
    "\n",
    "    # Write the Challenge outputs.\n",
    "    with open(filename, 'w') as f:\n",
    "        f.write(output_string)\n",
    "\n",
    "# Load Challenge outputs.\n",
    "def load_challenge_outputs(filename):\n",
    "    with open(filename, 'r') as f:\n",
    "        for i, l in enumerate(f):\n",
    "            if i==0:\n",
    "                patient_id = l.replace('#', '').strip()\n",
    "            elif i==1:\n",
    "                classes = tuple(entry.strip() for entry in l.split(','))\n",
    "            elif i==2:\n",
    "                labels = tuple(sanitize_binary_value(entry) for entry in l.split(','))\n",
    "            elif i==3:\n",
    "                probabilities = tuple(sanitize_scalar_value(entry) for entry in l.split(','))\n",
    "            else:\n",
    "                break\n",
    "    return patient_id, classes, labels, probabilities\n",
    "# Extract features from the data.\n",
    "def get_features_wav(data, recordings):\n",
    "    \n",
    "    # Extract recording locations and data. Identify when a location is present, and compute the mean, variance, and skewness of\n",
    "    # each recording. If there are multiple recordings for one location, then extract features from the last recording.\n",
    "    locations = get_locations(data)\n",
    "\n",
    "    recording_locations = ['AV', 'MV', 'PV', 'TV', 'PhC']\n",
    "    num_recording_locations = len(recording_locations)\n",
    "    recording_features = np.zeros((num_recording_locations, 4), dtype=float)\n",
    "    num_locations = len(locations)\n",
    "    num_recordings = len(recordings)\n",
    "    if num_locations==num_recordings:\n",
    "        for i in range(num_locations):\n",
    "            for j in range(num_recording_locations):\n",
    "                if compare_strings(locations[i], recording_locations[j]) and np.size(recordings[i])>0:\n",
    "                    recording_features[j, 0] = 1\n",
    "                    recording_features[j, 1] = np.mean(recordings[i])\n",
    "                    recording_features[j, 2] = np.var(recordings[i])\n",
    "                    recording_features[j, 3] = sp.stats.skew(recordings[i])\n",
    "    recording_features = recording_features.flatten()\n",
    "\n",
    "    features = np.hstack(recording_features)\n",
    "\n",
    "    return np.asarray(features, dtype=np.float32)\n"
   ]
  },
  {
   "cell_type": "markdown",
   "id": "eac41752",
   "metadata": {},
   "source": [
    "# Constants definition"
   ]
  },
  {
   "cell_type": "code",
   "execution_count": 35,
   "id": "fd4fb5d8",
   "metadata": {},
   "outputs": [],
   "source": [
    " # Define the data and model foldes.\n",
    "data_folder = \"training_data\"\n",
    "model_folder = \"model\"\n",
    "verbose = 3"
   ]
  },
  {
   "cell_type": "markdown",
   "id": "a1ab1942",
   "metadata": {},
   "source": [
    "# Create train, val, test sets of AV signals"
   ]
  },
  {
   "cell_type": "code",
   "execution_count": 36,
   "id": "41bb01a0",
   "metadata": {},
   "outputs": [],
   "source": [
    "def create_train_test_1_recording(data_f):\n",
    "    # Find the patient data files.\n",
    "    patient_files = find_patient_files(data_f)\n",
    "    num_patient_files = len(patient_files)\n",
    "    \n",
    "    murmur_classes = ['Present', 'Absent']\n",
    "    num_murmur_classes = len(murmur_classes)\n",
    "    features = list()\n",
    "    murmurs = list()\n",
    "    #outcomes = list()\n",
    "    for i in range(400):\n",
    "        # Load the current patient data and recordings.\n",
    "        current_patient_data = load_patient_data(patient_files[i])\n",
    "        current_recordings = load_recordings_AV(data_folder, current_patient_data)\n",
    "    \n",
    "        # Extract features.\n",
    "        #current_features = get_features_wav(current_patient_data,current_recordings)\n",
    "        if len(current_recordings)!=0:\n",
    "            current_features = current_recordings[0] # we keep first element of a list of one element\n",
    "        \n",
    "\n",
    "        # Extract labels and use one-hot encoding.\n",
    "        #current_murmur = np.zeros(num_murmur_classes, dtype=int)\n",
    "        current_murmur = 0\n",
    "        murmur = get_murmur(current_patient_data)\n",
    "        #if murmur in murmur_classes:\n",
    "        if murmur == \"Present\":\n",
    "            #j = murmur_classes.index(murmur)\n",
    "            #current_murmur[j] = 1\n",
    "            current_murmur=1\n",
    "        \n",
    "        # Takes only in account patient that have a \"Present\" or \"Absent\" murmur.\n",
    "        if murmur != \"Unknown\" and len(current_recordings)!=0 :\n",
    "            murmurs.append(current_murmur)\n",
    "            features.append(current_features)\n",
    "    \n",
    "\n",
    "    #features = np.asarray(features, dtype=np.float32)\n",
    "    #murmurs = np.asarray(murmurs, dtype=np.float32)\n",
    "    \n",
    "\n",
    "    X_train, X_test, y_train, y_test = train_test_split(features, murmurs, test_size=0.15, random_state=42)\n",
    "    return X_train, X_test, y_train, y_test\n",
    "    #return features,murmurs"
   ]
  },
  {
   "cell_type": "code",
   "execution_count": 37,
   "id": "039059e6",
   "metadata": {},
   "outputs": [],
   "source": [
    "X_train, X_test, y_train, y_test = create_train_test_1_recording(data_folder)\n",
    "#X,y = create_train_test_1_recording(data_folder)"
   ]
  },
  {
   "cell_type": "code",
   "execution_count": 38,
   "id": "51b9eb47",
   "metadata": {
    "scrolled": true
   },
   "outputs": [
    {
     "data": {
      "text/plain": [
       "numpy.ndarray"
      ]
     },
     "execution_count": 38,
     "metadata": {},
     "output_type": "execute_result"
    }
   ],
   "source": [
    "y_train = np.asarray(y_train)\n",
    "type(y_train)"
   ]
  },
  {
   "cell_type": "code",
   "execution_count": 39,
   "id": "a77dfa31",
   "metadata": {},
   "outputs": [
    {
     "data": {
      "text/plain": [
       "'\\nfor x in X_train:\\n    print(len(x))\\n'"
      ]
     },
     "execution_count": 39,
     "metadata": {},
     "output_type": "execute_result"
    }
   ],
   "source": [
    "\"\"\"\n",
    "for x in X_train:\n",
    "    print(len(x))\n",
    "\"\"\""
   ]
  },
  {
   "cell_type": "code",
   "execution_count": 40,
   "id": "ec3aa357",
   "metadata": {},
   "outputs": [],
   "source": [
    "#X_train"
   ]
  },
  {
   "cell_type": "code",
   "execution_count": 41,
   "id": "d82df60d",
   "metadata": {},
   "outputs": [],
   "source": [
    "# convert array of int16 to float32\n",
    "def convert_to_float32(array):\n",
    "    new_array = []\n",
    "    for i in range(len(array)):\n",
    "        new_signal = np.asarray(array[i], dtype=np.float32)\n",
    "        new_array.append(new_signal)\n",
    "    return new_array"
   ]
  },
  {
   "cell_type": "code",
   "execution_count": 42,
   "id": "69ee0e36",
   "metadata": {},
   "outputs": [],
   "source": [
    "X_train = convert_to_float32(X_train)\n",
    "#for x in X_train:\n",
    "    #print(len(x))"
   ]
  },
  {
   "cell_type": "code",
   "execution_count": 43,
   "id": "b6e782cb",
   "metadata": {},
   "outputs": [],
   "source": [
    "#X_train"
   ]
  },
  {
   "cell_type": "code",
   "execution_count": 44,
   "id": "0157b269",
   "metadata": {},
   "outputs": [],
   "source": [
    "def get_max_val(array):\n",
    "    max = -10000\n",
    "    for elem in array : \n",
    "        if np.max(elem) > max :\n",
    "            max = np.max(elem)\n",
    "    return max\n",
    "\n",
    "def get_min_val(array):\n",
    "    min = 10000\n",
    "    for elem in array : \n",
    "        if np.min(elem) < min :\n",
    "            min = np.min(elem)\n",
    "    return min\n",
    "\n",
    "def normalize_data(array,max,min):\n",
    "    new_array = []\n",
    "    for i in range(len(array)):\n",
    "        new_signal = (max - array[i])/(max-min)\n",
    "        new_array.append(new_signal)\n",
    "    return new_array"
   ]
  },
  {
   "cell_type": "code",
   "execution_count": 45,
   "id": "a04b9bbf",
   "metadata": {},
   "outputs": [],
   "source": [
    "val_max = get_max_val(X_train)\n",
    "val_min = get_min_val(X_train)\n",
    "final = normalize_data(X_train,val_max,val_min)"
   ]
  },
  {
   "cell_type": "code",
   "execution_count": 46,
   "id": "76e78b7d",
   "metadata": {},
   "outputs": [
    {
     "data": {
      "image/png": "[encoded data removed]",
      "text/plain": [
       "<Figure size 640x480 with 1 Axes>"
      ]
     },
     "metadata": {},
     "output_type": "display_data"
    }
   ],
   "source": [
    "plt.plot(final[54])\n",
    "plt.show()"
   ]
  },
  {
   "cell_type": "code",
   "execution_count": 47,
   "id": "9043a688",
   "metadata": {},
   "outputs": [
    {
     "data": {
      "image/png": "[encoded data removed]",
      "text/plain": [
       "<Figure size 640x480 with 1 Axes>"
      ]
     },
     "metadata": {},
     "output_type": "display_data"
    }
   ],
   "source": [
    "plt.plot(X_train[54])\n",
    "plt.show()"
   ]
  },
  {
   "cell_type": "code",
   "execution_count": 48,
   "id": "0d92a0c2",
   "metadata": {},
   "outputs": [],
   "source": [
    "X_train = final"
   ]
  },
  {
   "cell_type": "code",
   "execution_count": 49,
   "id": "b1cb7c5d",
   "metadata": {},
   "outputs": [],
   "source": [
    "X_train = tf.keras.preprocessing.sequence.pad_sequences(\n",
    "    X_train, padding=\"post\",value=-1,dtype=np.float32\n",
    ")\n",
    "X_train, X_valid, y_train, y_valid = train_test_split(X_train, y_train, test_size=0.1764,random_state=42)\n"
   ]
  },
  {
   "cell_type": "code",
   "execution_count": 50,
   "id": "1304997a",
   "metadata": {},
   "outputs": [],
   "source": [
    "X_train = np.vstack(X_train)\n",
    "X_valid = np.vstack(X_valid)\n",
    "#y_train = np.vstack(y_train)\n",
    "#y_valid = np.vstack(y_valid)"
   ]
  },
  {
   "cell_type": "code",
   "execution_count": 51,
   "id": "ba59e6bf",
   "metadata": {},
   "outputs": [
    {
     "name": "stdout",
     "output_type": "stream",
     "text": [
      "235008\n"
     ]
    }
   ],
   "source": [
    "print(len(X_train[0]))"
   ]
  },
  {
   "cell_type": "code",
   "execution_count": 52,
   "id": "a8ca2d4f",
   "metadata": {},
   "outputs": [
    {
     "name": "stdout",
     "output_type": "stream",
     "text": [
      "235008\n",
      "235008\n"
     ]
    }
   ],
   "source": [
    "print(len(X_train[0]))\n",
    "print(len(X_train[1]))\n",
    "X_train = X_train.reshape(len(X_train),len(X_train[1]),1)\n",
    "X_valid = X_valid.reshape(len(X_valid),len(X_valid[1]),1)\n",
    "#y_train = y_train.reshape(len(y_train),1)\n",
    "#y_valid = y_valid.reshape(len(y_valid),1)"
   ]
  },
  {
   "cell_type": "code",
   "execution_count": 53,
   "id": "f8891217",
   "metadata": {},
   "outputs": [],
   "source": [
    "#print(X_train.shape)\n",
    "#print(y_train.shape)\n"
   ]
  },
  {
   "cell_type": "code",
   "execution_count": 54,
   "id": "eab3c72a",
   "metadata": {},
   "outputs": [],
   "source": [
    "def one_recording_model():\n",
    "    model = tf.keras.Sequential([\n",
    "        tf.keras.Input(shape=((152384,1))),\n",
    "        tf.keras.layers.Masking(mask_value=-1),\n",
    "        \n",
    "        tf.keras.layers.Conv1D(filters=32, kernel_size=3, padding=\"same\"),\n",
    "        tf.keras.layers.MaxPool1D(pool_size=(3,), strides=2, padding='same'),\n",
    "        \n",
    "        tf.keras.layers.Conv1D(filters=32, kernel_size=3, padding=\"same\"),\n",
    "        tf.keras.layers.MaxPool1D(pool_size=(3,), strides=2, padding='same'),\n",
    "        \n",
    "        tf.keras.layers.Conv1D(filters=32, kernel_size=3, padding=\"same\"),\n",
    "        tf.keras.layers.MaxPool1D(pool_size=(3,), strides=2, padding='same'),\n",
    "        #tf.keras.layers.BatchNormalization(),\n",
    "        #tf.keras.layers.ReLU(),\n",
    "\n",
    "        #tf.keras.layers.Conv1D(filters=64, kernel_size=3, padding=\"same\"),\n",
    "        #tf.keras.layers.BatchNormalization(),\n",
    "        #tf.keras.layers.ReLU(),\n",
    "    \n",
    "        #tf.keras.layers.Conv1D(filters=64, kernel_size=3, padding=\"same\"),\n",
    "        #tf.keras.layers.BatchNormalization(),\n",
    "        #tf.keras.layers.ReLU(),\n",
    "\n",
    "        #tf.keras.layers.GlobalAveragePooling1D(),\n",
    "\n",
    "        #tf.keras.Input(shape=((152384,1))),\n",
    "        #tf.keras.layers.Conv1D(6, kernel_size=(3,),activation='relu'),\n",
    "        #tf.keras.layers.Conv1D(64, kernel_size=(3,), activation='relu'),\n",
    "        #tf.keras.layers.MaxPool1D(pool_size=(3,), strides=2, padding='same'),\n",
    "        #tf.keras.layers.Dense(64, activation='relu'),\n",
    "        #tf.keras.layers.Dropout(0.3),\n",
    "        #tf.keras.layers.Flatten(),\n",
    "        #tf.keras.layers.LSTM(10),\n",
    "\n",
    "        tf.keras.layers.Dense(2, activation='softmax') \n",
    "    ])\n",
    "    return model"
   ]
  },
  {
   "cell_type": "code",
   "execution_count": 55,
   "id": "8cb6a1ae",
   "metadata": {},
   "outputs": [],
   "source": [
    "def make_model(input_shape):\n",
    "    input_layer = tf.keras.layers.Input(input_shape)\n",
    "\n",
    "    conv1 = tf.keras.layers.Conv1D(filters=32, kernel_size=3, padding=\"same\")(input_layer)\n",
    "    conv1 = tf.keras.layers.BatchNormalization()(conv1)\n",
    "    conv1 = tf.keras.layers.ReLU()(conv1)\n",
    "    gap = tf.keras.layers.MaxPool1D(pool_size=(3,), strides=2, padding='same')(conv1)\n",
    "    \n",
    "    \"\"\"\n",
    "    conv2 = tf.keras.layers.Conv1D(filters=64, kernel_size=3, padding=\"same\")(conv1)\n",
    "    conv2 = tf.keras.layers.BatchNormalization()(conv2)\n",
    "    conv2 = tf.keras.layers.ReLU()(conv2)\n",
    "\n",
    "    conv3 = tf.keras.layers.Conv1D(filters=64, kernel_size=3, padding=\"same\")(conv2)\n",
    "    conv3 = tf.keras.layers.BatchNormalization()(conv3)\n",
    "    conv3 = tf.keras.layers.ReLU()(conv3)\n",
    "    \"\"\"\n",
    "    gap = tf.keras.layers.GlobalAveragePooling1D()(gap)\n",
    "    \n",
    "\n",
    "    output_layer = tf.keras.layers.Dense(2, activation=\"softmax\")(gap)\n",
    "\n",
    "    return tf.keras.models.Model(inputs=input_layer, outputs=output_layer)\n",
    "\n",
    "\n",
    "model = make_model(input_shape=X_train.shape[1:])"
   ]
  },
  {
   "cell_type": "code",
   "execution_count": 56,
   "id": "39692159",
   "metadata": {},
   "outputs": [],
   "source": [
    "#model = one_recording_model()\n"
   ]
  },
  {
   "cell_type": "code",
   "execution_count": 57,
   "id": "a86011b0",
   "metadata": {},
   "outputs": [
    {
     "name": "stdout",
     "output_type": "stream",
     "text": [
      "Epoch 1/2\n",
      "7/7 [==============================] - 126s 16s/step - loss: 1.4675 - acc: 0.0000e+00 - val_loss: 0.7106 - val_acc: 0.1111 - lr: 0.0010\n",
      "Epoch 2/2\n",
      "1/7 [===>..........................] - ETA: 1:55 - loss: 1.3867 - acc: 0.0000e+00"
     ]
    },
    {
     "ename": "KeyboardInterrupt",
     "evalue": "",
     "output_type": "error",
     "traceback": [
      "\u001b[0;31m---------------------------------------------------------------------------\u001b[0m",
      "\u001b[0;31mKeyboardInterrupt\u001b[0m                         Traceback (most recent call last)",
      "\u001b[0;32m/var/folders/6b/chf9tnm540g1dftgb367hcx00000gn/T/ipykernel_65395/2352321422.py\u001b[0m in \u001b[0;36m<module>\u001b[0;34m\u001b[0m\n\u001b[1;32m     17\u001b[0m     \u001b[0mmetrics\u001b[0m\u001b[0;34m=\u001b[0m\u001b[0;34m[\u001b[0m\u001b[0mtf\u001b[0m\u001b[0;34m.\u001b[0m\u001b[0mkeras\u001b[0m\u001b[0;34m.\u001b[0m\u001b[0mmetrics\u001b[0m\u001b[0;34m.\u001b[0m\u001b[0mCategoricalAccuracy\u001b[0m\u001b[0;34m(\u001b[0m\u001b[0mname\u001b[0m\u001b[0;34m=\u001b[0m\u001b[0;34m'acc'\u001b[0m\u001b[0;34m)\u001b[0m\u001b[0;34m]\u001b[0m\u001b[0;34m,\u001b[0m\u001b[0;34m\u001b[0m\u001b[0;34m\u001b[0m\u001b[0m\n\u001b[1;32m     18\u001b[0m )\n\u001b[0;32m---> 19\u001b[0;31m history = model.fit(\n\u001b[0m\u001b[1;32m     20\u001b[0m     \u001b[0mX_train\u001b[0m\u001b[0;34m,\u001b[0m\u001b[0;34m\u001b[0m\u001b[0;34m\u001b[0m\u001b[0m\n\u001b[1;32m     21\u001b[0m     \u001b[0my_train\u001b[0m\u001b[0;34m,\u001b[0m\u001b[0;34m\u001b[0m\u001b[0;34m\u001b[0m\u001b[0m\n",
      "\u001b[0;32m~/opt/anaconda3/lib/python3.9/site-packages/keras/utils/traceback_utils.py\u001b[0m in \u001b[0;36merror_handler\u001b[0;34m(*args, **kwargs)\u001b[0m\n\u001b[1;32m     63\u001b[0m         \u001b[0mfiltered_tb\u001b[0m \u001b[0;34m=\u001b[0m \u001b[0;32mNone\u001b[0m\u001b[0;34m\u001b[0m\u001b[0;34m\u001b[0m\u001b[0m\n\u001b[1;32m     64\u001b[0m         \u001b[0;32mtry\u001b[0m\u001b[0;34m:\u001b[0m\u001b[0;34m\u001b[0m\u001b[0;34m\u001b[0m\u001b[0m\n\u001b[0;32m---> 65\u001b[0;31m             \u001b[0;32mreturn\u001b[0m \u001b[0mfn\u001b[0m\u001b[0;34m(\u001b[0m\u001b[0;34m*\u001b[0m\u001b[0margs\u001b[0m\u001b[0;34m,\u001b[0m \u001b[0;34m**\u001b[0m\u001b[0mkwargs\u001b[0m\u001b[0;34m)\u001b[0m\u001b[0;34m\u001b[0m\u001b[0;34m\u001b[0m\u001b[0m\n\u001b[0m\u001b[1;32m     66\u001b[0m         \u001b[0;32mexcept\u001b[0m \u001b[0mException\u001b[0m \u001b[0;32mas\u001b[0m \u001b[0me\u001b[0m\u001b[0;34m:\u001b[0m\u001b[0;34m\u001b[0m\u001b[0;34m\u001b[0m\u001b[0m\n\u001b[1;32m     67\u001b[0m             \u001b[0mfiltered_tb\u001b[0m \u001b[0;34m=\u001b[0m \u001b[0m_process_traceback_frames\u001b[0m\u001b[0;34m(\u001b[0m\u001b[0me\u001b[0m\u001b[0;34m.\u001b[0m\u001b[0m__traceback__\u001b[0m\u001b[0;34m)\u001b[0m\u001b[0;34m\u001b[0m\u001b[0;34m\u001b[0m\u001b[0m\n",
      "\u001b[0;32m~/opt/anaconda3/lib/python3.9/site-packages/keras/engine/training.py\u001b[0m in \u001b[0;36mfit\u001b[0;34m(self, x, y, batch_size, epochs, verbose, callbacks, validation_split, validation_data, shuffle, class_weight, sample_weight, initial_epoch, steps_per_epoch, validation_steps, validation_batch_size, validation_freq, max_queue_size, workers, use_multiprocessing)\u001b[0m\n\u001b[1;32m   1648\u001b[0m                         ):\n\u001b[1;32m   1649\u001b[0m                             \u001b[0mcallbacks\u001b[0m\u001b[0;34m.\u001b[0m\u001b[0mon_train_batch_begin\u001b[0m\u001b[0;34m(\u001b[0m\u001b[0mstep\u001b[0m\u001b[0;34m)\u001b[0m\u001b[0;34m\u001b[0m\u001b[0;34m\u001b[0m\u001b[0m\n\u001b[0;32m-> 1650\u001b[0;31m                             \u001b[0mtmp_logs\u001b[0m \u001b[0;34m=\u001b[0m \u001b[0mself\u001b[0m\u001b[0;34m.\u001b[0m\u001b[0mtrain_function\u001b[0m\u001b[0;34m(\u001b[0m\u001b[0miterator\u001b[0m\u001b[0;34m)\u001b[0m\u001b[0;34m\u001b[0m\u001b[0;34m\u001b[0m\u001b[0m\n\u001b[0m\u001b[1;32m   1651\u001b[0m                             \u001b[0;32mif\u001b[0m \u001b[0mdata_handler\u001b[0m\u001b[0;34m.\u001b[0m\u001b[0mshould_sync\u001b[0m\u001b[0;34m:\u001b[0m\u001b[0;34m\u001b[0m\u001b[0;34m\u001b[0m\u001b[0m\n\u001b[1;32m   1652\u001b[0m                                 \u001b[0mcontext\u001b[0m\u001b[0;34m.\u001b[0m\u001b[0masync_wait\u001b[0m\u001b[0;34m(\u001b[0m\u001b[0;34m)\u001b[0m\u001b[0;34m\u001b[0m\u001b[0;34m\u001b[0m\u001b[0m\n",
      "\u001b[0;32m~/opt/anaconda3/lib/python3.9/site-packages/tensorflow/python/util/traceback_utils.py\u001b[0m in \u001b[0;36merror_handler\u001b[0;34m(*args, **kwargs)\u001b[0m\n\u001b[1;32m    148\u001b[0m     \u001b[0mfiltered_tb\u001b[0m \u001b[0;34m=\u001b[0m \u001b[0;32mNone\u001b[0m\u001b[0;34m\u001b[0m\u001b[0;34m\u001b[0m\u001b[0m\n\u001b[1;32m    149\u001b[0m     \u001b[0;32mtry\u001b[0m\u001b[0;34m:\u001b[0m\u001b[0;34m\u001b[0m\u001b[0;34m\u001b[0m\u001b[0m\n\u001b[0;32m--> 150\u001b[0;31m       \u001b[0;32mreturn\u001b[0m \u001b[0mfn\u001b[0m\u001b[0;34m(\u001b[0m\u001b[0;34m*\u001b[0m\u001b[0margs\u001b[0m\u001b[0;34m,\u001b[0m \u001b[0;34m**\u001b[0m\u001b[0mkwargs\u001b[0m\u001b[0;34m)\u001b[0m\u001b[0;34m\u001b[0m\u001b[0;34m\u001b[0m\u001b[0m\n\u001b[0m\u001b[1;32m    151\u001b[0m     \u001b[0;32mexcept\u001b[0m \u001b[0mException\u001b[0m \u001b[0;32mas\u001b[0m \u001b[0me\u001b[0m\u001b[0;34m:\u001b[0m\u001b[0;34m\u001b[0m\u001b[0;34m\u001b[0m\u001b[0m\n\u001b[1;32m    152\u001b[0m       \u001b[0mfiltered_tb\u001b[0m \u001b[0;34m=\u001b[0m \u001b[0m_process_traceback_frames\u001b[0m\u001b[0;34m(\u001b[0m\u001b[0me\u001b[0m\u001b[0;34m.\u001b[0m\u001b[0m__traceback__\u001b[0m\u001b[0;34m)\u001b[0m\u001b[0;34m\u001b[0m\u001b[0;34m\u001b[0m\u001b[0m\n",
      "\u001b[0;32m~/opt/anaconda3/lib/python3.9/site-packages/tensorflow/python/eager/polymorphic_function/polymorphic_function.py\u001b[0m in \u001b[0;36m__call__\u001b[0;34m(self, *args, **kwds)\u001b[0m\n\u001b[1;32m    878\u001b[0m \u001b[0;34m\u001b[0m\u001b[0m\n\u001b[1;32m    879\u001b[0m       \u001b[0;32mwith\u001b[0m \u001b[0mOptionalXlaContext\u001b[0m\u001b[0;34m(\u001b[0m\u001b[0mself\u001b[0m\u001b[0;34m.\u001b[0m\u001b[0m_jit_compile\u001b[0m\u001b[0;34m)\u001b[0m\u001b[0;34m:\u001b[0m\u001b[0;34m\u001b[0m\u001b[0;34m\u001b[0m\u001b[0m\n\u001b[0;32m--> 880\u001b[0;31m         \u001b[0mresult\u001b[0m \u001b[0;34m=\u001b[0m \u001b[0mself\u001b[0m\u001b[0;34m.\u001b[0m\u001b[0m_call\u001b[0m\u001b[0;34m(\u001b[0m\u001b[0;34m*\u001b[0m\u001b[0margs\u001b[0m\u001b[0;34m,\u001b[0m \u001b[0;34m**\u001b[0m\u001b[0mkwds\u001b[0m\u001b[0;34m)\u001b[0m\u001b[0;34m\u001b[0m\u001b[0;34m\u001b[0m\u001b[0m\n\u001b[0m\u001b[1;32m    881\u001b[0m \u001b[0;34m\u001b[0m\u001b[0m\n\u001b[1;32m    882\u001b[0m       \u001b[0mnew_tracing_count\u001b[0m \u001b[0;34m=\u001b[0m \u001b[0mself\u001b[0m\u001b[0;34m.\u001b[0m\u001b[0mexperimental_get_tracing_count\u001b[0m\u001b[0;34m(\u001b[0m\u001b[0;34m)\u001b[0m\u001b[0;34m\u001b[0m\u001b[0;34m\u001b[0m\u001b[0m\n",
      "\u001b[0;32m~/opt/anaconda3/lib/python3.9/site-packages/tensorflow/python/eager/polymorphic_function/polymorphic_function.py\u001b[0m in \u001b[0;36m_call\u001b[0;34m(self, *args, **kwds)\u001b[0m\n\u001b[1;32m    910\u001b[0m       \u001b[0;31m# In this case we have created variables on the first call, so we run the\u001b[0m\u001b[0;34m\u001b[0m\u001b[0;34m\u001b[0m\u001b[0m\n\u001b[1;32m    911\u001b[0m       \u001b[0;31m# defunned version which is guaranteed to never create variables.\u001b[0m\u001b[0;34m\u001b[0m\u001b[0;34m\u001b[0m\u001b[0m\n\u001b[0;32m--> 912\u001b[0;31m       \u001b[0;32mreturn\u001b[0m \u001b[0mself\u001b[0m\u001b[0;34m.\u001b[0m\u001b[0m_no_variable_creation_fn\u001b[0m\u001b[0;34m(\u001b[0m\u001b[0;34m*\u001b[0m\u001b[0margs\u001b[0m\u001b[0;34m,\u001b[0m \u001b[0;34m**\u001b[0m\u001b[0mkwds\u001b[0m\u001b[0;34m)\u001b[0m  \u001b[0;31m# pylint: disable=not-callable\u001b[0m\u001b[0;34m\u001b[0m\u001b[0;34m\u001b[0m\u001b[0m\n\u001b[0m\u001b[1;32m    913\u001b[0m     \u001b[0;32melif\u001b[0m \u001b[0mself\u001b[0m\u001b[0;34m.\u001b[0m\u001b[0m_variable_creation_fn\u001b[0m \u001b[0;32mis\u001b[0m \u001b[0;32mnot\u001b[0m \u001b[0;32mNone\u001b[0m\u001b[0;34m:\u001b[0m\u001b[0;34m\u001b[0m\u001b[0;34m\u001b[0m\u001b[0m\n\u001b[1;32m    914\u001b[0m       \u001b[0;31m# Release the lock early so that multiple threads can perform the call\u001b[0m\u001b[0;34m\u001b[0m\u001b[0;34m\u001b[0m\u001b[0m\n",
      "\u001b[0;32m~/opt/anaconda3/lib/python3.9/site-packages/tensorflow/python/eager/polymorphic_function/tracing_compiler.py\u001b[0m in \u001b[0;36m__call__\u001b[0;34m(self, *args, **kwargs)\u001b[0m\n\u001b[1;32m    132\u001b[0m       (concrete_function,\n\u001b[1;32m    133\u001b[0m        filtered_flat_args) = self._maybe_define_function(args, kwargs)\n\u001b[0;32m--> 134\u001b[0;31m     return concrete_function._call_flat(\n\u001b[0m\u001b[1;32m    135\u001b[0m         filtered_flat_args, captured_inputs=concrete_function.captured_inputs)  # pylint: disable=protected-access\n\u001b[1;32m    136\u001b[0m \u001b[0;34m\u001b[0m\u001b[0m\n",
      "\u001b[0;32m~/opt/anaconda3/lib/python3.9/site-packages/tensorflow/python/eager/polymorphic_function/monomorphic_function.py\u001b[0m in \u001b[0;36m_call_flat\u001b[0;34m(self, args, captured_inputs, cancellation_manager)\u001b[0m\n\u001b[1;32m   1743\u001b[0m         and executing_eagerly):\n\u001b[1;32m   1744\u001b[0m       \u001b[0;31m# No tape is watching; skip to running the function.\u001b[0m\u001b[0;34m\u001b[0m\u001b[0;34m\u001b[0m\u001b[0m\n\u001b[0;32m-> 1745\u001b[0;31m       return self._build_call_outputs(self._inference_function.call(\n\u001b[0m\u001b[1;32m   1746\u001b[0m           ctx, args, cancellation_manager=cancellation_manager))\n\u001b[1;32m   1747\u001b[0m     forward_backward = self._select_forward_and_backward_functions(\n",
      "\u001b[0;32m~/opt/anaconda3/lib/python3.9/site-packages/tensorflow/python/eager/polymorphic_function/monomorphic_function.py\u001b[0m in \u001b[0;36mcall\u001b[0;34m(self, ctx, args, cancellation_manager)\u001b[0m\n\u001b[1;32m    376\u001b[0m       \u001b[0;32mwith\u001b[0m \u001b[0m_InterpolateFunctionError\u001b[0m\u001b[0;34m(\u001b[0m\u001b[0mself\u001b[0m\u001b[0;34m)\u001b[0m\u001b[0;34m:\u001b[0m\u001b[0;34m\u001b[0m\u001b[0;34m\u001b[0m\u001b[0m\n\u001b[1;32m    377\u001b[0m         \u001b[0;32mif\u001b[0m \u001b[0mcancellation_manager\u001b[0m \u001b[0;32mis\u001b[0m \u001b[0;32mNone\u001b[0m\u001b[0;34m:\u001b[0m\u001b[0;34m\u001b[0m\u001b[0;34m\u001b[0m\u001b[0m\n\u001b[0;32m--> 378\u001b[0;31m           outputs = execute.execute(\n\u001b[0m\u001b[1;32m    379\u001b[0m               \u001b[0mstr\u001b[0m\u001b[0;34m(\u001b[0m\u001b[0mself\u001b[0m\u001b[0;34m.\u001b[0m\u001b[0msignature\u001b[0m\u001b[0;34m.\u001b[0m\u001b[0mname\u001b[0m\u001b[0;34m)\u001b[0m\u001b[0;34m,\u001b[0m\u001b[0;34m\u001b[0m\u001b[0;34m\u001b[0m\u001b[0m\n\u001b[1;32m    380\u001b[0m               \u001b[0mnum_outputs\u001b[0m\u001b[0;34m=\u001b[0m\u001b[0mself\u001b[0m\u001b[0;34m.\u001b[0m\u001b[0m_num_outputs\u001b[0m\u001b[0;34m,\u001b[0m\u001b[0;34m\u001b[0m\u001b[0;34m\u001b[0m\u001b[0m\n",
      "\u001b[0;32m~/opt/anaconda3/lib/python3.9/site-packages/tensorflow/python/eager/execute.py\u001b[0m in \u001b[0;36mquick_execute\u001b[0;34m(op_name, num_outputs, inputs, attrs, ctx, name)\u001b[0m\n\u001b[1;32m     50\u001b[0m   \u001b[0;32mtry\u001b[0m\u001b[0;34m:\u001b[0m\u001b[0;34m\u001b[0m\u001b[0;34m\u001b[0m\u001b[0m\n\u001b[1;32m     51\u001b[0m     \u001b[0mctx\u001b[0m\u001b[0;34m.\u001b[0m\u001b[0mensure_initialized\u001b[0m\u001b[0;34m(\u001b[0m\u001b[0;34m)\u001b[0m\u001b[0;34m\u001b[0m\u001b[0;34m\u001b[0m\u001b[0m\n\u001b[0;32m---> 52\u001b[0;31m     tensors = pywrap_tfe.TFE_Py_Execute(ctx._handle, device_name, op_name,\n\u001b[0m\u001b[1;32m     53\u001b[0m                                         inputs, attrs, num_outputs)\n\u001b[1;32m     54\u001b[0m   \u001b[0;32mexcept\u001b[0m \u001b[0mcore\u001b[0m\u001b[0;34m.\u001b[0m\u001b[0m_NotOkStatusException\u001b[0m \u001b[0;32mas\u001b[0m \u001b[0me\u001b[0m\u001b[0;34m:\u001b[0m\u001b[0;34m\u001b[0m\u001b[0;34m\u001b[0m\u001b[0m\n",
      "\u001b[0;31mKeyboardInterrupt\u001b[0m: "
     ]
    }
   ],
   "source": [
    "epochs = 2\n",
    "batch_size = 32\n",
    "\n",
    "callbacks = [\n",
    "    tf.keras.callbacks.ModelCheckpoint(\n",
    "        \"best_model.h5\", save_best_only=True, monitor=\"val_loss\"\n",
    "    ),\n",
    "    tf.keras.callbacks.ReduceLROnPlateau(\n",
    "        monitor=\"val_loss\", factor=0.5, patience=20, min_lr=0.0001\n",
    "    ),\n",
    "    tf.keras.callbacks.EarlyStopping(monitor=\"val_loss\", patience=50, verbose=1),\n",
    "]\n",
    "model.compile(\n",
    "    optimizer=\"adam\",\n",
    "    loss=\"sparse_categorical_crossentropy\",\n",
    "    #metrics=[\"sparse_categorical_accuracy\",tf.keras.metrics.CategoricalAccuracy(name='acc'),tf.keras.metrics.AUC(name='auc')],\n",
    "    metrics=[tf.keras.metrics.CategoricalAccuracy(name='acc')],\n",
    ")\n",
    "history = model.fit(\n",
    "    X_train,\n",
    "    y_train,\n",
    "    batch_size=batch_size,\n",
    "    epochs=epochs,\n",
    "    callbacks=callbacks,\n",
    "    validation_data=(X_valid,y_valid),\n",
    "    verbose=1,\n",
    ")"
   ]
  },
  {
   "cell_type": "code",
   "execution_count": 31,
   "id": "bfda5f96",
   "metadata": {},
   "outputs": [],
   "source": [
    "X_test = tf.keras.preprocessing.sequence.pad_sequences(\n",
    "    X_test, padding=\"post\",value=-1,dtype=np.float32\n",
    ")\n",
    "X_test = X_test.reshape(len(X_test),len(X_test[1]),1)"
   ]
  },
  {
   "cell_type": "code",
   "execution_count": 32,
   "id": "6acd6dcc",
   "metadata": {},
   "outputs": [
    {
     "ename": "ValueError",
     "evalue": "in user code:\n\n    File \"/Users/alibelyazid/opt/anaconda3/lib/python3.9/site-packages/keras/engine/training.py\", line 1820, in test_function  *\n        return step_function(self, iterator)\n    File \"/Users/alibelyazid/opt/anaconda3/lib/python3.9/site-packages/keras/engine/training.py\", line 1804, in step_function  **\n        outputs = model.distribute_strategy.run(run_step, args=(data,))\n    File \"/Users/alibelyazid/opt/anaconda3/lib/python3.9/site-packages/keras/engine/training.py\", line 1792, in run_step  **\n        outputs = model.test_step(data)\n    File \"/Users/alibelyazid/opt/anaconda3/lib/python3.9/site-packages/keras/engine/training.py\", line 1756, in test_step\n        y_pred = self(x, training=False)\n    File \"/Users/alibelyazid/opt/anaconda3/lib/python3.9/site-packages/keras/utils/traceback_utils.py\", line 70, in error_handler\n        raise e.with_traceback(filtered_tb) from None\n    File \"/Users/alibelyazid/opt/anaconda3/lib/python3.9/site-packages/keras/engine/input_spec.py\", line 295, in assert_input_compatibility\n        raise ValueError(\n\n    ValueError: Input 0 of layer \"model\" is incompatible with the layer: expected shape=(None, 235008, 1), found shape=(None, 258048, 1)\n",
     "output_type": "error",
     "traceback": [
      "\u001b[0;31m---------------------------------------------------------------------------\u001b[0m",
      "\u001b[0;31mValueError\u001b[0m                                Traceback (most recent call last)",
      "\u001b[0;32m/var/folders/6b/chf9tnm540g1dftgb367hcx00000gn/T/ipykernel_65395/1861494233.py\u001b[0m in \u001b[0;36m<module>\u001b[0;34m\u001b[0m\n\u001b[0;32m----> 1\u001b[0;31m \u001b[0mmodel\u001b[0m\u001b[0;34m.\u001b[0m\u001b[0mevaluate\u001b[0m\u001b[0;34m(\u001b[0m\u001b[0mX_test\u001b[0m\u001b[0;34m)\u001b[0m\u001b[0;34m\u001b[0m\u001b[0;34m\u001b[0m\u001b[0m\n\u001b[0m\u001b[1;32m      2\u001b[0m \u001b[0mpred\u001b[0m \u001b[0;34m=\u001b[0m \u001b[0mmodel\u001b[0m\u001b[0;34m.\u001b[0m\u001b[0mpredict\u001b[0m\u001b[0;34m(\u001b[0m\u001b[0mX_test\u001b[0m\u001b[0;34m)\u001b[0m\u001b[0;34m\u001b[0m\u001b[0;34m\u001b[0m\u001b[0m\n",
      "\u001b[0;32m~/opt/anaconda3/lib/python3.9/site-packages/keras/utils/traceback_utils.py\u001b[0m in \u001b[0;36merror_handler\u001b[0;34m(*args, **kwargs)\u001b[0m\n\u001b[1;32m     68\u001b[0m             \u001b[0;31m# To get the full stack trace, call:\u001b[0m\u001b[0;34m\u001b[0m\u001b[0;34m\u001b[0m\u001b[0m\n\u001b[1;32m     69\u001b[0m             \u001b[0;31m# `tf.debugging.disable_traceback_filtering()`\u001b[0m\u001b[0;34m\u001b[0m\u001b[0;34m\u001b[0m\u001b[0m\n\u001b[0;32m---> 70\u001b[0;31m             \u001b[0;32mraise\u001b[0m \u001b[0me\u001b[0m\u001b[0;34m.\u001b[0m\u001b[0mwith_traceback\u001b[0m\u001b[0;34m(\u001b[0m\u001b[0mfiltered_tb\u001b[0m\u001b[0;34m)\u001b[0m \u001b[0;32mfrom\u001b[0m \u001b[0;32mNone\u001b[0m\u001b[0;34m\u001b[0m\u001b[0;34m\u001b[0m\u001b[0m\n\u001b[0m\u001b[1;32m     71\u001b[0m         \u001b[0;32mfinally\u001b[0m\u001b[0;34m:\u001b[0m\u001b[0;34m\u001b[0m\u001b[0;34m\u001b[0m\u001b[0m\n\u001b[1;32m     72\u001b[0m             \u001b[0;32mdel\u001b[0m \u001b[0mfiltered_tb\u001b[0m\u001b[0;34m\u001b[0m\u001b[0;34m\u001b[0m\u001b[0m\n",
      "\u001b[0;32m~/opt/anaconda3/lib/python3.9/site-packages/keras/engine/training.py\u001b[0m in \u001b[0;36mtf__test_function\u001b[0;34m(iterator)\u001b[0m\n\u001b[1;32m     13\u001b[0m                 \u001b[0;32mtry\u001b[0m\u001b[0;34m:\u001b[0m\u001b[0;34m\u001b[0m\u001b[0;34m\u001b[0m\u001b[0m\n\u001b[1;32m     14\u001b[0m                     \u001b[0mdo_return\u001b[0m \u001b[0;34m=\u001b[0m \u001b[0;32mTrue\u001b[0m\u001b[0;34m\u001b[0m\u001b[0;34m\u001b[0m\u001b[0m\n\u001b[0;32m---> 15\u001b[0;31m                     \u001b[0mretval_\u001b[0m \u001b[0;34m=\u001b[0m \u001b[0mag__\u001b[0m\u001b[0;34m.\u001b[0m\u001b[0mconverted_call\u001b[0m\u001b[0;34m(\u001b[0m\u001b[0mag__\u001b[0m\u001b[0;34m.\u001b[0m\u001b[0mld\u001b[0m\u001b[0;34m(\u001b[0m\u001b[0mstep_function\u001b[0m\u001b[0;34m)\u001b[0m\u001b[0;34m,\u001b[0m \u001b[0;34m(\u001b[0m\u001b[0mag__\u001b[0m\u001b[0;34m.\u001b[0m\u001b[0mld\u001b[0m\u001b[0;34m(\u001b[0m\u001b[0mself\u001b[0m\u001b[0;34m)\u001b[0m\u001b[0;34m,\u001b[0m \u001b[0mag__\u001b[0m\u001b[0;34m.\u001b[0m\u001b[0mld\u001b[0m\u001b[0;34m(\u001b[0m\u001b[0miterator\u001b[0m\u001b[0;34m)\u001b[0m\u001b[0;34m)\u001b[0m\u001b[0;34m,\u001b[0m \u001b[0;32mNone\u001b[0m\u001b[0;34m,\u001b[0m \u001b[0mfscope\u001b[0m\u001b[0;34m)\u001b[0m\u001b[0;34m\u001b[0m\u001b[0;34m\u001b[0m\u001b[0m\n\u001b[0m\u001b[1;32m     16\u001b[0m                 \u001b[0;32mexcept\u001b[0m\u001b[0;34m:\u001b[0m\u001b[0;34m\u001b[0m\u001b[0;34m\u001b[0m\u001b[0m\n\u001b[1;32m     17\u001b[0m                     \u001b[0mdo_return\u001b[0m \u001b[0;34m=\u001b[0m \u001b[0;32mFalse\u001b[0m\u001b[0;34m\u001b[0m\u001b[0;34m\u001b[0m\u001b[0m\n",
      "\u001b[0;31mValueError\u001b[0m: in user code:\n\n    File \"/Users/alibelyazid/opt/anaconda3/lib/python3.9/site-packages/keras/engine/training.py\", line 1820, in test_function  *\n        return step_function(self, iterator)\n    File \"/Users/alibelyazid/opt/anaconda3/lib/python3.9/site-packages/keras/engine/training.py\", line 1804, in step_function  **\n        outputs = model.distribute_strategy.run(run_step, args=(data,))\n    File \"/Users/alibelyazid/opt/anaconda3/lib/python3.9/site-packages/keras/engine/training.py\", line 1792, in run_step  **\n        outputs = model.test_step(data)\n    File \"/Users/alibelyazid/opt/anaconda3/lib/python3.9/site-packages/keras/engine/training.py\", line 1756, in test_step\n        y_pred = self(x, training=False)\n    File \"/Users/alibelyazid/opt/anaconda3/lib/python3.9/site-packages/keras/utils/traceback_utils.py\", line 70, in error_handler\n        raise e.with_traceback(filtered_tb) from None\n    File \"/Users/alibelyazid/opt/anaconda3/lib/python3.9/site-packages/keras/engine/input_spec.py\", line 295, in assert_input_compatibility\n        raise ValueError(\n\n    ValueError: Input 0 of layer \"model\" is incompatible with the layer: expected shape=(None, 235008, 1), found shape=(None, 258048, 1)\n"
     ]
    }
   ],
   "source": [
    "model.evaluate(X_test)\n",
    "pred = model.predict(X_test)"
   ]
  },
  {
   "cell_type": "code",
   "execution_count": null,
   "id": "478761c0",
   "metadata": {},
   "outputs": [],
   "source": []
  }
 ],
 "metadata": {
  "kernelspec": {
   "display_name": "Python 3 (ipykernel)",
   "language": "python",
   "name": "python3"
  },
  "language_info": {
   "codemirror_mode": {
    "name": "ipython",
    "version": 3
   },
   "file_extension": ".py",
   "mimetype": "text/x-python",
   "name": "python",
   "nbconvert_exporter": "python",
   "pygments_lexer": "ipython3",
   "version": "3.9.13"
  },
  "vscode": {
   "interpreter": {
    "hash": "1af4746c29405094662b643b47f1080a1f930bd3e7852f7cac4913a277b61fc2"
   }
  }
 },
 "nbformat": 4,
 "nbformat_minor": 5
}
