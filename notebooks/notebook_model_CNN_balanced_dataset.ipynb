{
 "cells": [
  {
   "cell_type": "code",
   "execution_count": 1,
   "metadata": {
    "ExecuteTime": {
     "end_time": "2023-06-22T20:27:28.338325Z",
     "start_time": "2023-06-22T20:27:28.325752Z"
    },
    "id": "QRGvE-Pt3x3c"
   },
   "outputs": [
    {
     "name": "stderr",
     "output_type": "stream",
     "text": [
      "2023-07-09 14:41:30.259471: I tensorflow/core/util/port.cc:110] oneDNN custom operations are on. You may see slightly different numerical results due to floating-point round-off errors from different computation orders. To turn them off, set the environment variable `TF_ENABLE_ONEDNN_OPTS=0`.\n",
      "2023-07-09 14:41:30.279761: I tensorflow/core/platform/cpu_feature_guard.cc:182] This TensorFlow binary is optimized to use available CPU instructions in performance-critical operations.\n",
      "To enable the following instructions: AVX2 AVX_VNNI FMA, in other operations, rebuild TensorFlow with the appropriate compiler flags.\n",
      "2023-07-09 14:41:30.588492: W tensorflow/compiler/tf2tensorrt/utils/py_utils.cc:38] TF-TRT Warning: Could not find TensorRT\n"
     ]
    },
    {
     "name": "stdout",
     "output_type": "stream",
     "text": [
      "Num GPUs Available:  1\n"
     ]
    },
    {
     "name": "stderr",
     "output_type": "stream",
     "text": [
      "2023-07-09 14:41:31.647741: I tensorflow/compiler/xla/stream_executor/cuda/cuda_gpu_executor.cc:995] successful NUMA node read from SysFS had negative value (-1), but there must be at least one NUMA node, so returning NUMA node zero. See more at https://github.com/torvalds/linux/blob/v6.0/Documentation/ABI/testing/sysfs-bus-pci#L344-L355\n",
      "2023-07-09 14:41:31.660536: I tensorflow/compiler/xla/stream_executor/cuda/cuda_gpu_executor.cc:995] successful NUMA node read from SysFS had negative value (-1), but there must be at least one NUMA node, so returning NUMA node zero. See more at https://github.com/torvalds/linux/blob/v6.0/Documentation/ABI/testing/sysfs-bus-pci#L344-L355\n",
      "2023-07-09 14:41:31.660626: I tensorflow/compiler/xla/stream_executor/cuda/cuda_gpu_executor.cc:995] successful NUMA node read from SysFS had negative value (-1), but there must be at least one NUMA node, so returning NUMA node zero. See more at https://github.com/torvalds/linux/blob/v6.0/Documentation/ABI/testing/sysfs-bus-pci#L344-L355\n"
     ]
    }
   ],
   "source": [
    "import sys\n",
    "import tensorflow as tf\n",
    "import matplotlib.pyplot as plt\n",
    "from sklearn import metrics\n",
    "from sklearn.impute import SimpleImputer\n",
    "from sklearn.metrics import accuracy_score\n",
    "import numpy as np, scipy as sp, scipy.stats, os, sys, joblib\n",
    "import os, numpy as np, scipy as sp, scipy.io, scipy.io.wavfile\n",
    "from sklearn.ensemble import RandomForestClassifier\n",
    "from sklearn.model_selection import train_test_split\n",
    "import random\n",
    "import pandas as pd\n",
    "import importlib\n",
    "import useful_functions\n",
    "import preprocessing_functions\n",
    "print(\"Num GPUs Available: \", len(tf.config.list_physical_devices('GPU')))"
   ]
  },
  {
   "cell_type": "code",
   "execution_count": 2,
   "metadata": {
    "ExecuteTime": {
     "end_time": "2023-06-22T20:28:02.185714Z",
     "start_time": "2023-06-22T20:28:02.152645Z"
    }
   },
   "outputs": [],
   "source": [
    "importlib.reload(useful_functions)\n",
    "importlib.reload(preprocessing_functions)\n",
    "from useful_functions import *\n",
    "from preprocessing_functions import *"
   ]
  },
  {
   "cell_type": "code",
   "execution_count": 3,
   "metadata": {},
   "outputs": [],
   "source": [
    " # Define the data and model foldes.\n",
    "data_folder = r\"../training_data\"\n",
    "model_folder = r\"../model\"\n",
    "wind_size = 4000\n",
    "verbose = 3"
   ]
  },
  {
   "cell_type": "code",
   "execution_count": 4,
   "metadata": {},
   "outputs": [
    {
     "data": {
      "text/html": [
       "<div>\n",
       "<style scoped>\n",
       "    .dataframe tbody tr th:only-of-type {\n",
       "        vertical-align: middle;\n",
       "    }\n",
       "\n",
       "    .dataframe tbody tr th {\n",
       "        vertical-align: top;\n",
       "    }\n",
       "\n",
       "    .dataframe thead th {\n",
       "        text-align: right;\n",
       "    }\n",
       "</style>\n",
       "<table border=\"1\" class=\"dataframe\">\n",
       "  <thead>\n",
       "    <tr style=\"text-align: right;\">\n",
       "      <th></th>\n",
       "      <th>patient_id</th>\n",
       "      <th>recording_type</th>\n",
       "      <th>recording</th>\n",
       "      <th>murmur</th>\n",
       "    </tr>\n",
       "  </thead>\n",
       "  <tbody>\n",
       "    <tr>\n",
       "      <th>0</th>\n",
       "      <td>2530.0</td>\n",
       "      <td>1.0</td>\n",
       "      <td>[-425, 1045, 518, -674, -690, -588, -237, -276...</td>\n",
       "      <td>0.0</td>\n",
       "    </tr>\n",
       "    <tr>\n",
       "      <th>1</th>\n",
       "      <td>2530.0</td>\n",
       "      <td>1.0</td>\n",
       "      <td>[42, -38, -91, -62, 41, 198, 225, 49, -53, -49...</td>\n",
       "      <td>0.0</td>\n",
       "    </tr>\n",
       "    <tr>\n",
       "      <th>2</th>\n",
       "      <td>2530.0</td>\n",
       "      <td>1.0</td>\n",
       "      <td>[-141, -296, -99, 62, 113, 186, 301, 350, 179,...</td>\n",
       "      <td>0.0</td>\n",
       "    </tr>\n",
       "    <tr>\n",
       "      <th>3</th>\n",
       "      <td>2530.0</td>\n",
       "      <td>1.0</td>\n",
       "      <td>[22, -1, -48, 83, 160, 192, 345, 520, 650, 652...</td>\n",
       "      <td>0.0</td>\n",
       "    </tr>\n",
       "    <tr>\n",
       "      <th>4</th>\n",
       "      <td>2530.0</td>\n",
       "      <td>1.0</td>\n",
       "      <td>[-369, -367, -359, -404, -389, -354, -290, -27...</td>\n",
       "      <td>0.0</td>\n",
       "    </tr>\n",
       "  </tbody>\n",
       "</table>\n",
       "</div>"
      ],
      "text/plain": [
       "   patient_id  recording_type  \\\n",
       "0      2530.0             1.0   \n",
       "1      2530.0             1.0   \n",
       "2      2530.0             1.0   \n",
       "3      2530.0             1.0   \n",
       "4      2530.0             1.0   \n",
       "\n",
       "                                           recording  murmur  \n",
       "0  [-425, 1045, 518, -674, -690, -588, -237, -276...     0.0  \n",
       "1  [42, -38, -91, -62, 41, 198, 225, 49, -53, -49...     0.0  \n",
       "2  [-141, -296, -99, 62, 113, 186, 301, 350, 179,...     0.0  \n",
       "3  [22, -1, -48, 83, 160, 192, 345, 520, 650, 652...     0.0  \n",
       "4  [-369, -367, -359, -404, -389, -354, -290, -27...     0.0  "
      ]
     },
     "execution_count": 4,
     "metadata": {},
     "output_type": "execute_result"
    }
   ],
   "source": [
    "recordings,patient_label,patient_id = create_rec_patient_list(data_folder)\n",
    "df = build_dataset_df(recordings,patient_id,patient_label,wind_size)\n",
    "df.head()"
   ]
  },
  {
   "cell_type": "code",
   "execution_count": 5,
   "metadata": {
    "ExecuteTime": {
     "end_time": "2023-04-28T19:30:19.950046Z",
     "start_time": "2023-04-28T19:30:19.849971Z"
    },
    "id": "P9HTtXrm78dV"
   },
   "outputs": [],
   "source": [
    "# check correctness of dataframe loaded\n",
    "for i in range(68261):\n",
    "  if len(df[\"recording\"][i]) != wind_size:\n",
    "    print(\"problem sir\")"
   ]
  },
  {
   "cell_type": "code",
   "execution_count": 6,
   "metadata": {
    "ExecuteTime": {
     "end_time": "2023-04-28T19:30:20.212107Z",
     "start_time": "2023-04-28T19:30:20.210980Z"
    },
    "id": "fElXRT5T4a36"
   },
   "outputs": [],
   "source": [
    "# select only two columns\n",
    "new_df = df[['patient_id', 'murmur']]\n",
    "new_df = new_df.drop_duplicates()\n",
    "new_df = new_df.reset_index(drop=True)"
   ]
  },
  {
   "cell_type": "code",
   "execution_count": 7,
   "metadata": {
    "ExecuteTime": {
     "end_time": "2023-04-28T19:30:20.478399Z",
     "start_time": "2023-04-28T19:30:20.402161Z"
    },
    "colab": {
     "base_uri": "https://localhost:8080/"
    },
    "id": "6T9wZX1WyE83",
    "outputId": "d3fbb777-7c62-410b-fc50-0621a5692645"
   },
   "outputs": [
    {
     "name": "stdout",
     "output_type": "stream",
     "text": [
      "179\n",
      "695\n"
     ]
    }
   ],
   "source": [
    "# check murmur/non-murmur balance\n",
    "nb_murmur_present = (new_df.loc[new_df['murmur'] == 1]).shape[0]\n",
    "nb_murmur_absent = (new_df.loc[new_df['murmur'] == 0]).shape[0]\n",
    "print(nb_murmur_present)\n",
    "print(nb_murmur_absent)"
   ]
  },
  {
   "cell_type": "code",
   "execution_count": 35,
   "metadata": {
    "ExecuteTime": {
     "end_time": "2023-04-28T19:30:20.729364Z",
     "start_time": "2023-04-28T19:30:20.665901Z"
    },
    "colab": {
     "base_uri": "https://localhost:8080/",
     "height": 424
    },
    "id": "mzg9rqHzxyal",
    "outputId": "b703a36e-c0e1-42f6-bf19-54cf7bd0851e"
   },
   "outputs": [
    {
     "data": {
      "text/html": [
       "<div>\n",
       "<style scoped>\n",
       "    .dataframe tbody tr th:only-of-type {\n",
       "        vertical-align: middle;\n",
       "    }\n",
       "\n",
       "    .dataframe tbody tr th {\n",
       "        vertical-align: top;\n",
       "    }\n",
       "\n",
       "    .dataframe thead th {\n",
       "        text-align: right;\n",
       "    }\n",
       "</style>\n",
       "<table border=\"1\" class=\"dataframe\">\n",
       "  <thead>\n",
       "    <tr style=\"text-align: right;\">\n",
       "      <th></th>\n",
       "      <th>patient_id</th>\n",
       "      <th>murmur</th>\n",
       "    </tr>\n",
       "  </thead>\n",
       "  <tbody>\n",
       "    <tr>\n",
       "      <th>0</th>\n",
       "      <td>2530.0</td>\n",
       "      <td>0.0</td>\n",
       "    </tr>\n",
       "    <tr>\n",
       "      <th>1</th>\n",
       "      <td>9979.0</td>\n",
       "      <td>1.0</td>\n",
       "    </tr>\n",
       "    <tr>\n",
       "      <th>2</th>\n",
       "      <td>13918.0</td>\n",
       "      <td>1.0</td>\n",
       "    </tr>\n",
       "    <tr>\n",
       "      <th>3</th>\n",
       "      <td>14241.0</td>\n",
       "      <td>1.0</td>\n",
       "    </tr>\n",
       "    <tr>\n",
       "      <th>4</th>\n",
       "      <td>14998.0</td>\n",
       "      <td>0.0</td>\n",
       "    </tr>\n",
       "    <tr>\n",
       "      <th>...</th>\n",
       "      <td>...</td>\n",
       "      <td>...</td>\n",
       "    </tr>\n",
       "    <tr>\n",
       "      <th>869</th>\n",
       "      <td>85340.0</td>\n",
       "      <td>0.0</td>\n",
       "    </tr>\n",
       "    <tr>\n",
       "      <th>870</th>\n",
       "      <td>85341.0</td>\n",
       "      <td>0.0</td>\n",
       "    </tr>\n",
       "    <tr>\n",
       "      <th>871</th>\n",
       "      <td>85343.0</td>\n",
       "      <td>1.0</td>\n",
       "    </tr>\n",
       "    <tr>\n",
       "      <th>872</th>\n",
       "      <td>85345.0</td>\n",
       "      <td>0.0</td>\n",
       "    </tr>\n",
       "    <tr>\n",
       "      <th>873</th>\n",
       "      <td>85349.0</td>\n",
       "      <td>0.0</td>\n",
       "    </tr>\n",
       "  </tbody>\n",
       "</table>\n",
       "<p>874 rows × 2 columns</p>\n",
       "</div>"
      ],
      "text/plain": [
       "     patient_id  murmur\n",
       "0        2530.0     0.0\n",
       "1        9979.0     1.0\n",
       "2       13918.0     1.0\n",
       "3       14241.0     1.0\n",
       "4       14998.0     0.0\n",
       "..          ...     ...\n",
       "869     85340.0     0.0\n",
       "870     85341.0     0.0\n",
       "871     85343.0     1.0\n",
       "872     85345.0     0.0\n",
       "873     85349.0     0.0\n",
       "\n",
       "[874 rows x 2 columns]"
      ]
     },
     "execution_count": 35,
     "metadata": {},
     "output_type": "execute_result"
    }
   ],
   "source": [
    "# display\n",
    "new_df"
   ]
  },
  {
   "cell_type": "code",
   "execution_count": 36,
   "metadata": {
    "ExecuteTime": {
     "end_time": "2023-04-28T19:30:20.900406Z",
     "start_time": "2023-04-28T19:30:20.872700Z"
    },
    "id": "Un2S1LxU675v"
   },
   "outputs": [],
   "source": [
    "# complete list of distinct patient id's and corresponding label\n",
    "list_id = new_df['patient_id']\n",
    "list_label = new_df['murmur']"
   ]
  },
  {
   "cell_type": "code",
   "execution_count": 37,
   "metadata": {
    "ExecuteTime": {
     "end_time": "2023-04-28T19:30:21.289713Z",
     "start_time": "2023-04-28T19:30:21.218099Z"
    },
    "id": "MNAjMblwwWaG"
   },
   "outputs": [],
   "source": [
    "# function for building\n",
    "def get_balanced_lists(X,y):\n",
    "    ones = np.where(np.array(y)==1)\n",
    "    zeros = np.where(np.array(y)==0)\n",
    "    ones = ones[0]  # because this a [[list of indexes]]\n",
    "    zeros = zeros[0]\n",
    "    trunc = ones.shape[0] - zeros.shape[0]\n",
    "    zeros = zeros[:trunc]\n",
    "    new_X=[]\n",
    "    new_y=[]\n",
    "    for i in ones:\n",
    "        new_X.append(X[i])\n",
    "        new_y.append(y[i])\n",
    "    for j in zeros:\n",
    "        new_X.append(X[j])\n",
    "        new_y.append(y[j])\n",
    "    return new_X,new_y"
   ]
  },
  {
   "cell_type": "code",
   "execution_count": 38,
   "metadata": {
    "ExecuteTime": {
     "end_time": "2023-04-28T19:30:21.581702Z",
     "start_time": "2023-04-28T19:30:21.510091Z"
    },
    "id": "a6O4idCkwaFz"
   },
   "outputs": [],
   "source": [
    "# list_id/label updated in order to be balenced (in terms of nb of patient with murmur/no_murmur\n",
    "list_id,list_label = get_balanced_lists(list_id,list_label)"
   ]
  },
  {
   "cell_type": "code",
   "execution_count": 39,
   "metadata": {
    "ExecuteTime": {
     "end_time": "2023-04-28T19:30:22.427855Z",
     "start_time": "2023-04-28T19:30:22.330256Z"
    },
    "id": "uR6aqz5g9oOj"
   },
   "outputs": [],
   "source": [
    "id_train, id_valtest, label_train, label_valtest = train_test_split(list_id, list_label , test_size=0.3, random_state=42)\n",
    "id_val, id_test, label_val, label_test = train_test_split(id_valtest, label_valtest , test_size=0.5, random_state=42)"
   ]
  },
  {
   "cell_type": "code",
   "execution_count": 40,
   "metadata": {
    "ExecuteTime": {
     "end_time": "2023-04-28T19:30:22.805600Z",
     "start_time": "2023-04-28T19:30:22.633347Z"
    },
    "id": "BlEJD1ce4H1O"
   },
   "outputs": [],
   "source": [
    "def select_rows(id_list,dframe):\n",
    "  #for id in list_id:\n",
    "  sub_df = dframe.loc[dframe['patient_id'].isin([int(id) for id in id_list])]\n",
    "  return sub_df\n",
    "\n",
    "df_train = select_rows(id_train,df)\n",
    "df_val = select_rows(id_val,df)\n",
    "df_test = select_rows(id_test,df)"
   ]
  },
  {
   "cell_type": "code",
   "execution_count": 41,
   "metadata": {
    "ExecuteTime": {
     "end_time": "2023-04-28T19:30:23.019154Z",
     "start_time": "2023-04-28T19:30:22.890730Z"
    },
    "colab": {
     "base_uri": "https://localhost:8080/"
    },
    "id": "E2w-MxY1_ClQ",
    "outputId": "d8b06ceb-2d69-4941-a7dd-cb34b1591e7f"
   },
   "outputs": [
    {
     "data": {
      "text/plain": [
       "10879"
      ]
     },
     "execution_count": 41,
     "metadata": {},
     "output_type": "execute_result"
    }
   ],
   "source": [
    "(df_train.loc[df_train['murmur'] == 0]).shape[0]"
   ]
  },
  {
   "cell_type": "code",
   "execution_count": 42,
   "metadata": {
    "ExecuteTime": {
     "end_time": "2023-04-28T19:30:23.135492Z",
     "start_time": "2023-04-28T19:30:23.031706Z"
    },
    "id": "jfbOL3Un_ESV"
   },
   "outputs": [],
   "source": [
    "X_train = np.vstack(df_train['recording'])\n",
    "y_train = np.array(df_train['murmur'])\n",
    "\n",
    "X_val = np.vstack(df_val['recording'])\n",
    "y_val = np.array(df_val['murmur'])\n",
    "\n",
    "X_test = np.vstack(df_test['recording'])\n",
    "y_test = np.array(df_test['murmur'])"
   ]
  },
  {
   "cell_type": "code",
   "execution_count": 43,
   "metadata": {
    "ExecuteTime": {
     "end_time": "2023-04-28T19:30:23.394668Z",
     "start_time": "2023-04-28T19:30:23.343654Z"
    },
    "id": "YAlU7MUoCi6r"
   },
   "outputs": [],
   "source": [
    "X_train = X_train.reshape(len(X_train),len(X_train[1]),1)\n",
    "X_val = X_val.reshape(len(X_val),len(X_val[1]),1)\n",
    "X_test = X_test.reshape(len(X_test),len(X_test[1]),1)"
   ]
  },
  {
   "cell_type": "code",
   "execution_count": 44,
   "metadata": {
    "ExecuteTime": {
     "end_time": "2023-04-28T19:30:23.566721Z",
     "start_time": "2023-04-28T19:30:23.565669Z"
    }
   },
   "outputs": [
    {
     "data": {
      "text/plain": [
       "(20122, 4096, 1)"
      ]
     },
     "execution_count": 44,
     "metadata": {},
     "output_type": "execute_result"
    }
   ],
   "source": [
    "X_train.shape"
   ]
  },
  {
   "cell_type": "code",
   "execution_count": 45,
   "metadata": {
    "ExecuteTime": {
     "end_time": "2023-04-28T19:30:23.833671Z",
     "start_time": "2023-04-28T19:30:23.810191Z"
    }
   },
   "outputs": [],
   "source": [
    "def make_model(input_shape):\n",
    "    drop_rate = 0.2\n",
    "    input_layer = tf.keras.layers.Input(shape=(input_shape[0],input_shape[1]))\n",
    "\n",
    "    x = tf.keras.layers.Conv1D(filters=32, kernel_size=3, padding=\"same\",activation='relu')(input_layer)\n",
    "    x = tf.keras.layers.BatchNormalization()(x)\n",
    "    x = tf.keras.layers.MaxPool1D(2,padding=\"same\")(x)\n",
    "    x = tf.keras.layers.Dropout(0.4)(x)\n",
    "\n",
    "    x = tf.keras.layers.Conv1D(filters=64, kernel_size=3, padding=\"same\",activation='relu')(x)\n",
    "    x = tf.keras.layers.BatchNormalization()(x)\n",
    "    x = tf.keras.layers.Dropout(0.3)(x)\n",
    "\n",
    "    x = tf.keras.layers.Conv1D(filters=128, kernel_size=3, padding=\"same\",activation='relu')(x)\n",
    "    x = tf.keras.layers.BatchNormalization()(x)\n",
    "    x = tf.keras.layers.Dropout(0.2)(x)\n",
    "\n",
    "    x = tf.keras.layers.GlobalAveragePooling1D()(x)\n",
    "    \"\"\"\n",
    "    x = tf.keras.layers.Dense(512, activation='relu')(x)\n",
    "    x = tf.keras.layers.BatchNormalization()(x)\n",
    "    x = tf.keras.layers.Dropout(0.5)(x)\n",
    "    \"\"\"\n",
    "    x = tf.keras.layers.Dense(64, activation='relu')(x)\n",
    "    x = tf.keras.layers.BatchNormalization()(x)\n",
    "    x = tf.keras.layers.Dropout(0.4)(x)\n",
    "\n",
    "    x = tf.keras.layers.Dense(32, activation='relu')(x)\n",
    "    x = tf.keras.layers.BatchNormalization()(x)\n",
    "    x = tf.keras.layers.Dropout(0.3)(x)\n",
    "\n",
    "    output_layer = tf.keras.layers.Dense(1, activation=\"sigmoid\")(x)\n",
    "\n",
    "    return tf.keras.models.Model(inputs=input_layer, outputs=output_layer)\n",
    "\n",
    "\n",
    "model = make_model(input_shape=X_train.shape[1:])"
   ]
  },
  {
   "cell_type": "code",
   "execution_count": 46,
   "metadata": {
    "ExecuteTime": {
     "end_time": "2023-04-28T19:30:24.050572Z",
     "start_time": "2023-04-28T19:30:24.031597Z"
    },
    "colab": {
     "base_uri": "https://localhost:8080/"
    },
    "id": "f_gayKfl_qdh",
    "outputId": "cbb9656e-720f-4852-ab80-34cda175fbff",
    "scrolled": true
   },
   "outputs": [
    {
     "name": "stdout",
     "output_type": "stream",
     "text": [
      "Model: \"model_1\"\n",
      "_________________________________________________________________\n",
      " Layer (type)                Output Shape              Param #   \n",
      "=================================================================\n",
      " input_2 (InputLayer)        [(None, 4096, 1)]         0         \n",
      "                                                                 \n",
      " conv1d_3 (Conv1D)           (None, 4096, 32)          128       \n",
      "                                                                 \n",
      " batch_normalization_5 (Batc  (None, 4096, 32)         128       \n",
      " hNormalization)                                                 \n",
      "                                                                 \n",
      " max_pooling1d_1 (MaxPooling  (None, 2048, 32)         0         \n",
      " 1D)                                                             \n",
      "                                                                 \n",
      " dropout_5 (Dropout)         (None, 2048, 32)          0         \n",
      "                                                                 \n",
      " conv1d_4 (Conv1D)           (None, 2048, 64)          6208      \n",
      "                                                                 \n",
      " batch_normalization_6 (Batc  (None, 2048, 64)         256       \n",
      " hNormalization)                                                 \n",
      "                                                                 \n",
      " dropout_6 (Dropout)         (None, 2048, 64)          0         \n",
      "                                                                 \n",
      " conv1d_5 (Conv1D)           (None, 2048, 128)         24704     \n",
      "                                                                 \n",
      " batch_normalization_7 (Batc  (None, 2048, 128)        512       \n",
      " hNormalization)                                                 \n",
      "                                                                 \n",
      " dropout_7 (Dropout)         (None, 2048, 128)         0         \n",
      "                                                                 \n",
      " global_average_pooling1d_1   (None, 128)              0         \n",
      " (GlobalAveragePooling1D)                                        \n",
      "                                                                 \n",
      " dense_3 (Dense)             (None, 64)                8256      \n",
      "                                                                 \n",
      " batch_normalization_8 (Batc  (None, 64)               256       \n",
      " hNormalization)                                                 \n",
      "                                                                 \n",
      " dropout_8 (Dropout)         (None, 64)                0         \n",
      "                                                                 \n",
      " dense_4 (Dense)             (None, 32)                2080      \n",
      "                                                                 \n",
      " batch_normalization_9 (Batc  (None, 32)               128       \n",
      " hNormalization)                                                 \n",
      "                                                                 \n",
      " dropout_9 (Dropout)         (None, 32)                0         \n",
      "                                                                 \n",
      " dense_5 (Dense)             (None, 1)                 33        \n",
      "                                                                 \n",
      "=================================================================\n",
      "Total params: 42,689\n",
      "Trainable params: 42,049\n",
      "Non-trainable params: 640\n",
      "_________________________________________________________________\n"
     ]
    }
   ],
   "source": [
    "\n",
    "model.summary()\n"
   ]
  },
  {
   "cell_type": "code",
   "execution_count": 47,
   "metadata": {
    "ExecuteTime": {
     "end_time": "2023-04-28T19:35:36.936643Z",
     "start_time": "2023-04-28T19:30:24.265163Z"
    },
    "colab": {
     "base_uri": "https://localhost:8080/"
    },
    "id": "hyYFCrlJEGsk",
    "outputId": "1ffc58ab-e10e-42d7-da26-95260d876ac1",
    "scrolled": false
   },
   "outputs": [
    {
     "name": "stdout",
     "output_type": "stream",
     "text": [
      "Epoch 1/100\n",
      "629/629 [==============================] - 7s 9ms/step - loss: 0.6843 - acc: 0.6264 - val_loss: 0.6709 - val_acc: 0.5986 - lr: 0.0010\n",
      "Epoch 2/100\n",
      "629/629 [==============================] - 5s 8ms/step - loss: 0.6307 - acc: 0.6568 - val_loss: 0.6604 - val_acc: 0.5936 - lr: 0.0010\n",
      "Epoch 3/100\n",
      "629/629 [==============================] - 5s 7ms/step - loss: 0.6100 - acc: 0.6741 - val_loss: 0.6741 - val_acc: 0.6005 - lr: 0.0010\n",
      "Epoch 4/100\n",
      "629/629 [==============================] - 5s 8ms/step - loss: 0.6014 - acc: 0.6831 - val_loss: 0.7393 - val_acc: 0.5460 - lr: 0.0010\n",
      "Epoch 5/100\n",
      "629/629 [==============================] - 5s 7ms/step - loss: 0.5971 - acc: 0.6812 - val_loss: 0.6833 - val_acc: 0.5892 - lr: 0.0010\n",
      "Epoch 6/100\n",
      "629/629 [==============================] - 5s 8ms/step - loss: 0.5906 - acc: 0.6903 - val_loss: 0.6796 - val_acc: 0.5870 - lr: 0.0010\n",
      "Epoch 7/100\n",
      "629/629 [==============================] - 4s 7ms/step - loss: 0.5864 - acc: 0.6889 - val_loss: 0.6559 - val_acc: 0.6347 - lr: 0.0010\n",
      "Epoch 8/100\n",
      "629/629 [==============================] - 5s 8ms/step - loss: 0.5793 - acc: 0.6956 - val_loss: 0.6371 - val_acc: 0.6401 - lr: 0.0010\n",
      "Epoch 9/100\n",
      "629/629 [==============================] - 4s 7ms/step - loss: 0.5780 - acc: 0.6973 - val_loss: 0.6909 - val_acc: 0.5472 - lr: 0.0010\n",
      "Epoch 10/100\n",
      "629/629 [==============================] - 4s 7ms/step - loss: 0.5743 - acc: 0.6987 - val_loss: 0.6950 - val_acc: 0.5399 - lr: 0.0010\n",
      "Epoch 11/100\n",
      "629/629 [==============================] - 4s 7ms/step - loss: 0.5674 - acc: 0.7038 - val_loss: 0.6799 - val_acc: 0.5981 - lr: 0.0010\n",
      "Epoch 12/100\n",
      "629/629 [==============================] - 5s 8ms/step - loss: 0.5658 - acc: 0.7083 - val_loss: 0.7807 - val_acc: 0.5271 - lr: 0.0010\n",
      "Epoch 13/100\n",
      "629/629 [==============================] - 4s 7ms/step - loss: 0.5629 - acc: 0.7121 - val_loss: 0.6470 - val_acc: 0.6314 - lr: 0.0010\n",
      "Epoch 14/100\n",
      "629/629 [==============================] - 4s 7ms/step - loss: 0.5614 - acc: 0.7096 - val_loss: 0.6334 - val_acc: 0.6476 - lr: 0.0010\n",
      "Epoch 15/100\n",
      "629/629 [==============================] - 5s 7ms/step - loss: 0.5574 - acc: 0.7119 - val_loss: 0.6737 - val_acc: 0.6542 - lr: 0.0010\n",
      "Epoch 16/100\n",
      "629/629 [==============================] - 4s 7ms/step - loss: 0.5529 - acc: 0.7147 - val_loss: 0.6452 - val_acc: 0.6545 - lr: 0.0010\n",
      "Epoch 17/100\n",
      "629/629 [==============================] - 4s 7ms/step - loss: 0.5552 - acc: 0.7167 - val_loss: 0.6316 - val_acc: 0.6429 - lr: 0.0010\n",
      "Epoch 18/100\n",
      "629/629 [==============================] - 4s 7ms/step - loss: 0.5527 - acc: 0.7204 - val_loss: 0.6539 - val_acc: 0.6189 - lr: 0.0010\n",
      "Epoch 19/100\n",
      "629/629 [==============================] - 5s 7ms/step - loss: 0.5464 - acc: 0.7211 - val_loss: 0.6440 - val_acc: 0.6561 - lr: 0.0010\n",
      "Epoch 20/100\n",
      "629/629 [==============================] - 5s 9ms/step - loss: 0.5468 - acc: 0.7216 - val_loss: 0.6668 - val_acc: 0.5979 - lr: 0.0010\n",
      "Epoch 21/100\n",
      "629/629 [==============================] - 5s 7ms/step - loss: 0.5474 - acc: 0.7215 - val_loss: 0.7003 - val_acc: 0.5842 - lr: 0.0010\n",
      "Epoch 22/100\n",
      "629/629 [==============================] - 4s 7ms/step - loss: 0.5461 - acc: 0.7236 - val_loss: 0.6397 - val_acc: 0.6302 - lr: 0.0010\n",
      "Epoch 23/100\n",
      "629/629 [==============================] - 5s 7ms/step - loss: 0.5416 - acc: 0.7266 - val_loss: 0.6615 - val_acc: 0.6679 - lr: 0.0010\n",
      "Epoch 24/100\n",
      "629/629 [==============================] - 5s 8ms/step - loss: 0.5441 - acc: 0.7237 - val_loss: 0.6365 - val_acc: 0.6604 - lr: 0.0010\n",
      "Epoch 25/100\n",
      "629/629 [==============================] - 5s 8ms/step - loss: 0.5417 - acc: 0.7295 - val_loss: 0.6744 - val_acc: 0.5917 - lr: 0.0010\n",
      "Epoch 26/100\n",
      "629/629 [==============================] - 4s 7ms/step - loss: 0.5374 - acc: 0.7283 - val_loss: 0.6503 - val_acc: 0.6370 - lr: 0.0010\n",
      "Epoch 27/100\n",
      "629/629 [==============================] - 5s 7ms/step - loss: 0.5376 - acc: 0.7256 - val_loss: 0.6738 - val_acc: 0.6526 - lr: 0.0010\n",
      "Epoch 28/100\n",
      "629/629 [==============================] - 4s 7ms/step - loss: 0.5309 - acc: 0.7313 - val_loss: 0.6678 - val_acc: 0.6238 - lr: 5.0000e-04\n",
      "Epoch 29/100\n",
      "629/629 [==============================] - 4s 7ms/step - loss: 0.5258 - acc: 0.7407 - val_loss: 0.6638 - val_acc: 0.6432 - lr: 5.0000e-04\n",
      "Epoch 30/100\n",
      "629/629 [==============================] - 5s 7ms/step - loss: 0.5311 - acc: 0.7320 - val_loss: 0.6751 - val_acc: 0.6111 - lr: 5.0000e-04\n",
      "Epoch 31/100\n",
      "629/629 [==============================] - 4s 7ms/step - loss: 0.5287 - acc: 0.7314 - val_loss: 0.6725 - val_acc: 0.6198 - lr: 5.0000e-04\n",
      "Epoch 32/100\n",
      "629/629 [==============================] - 5s 8ms/step - loss: 0.5254 - acc: 0.7348 - val_loss: 0.6477 - val_acc: 0.6559 - lr: 5.0000e-04\n",
      "Epoch 33/100\n",
      "629/629 [==============================] - 5s 7ms/step - loss: 0.5233 - acc: 0.7366 - val_loss: 0.6786 - val_acc: 0.6198 - lr: 5.0000e-04\n",
      "Epoch 34/100\n",
      "629/629 [==============================] - 5s 8ms/step - loss: 0.5250 - acc: 0.7396 - val_loss: 0.6538 - val_acc: 0.6274 - lr: 5.0000e-04\n",
      "Epoch 35/100\n",
      "629/629 [==============================] - 5s 8ms/step - loss: 0.5264 - acc: 0.7363 - val_loss: 0.6477 - val_acc: 0.6316 - lr: 5.0000e-04\n",
      "Epoch 36/100\n",
      "629/629 [==============================] - 5s 7ms/step - loss: 0.5211 - acc: 0.7376 - val_loss: 0.6537 - val_acc: 0.6342 - lr: 5.0000e-04\n",
      "Epoch 37/100\n",
      "629/629 [==============================] - 5s 7ms/step - loss: 0.5266 - acc: 0.7394 - val_loss: 0.6594 - val_acc: 0.6257 - lr: 5.0000e-04\n",
      "Epoch 38/100\n",
      "629/629 [==============================] - 5s 7ms/step - loss: 0.5174 - acc: 0.7420 - val_loss: 0.6683 - val_acc: 0.6257 - lr: 2.5000e-04\n",
      "Epoch 39/100\n",
      "629/629 [==============================] - 5s 7ms/step - loss: 0.5182 - acc: 0.7415 - val_loss: 0.6612 - val_acc: 0.6288 - lr: 2.5000e-04\n",
      "Epoch 40/100\n",
      "629/629 [==============================] - 5s 8ms/step - loss: 0.5181 - acc: 0.7402 - val_loss: 0.6647 - val_acc: 0.6236 - lr: 2.5000e-04\n",
      "Epoch 41/100\n",
      "629/629 [==============================] - 4s 7ms/step - loss: 0.5158 - acc: 0.7429 - val_loss: 0.6513 - val_acc: 0.6377 - lr: 2.5000e-04\n",
      "Epoch 42/100\n",
      "629/629 [==============================] - 5s 7ms/step - loss: 0.5181 - acc: 0.7408 - val_loss: 0.6870 - val_acc: 0.6233 - lr: 2.5000e-04\n",
      "Epoch 43/100\n",
      "629/629 [==============================] - 5s 7ms/step - loss: 0.5169 - acc: 0.7451 - val_loss: 0.6777 - val_acc: 0.6363 - lr: 2.5000e-04\n",
      "Epoch 44/100\n",
      "629/629 [==============================] - 4s 7ms/step - loss: 0.5148 - acc: 0.7426 - val_loss: 0.6669 - val_acc: 0.6300 - lr: 2.5000e-04\n",
      "Epoch 45/100\n",
      "629/629 [==============================] - 5s 8ms/step - loss: 0.5159 - acc: 0.7423 - val_loss: 0.6644 - val_acc: 0.6245 - lr: 2.5000e-04\n",
      "Epoch 46/100\n",
      "629/629 [==============================] - 4s 7ms/step - loss: 0.5129 - acc: 0.7474 - val_loss: 0.6742 - val_acc: 0.6347 - lr: 2.5000e-04\n",
      "Epoch 47/100\n",
      "629/629 [==============================] - 5s 7ms/step - loss: 0.5094 - acc: 0.7459 - val_loss: 0.6830 - val_acc: 0.6262 - lr: 2.5000e-04\n",
      "Epoch 48/100\n",
      "629/629 [==============================] - 5s 8ms/step - loss: 0.5109 - acc: 0.7457 - val_loss: 0.6802 - val_acc: 0.6196 - lr: 1.2500e-04\n",
      "Epoch 49/100\n",
      "629/629 [==============================] - 5s 8ms/step - loss: 0.5132 - acc: 0.7463 - val_loss: 0.6732 - val_acc: 0.6231 - lr: 1.2500e-04\n",
      "Epoch 50/100\n",
      "629/629 [==============================] - 4s 7ms/step - loss: 0.5087 - acc: 0.7487 - val_loss: 0.6661 - val_acc: 0.6316 - lr: 1.2500e-04\n",
      "Epoch 51/100\n",
      "629/629 [==============================] - 5s 7ms/step - loss: 0.5097 - acc: 0.7471 - val_loss: 0.6871 - val_acc: 0.6215 - lr: 1.2500e-04\n",
      "Epoch 52/100\n",
      "629/629 [==============================] - 5s 7ms/step - loss: 0.5104 - acc: 0.7492 - val_loss: 0.6704 - val_acc: 0.6219 - lr: 1.2500e-04\n",
      "Epoch 53/100\n",
      "629/629 [==============================] - 4s 7ms/step - loss: 0.5113 - acc: 0.7428 - val_loss: 0.6684 - val_acc: 0.6373 - lr: 1.2500e-04\n",
      "Epoch 54/100\n",
      "629/629 [==============================] - 5s 8ms/step - loss: 0.5114 - acc: 0.7477 - val_loss: 0.6726 - val_acc: 0.6429 - lr: 1.2500e-04\n",
      "Epoch 55/100\n",
      "629/629 [==============================] - 4s 7ms/step - loss: 0.5084 - acc: 0.7497 - val_loss: 0.6694 - val_acc: 0.6441 - lr: 1.2500e-04\n",
      "Epoch 56/100\n",
      "629/629 [==============================] - 5s 9ms/step - loss: 0.5099 - acc: 0.7458 - val_loss: 0.6713 - val_acc: 0.6380 - lr: 1.2500e-04\n",
      "Epoch 57/100\n",
      "629/629 [==============================] - 5s 8ms/step - loss: 0.5074 - acc: 0.7493 - val_loss: 0.6751 - val_acc: 0.6349 - lr: 1.2500e-04\n",
      "Epoch 58/100\n",
      "629/629 [==============================] - 5s 7ms/step - loss: 0.5072 - acc: 0.7492 - val_loss: 0.6858 - val_acc: 0.6363 - lr: 1.0000e-04\n",
      "Epoch 59/100\n",
      "629/629 [==============================] - 4s 7ms/step - loss: 0.5091 - acc: 0.7488 - val_loss: 0.6774 - val_acc: 0.6325 - lr: 1.0000e-04\n",
      "Epoch 60/100\n",
      "629/629 [==============================] - 5s 8ms/step - loss: 0.5071 - acc: 0.7508 - val_loss: 0.6663 - val_acc: 0.6356 - lr: 1.0000e-04\n",
      "Epoch 61/100\n",
      "629/629 [==============================] - 4s 7ms/step - loss: 0.5050 - acc: 0.7510 - val_loss: 0.6690 - val_acc: 0.6380 - lr: 1.0000e-04\n",
      "Epoch 62/100\n",
      "629/629 [==============================] - 4s 7ms/step - loss: 0.5079 - acc: 0.7514 - val_loss: 0.6716 - val_acc: 0.6384 - lr: 1.0000e-04\n",
      "Epoch 63/100\n",
      "629/629 [==============================] - 5s 7ms/step - loss: 0.5074 - acc: 0.7465 - val_loss: 0.6743 - val_acc: 0.6292 - lr: 1.0000e-04\n",
      "Epoch 64/100\n",
      "629/629 [==============================] - 5s 8ms/step - loss: 0.5051 - acc: 0.7490 - val_loss: 0.6788 - val_acc: 0.6351 - lr: 1.0000e-04\n",
      "Epoch 65/100\n",
      "629/629 [==============================] - 4s 7ms/step - loss: 0.5050 - acc: 0.7528 - val_loss: 0.6816 - val_acc: 0.6300 - lr: 1.0000e-04\n",
      "Epoch 66/100\n",
      "629/629 [==============================] - 5s 8ms/step - loss: 0.5012 - acc: 0.7518 - val_loss: 0.6785 - val_acc: 0.6307 - lr: 1.0000e-04\n",
      "Epoch 67/100\n",
      "629/629 [==============================] - 4s 7ms/step - loss: 0.5060 - acc: 0.7533 - val_loss: 0.6731 - val_acc: 0.6429 - lr: 1.0000e-04\n",
      "Epoch 67: early stopping\n"
     ]
    }
   ],
   "source": [
    "\n",
    "epochs = 100\n",
    "batch_size = 32\n",
    "\n",
    "callbacks = [\n",
    "    tf.keras.callbacks.ModelCheckpoint(\n",
    "        \"best_model.h5\", save_best_only=True, monitor=\"val_loss\"\n",
    "    ),\n",
    "    tf.keras.callbacks.ReduceLROnPlateau(\n",
    "        monitor=\"val_loss\", factor=0.5, patience=10, min_lr=0.0001\n",
    "    ),\n",
    "    tf.keras.callbacks.EarlyStopping(monitor=\"val_loss\", patience=50, verbose=1),\n",
    "]\n",
    "model.compile(\n",
    "    optimizer=tf.keras.optimizers.Adam(learning_rate=0.001),\n",
    "    #optimizer=opt,\n",
    "    loss=\"binary_crossentropy\",\n",
    "    metrics=[\"acc\"],\n",
    "    #metrics=[tf.keras.metrics.CategoricalAccuracy(name='acc')],\n",
    ")\n",
    "history = model.fit(\n",
    "    X_train,\n",
    "    np.array(y_train),\n",
    "    batch_size=batch_size,\n",
    "    epochs=epochs,\n",
    "    callbacks=callbacks,\n",
    "    validation_data=(X_val,np.array(y_val)),\n",
    "    verbose=1,\n",
    ")"
   ]
  },
  {
   "cell_type": "code",
   "execution_count": 48,
   "metadata": {
    "ExecuteTime": {
     "end_time": "2023-04-28T19:37:10.225225Z",
     "start_time": "2023-04-28T19:37:09.972845Z"
    }
   },
   "outputs": [
    {
     "data": {
      "image/png": "[encoded data removed]",
      "text/plain": [
       "<Figure size 2000x300 with 2 Axes>"
      ]
     },
     "metadata": {},
     "output_type": "display_data"
    }
   ],
   "source": [
    "fig, ax = plt.subplots(1, 2, figsize=(20, 3))\n",
    "ax = ax.ravel()\n",
    "\n",
    "for i, met in enumerate(['acc', 'loss']):\n",
    "    ax[i].plot(history.history[met])\n",
    "    ax[i].plot(history.history['val_' + met])\n",
    "    ax[i].set_title('Model {}'.format(met))\n",
    "    ax[i].set_xlabel('epochs')\n",
    "    ax[i].set_ylabel(met)\n",
    "    ax[i].legend(['train', 'val'])"
   ]
  },
  {
   "cell_type": "code",
   "execution_count": 49,
   "metadata": {
    "ExecuteTime": {
     "end_time": "2023-04-28T19:37:15.739469Z",
     "start_time": "2023-04-28T19:37:15.539050Z"
    },
    "colab": {
     "base_uri": "https://localhost:8080/"
    },
    "id": "NRjdR3E9M6bp",
    "outputId": "98b11c5c-2075-4da7-994b-8e29c8644a7c"
   },
   "outputs": [
    {
     "name": "stdout",
     "output_type": "stream",
     "text": [
      "Test loss: 0.6617811322212219\n",
      "Test accuracy: 0.6359519958496094\n"
     ]
    }
   ],
   "source": [
    "score = model.evaluate(X_test, y_test, verbose = 0) \n",
    "\n",
    "print('Test loss:', score[0]) \n",
    "print('Test accuracy:', score[1])"
   ]
  },
  {
   "cell_type": "code",
   "execution_count": 50,
   "metadata": {
    "ExecuteTime": {
     "end_time": "2023-04-28T19:37:17.560656Z",
     "start_time": "2023-04-28T19:37:17.279104Z"
    },
    "colab": {
     "base_uri": "https://localhost:8080/"
    },
    "id": "PYQLQItpOKBp",
    "outputId": "617b07c3-a5a4-45db-cce1-e3aa4dc1a1af"
   },
   "outputs": [
    {
     "name": "stdout",
     "output_type": "stream",
     "text": [
      "139/139 [==============================] - 0s 887us/step\n",
      "[[0.6885435 ]\n",
      " [0.36644828]\n",
      " [0.49301448]\n",
      " ...\n",
      " [0.5248375 ]\n",
      " [0.41363683]\n",
      " [0.07707138]]\n"
     ]
    }
   ],
   "source": [
    "pred = model.predict(X_test)\n",
    "print(pred)"
   ]
  },
  {
   "cell_type": "code",
   "execution_count": 51,
   "metadata": {
    "ExecuteTime": {
     "end_time": "2023-04-28T19:37:17.873977Z",
     "start_time": "2023-04-28T19:37:17.861394Z"
    },
    "id": "ZyOqTnS9W--A"
   },
   "outputs": [],
   "source": [
    "def check_max_pred(prd):\n",
    "  max=0\n",
    "  for i in prd:\n",
    "    if i[0] > max:\n",
    "      max = i[0]\n",
    "  print(max)"
   ]
  },
  {
   "cell_type": "code",
   "execution_count": 52,
   "metadata": {
    "ExecuteTime": {
     "end_time": "2023-04-28T19:37:18.481994Z",
     "start_time": "2023-04-28T19:37:18.440312Z"
    },
    "colab": {
     "base_uri": "https://localhost:8080/"
    },
    "id": "Vt9hHlHde5G2",
    "outputId": "1cc0fee9-11b4-4180-e3e5-16bb06bd316e"
   },
   "outputs": [
    {
     "name": "stdout",
     "output_type": "stream",
     "text": [
      "0.99863523\n"
     ]
    }
   ],
   "source": [
    "check_max_pred(pred)"
   ]
  },
  {
   "cell_type": "code",
   "execution_count": 53,
   "metadata": {
    "ExecuteTime": {
     "end_time": "2023-04-28T19:37:18.942364Z",
     "start_time": "2023-04-28T19:37:18.903410Z"
    },
    "id": "Dh7gibaQiOsw"
   },
   "outputs": [],
   "source": [
    "list_patient_rows = list(df_test.groupby(['patient_id'])['patient_id'].count())"
   ]
  },
  {
   "cell_type": "code",
   "execution_count": 54,
   "metadata": {
    "ExecuteTime": {
     "end_time": "2023-04-28T19:37:19.441126Z",
     "start_time": "2023-04-28T19:37:19.418197Z"
    },
    "id": "ByfsYZiaiqj3"
   },
   "outputs": [],
   "source": [
    "def cumulative(lists): \n",
    "    cu_list = [] \n",
    "    length = len(lists) \n",
    "    cu_list = [sum(lists[0:x:1]) for x in range(0, length+1)] \n",
    "    return cu_list[1:]"
   ]
  },
  {
   "cell_type": "code",
   "execution_count": 55,
   "metadata": {
    "ExecuteTime": {
     "end_time": "2023-04-28T19:37:19.839449Z",
     "start_time": "2023-04-28T19:37:19.836902Z"
    },
    "id": "FBeasPNClnpb"
   },
   "outputs": [],
   "source": [
    "pred_groupby_patient = np.split(pred,cumulative(list_patient_rows))\n",
    "pred_groupby_patient = pred_groupby_patient[:-1]\n",
    "\n",
    "df_test = df_test.astype({'murmur':'int'})\n",
    "y_test_grouped = df_test[['patient_id','murmur']].drop_duplicates()['murmur'].to_list()"
   ]
  },
  {
   "cell_type": "code",
   "execution_count": 56,
   "metadata": {
    "ExecuteTime": {
     "end_time": "2023-04-28T19:37:20.564863Z",
     "start_time": "2023-04-28T19:37:20.544121Z"
    },
    "id": "cKJrhB9QwQ3_"
   },
   "outputs": [],
   "source": [
    "def mean_pred(prediction):\n",
    "  pred = []\n",
    "  for i in prediction:\n",
    "    lst = [ j[0] for j in i]\n",
    "    avg = sum(lst)/len(lst)\n",
    "    if avg > 0.5:\n",
    "      pred.append(1)\n",
    "    else:\n",
    "      pred.append(0)\n",
    "  return pred\n",
    "\n",
    "def majority_pred(prediction):\n",
    "  pred = []\n",
    "  for i in prediction:\n",
    "    lst = [ j[0] for j in i]\n",
    "    if (sum(elem > 0.5 for elem in lst)) > (len(lst)/2):\n",
    "      pred.append(1)\n",
    "    else:\n",
    "      pred.append(0)\n",
    "  return pred\n"
   ]
  },
  {
   "cell_type": "code",
   "execution_count": 57,
   "metadata": {
    "ExecuteTime": {
     "end_time": "2023-04-28T19:37:21.314585Z",
     "start_time": "2023-04-28T19:37:21.291913Z"
    },
    "id": "TYCSAcHFzHLy"
   },
   "outputs": [],
   "source": [
    "pred1 = mean_pred(pred_groupby_patient)\n",
    "pred2 = majority_pred(pred_groupby_patient)\n",
    "\n"
   ]
  },
  {
   "cell_type": "code",
   "execution_count": 29,
   "metadata": {
    "ExecuteTime": {
     "end_time": "2023-04-28T19:29:59.110704Z",
     "start_time": "2023-04-28T19:29:58.979913Z"
    },
    "colab": {
     "base_uri": "https://localhost:8080/"
    },
    "id": "UoHq89-17e8x",
    "outputId": "de9a2982-fd6d-43c6-ee32-54ad1a9f6761"
   },
   "outputs": [
    {
     "name": "stdout",
     "output_type": "stream",
     "text": [
      "[0, 1, 1, 1, 1, 0, 1, 1, 0, 0, 0, 0, 1, 1, 0, 0, 1, 1, 0, 0, 0, 0, 0, 1, 1, 0, 0, 1, 1, 1, 1, 1, 0, 0, 0, 0, 1, 1, 1, 0, 1, 1, 1, 1, 1, 0, 1, 1, 1, 1, 0, 0, 1, 0]\n",
      "[0, 1, 1, 1, 1, 0, 1, 1, 0, 0, 0, 0, 1, 1, 0, 0, 1, 1, 0, 1, 0, 0, 0, 1, 1, 0, 0, 1, 0, 1, 1, 1, 0, 0, 0, 0, 1, 1, 1, 0, 1, 1, 1, 1, 1, 0, 1, 1, 1, 1, 0, 0, 1, 0]\n",
      "[0, 1, 1, 1, 1, 0, 0, 1, 0, 0, 0, 1, 1, 0, 0, 0, 0, 0, 0, 0, 0, 0, 1, 0, 0, 0, 0, 0, 1, 0, 1, 1, 0, 0, 1, 1, 1, 1, 1, 1, 1, 1, 1, 1, 1, 1, 1, 1, 1, 1, 1, 1, 1, 1]\n",
      "Accuracy score of mean_pred :  0.6851851851851852\n",
      "Accuracy score of majority_pred :  0.6481481481481481\n"
     ]
    }
   ],
   "source": [
    "print(pred1)\n",
    "print(pred2)\n",
    "print(y_test_grouped)\n",
    "print(\"Accuracy score of mean_pred : \",accuracy_score(pred1 , y_test_grouped))\n",
    "print(\"Accuracy score of majority_pred : \",accuracy_score(pred2 , y_test_grouped))"
   ]
  },
  {
   "cell_type": "code",
   "execution_count": null,
   "metadata": {},
   "outputs": [],
   "source": []
  }
 ],
 "metadata": {
  "colab": {
   "provenance": []
  },
  "gpuClass": "standard",
  "kernelspec": {
   "display_name": "Python 3 (ipykernel)",
   "language": "python",
   "name": "python3"
  },
  "language_info": {
   "codemirror_mode": {
    "name": "ipython",
    "version": 3
   },
   "file_extension": ".py",
   "mimetype": "text/x-python",
   "name": "python",
   "nbconvert_exporter": "python",
   "pygments_lexer": "ipython3",
   "version": "3.10.9"
  }
 },
 "nbformat": 4,
 "nbformat_minor": 1
}
