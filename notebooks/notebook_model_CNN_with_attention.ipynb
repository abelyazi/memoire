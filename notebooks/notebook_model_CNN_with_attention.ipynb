{
 "cells": [
  {
   "cell_type": "code",
   "execution_count": 1,
   "id": "eada695a",
   "metadata": {
    "ExecuteTime": {
     "end_time": "2023-06-22T20:27:28.338325Z",
     "start_time": "2023-06-22T20:27:28.325752Z"
    },
    "id": "QRGvE-Pt3x3c"
   },
   "outputs": [
    {
     "name": "stderr",
     "output_type": "stream",
     "text": [
      "2023-07-11 17:43:42.911337: I tensorflow/core/util/port.cc:110] oneDNN custom operations are on. You may see slightly different numerical results due to floating-point round-off errors from different computation orders. To turn them off, set the environment variable `TF_ENABLE_ONEDNN_OPTS=0`.\n",
      "2023-07-11 17:43:42.932027: I tensorflow/core/platform/cpu_feature_guard.cc:182] This TensorFlow binary is optimized to use available CPU instructions in performance-critical operations.\n",
      "To enable the following instructions: AVX2 AVX_VNNI FMA, in other operations, rebuild TensorFlow with the appropriate compiler flags.\n",
      "2023-07-11 17:43:43.277506: W tensorflow/compiler/tf2tensorrt/utils/py_utils.cc:38] TF-TRT Warning: Could not find TensorRT\n"
     ]
    },
    {
     "name": "stdout",
     "output_type": "stream",
     "text": [
      "Num GPUs Available:  1\n"
     ]
    },
    {
     "name": "stderr",
     "output_type": "stream",
     "text": [
      "2023-07-11 17:43:44.658964: I tensorflow/compiler/xla/stream_executor/cuda/cuda_gpu_executor.cc:995] successful NUMA node read from SysFS had negative value (-1), but there must be at least one NUMA node, so returning NUMA node zero. See more at https://github.com/torvalds/linux/blob/v6.0/Documentation/ABI/testing/sysfs-bus-pci#L344-L355\n",
      "2023-07-11 17:43:44.659459: I tensorflow/compiler/xla/stream_executor/cuda/cuda_gpu_executor.cc:995] successful NUMA node read from SysFS had negative value (-1), but there must be at least one NUMA node, so returning NUMA node zero. See more at https://github.com/torvalds/linux/blob/v6.0/Documentation/ABI/testing/sysfs-bus-pci#L344-L355\n",
      "2023-07-11 17:43:44.659621: I tensorflow/compiler/xla/stream_executor/cuda/cuda_gpu_executor.cc:995] successful NUMA node read from SysFS had negative value (-1), but there must be at least one NUMA node, so returning NUMA node zero. See more at https://github.com/torvalds/linux/blob/v6.0/Documentation/ABI/testing/sysfs-bus-pci#L344-L355\n"
     ]
    }
   ],
   "source": [
    "import sys\n",
    "import tensorflow as tf\n",
    "import matplotlib.pyplot as plt\n",
    "from sklearn import metrics\n",
    "from sklearn.impute import SimpleImputer\n",
    "from sklearn.metrics import accuracy_score\n",
    "import numpy as np, scipy as sp, scipy.stats, os, sys, joblib\n",
    "import os, numpy as np, scipy as sp, scipy.io, scipy.io.wavfile\n",
    "from sklearn.ensemble import RandomForestClassifier\n",
    "from sklearn.model_selection import train_test_split\n",
    "from sklearn.metrics import ConfusionMatrixDisplay\n",
    "from sklearn.metrics import balanced_accuracy_score\n",
    "from sklearn.utils import class_weight\n",
    "import random\n",
    "import pandas as pd\n",
    "import importlib\n",
    "import useful_functions\n",
    "import preprocessing_functions\n",
    "import Chatgpt_model\n",
    "import results_functions\n",
    "print(\"Num GPUs Available: \", len(tf.config.list_physical_devices('GPU')))"
   ]
  },
  {
   "cell_type": "code",
   "execution_count": 2,
   "id": "89021430",
   "metadata": {
    "ExecuteTime": {
     "end_time": "2023-06-22T20:28:02.185714Z",
     "start_time": "2023-06-22T20:28:02.152645Z"
    }
   },
   "outputs": [],
   "source": [
    "importlib.reload(useful_functions)\n",
    "importlib.reload(preprocessing_functions)\n",
    "importlib.reload(Chatgpt_model)\n",
    "from useful_functions import *\n",
    "from preprocessing_functions import *\n",
    "from Chatgpt_model import *"
   ]
  },
  {
   "cell_type": "code",
   "execution_count": 3,
   "id": "a411c3a7",
   "metadata": {},
   "outputs": [],
   "source": [
    " # Define the data and model foldes.\n",
    "data_folder = r\"../training_data\"\n",
    "model_folder = r\"../model\"\n",
    "wind_size = 6000\n",
    "verbose = 3"
   ]
  },
  {
   "cell_type": "code",
   "execution_count": 4,
   "id": "c8b4da30",
   "metadata": {},
   "outputs": [
    {
     "data": {
      "text/html": [
       "<div>\n",
       "<style scoped>\n",
       "    .dataframe tbody tr th:only-of-type {\n",
       "        vertical-align: middle;\n",
       "    }\n",
       "\n",
       "    .dataframe tbody tr th {\n",
       "        vertical-align: top;\n",
       "    }\n",
       "\n",
       "    .dataframe thead th {\n",
       "        text-align: right;\n",
       "    }\n",
       "</style>\n",
       "<table border=\"1\" class=\"dataframe\">\n",
       "  <thead>\n",
       "    <tr style=\"text-align: right;\">\n",
       "      <th></th>\n",
       "      <th>patient_id</th>\n",
       "      <th>recording_type</th>\n",
       "      <th>recording</th>\n",
       "      <th>murmur</th>\n",
       "    </tr>\n",
       "  </thead>\n",
       "  <tbody>\n",
       "    <tr>\n",
       "      <th>0</th>\n",
       "      <td>2530.0</td>\n",
       "      <td>1.0</td>\n",
       "      <td>[254.62053374948147, 332.41397606699405, -727....</td>\n",
       "      <td>0.0</td>\n",
       "    </tr>\n",
       "    <tr>\n",
       "      <th>1</th>\n",
       "      <td>2530.0</td>\n",
       "      <td>1.0</td>\n",
       "      <td>[20.550841480663475, -18.884669077279337, 152....</td>\n",
       "      <td>0.0</td>\n",
       "    </tr>\n",
       "    <tr>\n",
       "      <th>2</th>\n",
       "      <td>2530.0</td>\n",
       "      <td>1.0</td>\n",
       "      <td>[2296.0082592261, 1161.8953810714854, 106.9764...</td>\n",
       "      <td>0.0</td>\n",
       "    </tr>\n",
       "    <tr>\n",
       "      <th>3</th>\n",
       "      <td>2530.0</td>\n",
       "      <td>1.0</td>\n",
       "      <td>[-1.2132347511973676, -24.042684343382245, -14...</td>\n",
       "      <td>0.0</td>\n",
       "    </tr>\n",
       "    <tr>\n",
       "      <th>4</th>\n",
       "      <td>2530.0</td>\n",
       "      <td>1.0</td>\n",
       "      <td>[219.40892010033423, 106.21377642082071, 296.9...</td>\n",
       "      <td>0.0</td>\n",
       "    </tr>\n",
       "  </tbody>\n",
       "</table>\n",
       "</div>"
      ],
      "text/plain": [
       "   patient_id  recording_type  \\\n",
       "0      2530.0             1.0   \n",
       "1      2530.0             1.0   \n",
       "2      2530.0             1.0   \n",
       "3      2530.0             1.0   \n",
       "4      2530.0             1.0   \n",
       "\n",
       "                                           recording  murmur  \n",
       "0  [254.62053374948147, 332.41397606699405, -727....     0.0  \n",
       "1  [20.550841480663475, -18.884669077279337, 152....     0.0  \n",
       "2  [2296.0082592261, 1161.8953810714854, 106.9764...     0.0  \n",
       "3  [-1.2132347511973676, -24.042684343382245, -14...     0.0  \n",
       "4  [219.40892010033423, 106.21377642082071, 296.9...     0.0  "
      ]
     },
     "execution_count": 4,
     "metadata": {},
     "output_type": "execute_result"
    }
   ],
   "source": [
    "recordings,patient_label,patient_id = create_rec_patient_list(data_folder)\n",
    "df = build_dataset_df(recordings,patient_id,patient_label,wind_size)\n",
    "df.head()"
   ]
  },
  {
   "cell_type": "code",
   "execution_count": 5,
   "id": "8c066276",
   "metadata": {
    "ExecuteTime": {
     "end_time": "2023-04-28T19:30:19.950046Z",
     "start_time": "2023-04-28T19:30:19.849971Z"
    },
    "id": "P9HTtXrm78dV"
   },
   "outputs": [],
   "source": [
    "# check correctness of dataframe loaded\n",
    "for i in range(df.shape[0]):\n",
    "  if len(df[\"recording\"][i]) != wind_size:\n",
    "    print(\"problem sir\")"
   ]
  },
  {
   "cell_type": "code",
   "execution_count": 6,
   "id": "704c5b24",
   "metadata": {
    "ExecuteTime": {
     "end_time": "2023-04-28T19:30:20.212107Z",
     "start_time": "2023-04-28T19:30:20.210980Z"
    },
    "id": "fElXRT5T4a36"
   },
   "outputs": [],
   "source": [
    "# select only two columns\n",
    "new_df = df[['patient_id', 'murmur']]\n",
    "new_df = new_df.drop_duplicates()\n",
    "new_df = new_df.reset_index(drop=True)"
   ]
  },
  {
   "cell_type": "code",
   "execution_count": 7,
   "id": "cf46440a",
   "metadata": {
    "ExecuteTime": {
     "end_time": "2023-04-28T19:30:20.478399Z",
     "start_time": "2023-04-28T19:30:20.402161Z"
    },
    "colab": {
     "base_uri": "https://localhost:8080/"
    },
    "id": "6T9wZX1WyE83",
    "outputId": "d3fbb777-7c62-410b-fc50-0621a5692645"
   },
   "outputs": [
    {
     "name": "stdout",
     "output_type": "stream",
     "text": [
      "179\n",
      "695\n"
     ]
    }
   ],
   "source": [
    "# check murmur/non-murmur balance\n",
    "nb_murmur_present = (new_df.loc[new_df['murmur'] == 1]).shape[0]\n",
    "nb_murmur_absent = (new_df.loc[new_df['murmur'] == 0]).shape[0]\n",
    "print(nb_murmur_present)\n",
    "print(nb_murmur_absent)"
   ]
  },
  {
   "cell_type": "code",
   "execution_count": 8,
   "id": "af1d9aaa",
   "metadata": {
    "ExecuteTime": {
     "end_time": "2023-04-28T19:30:20.729364Z",
     "start_time": "2023-04-28T19:30:20.665901Z"
    },
    "colab": {
     "base_uri": "https://localhost:8080/",
     "height": 424
    },
    "id": "mzg9rqHzxyal",
    "outputId": "b703a36e-c0e1-42f6-bf19-54cf7bd0851e"
   },
   "outputs": [
    {
     "data": {
      "text/html": [
       "<div>\n",
       "<style scoped>\n",
       "    .dataframe tbody tr th:only-of-type {\n",
       "        vertical-align: middle;\n",
       "    }\n",
       "\n",
       "    .dataframe tbody tr th {\n",
       "        vertical-align: top;\n",
       "    }\n",
       "\n",
       "    .dataframe thead th {\n",
       "        text-align: right;\n",
       "    }\n",
       "</style>\n",
       "<table border=\"1\" class=\"dataframe\">\n",
       "  <thead>\n",
       "    <tr style=\"text-align: right;\">\n",
       "      <th></th>\n",
       "      <th>patient_id</th>\n",
       "      <th>murmur</th>\n",
       "    </tr>\n",
       "  </thead>\n",
       "  <tbody>\n",
       "    <tr>\n",
       "      <th>0</th>\n",
       "      <td>2530.0</td>\n",
       "      <td>0.0</td>\n",
       "    </tr>\n",
       "    <tr>\n",
       "      <th>1</th>\n",
       "      <td>9979.0</td>\n",
       "      <td>1.0</td>\n",
       "    </tr>\n",
       "    <tr>\n",
       "      <th>2</th>\n",
       "      <td>13918.0</td>\n",
       "      <td>1.0</td>\n",
       "    </tr>\n",
       "    <tr>\n",
       "      <th>3</th>\n",
       "      <td>14241.0</td>\n",
       "      <td>1.0</td>\n",
       "    </tr>\n",
       "    <tr>\n",
       "      <th>4</th>\n",
       "      <td>14998.0</td>\n",
       "      <td>0.0</td>\n",
       "    </tr>\n",
       "    <tr>\n",
       "      <th>...</th>\n",
       "      <td>...</td>\n",
       "      <td>...</td>\n",
       "    </tr>\n",
       "    <tr>\n",
       "      <th>869</th>\n",
       "      <td>85340.0</td>\n",
       "      <td>0.0</td>\n",
       "    </tr>\n",
       "    <tr>\n",
       "      <th>870</th>\n",
       "      <td>85341.0</td>\n",
       "      <td>0.0</td>\n",
       "    </tr>\n",
       "    <tr>\n",
       "      <th>871</th>\n",
       "      <td>85343.0</td>\n",
       "      <td>1.0</td>\n",
       "    </tr>\n",
       "    <tr>\n",
       "      <th>872</th>\n",
       "      <td>85345.0</td>\n",
       "      <td>0.0</td>\n",
       "    </tr>\n",
       "    <tr>\n",
       "      <th>873</th>\n",
       "      <td>85349.0</td>\n",
       "      <td>0.0</td>\n",
       "    </tr>\n",
       "  </tbody>\n",
       "</table>\n",
       "<p>874 rows × 2 columns</p>\n",
       "</div>"
      ],
      "text/plain": [
       "     patient_id  murmur\n",
       "0        2530.0     0.0\n",
       "1        9979.0     1.0\n",
       "2       13918.0     1.0\n",
       "3       14241.0     1.0\n",
       "4       14998.0     0.0\n",
       "..          ...     ...\n",
       "869     85340.0     0.0\n",
       "870     85341.0     0.0\n",
       "871     85343.0     1.0\n",
       "872     85345.0     0.0\n",
       "873     85349.0     0.0\n",
       "\n",
       "[874 rows x 2 columns]"
      ]
     },
     "execution_count": 8,
     "metadata": {},
     "output_type": "execute_result"
    }
   ],
   "source": [
    "# display\n",
    "new_df"
   ]
  },
  {
   "cell_type": "code",
   "execution_count": 9,
   "id": "52368980",
   "metadata": {
    "ExecuteTime": {
     "end_time": "2023-04-28T19:30:20.900406Z",
     "start_time": "2023-04-28T19:30:20.872700Z"
    },
    "id": "Un2S1LxU675v"
   },
   "outputs": [],
   "source": [
    "# complete list of distinct patient id's and corresponding label\n",
    "list_id = new_df['patient_id']\n",
    "list_label = new_df['murmur']"
   ]
  },
  {
   "cell_type": "code",
   "execution_count": 10,
   "id": "814df570",
   "metadata": {
    "ExecuteTime": {
     "end_time": "2023-04-28T19:30:22.427855Z",
     "start_time": "2023-04-28T19:30:22.330256Z"
    },
    "id": "uR6aqz5g9oOj"
   },
   "outputs": [],
   "source": [
    "id_train, id_valtest, label_train, label_valtest = train_test_split(list_id, list_label , test_size=0.4, random_state=42)\n",
    "id_val, id_test, label_val, label_test = train_test_split(id_valtest, label_valtest , test_size=0.5, random_state=42)"
   ]
  },
  {
   "cell_type": "code",
   "execution_count": 11,
   "id": "7f3253d4",
   "metadata": {
    "ExecuteTime": {
     "end_time": "2023-04-28T19:30:22.805600Z",
     "start_time": "2023-04-28T19:30:22.633347Z"
    },
    "id": "BlEJD1ce4H1O"
   },
   "outputs": [],
   "source": [
    "def select_rows(id_list,dframe):\n",
    "  #for id in list_id:\n",
    "  sub_df = dframe.loc[dframe['patient_id'].isin([int(id) for id in id_list])]\n",
    "  return sub_df\n",
    "\n",
    "df_train = select_rows(id_train,df)\n",
    "df_val = select_rows(id_val,df)\n",
    "df_test = select_rows(id_test,df)"
   ]
  },
  {
   "cell_type": "code",
   "execution_count": 12,
   "id": "65d7faab",
   "metadata": {
    "ExecuteTime": {
     "end_time": "2023-04-28T19:30:23.019154Z",
     "start_time": "2023-04-28T19:30:22.890730Z"
    },
    "colab": {
     "base_uri": "https://localhost:8080/"
    },
    "id": "E2w-MxY1_ClQ",
    "outputId": "d8b06ceb-2d69-4941-a7dd-cb34b1591e7f"
   },
   "outputs": [
    {
     "name": "stdout",
     "output_type": "stream",
     "text": [
      "Number of Murmur present :  2697\n",
      "Number of Murmur absent :  11832\n"
     ]
    }
   ],
   "source": [
    "print(\"Number of Murmur present : \",(df_train.loc[df_train['murmur'] == 1]).shape[0])\n",
    "print(\"Number of Murmur absent : \",(df_train.loc[df_train['murmur'] == 0]).shape[0])"
   ]
  },
  {
   "cell_type": "code",
   "execution_count": 13,
   "id": "fa107a23",
   "metadata": {
    "ExecuteTime": {
     "end_time": "2023-04-28T19:30:23.135492Z",
     "start_time": "2023-04-28T19:30:23.031706Z"
    },
    "id": "jfbOL3Un_ESV"
   },
   "outputs": [],
   "source": [
    "X_train = np.vstack(df_train['recording'])\n",
    "y_train = np.array(df_train['murmur'])\n",
    "\n",
    "X_val = np.vstack(df_val['recording'])\n",
    "y_val = np.array(df_val['murmur'])\n",
    "\n",
    "X_test = np.vstack(df_test['recording'])\n",
    "y_test = np.array(df_test['murmur'])"
   ]
  },
  {
   "cell_type": "code",
   "execution_count": 14,
   "id": "29aaaf54",
   "metadata": {
    "ExecuteTime": {
     "end_time": "2023-04-28T19:30:23.394668Z",
     "start_time": "2023-04-28T19:30:23.343654Z"
    },
    "id": "YAlU7MUoCi6r"
   },
   "outputs": [],
   "source": [
    "X_train = X_train.reshape(len(X_train),len(X_train[1]),1)\n",
    "X_val = X_val.reshape(len(X_val),len(X_val[1]),1)\n",
    "X_test = X_test.reshape(len(X_test),len(X_test[1]),1)"
   ]
  },
  {
   "cell_type": "code",
   "execution_count": 15,
   "id": "751d25ab",
   "metadata": {
    "ExecuteTime": {
     "end_time": "2023-04-28T19:30:23.566721Z",
     "start_time": "2023-04-28T19:30:23.565669Z"
    }
   },
   "outputs": [
    {
     "data": {
      "text/plain": [
       "(14529, 6000, 1)"
      ]
     },
     "execution_count": 15,
     "metadata": {},
     "output_type": "execute_result"
    }
   ],
   "source": [
    "X_train.shape"
   ]
  },
  {
   "cell_type": "code",
   "execution_count": 28,
   "id": "fd4719ea",
   "metadata": {
    "ExecuteTime": {
     "end_time": "2023-04-28T19:30:23.833671Z",
     "start_time": "2023-04-28T19:30:23.810191Z"
    }
   },
   "outputs": [],
   "source": [
    "importlib.reload(Chatgpt_model)\n",
    "from Chatgpt_model import *\n",
    "model = create_small_model(input_shape=X_train.shape[1:])\n",
    "\n",
    "\n",
    "#model = make_model(input_shape=X_train.shape[1:])"
   ]
  },
  {
   "cell_type": "code",
   "execution_count": 29,
   "id": "847851a7",
   "metadata": {
    "ExecuteTime": {
     "end_time": "2023-04-28T19:30:24.050572Z",
     "start_time": "2023-04-28T19:30:24.031597Z"
    },
    "colab": {
     "base_uri": "https://localhost:8080/"
    },
    "id": "f_gayKfl_qdh",
    "outputId": "cbb9656e-720f-4852-ab80-34cda175fbff",
    "scrolled": true
   },
   "outputs": [
    {
     "name": "stdout",
     "output_type": "stream",
     "text": [
      "Model: \"model_4\"\n",
      "__________________________________________________________________________________________________\n",
      " Layer (type)                Output Shape                 Param #   Connected to                  \n",
      "==================================================================================================\n",
      " input_8 (InputLayer)        [(None, 6000, 1)]            0         []                            \n",
      "                                                                                                  \n",
      " conv1d_318 (Conv1D)         (None, 3000, 12)             96        ['input_8[0][0]']             \n",
      "                                                                                                  \n",
      " max_pooling1d_7 (MaxPoolin  (None, 1500, 12)             0         ['conv1d_318[0][0]']          \n",
      " g1D)                                                                                             \n",
      "                                                                                                  \n",
      " batch_normalization_465 (B  (None, 1500, 12)             48        ['max_pooling1d_7[0][0]']     \n",
      " atchNormalization)                                                                               \n",
      "                                                                                                  \n",
      " conv1d_319 (Conv1D)         (None, 1500, 72)             936       ['batch_normalization_465[0][0\n",
      "                                                                    ]']                           \n",
      "                                                                                                  \n",
      " batch_normalization_466 (B  (None, 1500, 72)             288       ['conv1d_319[0][0]']          \n",
      " atchNormalization)                                                                               \n",
      "                                                                                                  \n",
      " re_lu_322 (ReLU)            (None, 1500, 72)             0         ['batch_normalization_466[0][0\n",
      "                                                                    ]']                           \n",
      "                                                                                                  \n",
      " depthwise_conv1d_150 (Dept  (None, 1500, 72)             288       ['re_lu_322[0][0]']           \n",
      " hwiseConv1D)                                                                                     \n",
      "                                                                                                  \n",
      " batch_normalization_467 (B  (None, 1500, 72)             288       ['depthwise_conv1d_150[0][0]']\n",
      " atchNormalization)                                                                               \n",
      "                                                                                                  \n",
      " re_lu_323 (ReLU)            (None, 1500, 72)             0         ['batch_normalization_467[0][0\n",
      "                                                                    ]']                           \n",
      "                                                                                                  \n",
      " conv1d_320 (Conv1D)         (None, 1500, 12)             876       ['re_lu_323[0][0]']           \n",
      "                                                                                                  \n",
      " concatenate_155 (Concatena  (None, 1500, 24)             0         ['max_pooling1d_7[0][0]',     \n",
      " te)                                                                 'conv1d_320[0][0]']          \n",
      "                                                                                                  \n",
      " batch_normalization_468 (B  (None, 1500, 24)             96        ['concatenate_155[0][0]']     \n",
      " atchNormalization)                                                                               \n",
      "                                                                                                  \n",
      " conv1d_321 (Conv1D)         (None, 1500, 144)            3600      ['batch_normalization_468[0][0\n",
      "                                                                    ]']                           \n",
      "                                                                                                  \n",
      " batch_normalization_469 (B  (None, 1500, 144)            576       ['conv1d_321[0][0]']          \n",
      " atchNormalization)                                                                               \n",
      "                                                                                                  \n",
      " re_lu_324 (ReLU)            (None, 1500, 144)            0         ['batch_normalization_469[0][0\n",
      "                                                                    ]']                           \n",
      "                                                                                                  \n",
      " depthwise_conv1d_151 (Dept  (None, 1500, 144)            576       ['re_lu_324[0][0]']           \n",
      " hwiseConv1D)                                                                                     \n",
      "                                                                                                  \n",
      " batch_normalization_470 (B  (None, 1500, 144)            576       ['depthwise_conv1d_151[0][0]']\n",
      " atchNormalization)                                                                               \n",
      "                                                                                                  \n",
      " re_lu_325 (ReLU)            (None, 1500, 144)            0         ['batch_normalization_470[0][0\n",
      "                                                                    ]']                           \n",
      "                                                                                                  \n",
      " conv1d_322 (Conv1D)         (None, 1500, 12)             1740      ['re_lu_325[0][0]']           \n",
      "                                                                                                  \n",
      " concatenate_156 (Concatena  (None, 1500, 36)             0         ['max_pooling1d_7[0][0]',     \n",
      " te)                                                                 'conv1d_320[0][0]',          \n",
      "                                                                     'conv1d_322[0][0]']          \n",
      "                                                                                                  \n",
      " batch_normalization_471 (B  (None, 1500, 36)             144       ['concatenate_156[0][0]']     \n",
      " atchNormalization)                                                                               \n",
      "                                                                                                  \n",
      " conv1d_323 (Conv1D)         (None, 1500, 216)            7992      ['batch_normalization_471[0][0\n",
      "                                                                    ]']                           \n",
      "                                                                                                  \n",
      " batch_normalization_472 (B  (None, 1500, 216)            864       ['conv1d_323[0][0]']          \n",
      " atchNormalization)                                                                               \n",
      "                                                                                                  \n",
      " re_lu_326 (ReLU)            (None, 1500, 216)            0         ['batch_normalization_472[0][0\n",
      "                                                                    ]']                           \n",
      "                                                                                                  \n",
      " depthwise_conv1d_152 (Dept  (None, 1500, 216)            864       ['re_lu_326[0][0]']           \n",
      " hwiseConv1D)                                                                                     \n",
      "                                                                                                  \n",
      " batch_normalization_473 (B  (None, 1500, 216)            864       ['depthwise_conv1d_152[0][0]']\n",
      " atchNormalization)                                                                               \n",
      "                                                                                                  \n",
      " re_lu_327 (ReLU)            (None, 1500, 216)            0         ['batch_normalization_473[0][0\n",
      "                                                                    ]']                           \n"
     ]
    },
    {
     "name": "stdout",
     "output_type": "stream",
     "text": [
      "                                                                                                  \n",
      " conv1d_324 (Conv1D)         (None, 1500, 12)             2604      ['re_lu_327[0][0]']           \n",
      "                                                                                                  \n",
      " concatenate_157 (Concatena  (None, 1500, 48)             0         ['max_pooling1d_7[0][0]',     \n",
      " te)                                                                 'conv1d_320[0][0]',          \n",
      "                                                                     'conv1d_322[0][0]',          \n",
      "                                                                     'conv1d_324[0][0]']          \n",
      "                                                                                                  \n",
      " batch_normalization_474 (B  (None, 1500, 48)             192       ['concatenate_157[0][0]']     \n",
      " atchNormalization)                                                                               \n",
      "                                                                                                  \n",
      " conv1d_325 (Conv1D)         (None, 1500, 288)            14112     ['batch_normalization_474[0][0\n",
      "                                                                    ]']                           \n",
      "                                                                                                  \n",
      " batch_normalization_475 (B  (None, 1500, 288)            1152      ['conv1d_325[0][0]']          \n",
      " atchNormalization)                                                                               \n",
      "                                                                                                  \n",
      " re_lu_328 (ReLU)            (None, 1500, 288)            0         ['batch_normalization_475[0][0\n",
      "                                                                    ]']                           \n",
      "                                                                                                  \n",
      " depthwise_conv1d_153 (Dept  (None, 1500, 288)            1152      ['re_lu_328[0][0]']           \n",
      " hwiseConv1D)                                                                                     \n",
      "                                                                                                  \n",
      " batch_normalization_476 (B  (None, 1500, 288)            1152      ['depthwise_conv1d_153[0][0]']\n",
      " atchNormalization)                                                                               \n",
      "                                                                                                  \n",
      " re_lu_329 (ReLU)            (None, 1500, 288)            0         ['batch_normalization_476[0][0\n",
      "                                                                    ]']                           \n",
      "                                                                                                  \n",
      " conv1d_326 (Conv1D)         (None, 1500, 12)             3468      ['re_lu_329[0][0]']           \n",
      "                                                                                                  \n",
      " concatenate_158 (Concatena  (None, 1500, 60)             0         ['max_pooling1d_7[0][0]',     \n",
      " te)                                                                 'conv1d_320[0][0]',          \n",
      "                                                                     'conv1d_322[0][0]',          \n",
      "                                                                     'conv1d_324[0][0]',          \n",
      "                                                                     'conv1d_326[0][0]']          \n",
      "                                                                                                  \n",
      " batch_normalization_477 (B  (None, 1500, 60)             240       ['concatenate_158[0][0]']     \n",
      " atchNormalization)                                                                               \n",
      "                                                                                                  \n",
      " conv1d_327 (Conv1D)         (None, 1500, 360)            21960     ['batch_normalization_477[0][0\n",
      "                                                                    ]']                           \n",
      "                                                                                                  \n",
      " batch_normalization_478 (B  (None, 1500, 360)            1440      ['conv1d_327[0][0]']          \n",
      " atchNormalization)                                                                               \n",
      "                                                                                                  \n",
      " re_lu_330 (ReLU)            (None, 1500, 360)            0         ['batch_normalization_478[0][0\n",
      "                                                                    ]']                           \n",
      "                                                                                                  \n",
      " depthwise_conv1d_154 (Dept  (None, 1500, 360)            1440      ['re_lu_330[0][0]']           \n",
      " hwiseConv1D)                                                                                     \n",
      "                                                                                                  \n",
      " batch_normalization_479 (B  (None, 1500, 360)            1440      ['depthwise_conv1d_154[0][0]']\n",
      " atchNormalization)                                                                               \n",
      "                                                                                                  \n",
      " re_lu_331 (ReLU)            (None, 1500, 360)            0         ['batch_normalization_479[0][0\n",
      "                                                                    ]']                           \n",
      "                                                                                                  \n",
      " conv1d_328 (Conv1D)         (None, 1500, 12)             4332      ['re_lu_331[0][0]']           \n",
      "                                                                                                  \n",
      " concatenate_159 (Concatena  (None, 1500, 36)             0         ['conv1d_324[0][0]',          \n",
      " te)                                                                 'conv1d_326[0][0]',          \n",
      "                                                                     'conv1d_328[0][0]']          \n",
      "                                                                                                  \n",
      " batch_normalization_480 (B  (None, 1500, 36)             144       ['concatenate_159[0][0]']     \n",
      " atchNormalization)                                                                               \n",
      "                                                                                                  \n",
      " conv1d_329 (Conv1D)         (None, 1500, 216)            7992      ['batch_normalization_480[0][0\n",
      "                                                                    ]']                           \n",
      "                                                                                                  \n",
      " batch_normalization_481 (B  (None, 1500, 216)            864       ['conv1d_329[0][0]']          \n",
      " atchNormalization)                                                                               \n",
      "                                                                                                  \n",
      " re_lu_332 (ReLU)            (None, 1500, 216)            0         ['batch_normalization_481[0][0\n",
      "                                                                    ]']                           \n",
      "                                                                                                  \n",
      " depthwise_conv1d_155 (Dept  (None, 1500, 216)            864       ['re_lu_332[0][0]']           \n",
      " hwiseConv1D)                                                                                     \n",
      "                                                                                                  \n",
      " batch_normalization_482 (B  (None, 1500, 216)            864       ['depthwise_conv1d_155[0][0]']\n",
      " atchNormalization)                                                                               \n",
      "                                                                                                  \n",
      " re_lu_333 (ReLU)            (None, 1500, 216)            0         ['batch_normalization_482[0][0\n"
     ]
    },
    {
     "name": "stdout",
     "output_type": "stream",
     "text": [
      "                                                                    ]']                           \n",
      "                                                                                                  \n",
      " conv1d_330 (Conv1D)         (None, 1500, 12)             2604      ['re_lu_333[0][0]']           \n",
      "                                                                                                  \n",
      " concatenate_160 (Concatena  (None, 1500, 36)             0         ['conv1d_326[0][0]',          \n",
      " te)                                                                 'conv1d_328[0][0]',          \n",
      "                                                                     'conv1d_330[0][0]']          \n",
      "                                                                                                  \n",
      " batch_normalization_483 (B  (None, 1500, 36)             144       ['concatenate_160[0][0]']     \n",
      " atchNormalization)                                                                               \n",
      "                                                                                                  \n",
      " conv1d_331 (Conv1D)         (None, 1500, 216)            7992      ['batch_normalization_483[0][0\n",
      "                                                                    ]']                           \n",
      "                                                                                                  \n",
      " batch_normalization_484 (B  (None, 1500, 216)            864       ['conv1d_331[0][0]']          \n",
      " atchNormalization)                                                                               \n",
      "                                                                                                  \n",
      " re_lu_334 (ReLU)            (None, 1500, 216)            0         ['batch_normalization_484[0][0\n",
      "                                                                    ]']                           \n",
      "                                                                                                  \n",
      " depthwise_conv1d_156 (Dept  (None, 1500, 216)            864       ['re_lu_334[0][0]']           \n",
      " hwiseConv1D)                                                                                     \n",
      "                                                                                                  \n",
      " batch_normalization_485 (B  (None, 1500, 216)            864       ['depthwise_conv1d_156[0][0]']\n",
      " atchNormalization)                                                                               \n",
      "                                                                                                  \n",
      " re_lu_335 (ReLU)            (None, 1500, 216)            0         ['batch_normalization_485[0][0\n",
      "                                                                    ]']                           \n",
      "                                                                                                  \n",
      " conv1d_332 (Conv1D)         (None, 1500, 12)             2604      ['re_lu_335[0][0]']           \n",
      "                                                                                                  \n",
      " concatenate_161 (Concatena  (None, 1500, 36)             0         ['conv1d_328[0][0]',          \n",
      " te)                                                                 'conv1d_330[0][0]',          \n",
      "                                                                     'conv1d_332[0][0]']          \n",
      "                                                                                                  \n",
      " batch_normalization_486 (B  (None, 1500, 36)             144       ['concatenate_161[0][0]']     \n",
      " atchNormalization)                                                                               \n",
      "                                                                                                  \n",
      " conv1d_333 (Conv1D)         (None, 1500, 216)            7992      ['batch_normalization_486[0][0\n",
      "                                                                    ]']                           \n",
      "                                                                                                  \n",
      " batch_normalization_487 (B  (None, 1500, 216)            864       ['conv1d_333[0][0]']          \n",
      " atchNormalization)                                                                               \n",
      "                                                                                                  \n",
      " re_lu_336 (ReLU)            (None, 1500, 216)            0         ['batch_normalization_487[0][0\n",
      "                                                                    ]']                           \n",
      "                                                                                                  \n",
      " depthwise_conv1d_157 (Dept  (None, 1500, 216)            864       ['re_lu_336[0][0]']           \n",
      " hwiseConv1D)                                                                                     \n",
      "                                                                                                  \n",
      " batch_normalization_488 (B  (None, 1500, 216)            864       ['depthwise_conv1d_157[0][0]']\n",
      " atchNormalization)                                                                               \n",
      "                                                                                                  \n",
      " re_lu_337 (ReLU)            (None, 1500, 216)            0         ['batch_normalization_488[0][0\n",
      "                                                                    ]']                           \n",
      "                                                                                                  \n",
      " conv1d_334 (Conv1D)         (None, 1500, 12)             2604      ['re_lu_337[0][0]']           \n",
      "                                                                                                  \n",
      " concatenate_162 (Concatena  (None, 1500, 36)             0         ['conv1d_330[0][0]',          \n",
      " te)                                                                 'conv1d_332[0][0]',          \n",
      "                                                                     'conv1d_334[0][0]']          \n",
      "                                                                                                  \n",
      " batch_normalization_489 (B  (None, 1500, 36)             144       ['concatenate_162[0][0]']     \n",
      " atchNormalization)                                                                               \n",
      "                                                                                                  \n",
      " conv1d_335 (Conv1D)         (None, 1500, 216)            7992      ['batch_normalization_489[0][0\n",
      "                                                                    ]']                           \n",
      "                                                                                                  \n",
      " batch_normalization_490 (B  (None, 1500, 216)            864       ['conv1d_335[0][0]']          \n",
      " atchNormalization)                                                                               \n",
      "                                                                                                  \n",
      " re_lu_338 (ReLU)            (None, 1500, 216)            0         ['batch_normalization_490[0][0\n",
      "                                                                    ]']                           \n",
      "                                                                                                  \n",
      " depthwise_conv1d_158 (Dept  (None, 1500, 216)            864       ['re_lu_338[0][0]']           \n",
      " hwiseConv1D)                                                                                     \n",
      "                                                                                                  \n",
      " batch_normalization_491 (B  (None, 1500, 216)            864       ['depthwise_conv1d_158[0][0]']\n",
      " atchNormalization)                                                                               \n",
      "                                                                                                  \n",
      " re_lu_339 (ReLU)            (None, 1500, 216)            0         ['batch_normalization_491[0][0\n",
      "                                                                    ]']                           \n",
      "                                                                                                  \n"
     ]
    },
    {
     "name": "stdout",
     "output_type": "stream",
     "text": [
      " conv1d_336 (Conv1D)         (None, 1500, 12)             2604      ['re_lu_339[0][0]']           \n",
      "                                                                                                  \n",
      " concatenate_163 (Concatena  (None, 1500, 36)             0         ['conv1d_332[0][0]',          \n",
      " te)                                                                 'conv1d_334[0][0]',          \n",
      "                                                                     'conv1d_336[0][0]']          \n",
      "                                                                                                  \n",
      " batch_normalization_492 (B  (None, 1500, 36)             144       ['concatenate_163[0][0]']     \n",
      " atchNormalization)                                                                               \n",
      "                                                                                                  \n",
      " conv1d_337 (Conv1D)         (None, 1500, 216)            7992      ['batch_normalization_492[0][0\n",
      "                                                                    ]']                           \n",
      "                                                                                                  \n",
      " batch_normalization_493 (B  (None, 1500, 216)            864       ['conv1d_337[0][0]']          \n",
      " atchNormalization)                                                                               \n",
      "                                                                                                  \n",
      " re_lu_340 (ReLU)            (None, 1500, 216)            0         ['batch_normalization_493[0][0\n",
      "                                                                    ]']                           \n",
      "                                                                                                  \n",
      " depthwise_conv1d_159 (Dept  (None, 1500, 216)            864       ['re_lu_340[0][0]']           \n",
      " hwiseConv1D)                                                                                     \n",
      "                                                                                                  \n",
      " batch_normalization_494 (B  (None, 1500, 216)            864       ['depthwise_conv1d_159[0][0]']\n",
      " atchNormalization)                                                                               \n",
      "                                                                                                  \n",
      " re_lu_341 (ReLU)            (None, 1500, 216)            0         ['batch_normalization_494[0][0\n",
      "                                                                    ]']                           \n",
      "                                                                                                  \n",
      " conv1d_338 (Conv1D)         (None, 1500, 12)             2604      ['re_lu_341[0][0]']           \n",
      "                                                                                                  \n",
      " batch_normalization_495 (B  (None, 1500, 12)             48        ['conv1d_338[0][0]']          \n",
      " atchNormalization)                                                                               \n",
      "                                                                                                  \n",
      " re_lu_342 (ReLU)            (None, 1500, 12)             0         ['batch_normalization_495[0][0\n",
      "                                                                    ]']                           \n",
      "                                                                                                  \n",
      " conv1d_339 (Conv1D)         (None, 1500, 6)              78        ['re_lu_342[0][0]']           \n",
      "                                                                                                  \n",
      " global_average_pooling1d_2  (None, 6)                    0         ['conv1d_339[0][0]']          \n",
      " 3 (GlobalAveragePooling1D)                                                                       \n",
      "                                                                                                  \n",
      " dense_30 (Dense)            (None, 6)                    42        ['global_average_pooling1d_23[\n",
      "                                                                    0][0]']                       \n",
      "                                                                                                  \n",
      " re_lu_343 (ReLU)            (None, 6)                    0         ['dense_30[0][0]']            \n",
      "                                                                                                  \n",
      " dense_31 (Dense)            (None, 6)                    42        ['re_lu_343[0][0]']           \n",
      "                                                                                                  \n",
      " tf.math.sigmoid_11 (TFOpLa  (None, 6)                    0         ['dense_31[0][0]']            \n",
      " mbda)                                                                                            \n",
      "                                                                                                  \n",
      " multiply_11 (Multiply)      (None, 1500, 6)              0         ['tf.math.sigmoid_11[0][0]',  \n",
      "                                                                     'conv1d_339[0][0]']          \n",
      "                                                                                                  \n",
      " average_pooling1d_8 (Avera  (None, 750, 6)               0         ['multiply_11[0][0]']         \n",
      " gePooling1D)                                                                                     \n",
      "                                                                                                  \n",
      " batch_normalization_496 (B  (None, 750, 6)               24        ['average_pooling1d_8[0][0]'] \n",
      " atchNormalization)                                                                               \n",
      "                                                                                                  \n",
      " conv1d_340 (Conv1D)         (None, 750, 36)              252       ['batch_normalization_496[0][0\n",
      "                                                                    ]']                           \n",
      "                                                                                                  \n",
      " batch_normalization_497 (B  (None, 750, 36)              144       ['conv1d_340[0][0]']          \n",
      " atchNormalization)                                                                               \n",
      "                                                                                                  \n",
      " re_lu_344 (ReLU)            (None, 750, 36)              0         ['batch_normalization_497[0][0\n",
      "                                                                    ]']                           \n",
      "                                                                                                  \n",
      " depthwise_conv1d_160 (Dept  (None, 750, 36)              144       ['re_lu_344[0][0]']           \n",
      " hwiseConv1D)                                                                                     \n",
      "                                                                                                  \n",
      " batch_normalization_498 (B  (None, 750, 36)              144       ['depthwise_conv1d_160[0][0]']\n",
      " atchNormalization)                                                                               \n",
      "                                                                                                  \n",
      " re_lu_345 (ReLU)            (None, 750, 36)              0         ['batch_normalization_498[0][0\n",
      "                                                                    ]']                           \n",
      "                                                                                                  \n",
      " conv1d_341 (Conv1D)         (None, 750, 12)              444       ['re_lu_345[0][0]']           \n",
      "                                                                                                  \n",
      " concatenate_164 (Concatena  (None, 750, 18)              0         ['average_pooling1d_8[0][0]', \n",
      " te)                                                                 'conv1d_341[0][0]']          \n",
      "                                                                                                  \n",
      " batch_normalization_499 (B  (None, 750, 18)              72        ['concatenate_164[0][0]']     \n"
     ]
    },
    {
     "name": "stdout",
     "output_type": "stream",
     "text": [
      " atchNormalization)                                                                               \n",
      "                                                                                                  \n",
      " conv1d_342 (Conv1D)         (None, 750, 108)             2052      ['batch_normalization_499[0][0\n",
      "                                                                    ]']                           \n",
      "                                                                                                  \n",
      " batch_normalization_500 (B  (None, 750, 108)             432       ['conv1d_342[0][0]']          \n",
      " atchNormalization)                                                                               \n",
      "                                                                                                  \n",
      " re_lu_346 (ReLU)            (None, 750, 108)             0         ['batch_normalization_500[0][0\n",
      "                                                                    ]']                           \n",
      "                                                                                                  \n",
      " depthwise_conv1d_161 (Dept  (None, 750, 108)             432       ['re_lu_346[0][0]']           \n",
      " hwiseConv1D)                                                                                     \n",
      "                                                                                                  \n",
      " batch_normalization_501 (B  (None, 750, 108)             432       ['depthwise_conv1d_161[0][0]']\n",
      " atchNormalization)                                                                               \n",
      "                                                                                                  \n",
      " re_lu_347 (ReLU)            (None, 750, 108)             0         ['batch_normalization_501[0][0\n",
      "                                                                    ]']                           \n",
      "                                                                                                  \n",
      " conv1d_343 (Conv1D)         (None, 750, 12)              1308      ['re_lu_347[0][0]']           \n",
      "                                                                                                  \n",
      " concatenate_165 (Concatena  (None, 750, 30)              0         ['average_pooling1d_8[0][0]', \n",
      " te)                                                                 'conv1d_341[0][0]',          \n",
      "                                                                     'conv1d_343[0][0]']          \n",
      "                                                                                                  \n",
      " batch_normalization_502 (B  (None, 750, 30)              120       ['concatenate_165[0][0]']     \n",
      " atchNormalization)                                                                               \n",
      "                                                                                                  \n",
      " conv1d_344 (Conv1D)         (None, 750, 180)             5580      ['batch_normalization_502[0][0\n",
      "                                                                    ]']                           \n",
      "                                                                                                  \n",
      " batch_normalization_503 (B  (None, 750, 180)             720       ['conv1d_344[0][0]']          \n",
      " atchNormalization)                                                                               \n",
      "                                                                                                  \n",
      " re_lu_348 (ReLU)            (None, 750, 180)             0         ['batch_normalization_503[0][0\n",
      "                                                                    ]']                           \n",
      "                                                                                                  \n",
      " depthwise_conv1d_162 (Dept  (None, 750, 180)             720       ['re_lu_348[0][0]']           \n",
      " hwiseConv1D)                                                                                     \n",
      "                                                                                                  \n",
      " batch_normalization_504 (B  (None, 750, 180)             720       ['depthwise_conv1d_162[0][0]']\n",
      " atchNormalization)                                                                               \n",
      "                                                                                                  \n",
      " re_lu_349 (ReLU)            (None, 750, 180)             0         ['batch_normalization_504[0][0\n",
      "                                                                    ]']                           \n",
      "                                                                                                  \n",
      " conv1d_345 (Conv1D)         (None, 750, 12)              2172      ['re_lu_349[0][0]']           \n",
      "                                                                                                  \n",
      " concatenate_166 (Concatena  (None, 750, 42)              0         ['average_pooling1d_8[0][0]', \n",
      " te)                                                                 'conv1d_341[0][0]',          \n",
      "                                                                     'conv1d_343[0][0]',          \n",
      "                                                                     'conv1d_345[0][0]']          \n",
      "                                                                                                  \n",
      " batch_normalization_505 (B  (None, 750, 42)              168       ['concatenate_166[0][0]']     \n",
      " atchNormalization)                                                                               \n",
      "                                                                                                  \n",
      " conv1d_346 (Conv1D)         (None, 750, 252)             10836     ['batch_normalization_505[0][0\n",
      "                                                                    ]']                           \n",
      "                                                                                                  \n",
      " batch_normalization_506 (B  (None, 750, 252)             1008      ['conv1d_346[0][0]']          \n",
      " atchNormalization)                                                                               \n",
      "                                                                                                  \n",
      " re_lu_350 (ReLU)            (None, 750, 252)             0         ['batch_normalization_506[0][0\n",
      "                                                                    ]']                           \n",
      "                                                                                                  \n",
      " depthwise_conv1d_163 (Dept  (None, 750, 252)             1008      ['re_lu_350[0][0]']           \n",
      " hwiseConv1D)                                                                                     \n",
      "                                                                                                  \n",
      " batch_normalization_507 (B  (None, 750, 252)             1008      ['depthwise_conv1d_163[0][0]']\n",
      " atchNormalization)                                                                               \n",
      "                                                                                                  \n",
      " re_lu_351 (ReLU)            (None, 750, 252)             0         ['batch_normalization_507[0][0\n",
      "                                                                    ]']                           \n",
      "                                                                                                  \n",
      " conv1d_347 (Conv1D)         (None, 750, 12)              3036      ['re_lu_351[0][0]']           \n",
      "                                                                                                  \n",
      " concatenate_167 (Concatena  (None, 750, 54)              0         ['average_pooling1d_8[0][0]', \n",
      " te)                                                                 'conv1d_341[0][0]',          \n",
      "                                                                     'conv1d_343[0][0]',          \n",
      "                                                                     'conv1d_345[0][0]',          \n",
      "                                                                     'conv1d_347[0][0]']          \n",
      "                                                                                                  \n"
     ]
    },
    {
     "name": "stdout",
     "output_type": "stream",
     "text": [
      " batch_normalization_508 (B  (None, 750, 54)              216       ['concatenate_167[0][0]']     \n",
      " atchNormalization)                                                                               \n",
      "                                                                                                  \n",
      " conv1d_348 (Conv1D)         (None, 750, 324)             17820     ['batch_normalization_508[0][0\n",
      "                                                                    ]']                           \n",
      "                                                                                                  \n",
      " batch_normalization_509 (B  (None, 750, 324)             1296      ['conv1d_348[0][0]']          \n",
      " atchNormalization)                                                                               \n",
      "                                                                                                  \n",
      " re_lu_352 (ReLU)            (None, 750, 324)             0         ['batch_normalization_509[0][0\n",
      "                                                                    ]']                           \n",
      "                                                                                                  \n",
      " depthwise_conv1d_164 (Dept  (None, 750, 324)             1296      ['re_lu_352[0][0]']           \n",
      " hwiseConv1D)                                                                                     \n",
      "                                                                                                  \n",
      " batch_normalization_510 (B  (None, 750, 324)             1296      ['depthwise_conv1d_164[0][0]']\n",
      " atchNormalization)                                                                               \n",
      "                                                                                                  \n",
      " re_lu_353 (ReLU)            (None, 750, 324)             0         ['batch_normalization_510[0][0\n",
      "                                                                    ]']                           \n",
      "                                                                                                  \n",
      " conv1d_349 (Conv1D)         (None, 750, 12)              3900      ['re_lu_353[0][0]']           \n",
      "                                                                                                  \n",
      " concatenate_168 (Concatena  (None, 750, 36)              0         ['conv1d_345[0][0]',          \n",
      " te)                                                                 'conv1d_347[0][0]',          \n",
      "                                                                     'conv1d_349[0][0]']          \n",
      "                                                                                                  \n",
      " batch_normalization_511 (B  (None, 750, 36)              144       ['concatenate_168[0][0]']     \n",
      " atchNormalization)                                                                               \n",
      "                                                                                                  \n",
      " conv1d_350 (Conv1D)         (None, 750, 216)             7992      ['batch_normalization_511[0][0\n",
      "                                                                    ]']                           \n",
      "                                                                                                  \n",
      " batch_normalization_512 (B  (None, 750, 216)             864       ['conv1d_350[0][0]']          \n",
      " atchNormalization)                                                                               \n",
      "                                                                                                  \n",
      " re_lu_354 (ReLU)            (None, 750, 216)             0         ['batch_normalization_512[0][0\n",
      "                                                                    ]']                           \n",
      "                                                                                                  \n",
      " depthwise_conv1d_165 (Dept  (None, 750, 216)             864       ['re_lu_354[0][0]']           \n",
      " hwiseConv1D)                                                                                     \n",
      "                                                                                                  \n",
      " batch_normalization_513 (B  (None, 750, 216)             864       ['depthwise_conv1d_165[0][0]']\n",
      " atchNormalization)                                                                               \n",
      "                                                                                                  \n",
      " re_lu_355 (ReLU)            (None, 750, 216)             0         ['batch_normalization_513[0][0\n",
      "                                                                    ]']                           \n",
      "                                                                                                  \n",
      " conv1d_351 (Conv1D)         (None, 750, 12)              2604      ['re_lu_355[0][0]']           \n",
      "                                                                                                  \n",
      " concatenate_169 (Concatena  (None, 750, 36)              0         ['conv1d_347[0][0]',          \n",
      " te)                                                                 'conv1d_349[0][0]',          \n",
      "                                                                     'conv1d_351[0][0]']          \n",
      "                                                                                                  \n",
      " batch_normalization_514 (B  (None, 750, 36)              144       ['concatenate_169[0][0]']     \n",
      " atchNormalization)                                                                               \n",
      "                                                                                                  \n",
      " conv1d_352 (Conv1D)         (None, 750, 216)             7992      ['batch_normalization_514[0][0\n",
      "                                                                    ]']                           \n",
      "                                                                                                  \n",
      " batch_normalization_515 (B  (None, 750, 216)             864       ['conv1d_352[0][0]']          \n",
      " atchNormalization)                                                                               \n",
      "                                                                                                  \n",
      " re_lu_356 (ReLU)            (None, 750, 216)             0         ['batch_normalization_515[0][0\n",
      "                                                                    ]']                           \n",
      "                                                                                                  \n",
      " depthwise_conv1d_166 (Dept  (None, 750, 216)             864       ['re_lu_356[0][0]']           \n",
      " hwiseConv1D)                                                                                     \n",
      "                                                                                                  \n",
      " batch_normalization_516 (B  (None, 750, 216)             864       ['depthwise_conv1d_166[0][0]']\n",
      " atchNormalization)                                                                               \n",
      "                                                                                                  \n",
      " re_lu_357 (ReLU)            (None, 750, 216)             0         ['batch_normalization_516[0][0\n",
      "                                                                    ]']                           \n",
      "                                                                                                  \n",
      " conv1d_353 (Conv1D)         (None, 750, 12)              2604      ['re_lu_357[0][0]']           \n",
      "                                                                                                  \n",
      " concatenate_170 (Concatena  (None, 750, 36)              0         ['conv1d_349[0][0]',          \n",
      " te)                                                                 'conv1d_351[0][0]',          \n",
      "                                                                     'conv1d_353[0][0]']          \n",
      "                                                                                                  \n",
      " batch_normalization_517 (B  (None, 750, 36)              144       ['concatenate_170[0][0]']     \n",
      " atchNormalization)                                                                               \n"
     ]
    },
    {
     "name": "stdout",
     "output_type": "stream",
     "text": [
      "                                                                                                  \n",
      " conv1d_354 (Conv1D)         (None, 750, 216)             7992      ['batch_normalization_517[0][0\n",
      "                                                                    ]']                           \n",
      "                                                                                                  \n",
      " batch_normalization_518 (B  (None, 750, 216)             864       ['conv1d_354[0][0]']          \n",
      " atchNormalization)                                                                               \n",
      "                                                                                                  \n",
      " re_lu_358 (ReLU)            (None, 750, 216)             0         ['batch_normalization_518[0][0\n",
      "                                                                    ]']                           \n",
      "                                                                                                  \n",
      " depthwise_conv1d_167 (Dept  (None, 750, 216)             864       ['re_lu_358[0][0]']           \n",
      " hwiseConv1D)                                                                                     \n",
      "                                                                                                  \n",
      " batch_normalization_519 (B  (None, 750, 216)             864       ['depthwise_conv1d_167[0][0]']\n",
      " atchNormalization)                                                                               \n",
      "                                                                                                  \n",
      " re_lu_359 (ReLU)            (None, 750, 216)             0         ['batch_normalization_519[0][0\n",
      "                                                                    ]']                           \n",
      "                                                                                                  \n",
      " conv1d_355 (Conv1D)         (None, 750, 12)              2604      ['re_lu_359[0][0]']           \n",
      "                                                                                                  \n",
      " concatenate_171 (Concatena  (None, 750, 36)              0         ['conv1d_351[0][0]',          \n",
      " te)                                                                 'conv1d_353[0][0]',          \n",
      "                                                                     'conv1d_355[0][0]']          \n",
      "                                                                                                  \n",
      " batch_normalization_520 (B  (None, 750, 36)              144       ['concatenate_171[0][0]']     \n",
      " atchNormalization)                                                                               \n",
      "                                                                                                  \n",
      " conv1d_356 (Conv1D)         (None, 750, 216)             7992      ['batch_normalization_520[0][0\n",
      "                                                                    ]']                           \n",
      "                                                                                                  \n",
      " batch_normalization_521 (B  (None, 750, 216)             864       ['conv1d_356[0][0]']          \n",
      " atchNormalization)                                                                               \n",
      "                                                                                                  \n",
      " re_lu_360 (ReLU)            (None, 750, 216)             0         ['batch_normalization_521[0][0\n",
      "                                                                    ]']                           \n",
      "                                                                                                  \n",
      " depthwise_conv1d_168 (Dept  (None, 750, 216)             864       ['re_lu_360[0][0]']           \n",
      " hwiseConv1D)                                                                                     \n",
      "                                                                                                  \n",
      " batch_normalization_522 (B  (None, 750, 216)             864       ['depthwise_conv1d_168[0][0]']\n",
      " atchNormalization)                                                                               \n",
      "                                                                                                  \n",
      " re_lu_361 (ReLU)            (None, 750, 216)             0         ['batch_normalization_522[0][0\n",
      "                                                                    ]']                           \n",
      "                                                                                                  \n",
      " conv1d_357 (Conv1D)         (None, 750, 12)              2604      ['re_lu_361[0][0]']           \n",
      "                                                                                                  \n",
      " concatenate_172 (Concatena  (None, 750, 36)              0         ['conv1d_353[0][0]',          \n",
      " te)                                                                 'conv1d_355[0][0]',          \n",
      "                                                                     'conv1d_357[0][0]']          \n",
      "                                                                                                  \n",
      " batch_normalization_523 (B  (None, 750, 36)              144       ['concatenate_172[0][0]']     \n",
      " atchNormalization)                                                                               \n",
      "                                                                                                  \n",
      " conv1d_358 (Conv1D)         (None, 750, 216)             7992      ['batch_normalization_523[0][0\n",
      "                                                                    ]']                           \n",
      "                                                                                                  \n",
      " batch_normalization_524 (B  (None, 750, 216)             864       ['conv1d_358[0][0]']          \n",
      " atchNormalization)                                                                               \n",
      "                                                                                                  \n",
      " re_lu_362 (ReLU)            (None, 750, 216)             0         ['batch_normalization_524[0][0\n",
      "                                                                    ]']                           \n",
      "                                                                                                  \n",
      " depthwise_conv1d_169 (Dept  (None, 750, 216)             864       ['re_lu_362[0][0]']           \n",
      " hwiseConv1D)                                                                                     \n",
      "                                                                                                  \n",
      " batch_normalization_525 (B  (None, 750, 216)             864       ['depthwise_conv1d_169[0][0]']\n",
      " atchNormalization)                                                                               \n",
      "                                                                                                  \n",
      " re_lu_363 (ReLU)            (None, 750, 216)             0         ['batch_normalization_525[0][0\n",
      "                                                                    ]']                           \n",
      "                                                                                                  \n",
      " conv1d_359 (Conv1D)         (None, 750, 12)              2604      ['re_lu_363[0][0]']           \n",
      "                                                                                                  \n",
      " batch_normalization_526 (B  (None, 750, 12)              48        ['conv1d_359[0][0]']          \n",
      " atchNormalization)                                                                               \n",
      "                                                                                                  \n",
      " re_lu_364 (ReLU)            (None, 750, 12)              0         ['batch_normalization_526[0][0\n",
      "                                                                    ]']                           \n",
      "                                                                                                  \n",
      " conv1d_360 (Conv1D)         (None, 750, 6)               78        ['re_lu_364[0][0]']           \n",
      "                                                                                                  \n"
     ]
    },
    {
     "name": "stdout",
     "output_type": "stream",
     "text": [
      " global_average_pooling1d_2  (None, 6)                    0         ['conv1d_360[0][0]']          \n",
      " 4 (GlobalAveragePooling1D)                                                                       \n",
      "                                                                                                  \n",
      " dense_32 (Dense)            (None, 6)                    42        ['global_average_pooling1d_24[\n",
      "                                                                    0][0]']                       \n",
      "                                                                                                  \n",
      " re_lu_365 (ReLU)            (None, 6)                    0         ['dense_32[0][0]']            \n",
      "                                                                                                  \n",
      " dense_33 (Dense)            (None, 6)                    42        ['re_lu_365[0][0]']           \n",
      "                                                                                                  \n",
      " tf.math.sigmoid_12 (TFOpLa  (None, 6)                    0         ['dense_33[0][0]']            \n",
      " mbda)                                                                                            \n",
      "                                                                                                  \n",
      " multiply_12 (Multiply)      (None, 750, 6)               0         ['tf.math.sigmoid_12[0][0]',  \n",
      "                                                                     'conv1d_360[0][0]']          \n",
      "                                                                                                  \n",
      " average_pooling1d_9 (Avera  (None, 375, 6)               0         ['multiply_12[0][0]']         \n",
      " gePooling1D)                                                                                     \n",
      "                                                                                                  \n",
      " batch_normalization_527 (B  (None, 375, 6)               24        ['average_pooling1d_9[0][0]'] \n",
      " atchNormalization)                                                                               \n",
      "                                                                                                  \n",
      " conv1d_361 (Conv1D)         (None, 375, 36)              252       ['batch_normalization_527[0][0\n",
      "                                                                    ]']                           \n",
      "                                                                                                  \n",
      " batch_normalization_528 (B  (None, 375, 36)              144       ['conv1d_361[0][0]']          \n",
      " atchNormalization)                                                                               \n",
      "                                                                                                  \n",
      " re_lu_366 (ReLU)            (None, 375, 36)              0         ['batch_normalization_528[0][0\n",
      "                                                                    ]']                           \n",
      "                                                                                                  \n",
      " depthwise_conv1d_170 (Dept  (None, 375, 36)              144       ['re_lu_366[0][0]']           \n",
      " hwiseConv1D)                                                                                     \n",
      "                                                                                                  \n",
      " batch_normalization_529 (B  (None, 375, 36)              144       ['depthwise_conv1d_170[0][0]']\n",
      " atchNormalization)                                                                               \n",
      "                                                                                                  \n",
      " re_lu_367 (ReLU)            (None, 375, 36)              0         ['batch_normalization_529[0][0\n",
      "                                                                    ]']                           \n",
      "                                                                                                  \n",
      " conv1d_362 (Conv1D)         (None, 375, 12)              444       ['re_lu_367[0][0]']           \n",
      "                                                                                                  \n",
      " concatenate_173 (Concatena  (None, 375, 18)              0         ['average_pooling1d_9[0][0]', \n",
      " te)                                                                 'conv1d_362[0][0]']          \n",
      "                                                                                                  \n",
      " batch_normalization_530 (B  (None, 375, 18)              72        ['concatenate_173[0][0]']     \n",
      " atchNormalization)                                                                               \n",
      "                                                                                                  \n",
      " conv1d_363 (Conv1D)         (None, 375, 108)             2052      ['batch_normalization_530[0][0\n",
      "                                                                    ]']                           \n",
      "                                                                                                  \n",
      " batch_normalization_531 (B  (None, 375, 108)             432       ['conv1d_363[0][0]']          \n",
      " atchNormalization)                                                                               \n",
      "                                                                                                  \n",
      " re_lu_368 (ReLU)            (None, 375, 108)             0         ['batch_normalization_531[0][0\n",
      "                                                                    ]']                           \n",
      "                                                                                                  \n",
      " depthwise_conv1d_171 (Dept  (None, 375, 108)             432       ['re_lu_368[0][0]']           \n",
      " hwiseConv1D)                                                                                     \n",
      "                                                                                                  \n",
      " batch_normalization_532 (B  (None, 375, 108)             432       ['depthwise_conv1d_171[0][0]']\n",
      " atchNormalization)                                                                               \n",
      "                                                                                                  \n",
      " re_lu_369 (ReLU)            (None, 375, 108)             0         ['batch_normalization_532[0][0\n",
      "                                                                    ]']                           \n",
      "                                                                                                  \n",
      " conv1d_364 (Conv1D)         (None, 375, 12)              1308      ['re_lu_369[0][0]']           \n",
      "                                                                                                  \n",
      " concatenate_174 (Concatena  (None, 375, 30)              0         ['average_pooling1d_9[0][0]', \n",
      " te)                                                                 'conv1d_362[0][0]',          \n",
      "                                                                     'conv1d_364[0][0]']          \n",
      "                                                                                                  \n",
      " batch_normalization_533 (B  (None, 375, 30)              120       ['concatenate_174[0][0]']     \n",
      " atchNormalization)                                                                               \n",
      "                                                                                                  \n",
      " conv1d_365 (Conv1D)         (None, 375, 180)             5580      ['batch_normalization_533[0][0\n",
      "                                                                    ]']                           \n",
      "                                                                                                  \n",
      " batch_normalization_534 (B  (None, 375, 180)             720       ['conv1d_365[0][0]']          \n",
      " atchNormalization)                                                                               \n",
      "                                                                                                  \n",
      " re_lu_370 (ReLU)            (None, 375, 180)             0         ['batch_normalization_534[0][0\n",
      "                                                                    ]']                           \n"
     ]
    },
    {
     "name": "stdout",
     "output_type": "stream",
     "text": [
      "                                                                                                  \n",
      " depthwise_conv1d_172 (Dept  (None, 375, 180)             720       ['re_lu_370[0][0]']           \n",
      " hwiseConv1D)                                                                                     \n",
      "                                                                                                  \n",
      " batch_normalization_535 (B  (None, 375, 180)             720       ['depthwise_conv1d_172[0][0]']\n",
      " atchNormalization)                                                                               \n",
      "                                                                                                  \n",
      " re_lu_371 (ReLU)            (None, 375, 180)             0         ['batch_normalization_535[0][0\n",
      "                                                                    ]']                           \n",
      "                                                                                                  \n",
      " conv1d_366 (Conv1D)         (None, 375, 12)              2172      ['re_lu_371[0][0]']           \n",
      "                                                                                                  \n",
      " concatenate_175 (Concatena  (None, 375, 42)              0         ['average_pooling1d_9[0][0]', \n",
      " te)                                                                 'conv1d_362[0][0]',          \n",
      "                                                                     'conv1d_364[0][0]',          \n",
      "                                                                     'conv1d_366[0][0]']          \n",
      "                                                                                                  \n",
      " batch_normalization_536 (B  (None, 375, 42)              168       ['concatenate_175[0][0]']     \n",
      " atchNormalization)                                                                               \n",
      "                                                                                                  \n",
      " conv1d_367 (Conv1D)         (None, 375, 252)             10836     ['batch_normalization_536[0][0\n",
      "                                                                    ]']                           \n",
      "                                                                                                  \n",
      " batch_normalization_537 (B  (None, 375, 252)             1008      ['conv1d_367[0][0]']          \n",
      " atchNormalization)                                                                               \n",
      "                                                                                                  \n",
      " re_lu_372 (ReLU)            (None, 375, 252)             0         ['batch_normalization_537[0][0\n",
      "                                                                    ]']                           \n",
      "                                                                                                  \n",
      " depthwise_conv1d_173 (Dept  (None, 375, 252)             1008      ['re_lu_372[0][0]']           \n",
      " hwiseConv1D)                                                                                     \n",
      "                                                                                                  \n",
      " batch_normalization_538 (B  (None, 375, 252)             1008      ['depthwise_conv1d_173[0][0]']\n",
      " atchNormalization)                                                                               \n",
      "                                                                                                  \n",
      " re_lu_373 (ReLU)            (None, 375, 252)             0         ['batch_normalization_538[0][0\n",
      "                                                                    ]']                           \n",
      "                                                                                                  \n",
      " conv1d_368 (Conv1D)         (None, 375, 12)              3036      ['re_lu_373[0][0]']           \n",
      "                                                                                                  \n",
      " concatenate_176 (Concatena  (None, 375, 54)              0         ['average_pooling1d_9[0][0]', \n",
      " te)                                                                 'conv1d_362[0][0]',          \n",
      "                                                                     'conv1d_364[0][0]',          \n",
      "                                                                     'conv1d_366[0][0]',          \n",
      "                                                                     'conv1d_368[0][0]']          \n",
      "                                                                                                  \n",
      " batch_normalization_539 (B  (None, 375, 54)              216       ['concatenate_176[0][0]']     \n",
      " atchNormalization)                                                                               \n",
      "                                                                                                  \n",
      " conv1d_369 (Conv1D)         (None, 375, 324)             17820     ['batch_normalization_539[0][0\n",
      "                                                                    ]']                           \n",
      "                                                                                                  \n",
      " batch_normalization_540 (B  (None, 375, 324)             1296      ['conv1d_369[0][0]']          \n",
      " atchNormalization)                                                                               \n",
      "                                                                                                  \n",
      " re_lu_374 (ReLU)            (None, 375, 324)             0         ['batch_normalization_540[0][0\n",
      "                                                                    ]']                           \n",
      "                                                                                                  \n",
      " depthwise_conv1d_174 (Dept  (None, 375, 324)             1296      ['re_lu_374[0][0]']           \n",
      " hwiseConv1D)                                                                                     \n",
      "                                                                                                  \n",
      " batch_normalization_541 (B  (None, 375, 324)             1296      ['depthwise_conv1d_174[0][0]']\n",
      " atchNormalization)                                                                               \n",
      "                                                                                                  \n",
      " re_lu_375 (ReLU)            (None, 375, 324)             0         ['batch_normalization_541[0][0\n",
      "                                                                    ]']                           \n",
      "                                                                                                  \n",
      " conv1d_370 (Conv1D)         (None, 375, 12)              3900      ['re_lu_375[0][0]']           \n",
      "                                                                                                  \n",
      " concatenate_177 (Concatena  (None, 375, 36)              0         ['conv1d_366[0][0]',          \n",
      " te)                                                                 'conv1d_368[0][0]',          \n",
      "                                                                     'conv1d_370[0][0]']          \n",
      "                                                                                                  \n",
      " batch_normalization_542 (B  (None, 375, 36)              144       ['concatenate_177[0][0]']     \n",
      " atchNormalization)                                                                               \n",
      "                                                                                                  \n",
      " conv1d_371 (Conv1D)         (None, 375, 216)             7992      ['batch_normalization_542[0][0\n",
      "                                                                    ]']                           \n",
      "                                                                                                  \n",
      " batch_normalization_543 (B  (None, 375, 216)             864       ['conv1d_371[0][0]']          \n",
      " atchNormalization)                                                                               \n",
      "                                                                                                  \n",
      " re_lu_376 (ReLU)            (None, 375, 216)             0         ['batch_normalization_543[0][0\n"
     ]
    },
    {
     "name": "stdout",
     "output_type": "stream",
     "text": [
      "                                                                    ]']                           \n",
      "                                                                                                  \n",
      " depthwise_conv1d_175 (Dept  (None, 375, 216)             864       ['re_lu_376[0][0]']           \n",
      " hwiseConv1D)                                                                                     \n",
      "                                                                                                  \n",
      " batch_normalization_544 (B  (None, 375, 216)             864       ['depthwise_conv1d_175[0][0]']\n",
      " atchNormalization)                                                                               \n",
      "                                                                                                  \n",
      " re_lu_377 (ReLU)            (None, 375, 216)             0         ['batch_normalization_544[0][0\n",
      "                                                                    ]']                           \n",
      "                                                                                                  \n",
      " conv1d_372 (Conv1D)         (None, 375, 12)              2604      ['re_lu_377[0][0]']           \n",
      "                                                                                                  \n",
      " concatenate_178 (Concatena  (None, 375, 36)              0         ['conv1d_368[0][0]',          \n",
      " te)                                                                 'conv1d_370[0][0]',          \n",
      "                                                                     'conv1d_372[0][0]']          \n",
      "                                                                                                  \n",
      " batch_normalization_545 (B  (None, 375, 36)              144       ['concatenate_178[0][0]']     \n",
      " atchNormalization)                                                                               \n",
      "                                                                                                  \n",
      " conv1d_373 (Conv1D)         (None, 375, 216)             7992      ['batch_normalization_545[0][0\n",
      "                                                                    ]']                           \n",
      "                                                                                                  \n",
      " batch_normalization_546 (B  (None, 375, 216)             864       ['conv1d_373[0][0]']          \n",
      " atchNormalization)                                                                               \n",
      "                                                                                                  \n",
      " re_lu_378 (ReLU)            (None, 375, 216)             0         ['batch_normalization_546[0][0\n",
      "                                                                    ]']                           \n",
      "                                                                                                  \n",
      " depthwise_conv1d_176 (Dept  (None, 375, 216)             864       ['re_lu_378[0][0]']           \n",
      " hwiseConv1D)                                                                                     \n",
      "                                                                                                  \n",
      " batch_normalization_547 (B  (None, 375, 216)             864       ['depthwise_conv1d_176[0][0]']\n",
      " atchNormalization)                                                                               \n",
      "                                                                                                  \n",
      " re_lu_379 (ReLU)            (None, 375, 216)             0         ['batch_normalization_547[0][0\n",
      "                                                                    ]']                           \n",
      "                                                                                                  \n",
      " conv1d_374 (Conv1D)         (None, 375, 12)              2604      ['re_lu_379[0][0]']           \n",
      "                                                                                                  \n",
      " concatenate_179 (Concatena  (None, 375, 36)              0         ['conv1d_370[0][0]',          \n",
      " te)                                                                 'conv1d_372[0][0]',          \n",
      "                                                                     'conv1d_374[0][0]']          \n",
      "                                                                                                  \n",
      " batch_normalization_548 (B  (None, 375, 36)              144       ['concatenate_179[0][0]']     \n",
      " atchNormalization)                                                                               \n",
      "                                                                                                  \n",
      " conv1d_375 (Conv1D)         (None, 375, 216)             7992      ['batch_normalization_548[0][0\n",
      "                                                                    ]']                           \n",
      "                                                                                                  \n",
      " batch_normalization_549 (B  (None, 375, 216)             864       ['conv1d_375[0][0]']          \n",
      " atchNormalization)                                                                               \n",
      "                                                                                                  \n",
      " re_lu_380 (ReLU)            (None, 375, 216)             0         ['batch_normalization_549[0][0\n",
      "                                                                    ]']                           \n",
      "                                                                                                  \n",
      " depthwise_conv1d_177 (Dept  (None, 375, 216)             864       ['re_lu_380[0][0]']           \n",
      " hwiseConv1D)                                                                                     \n",
      "                                                                                                  \n",
      " batch_normalization_550 (B  (None, 375, 216)             864       ['depthwise_conv1d_177[0][0]']\n",
      " atchNormalization)                                                                               \n",
      "                                                                                                  \n",
      " re_lu_381 (ReLU)            (None, 375, 216)             0         ['batch_normalization_550[0][0\n",
      "                                                                    ]']                           \n",
      "                                                                                                  \n",
      " conv1d_376 (Conv1D)         (None, 375, 12)              2604      ['re_lu_381[0][0]']           \n",
      "                                                                                                  \n",
      " concatenate_180 (Concatena  (None, 375, 36)              0         ['conv1d_372[0][0]',          \n",
      " te)                                                                 'conv1d_374[0][0]',          \n",
      "                                                                     'conv1d_376[0][0]']          \n",
      "                                                                                                  \n",
      " batch_normalization_551 (B  (None, 375, 36)              144       ['concatenate_180[0][0]']     \n",
      " atchNormalization)                                                                               \n",
      "                                                                                                  \n",
      " conv1d_377 (Conv1D)         (None, 375, 216)             7992      ['batch_normalization_551[0][0\n",
      "                                                                    ]']                           \n",
      "                                                                                                  \n",
      " batch_normalization_552 (B  (None, 375, 216)             864       ['conv1d_377[0][0]']          \n",
      " atchNormalization)                                                                               \n",
      "                                                                                                  \n",
      " re_lu_382 (ReLU)            (None, 375, 216)             0         ['batch_normalization_552[0][0\n",
      "                                                                    ]']                           \n",
      "                                                                                                  \n"
     ]
    },
    {
     "name": "stdout",
     "output_type": "stream",
     "text": [
      " depthwise_conv1d_178 (Dept  (None, 375, 216)             864       ['re_lu_382[0][0]']           \n",
      " hwiseConv1D)                                                                                     \n",
      "                                                                                                  \n",
      " batch_normalization_553 (B  (None, 375, 216)             864       ['depthwise_conv1d_178[0][0]']\n",
      " atchNormalization)                                                                               \n",
      "                                                                                                  \n",
      " re_lu_383 (ReLU)            (None, 375, 216)             0         ['batch_normalization_553[0][0\n",
      "                                                                    ]']                           \n",
      "                                                                                                  \n",
      " conv1d_378 (Conv1D)         (None, 375, 12)              2604      ['re_lu_383[0][0]']           \n",
      "                                                                                                  \n",
      " concatenate_181 (Concatena  (None, 375, 36)              0         ['conv1d_374[0][0]',          \n",
      " te)                                                                 'conv1d_376[0][0]',          \n",
      "                                                                     'conv1d_378[0][0]']          \n",
      "                                                                                                  \n",
      " batch_normalization_554 (B  (None, 375, 36)              144       ['concatenate_181[0][0]']     \n",
      " atchNormalization)                                                                               \n",
      "                                                                                                  \n",
      " conv1d_379 (Conv1D)         (None, 375, 216)             7992      ['batch_normalization_554[0][0\n",
      "                                                                    ]']                           \n",
      "                                                                                                  \n",
      " batch_normalization_555 (B  (None, 375, 216)             864       ['conv1d_379[0][0]']          \n",
      " atchNormalization)                                                                               \n",
      "                                                                                                  \n",
      " re_lu_384 (ReLU)            (None, 375, 216)             0         ['batch_normalization_555[0][0\n",
      "                                                                    ]']                           \n",
      "                                                                                                  \n",
      " depthwise_conv1d_179 (Dept  (None, 375, 216)             864       ['re_lu_384[0][0]']           \n",
      " hwiseConv1D)                                                                                     \n",
      "                                                                                                  \n",
      " batch_normalization_556 (B  (None, 375, 216)             864       ['depthwise_conv1d_179[0][0]']\n",
      " atchNormalization)                                                                               \n",
      "                                                                                                  \n",
      " re_lu_385 (ReLU)            (None, 375, 216)             0         ['batch_normalization_556[0][0\n",
      "                                                                    ]']                           \n",
      "                                                                                                  \n",
      " conv1d_380 (Conv1D)         (None, 375, 12)              2604      ['re_lu_385[0][0]']           \n",
      "                                                                                                  \n",
      " concatenate_183 (Concatena  (None, 750, 18)              0         ['average_pooling1d_8[0][0]', \n",
      " te)                                                                 'conv1d_359[0][0]']          \n",
      "                                                                                                  \n",
      " concatenate_184 (Concatena  (None, 375, 18)              0         ['average_pooling1d_9[0][0]', \n",
      " te)                                                                 'conv1d_380[0][0]']          \n",
      "                                                                                                  \n",
      " concatenate_182 (Concatena  (None, 1500, 24)             0         ['max_pooling1d_7[0][0]',     \n",
      " te)                                                                 'conv1d_338[0][0]']          \n",
      "                                                                                                  \n",
      " global_average_pooling1d_2  (None, 18)                   0         ['concatenate_183[0][0]']     \n",
      " 6 (GlobalAveragePooling1D)                                                                       \n",
      "                                                                                                  \n",
      " global_average_pooling1d_2  (None, 18)                   0         ['concatenate_184[0][0]']     \n",
      " 7 (GlobalAveragePooling1D)                                                                       \n",
      "                                                                                                  \n",
      " global_average_pooling1d_2  (None, 24)                   0         ['concatenate_182[0][0]']     \n",
      " 5 (GlobalAveragePooling1D)                                                                       \n",
      "                                                                                                  \n",
      " concatenate_185 (Concatena  (None, 36)                   0         ['global_average_pooling1d_26[\n",
      " te)                                                                0][0]',                       \n",
      "                                                                     'global_average_pooling1d_27[\n",
      "                                                                    0][0]']                       \n",
      "                                                                                                  \n",
      " concatenate_186 (Concatena  (None, 60)                   0         ['global_average_pooling1d_25[\n",
      " te)                                                                0][0]',                       \n",
      "                                                                     'concatenate_185[0][0]']     \n",
      "                                                                                                  \n",
      " dense_35 (Dense)            (None, 15)                   915       ['concatenate_186[0][0]']     \n",
      "                                                                                                  \n",
      " batch_normalization_558 (B  (None, 15)                   60        ['dense_35[0][0]']            \n",
      " atchNormalization)                                                                               \n",
      "                                                                                                  \n",
      " dropout_1 (Dropout)         (None, 15)                   0         ['batch_normalization_558[0][0\n",
      "                                                                    ]']                           \n",
      "                                                                                                  \n",
      " dense_36 (Dense)            (None, 1)                    16        ['dropout_1[0][0]']           \n",
      "                                                                                                  \n",
      "==================================================================================================\n",
      "Total params: 394387 (1.50 MB)\n",
      "Trainable params: 367789 (1.40 MB)\n",
      "Non-trainable params: 26598 (103.90 KB)\n",
      "__________________________________________________________________________________________________\n"
     ]
    }
   ],
   "source": [
    "\n",
    "model.summary()\n"
   ]
  },
  {
   "cell_type": "code",
   "execution_count": 30,
   "id": "c07e1014",
   "metadata": {},
   "outputs": [],
   "source": [
    "weights = class_weight.compute_class_weight(  class_weight ='balanced',\n",
    "                                    classes = np.unique(y_train),\n",
    "                                    y = y_train)\n",
    "class_weights = dict(zip(np.unique(y_train), weights))\n",
    "class_weights\n",
    "wghts = {0: 0.6139705882352942, 1: 2.693548387096774}"
   ]
  },
  {
   "cell_type": "code",
   "execution_count": 31,
   "id": "855a839b",
   "metadata": {
    "ExecuteTime": {
     "end_time": "2023-04-28T19:35:36.936643Z",
     "start_time": "2023-04-28T19:30:24.265163Z"
    },
    "colab": {
     "base_uri": "https://localhost:8080/"
    },
    "id": "hyYFCrlJEGsk",
    "outputId": "1ffc58ab-e10e-42d7-da26-95260d876ac1",
    "scrolled": false
   },
   "outputs": [
    {
     "name": "stdout",
     "output_type": "stream",
     "text": [
      "Epoch 1/30\n"
     ]
    },
    {
     "name": "stderr",
     "output_type": "stream",
     "text": [
      "2023-07-11 18:42:48.023464: I tensorflow/compiler/xla/stream_executor/cuda/cuda_dnn.cc:432] Loaded cuDNN version 8600\n",
      "2023-07-11 18:42:48.391191: I tensorflow/compiler/xla/stream_executor/cuda/cuda_blas.cc:606] TensorFloat-32 will be used for the matrix multiplication. This will only be logged once.\n",
      "2023-07-11 18:42:48.710491: I tensorflow/compiler/xla/service/service.cc:168] XLA service 0x7f17f0037c80 initialized for platform CUDA (this does not guarantee that XLA will be used). Devices:\n",
      "2023-07-11 18:42:48.710503: I tensorflow/compiler/xla/service/service.cc:176]   StreamExecutor device (0): NVIDIA GeForce RTX 4070 Ti, Compute Capability 8.9\n",
      "2023-07-11 18:42:48.713022: I tensorflow/compiler/mlir/tensorflow/utils/dump_mlir_util.cc:255] disabling MLIR crash reproducer, set env var `MLIR_CRASH_REPRODUCER_DIRECTORY` to enable.\n",
      "2023-07-11 18:42:48.765971: I ./tensorflow/compiler/jit/device_compiler.h:186] Compiled cluster using XLA!  This line is logged at most once for the lifetime of the process.\n"
     ]
    },
    {
     "name": "stdout",
     "output_type": "stream",
     "text": [
      "455/455 [==============================] - ETA: 0s - loss: 0.6378 - acc: 0.7006 - auc: 0.6952 - weighted_acc: 0.6496"
     ]
    },
    {
     "name": "stderr",
     "output_type": "stream",
     "text": [
      "/home/iridia/anaconda3/lib/python3.10/site-packages/keras/src/engine/training.py:3000: UserWarning: You are saving your model as an HDF5 file via `model.save()`. This file format is considered legacy. We recommend using instead the native Keras format, e.g. `model.save('my_model.keras')`.\n",
      "  saving_api.save_model(\n"
     ]
    },
    {
     "name": "stdout",
     "output_type": "stream",
     "text": [
      "455/455 [==============================] - 98s 151ms/step - loss: 0.6378 - acc: 0.7006 - auc: 0.6952 - weighted_acc: 0.6496 - val_loss: 0.6002 - val_acc: 0.7981 - val_auc: 0.6794 - val_weighted_acc: 0.7981 - lr: 0.0010\n",
      "Epoch 2/30\n",
      "455/455 [==============================] - 65s 144ms/step - loss: 0.5931 - acc: 0.7440 - auc: 0.7418 - weighted_acc: 0.6871 - val_loss: 0.7483 - val_acc: 0.6355 - val_auc: 0.7344 - val_weighted_acc: 0.6355 - lr: 0.0010\n",
      "Epoch 3/30\n",
      "455/455 [==============================] - 67s 146ms/step - loss: 0.5651 - acc: 0.7628 - auc: 0.7718 - weighted_acc: 0.7113 - val_loss: 0.5454 - val_acc: 0.7695 - val_auc: 0.7605 - val_weighted_acc: 0.7695 - lr: 0.0010\n",
      "Epoch 4/30\n",
      "455/455 [==============================] - 66s 145ms/step - loss: 0.5417 - acc: 0.7742 - auc: 0.7920 - weighted_acc: 0.7254 - val_loss: 0.4566 - val_acc: 0.8232 - val_auc: 0.7258 - val_weighted_acc: 0.8232 - lr: 0.0010\n",
      "Epoch 5/30\n",
      "455/455 [==============================] - 65s 143ms/step - loss: 0.5245 - acc: 0.7805 - auc: 0.8084 - weighted_acc: 0.7389 - val_loss: 0.5135 - val_acc: 0.7780 - val_auc: 0.7739 - val_weighted_acc: 0.7780 - lr: 0.0010\n",
      "Epoch 6/30\n",
      "455/455 [==============================] - 66s 144ms/step - loss: 0.5015 - acc: 0.7860 - auc: 0.8265 - weighted_acc: 0.7543 - val_loss: 0.4239 - val_acc: 0.8418 - val_auc: 0.7789 - val_weighted_acc: 0.8418 - lr: 0.0010\n",
      "Epoch 7/30\n",
      "455/455 [==============================] - 66s 145ms/step - loss: 0.4857 - acc: 0.7956 - auc: 0.8414 - weighted_acc: 0.7696 - val_loss: 1.6258 - val_acc: 0.4179 - val_auc: 0.7705 - val_weighted_acc: 0.4179 - lr: 0.0010\n",
      "Epoch 8/30\n",
      "455/455 [==============================] - 66s 144ms/step - loss: 0.4683 - acc: 0.8078 - auc: 0.8522 - weighted_acc: 0.7811 - val_loss: 0.3950 - val_acc: 0.8575 - val_auc: 0.8057 - val_weighted_acc: 0.8575 - lr: 0.0010\n",
      "Epoch 9/30\n",
      "455/455 [==============================] - 66s 144ms/step - loss: 0.4702 - acc: 0.8052 - auc: 0.8520 - weighted_acc: 0.7748 - val_loss: 0.6144 - val_acc: 0.7182 - val_auc: 0.7516 - val_weighted_acc: 0.7182 - lr: 0.0010\n",
      "Epoch 10/30\n",
      "455/455 [==============================] - 65s 144ms/step - loss: 0.4483 - acc: 0.8146 - auc: 0.8666 - weighted_acc: 0.7904 - val_loss: 1.2452 - val_acc: 0.4121 - val_auc: 0.7997 - val_weighted_acc: 0.4121 - lr: 0.0010\n",
      "Epoch 11/30\n",
      "455/455 [==============================] - 66s 146ms/step - loss: 0.4488 - acc: 0.8169 - auc: 0.8667 - weighted_acc: 0.7913 - val_loss: 0.3678 - val_acc: 0.8642 - val_auc: 0.8243 - val_weighted_acc: 0.8642 - lr: 0.0010\n",
      "Epoch 12/30\n",
      "455/455 [==============================] - 66s 145ms/step - loss: 0.4200 - acc: 0.8263 - auc: 0.8847 - weighted_acc: 0.8055 - val_loss: 0.3767 - val_acc: 0.8544 - val_auc: 0.8306 - val_weighted_acc: 0.8544 - lr: 0.0010\n",
      "Epoch 13/30\n",
      "455/455 [==============================] - 66s 144ms/step - loss: 0.4180 - acc: 0.8296 - auc: 0.8858 - weighted_acc: 0.8030 - val_loss: 0.3783 - val_acc: 0.8555 - val_auc: 0.8190 - val_weighted_acc: 0.8555 - lr: 0.0010\n",
      "Epoch 14/30\n",
      "455/455 [==============================] - 66s 146ms/step - loss: 0.4008 - acc: 0.8299 - auc: 0.8972 - weighted_acc: 0.8154 - val_loss: 0.4276 - val_acc: 0.8140 - val_auc: 0.8222 - val_weighted_acc: 0.8140 - lr: 0.0010\n",
      "Epoch 15/30\n",
      "455/455 [==============================] - 66s 145ms/step - loss: 0.3930 - acc: 0.8372 - auc: 0.9010 - weighted_acc: 0.8173 - val_loss: 0.3783 - val_acc: 0.8650 - val_auc: 0.8223 - val_weighted_acc: 0.8650 - lr: 0.0010\n",
      "Epoch 16/30\n",
      "455/455 [==============================] - 66s 144ms/step - loss: 0.3812 - acc: 0.8414 - auc: 0.9068 - weighted_acc: 0.8195 - val_loss: 0.3789 - val_acc: 0.8526 - val_auc: 0.8366 - val_weighted_acc: 0.8526 - lr: 0.0010\n",
      "Epoch 17/30\n",
      "455/455 [==============================] - 65s 144ms/step - loss: 0.3743 - acc: 0.8396 - auc: 0.9102 - weighted_acc: 0.8258 - val_loss: 0.4418 - val_acc: 0.8101 - val_auc: 0.8328 - val_weighted_acc: 0.8101 - lr: 0.0010\n",
      "Epoch 18/30\n",
      "455/455 [==============================] - 65s 144ms/step - loss: 0.3722 - acc: 0.8459 - auc: 0.9115 - weighted_acc: 0.8271 - val_loss: 0.4708 - val_acc: 0.7915 - val_auc: 0.8629 - val_weighted_acc: 0.7915 - lr: 0.0010\n",
      "Epoch 19/30\n",
      "455/455 [==============================] - 65s 143ms/step - loss: 0.3577 - acc: 0.8526 - auc: 0.9196 - weighted_acc: 0.8370 - val_loss: 0.4591 - val_acc: 0.7962 - val_auc: 0.8362 - val_weighted_acc: 0.7962 - lr: 0.0010\n",
      "Epoch 20/30\n",
      "455/455 [==============================] - 66s 146ms/step - loss: 0.3482 - acc: 0.8527 - auc: 0.9236 - weighted_acc: 0.8413 - val_loss: 0.4240 - val_acc: 0.8331 - val_auc: 0.8385 - val_weighted_acc: 0.8331 - lr: 0.0010\n",
      "Epoch 21/30\n",
      "455/455 [==============================] - 66s 145ms/step - loss: 0.3446 - acc: 0.8597 - auc: 0.9262 - weighted_acc: 0.8467 - val_loss: 0.6150 - val_acc: 0.7238 - val_auc: 0.8437 - val_weighted_acc: 0.7238 - lr: 0.0010\n",
      "Epoch 22/30\n",
      "455/455 [==============================] - 65s 144ms/step - loss: 0.3092 - acc: 0.8682 - auc: 0.9417 - weighted_acc: 0.8637 - val_loss: 0.3878 - val_acc: 0.8285 - val_auc: 0.8535 - val_weighted_acc: 0.8285 - lr: 5.0000e-04\n",
      "Epoch 23/30\n",
      "455/455 [==============================] - 66s 144ms/step - loss: 0.2902 - acc: 0.8749 - auc: 0.9489 - weighted_acc: 0.8708 - val_loss: 0.5179 - val_acc: 0.7571 - val_auc: 0.8627 - val_weighted_acc: 0.7571 - lr: 5.0000e-04\n",
      "Epoch 24/30\n",
      "455/455 [==============================] - 66s 146ms/step - loss: 0.2790 - acc: 0.8818 - auc: 0.9528 - weighted_acc: 0.8796 - val_loss: 0.4715 - val_acc: 0.7865 - val_auc: 0.8571 - val_weighted_acc: 0.7865 - lr: 5.0000e-04\n",
      "Epoch 25/30\n",
      "455/455 [==============================] - 66s 145ms/step - loss: 0.2782 - acc: 0.8843 - auc: 0.9526 - weighted_acc: 0.8794 - val_loss: 0.3665 - val_acc: 0.8604 - val_auc: 0.8542 - val_weighted_acc: 0.8604 - lr: 5.0000e-04\n",
      "Epoch 26/30\n",
      "455/455 [==============================] - 66s 144ms/step - loss: 0.2612 - acc: 0.8874 - auc: 0.9586 - weighted_acc: 0.8855 - val_loss: 0.4164 - val_acc: 0.8290 - val_auc: 0.8650 - val_weighted_acc: 0.8290 - lr: 5.0000e-04\n",
      "Epoch 27/30\n",
      "455/455 [==============================] - 66s 145ms/step - loss: 0.2506 - acc: 0.8931 - auc: 0.9621 - weighted_acc: 0.8924 - val_loss: 0.4573 - val_acc: 0.8211 - val_auc: 0.8441 - val_weighted_acc: 0.8211 - lr: 5.0000e-04\n",
      "Epoch 28/30\n",
      "455/455 [==============================] - 66s 144ms/step - loss: 0.2416 - acc: 0.8957 - auc: 0.9650 - weighted_acc: 0.8965 - val_loss: 0.3868 - val_acc: 0.8600 - val_auc: 0.8461 - val_weighted_acc: 0.8600 - lr: 5.0000e-04\n",
      "Epoch 29/30\n",
      "455/455 [==============================] - 66s 146ms/step - loss: 0.2358 - acc: 0.8977 - auc: 0.9665 - weighted_acc: 0.8983 - val_loss: 0.4767 - val_acc: 0.7985 - val_auc: 0.8628 - val_weighted_acc: 0.7985 - lr: 5.0000e-04\n",
      "Epoch 30/30\n",
      "455/455 [==============================] - 66s 145ms/step - loss: 0.2326 - acc: 0.8983 - auc: 0.9672 - weighted_acc: 0.9012 - val_loss: 0.4534 - val_acc: 0.8047 - val_auc: 0.8520 - val_weighted_acc: 0.8047 - lr: 5.0000e-04\n"
     ]
    }
   ],
   "source": [
    "\n",
    "epochs = 30\n",
    "batch_size = 32\n",
    "\n",
    "callbacks = [\n",
    "    tf.keras.callbacks.ModelCheckpoint(\n",
    "        \"best_model.h5\", save_best_only=True, monitor=\"val_loss\"\n",
    "    ),\n",
    "    tf.keras.callbacks.ReduceLROnPlateau(\n",
    "        monitor=\"val_loss\", factor=0.5, patience=10, min_lr=0.0001\n",
    "    ),\n",
    "    tf.keras.callbacks.EarlyStopping(monitor=\"val_loss\", patience=50, verbose=1),\n",
    "]\n",
    "\n",
    "\n",
    "model.compile(\n",
    "    optimizer=tf.keras.optimizers.Adam(learning_rate=0.001),\n",
    "    loss=\"binary_crossentropy\",\n",
    "    metrics=[\"acc\",tf.keras.metrics.AUC(name='auc')],\n",
    "    weighted_metrics = \"acc\",\n",
    "    #loss_weights=weights\n",
    ")\n",
    "\n",
    "\n",
    "history = model.fit(\n",
    "    X_train,\n",
    "    np.array(y_train),\n",
    "    batch_size=batch_size,\n",
    "    epochs=epochs,\n",
    "    callbacks=callbacks,\n",
    "    validation_data=(X_val,np.array(y_val)),\n",
    "    verbose=1,\n",
    "    class_weight = class_weights,\n",
    ")"
   ]
  },
  {
   "cell_type": "code",
   "execution_count": 32,
   "id": "e20d53bb",
   "metadata": {
    "ExecuteTime": {
     "end_time": "2023-04-28T19:37:10.225225Z",
     "start_time": "2023-04-28T19:37:09.972845Z"
    }
   },
   "outputs": [
    {
     "data": {
      "image/png": "[encoded data removed]",
      "text/plain": [
       "<Figure size 2000x300 with 2 Axes>"
      ]
     },
     "metadata": {},
     "output_type": "display_data"
    }
   ],
   "source": [
    "fig, ax = plt.subplots(1, 2, figsize=(20, 3))\n",
    "ax = ax.ravel()\n",
    "\n",
    "for i, met in enumerate(['acc', 'loss']):\n",
    "    ax[i].plot(history.history[met])\n",
    "    ax[i].plot(history.history['val_' + met])\n",
    "    ax[i].set_title('Model {}'.format(met))\n",
    "    ax[i].set_xlabel('epochs')\n",
    "    ax[i].set_ylabel(met)\n",
    "    ax[i].legend(['train', 'val'])"
   ]
  },
  {
   "cell_type": "code",
   "execution_count": 33,
   "id": "279aec22",
   "metadata": {},
   "outputs": [
    {
     "data": {
      "image/png": "[encoded data removed]",
      "text/plain": [
       "<Figure size 2000x300 with 2 Axes>"
      ]
     },
     "metadata": {},
     "output_type": "display_data"
    }
   ],
   "source": [
    "fig, ax = plt.subplots(1, 2, figsize=(20, 3))\n",
    "ax = ax.ravel()\n",
    "\n",
    "for i, met in enumerate(['auc', 'loss']):\n",
    "    ax[i].plot(history.history[met])\n",
    "    ax[i].plot(history.history['val_' + met])\n",
    "    ax[i].set_title('Model {}'.format(met))\n",
    "    ax[i].set_xlabel('epochs')\n",
    "    ax[i].set_ylabel(met)\n",
    "    ax[i].legend(['train', 'val'])"
   ]
  },
  {
   "cell_type": "code",
   "execution_count": 34,
   "id": "a78fd5e7",
   "metadata": {},
   "outputs": [
    {
     "name": "stdout",
     "output_type": "stream",
     "text": [
      "152/152 [==============================] - 4s 25ms/step - loss: 0.4745 - acc: 0.8037 - auc: 0.8413 - weighted_acc: 0.8037\n"
     ]
    },
    {
     "data": {
      "text/plain": [
       "[0.474519819021225, 0.8036595582962036, 0.8413102030754089, 0.8036595582962036]"
      ]
     },
     "execution_count": 34,
     "metadata": {},
     "output_type": "execute_result"
    }
   ],
   "source": [
    "model.evaluate(X_test, y_test) "
   ]
  },
  {
   "cell_type": "code",
   "execution_count": 35,
   "id": "fb250f77",
   "metadata": {
    "ExecuteTime": {
     "end_time": "2023-04-28T19:37:15.739469Z",
     "start_time": "2023-04-28T19:37:15.539050Z"
    },
    "colab": {
     "base_uri": "https://localhost:8080/"
    },
    "id": "NRjdR3E9M6bp",
    "outputId": "98b11c5c-2075-4da7-994b-8e29c8644a7c",
    "scrolled": true
   },
   "outputs": [
    {
     "name": "stdout",
     "output_type": "stream",
     "text": [
      "Test loss: 0.474519819021225\n",
      "Test accuracy score: 0.8036595582962036\n",
      "Test roc auc score: 0.8413102030754089\n",
      "Test weighted accuracy score: 0.8036595582962036\n"
     ]
    }
   ],
   "source": [
    "score = model.evaluate(X_test, y_test, verbose = 0) \n",
    "\n",
    "print('Test loss:', score[0]) \n",
    "print('Test accuracy score:', score[1])\n",
    "print('Test roc auc score:', score[2])\n",
    "print('Test weighted accuracy score:', score[3])"
   ]
  },
  {
   "cell_type": "code",
   "execution_count": 36,
   "id": "eb2ab815",
   "metadata": {
    "ExecuteTime": {
     "end_time": "2023-04-28T19:37:17.560656Z",
     "start_time": "2023-04-28T19:37:17.279104Z"
    },
    "colab": {
     "base_uri": "https://localhost:8080/"
    },
    "id": "PYQLQItpOKBp",
    "outputId": "617b07c3-a5a4-45db-cce1-e3aa4dc1a1af",
    "scrolled": true
   },
   "outputs": [
    {
     "name": "stdout",
     "output_type": "stream",
     "text": [
      "152/152 [==============================] - 4s 21ms/step\n",
      "[[0.27636114]\n",
      " [0.73140687]\n",
      " [0.4523267 ]\n",
      " ...\n",
      " [0.27359897]\n",
      " [0.16650832]\n",
      " [0.8800277 ]]\n"
     ]
    }
   ],
   "source": [
    "pred = model.predict(X_test)\n",
    "print(pred)"
   ]
  },
  {
   "cell_type": "code",
   "execution_count": 37,
   "id": "b28cbdb2",
   "metadata": {},
   "outputs": [],
   "source": [
    "importlib.reload(results_functions)\n",
    "from results_functions import *"
   ]
  },
  {
   "cell_type": "code",
   "execution_count": 38,
   "id": "6ca0eb6f",
   "metadata": {
    "ExecuteTime": {
     "end_time": "2023-04-28T19:37:18.942364Z",
     "start_time": "2023-04-28T19:37:18.903410Z"
    },
    "id": "Dh7gibaQiOsw"
   },
   "outputs": [],
   "source": [
    "list_patient_rows = list(df_test.groupby(['patient_id'])['patient_id'].count())"
   ]
  },
  {
   "cell_type": "code",
   "execution_count": 39,
   "id": "d087f498",
   "metadata": {
    "ExecuteTime": {
     "end_time": "2023-04-28T19:37:19.839449Z",
     "start_time": "2023-04-28T19:37:19.836902Z"
    },
    "id": "FBeasPNClnpb"
   },
   "outputs": [],
   "source": [
    "pred_groupby_patient = np.split(pred,cumulative(list_patient_rows))\n",
    "pred_groupby_patient = pred_groupby_patient[:-1]\n",
    "\n",
    "df_test = df_test.astype({'murmur':'int'})\n",
    "y_test_grouped = df_test[['patient_id','murmur']].drop_duplicates()['murmur'].to_list()"
   ]
  },
  {
   "cell_type": "code",
   "execution_count": 40,
   "id": "2d28d67a",
   "metadata": {
    "ExecuteTime": {
     "end_time": "2023-04-28T19:37:21.314585Z",
     "start_time": "2023-04-28T19:37:21.291913Z"
    },
    "id": "TYCSAcHFzHLy"
   },
   "outputs": [],
   "source": [
    "pred1 = mean_pred(pred_groupby_patient)\n",
    "pred2 = majority_pred(pred_groupby_patient)"
   ]
  },
  {
   "cell_type": "code",
   "execution_count": 41,
   "id": "8d0c063f",
   "metadata": {
    "ExecuteTime": {
     "end_time": "2023-04-28T19:29:59.110704Z",
     "start_time": "2023-04-28T19:29:58.979913Z"
    },
    "colab": {
     "base_uri": "https://localhost:8080/"
    },
    "id": "UoHq89-17e8x",
    "outputId": "de9a2982-fd6d-43c6-ee32-54ad1a9f6761",
    "scrolled": false
   },
   "outputs": [
    {
     "name": "stdout",
     "output_type": "stream",
     "text": [
      "[0, 0, 0, 0, 1, 0, 0, 1, 1, 1, 1, 0, 1, 0, 0, 1, 1, 0, 0, 0, 1, 0, 0, 0, 0, 0, 0, 0, 0, 1, 0, 0, 0, 0, 0, 0, 1, 0, 0, 0, 0, 0, 0, 0, 0, 0, 0, 1, 0, 0, 0, 0, 0, 0, 0, 0, 0, 0, 0, 0, 0, 0, 0, 0, 0, 1, 0, 0, 0, 0, 1, 0, 0, 0, 0, 0, 0, 1, 1, 0, 0, 0, 1, 1, 0, 0, 1, 1, 0, 1, 1, 0, 0, 0, 0, 0, 0, 1, 0, 0, 0, 0, 0, 0, 0, 1, 1, 0, 0, 1, 0, 1, 1, 0, 0, 1, 1, 1, 0, 1, 0, 0, 0, 0, 0, 0, 0, 0, 0, 1, 0, 0, 0, 0, 0, 0, 0, 0, 1, 1, 0, 0, 0, 0, 1, 0, 1, 1, 0, 0, 0, 0, 0, 0, 0, 1, 0, 1, 0, 0, 0, 1, 0, 0, 0, 0, 0, 0, 0, 1, 0, 0, 0, 0, 0]\n",
      "[0, 0, 0, 0, 1, 0, 0, 1, 1, 1, 1, 0, 1, 0, 0, 1, 1, 0, 0, 0, 1, 0, 0, 0, 0, 0, 0, 0, 0, 0, 0, 0, 0, 0, 0, 0, 1, 0, 0, 0, 0, 0, 0, 0, 0, 0, 0, 1, 0, 0, 0, 0, 0, 0, 0, 0, 0, 0, 0, 0, 0, 0, 0, 0, 0, 0, 0, 0, 0, 0, 1, 0, 0, 0, 0, 0, 0, 1, 1, 0, 0, 0, 1, 1, 0, 0, 1, 1, 0, 1, 1, 0, 0, 0, 0, 0, 0, 1, 0, 0, 0, 0, 0, 0, 0, 1, 1, 0, 0, 1, 0, 1, 1, 0, 0, 1, 1, 0, 0, 1, 0, 0, 0, 0, 0, 0, 0, 0, 0, 1, 0, 0, 0, 0, 0, 1, 0, 0, 1, 1, 0, 0, 0, 0, 1, 0, 1, 1, 0, 0, 0, 0, 0, 0, 0, 1, 0, 1, 0, 0, 0, 0, 0, 0, 0, 0, 0, 0, 0, 1, 0, 0, 0, 0, 0]\n",
      "[1, 0, 0, 1, 1, 0, 0, 1, 1, 1, 1, 0, 1, 0, 0, 0, 1, 0, 0, 0, 0, 0, 0, 0, 0, 0, 0, 0, 0, 0, 1, 0, 1, 1, 0, 0, 1, 0, 0, 0, 0, 0, 0, 0, 0, 0, 0, 1, 0, 0, 0, 0, 0, 0, 0, 1, 0, 0, 0, 0, 0, 0, 0, 0, 0, 0, 0, 0, 0, 0, 1, 0, 0, 0, 0, 0, 0, 1, 0, 0, 0, 0, 1, 1, 0, 0, 1, 1, 1, 1, 1, 0, 0, 0, 0, 0, 0, 1, 0, 0, 0, 0, 0, 0, 0, 1, 1, 0, 0, 1, 0, 1, 1, 0, 0, 1, 1, 0, 0, 1, 0, 0, 0, 0, 0, 0, 1, 0, 0, 0, 0, 0, 0, 0, 0, 0, 0, 0, 1, 1, 0, 0, 0, 0, 1, 0, 1, 0, 0, 0, 0, 0, 0, 0, 0, 1, 0, 1, 0, 0, 0, 0, 0, 0, 1, 0, 0, 0, 0, 1, 0, 0, 0, 0, 0]\n",
      "Accuracy score of mean_pred :  0.8971428571428571\n",
      "Accuracy score of majority_pred :  0.9142857142857143\n"
     ]
    }
   ],
   "source": [
    "print(pred1)\n",
    "print(pred2)\n",
    "print(y_test_grouped)\n",
    "print(\"Accuracy score of mean_pred : \",accuracy_score(pred1 , y_test_grouped))\n",
    "print(\"Accuracy score of majority_pred : \",accuracy_score(pred2 , y_test_grouped))"
   ]
  },
  {
   "cell_type": "code",
   "execution_count": 42,
   "id": "4245a532",
   "metadata": {},
   "outputs": [
    {
     "data": {
      "text/plain": [
       "<sklearn.metrics._plot.confusion_matrix.ConfusionMatrixDisplay at 0x7f17f96d01c0>"
      ]
     },
     "execution_count": 42,
     "metadata": {},
     "output_type": "execute_result"
    },
    {
     "data": {
      "image/png": "[encoded data removed]",
      "text/plain": [
       "<Figure size 640x480 with 2 Axes>"
      ]
     },
     "metadata": {},
     "output_type": "display_data"
    }
   ],
   "source": [
    "ConfusionMatrixDisplay.from_predictions(y_test_grouped, pred1,\n",
    "                                        cmap='Blues', normalize = None)"
   ]
  },
  {
   "cell_type": "code",
   "execution_count": 43,
   "id": "ad8da8cd",
   "metadata": {},
   "outputs": [
    {
     "data": {
      "text/plain": [
       "<sklearn.metrics._plot.confusion_matrix.ConfusionMatrixDisplay at 0x7f17f8abe680>"
      ]
     },
     "execution_count": 43,
     "metadata": {},
     "output_type": "execute_result"
    },
    {
     "data": {
      "image/png": "[encoded data removed]",
      "text/plain": [
       "<Figure size 640x480 with 2 Axes>"
      ]
     },
     "metadata": {},
     "output_type": "display_data"
    }
   ],
   "source": [
    "ConfusionMatrixDisplay.from_predictions(y_test_grouped, pred1,\n",
    "                                        cmap='Blues', normalize = 'true')"
   ]
  },
  {
   "cell_type": "code",
   "execution_count": null,
   "id": "dcfa3215",
   "metadata": {},
   "outputs": [],
   "source": []
  }
 ],
 "metadata": {
  "kernelspec": {
   "display_name": "Python 3 (ipykernel)",
   "language": "python",
   "name": "python3"
  },
  "language_info": {
   "codemirror_mode": {
    "name": "ipython",
    "version": 3
   },
   "file_extension": ".py",
   "mimetype": "text/x-python",
   "name": "python",
   "nbconvert_exporter": "python",
   "pygments_lexer": "ipython3",
   "version": "3.10.9"
  }
 },
 "nbformat": 4,
 "nbformat_minor": 5
}
