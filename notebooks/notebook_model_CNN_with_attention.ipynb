{
 "cells": [
  {
   "cell_type": "code",
   "execution_count": 1,
   "id": "eada695a",
   "metadata": {
    "ExecuteTime": {
     "end_time": "2023-06-22T20:27:28.338325Z",
     "start_time": "2023-06-22T20:27:28.325752Z"
    },
    "id": "QRGvE-Pt3x3c"
   },
   "outputs": [
    {
     "name": "stderr",
     "output_type": "stream",
     "text": [
      "2023-07-12 10:23:51.750426: I tensorflow/core/util/port.cc:110] oneDNN custom operations are on. You may see slightly different numerical results due to floating-point round-off errors from different computation orders. To turn them off, set the environment variable `TF_ENABLE_ONEDNN_OPTS=0`.\n",
      "2023-07-12 10:23:51.771111: I tensorflow/core/platform/cpu_feature_guard.cc:182] This TensorFlow binary is optimized to use available CPU instructions in performance-critical operations.\n",
      "To enable the following instructions: AVX2 AVX_VNNI FMA, in other operations, rebuild TensorFlow with the appropriate compiler flags.\n",
      "2023-07-12 10:23:52.114532: W tensorflow/compiler/tf2tensorrt/utils/py_utils.cc:38] TF-TRT Warning: Could not find TensorRT\n"
     ]
    },
    {
     "name": "stdout",
     "output_type": "stream",
     "text": [
      "Num GPUs Available:  1\n"
     ]
    },
    {
     "name": "stderr",
     "output_type": "stream",
     "text": [
      "2023-07-12 10:23:53.499811: I tensorflow/compiler/xla/stream_executor/cuda/cuda_gpu_executor.cc:995] successful NUMA node read from SysFS had negative value (-1), but there must be at least one NUMA node, so returning NUMA node zero. See more at https://github.com/torvalds/linux/blob/v6.0/Documentation/ABI/testing/sysfs-bus-pci#L344-L355\n",
      "2023-07-12 10:23:53.500286: I tensorflow/compiler/xla/stream_executor/cuda/cuda_gpu_executor.cc:995] successful NUMA node read from SysFS had negative value (-1), but there must be at least one NUMA node, so returning NUMA node zero. See more at https://github.com/torvalds/linux/blob/v6.0/Documentation/ABI/testing/sysfs-bus-pci#L344-L355\n",
      "2023-07-12 10:23:53.500340: I tensorflow/compiler/xla/stream_executor/cuda/cuda_gpu_executor.cc:995] successful NUMA node read from SysFS had negative value (-1), but there must be at least one NUMA node, so returning NUMA node zero. See more at https://github.com/torvalds/linux/blob/v6.0/Documentation/ABI/testing/sysfs-bus-pci#L344-L355\n"
     ]
    }
   ],
   "source": [
    "import sys\n",
    "import tensorflow as tf\n",
    "import matplotlib.pyplot as plt\n",
    "from sklearn import metrics\n",
    "from sklearn.impute import SimpleImputer\n",
    "from sklearn.metrics import accuracy_score\n",
    "import numpy as np, scipy as sp, scipy.stats, os, sys, joblib\n",
    "import os, numpy as np, scipy as sp, scipy.io, scipy.io.wavfile\n",
    "from sklearn.ensemble import RandomForestClassifier\n",
    "from sklearn.model_selection import train_test_split\n",
    "from sklearn.metrics import ConfusionMatrixDisplay\n",
    "from sklearn.metrics import balanced_accuracy_score\n",
    "from sklearn.utils import class_weight\n",
    "import random\n",
    "import pandas as pd\n",
    "import importlib\n",
    "import useful_functions\n",
    "import preprocessing_functions\n",
    "import Chatgpt_model\n",
    "import results_functions\n",
    "print(\"Num GPUs Available: \", len(tf.config.list_physical_devices('GPU')))"
   ]
  },
  {
   "cell_type": "code",
   "execution_count": 2,
   "id": "89021430",
   "metadata": {
    "ExecuteTime": {
     "end_time": "2023-06-22T20:28:02.185714Z",
     "start_time": "2023-06-22T20:28:02.152645Z"
    }
   },
   "outputs": [],
   "source": [
    "importlib.reload(useful_functions)\n",
    "importlib.reload(preprocessing_functions)\n",
    "importlib.reload(Chatgpt_model)\n",
    "from useful_functions import *\n",
    "from preprocessing_functions import *\n",
    "from Chatgpt_model import *"
   ]
  },
  {
   "cell_type": "code",
   "execution_count": 3,
   "id": "a411c3a7",
   "metadata": {},
   "outputs": [],
   "source": [
    " # Define the data and model foldes.\n",
    "data_folder = r\"../training_data\"\n",
    "model_folder = r\"../model\"\n",
    "wind_size = 6000\n",
    "verbose = 3"
   ]
  },
  {
   "cell_type": "code",
   "execution_count": 4,
   "id": "c8b4da30",
   "metadata": {},
   "outputs": [
    {
     "data": {
      "text/html": [
       "<div>\n",
       "<style scoped>\n",
       "    .dataframe tbody tr th:only-of-type {\n",
       "        vertical-align: middle;\n",
       "    }\n",
       "\n",
       "    .dataframe tbody tr th {\n",
       "        vertical-align: top;\n",
       "    }\n",
       "\n",
       "    .dataframe thead th {\n",
       "        text-align: right;\n",
       "    }\n",
       "</style>\n",
       "<table border=\"1\" class=\"dataframe\">\n",
       "  <thead>\n",
       "    <tr style=\"text-align: right;\">\n",
       "      <th></th>\n",
       "      <th>patient_id</th>\n",
       "      <th>recording_type</th>\n",
       "      <th>recording</th>\n",
       "      <th>murmur</th>\n",
       "    </tr>\n",
       "  </thead>\n",
       "  <tbody>\n",
       "    <tr>\n",
       "      <th>0</th>\n",
       "      <td>2530.0</td>\n",
       "      <td>1.0</td>\n",
       "      <td>[254.62053374948147, 332.41397606699405, -727....</td>\n",
       "      <td>0.0</td>\n",
       "    </tr>\n",
       "    <tr>\n",
       "      <th>1</th>\n",
       "      <td>2530.0</td>\n",
       "      <td>1.0</td>\n",
       "      <td>[20.550841480663475, -18.884669077279337, 152....</td>\n",
       "      <td>0.0</td>\n",
       "    </tr>\n",
       "    <tr>\n",
       "      <th>2</th>\n",
       "      <td>2530.0</td>\n",
       "      <td>1.0</td>\n",
       "      <td>[2296.0082592261, 1161.8953810714854, 106.9764...</td>\n",
       "      <td>0.0</td>\n",
       "    </tr>\n",
       "    <tr>\n",
       "      <th>3</th>\n",
       "      <td>2530.0</td>\n",
       "      <td>1.0</td>\n",
       "      <td>[-1.2132347511973676, -24.042684343382245, -14...</td>\n",
       "      <td>0.0</td>\n",
       "    </tr>\n",
       "    <tr>\n",
       "      <th>4</th>\n",
       "      <td>2530.0</td>\n",
       "      <td>1.0</td>\n",
       "      <td>[219.40892010033423, 106.21377642082071, 296.9...</td>\n",
       "      <td>0.0</td>\n",
       "    </tr>\n",
       "  </tbody>\n",
       "</table>\n",
       "</div>"
      ],
      "text/plain": [
       "   patient_id  recording_type  \\\n",
       "0      2530.0             1.0   \n",
       "1      2530.0             1.0   \n",
       "2      2530.0             1.0   \n",
       "3      2530.0             1.0   \n",
       "4      2530.0             1.0   \n",
       "\n",
       "                                           recording  murmur  \n",
       "0  [254.62053374948147, 332.41397606699405, -727....     0.0  \n",
       "1  [20.550841480663475, -18.884669077279337, 152....     0.0  \n",
       "2  [2296.0082592261, 1161.8953810714854, 106.9764...     0.0  \n",
       "3  [-1.2132347511973676, -24.042684343382245, -14...     0.0  \n",
       "4  [219.40892010033423, 106.21377642082071, 296.9...     0.0  "
      ]
     },
     "execution_count": 4,
     "metadata": {},
     "output_type": "execute_result"
    }
   ],
   "source": [
    "recordings,patient_label,patient_id = create_rec_patient_list(data_folder)\n",
    "df = build_dataset_df(recordings,patient_id,patient_label,wind_size)\n",
    "df.head()"
   ]
  },
  {
   "cell_type": "code",
   "execution_count": 5,
   "id": "8c066276",
   "metadata": {
    "ExecuteTime": {
     "end_time": "2023-04-28T19:30:19.950046Z",
     "start_time": "2023-04-28T19:30:19.849971Z"
    },
    "id": "P9HTtXrm78dV"
   },
   "outputs": [],
   "source": [
    "# check correctness of dataframe loaded\n",
    "for i in range(df.shape[0]):\n",
    "  if len(df[\"recording\"][i]) != wind_size:\n",
    "    print(\"problem sir\")"
   ]
  },
  {
   "cell_type": "code",
   "execution_count": 6,
   "id": "704c5b24",
   "metadata": {
    "ExecuteTime": {
     "end_time": "2023-04-28T19:30:20.212107Z",
     "start_time": "2023-04-28T19:30:20.210980Z"
    },
    "id": "fElXRT5T4a36"
   },
   "outputs": [],
   "source": [
    "# select only two columns\n",
    "new_df = df[['patient_id', 'murmur']]\n",
    "new_df = new_df.drop_duplicates()\n",
    "new_df = new_df.reset_index(drop=True)"
   ]
  },
  {
   "cell_type": "code",
   "execution_count": 7,
   "id": "cf46440a",
   "metadata": {
    "ExecuteTime": {
     "end_time": "2023-04-28T19:30:20.478399Z",
     "start_time": "2023-04-28T19:30:20.402161Z"
    },
    "colab": {
     "base_uri": "https://localhost:8080/"
    },
    "id": "6T9wZX1WyE83",
    "outputId": "d3fbb777-7c62-410b-fc50-0621a5692645"
   },
   "outputs": [
    {
     "name": "stdout",
     "output_type": "stream",
     "text": [
      "179\n",
      "695\n"
     ]
    }
   ],
   "source": [
    "# check murmur/non-murmur balance\n",
    "nb_murmur_present = (new_df.loc[new_df['murmur'] == 1]).shape[0]\n",
    "nb_murmur_absent = (new_df.loc[new_df['murmur'] == 0]).shape[0]\n",
    "print(nb_murmur_present)\n",
    "print(nb_murmur_absent)"
   ]
  },
  {
   "cell_type": "code",
   "execution_count": 8,
   "id": "af1d9aaa",
   "metadata": {
    "ExecuteTime": {
     "end_time": "2023-04-28T19:30:20.729364Z",
     "start_time": "2023-04-28T19:30:20.665901Z"
    },
    "colab": {
     "base_uri": "https://localhost:8080/",
     "height": 424
    },
    "id": "mzg9rqHzxyal",
    "outputId": "b703a36e-c0e1-42f6-bf19-54cf7bd0851e"
   },
   "outputs": [
    {
     "data": {
      "text/html": [
       "<div>\n",
       "<style scoped>\n",
       "    .dataframe tbody tr th:only-of-type {\n",
       "        vertical-align: middle;\n",
       "    }\n",
       "\n",
       "    .dataframe tbody tr th {\n",
       "        vertical-align: top;\n",
       "    }\n",
       "\n",
       "    .dataframe thead th {\n",
       "        text-align: right;\n",
       "    }\n",
       "</style>\n",
       "<table border=\"1\" class=\"dataframe\">\n",
       "  <thead>\n",
       "    <tr style=\"text-align: right;\">\n",
       "      <th></th>\n",
       "      <th>patient_id</th>\n",
       "      <th>murmur</th>\n",
       "    </tr>\n",
       "  </thead>\n",
       "  <tbody>\n",
       "    <tr>\n",
       "      <th>0</th>\n",
       "      <td>2530.0</td>\n",
       "      <td>0.0</td>\n",
       "    </tr>\n",
       "    <tr>\n",
       "      <th>1</th>\n",
       "      <td>9979.0</td>\n",
       "      <td>1.0</td>\n",
       "    </tr>\n",
       "    <tr>\n",
       "      <th>2</th>\n",
       "      <td>13918.0</td>\n",
       "      <td>1.0</td>\n",
       "    </tr>\n",
       "    <tr>\n",
       "      <th>3</th>\n",
       "      <td>14241.0</td>\n",
       "      <td>1.0</td>\n",
       "    </tr>\n",
       "    <tr>\n",
       "      <th>4</th>\n",
       "      <td>14998.0</td>\n",
       "      <td>0.0</td>\n",
       "    </tr>\n",
       "    <tr>\n",
       "      <th>...</th>\n",
       "      <td>...</td>\n",
       "      <td>...</td>\n",
       "    </tr>\n",
       "    <tr>\n",
       "      <th>869</th>\n",
       "      <td>85340.0</td>\n",
       "      <td>0.0</td>\n",
       "    </tr>\n",
       "    <tr>\n",
       "      <th>870</th>\n",
       "      <td>85341.0</td>\n",
       "      <td>0.0</td>\n",
       "    </tr>\n",
       "    <tr>\n",
       "      <th>871</th>\n",
       "      <td>85343.0</td>\n",
       "      <td>1.0</td>\n",
       "    </tr>\n",
       "    <tr>\n",
       "      <th>872</th>\n",
       "      <td>85345.0</td>\n",
       "      <td>0.0</td>\n",
       "    </tr>\n",
       "    <tr>\n",
       "      <th>873</th>\n",
       "      <td>85349.0</td>\n",
       "      <td>0.0</td>\n",
       "    </tr>\n",
       "  </tbody>\n",
       "</table>\n",
       "<p>874 rows × 2 columns</p>\n",
       "</div>"
      ],
      "text/plain": [
       "     patient_id  murmur\n",
       "0        2530.0     0.0\n",
       "1        9979.0     1.0\n",
       "2       13918.0     1.0\n",
       "3       14241.0     1.0\n",
       "4       14998.0     0.0\n",
       "..          ...     ...\n",
       "869     85340.0     0.0\n",
       "870     85341.0     0.0\n",
       "871     85343.0     1.0\n",
       "872     85345.0     0.0\n",
       "873     85349.0     0.0\n",
       "\n",
       "[874 rows x 2 columns]"
      ]
     },
     "execution_count": 8,
     "metadata": {},
     "output_type": "execute_result"
    }
   ],
   "source": [
    "# display\n",
    "new_df"
   ]
  },
  {
   "cell_type": "code",
   "execution_count": 9,
   "id": "52368980",
   "metadata": {
    "ExecuteTime": {
     "end_time": "2023-04-28T19:30:20.900406Z",
     "start_time": "2023-04-28T19:30:20.872700Z"
    },
    "id": "Un2S1LxU675v"
   },
   "outputs": [],
   "source": [
    "# complete list of distinct patient id's and corresponding label\n",
    "list_id = new_df['patient_id']\n",
    "list_label = new_df['murmur']"
   ]
  },
  {
   "cell_type": "code",
   "execution_count": 10,
   "id": "814df570",
   "metadata": {
    "ExecuteTime": {
     "end_time": "2023-04-28T19:30:22.427855Z",
     "start_time": "2023-04-28T19:30:22.330256Z"
    },
    "id": "uR6aqz5g9oOj"
   },
   "outputs": [],
   "source": [
    "id_train, id_valtest, label_train, label_valtest = train_test_split(list_id, list_label , test_size=0.4, random_state=42)\n",
    "id_val, id_test, label_val, label_test = train_test_split(id_valtest, label_valtest , test_size=0.5, random_state=42)"
   ]
  },
  {
   "cell_type": "code",
   "execution_count": 11,
   "id": "7f3253d4",
   "metadata": {
    "ExecuteTime": {
     "end_time": "2023-04-28T19:30:22.805600Z",
     "start_time": "2023-04-28T19:30:22.633347Z"
    },
    "id": "BlEJD1ce4H1O"
   },
   "outputs": [],
   "source": [
    "def select_rows(id_list,dframe):\n",
    "  #for id in list_id:\n",
    "  sub_df = dframe.loc[dframe['patient_id'].isin([int(id) for id in id_list])]\n",
    "  return sub_df\n",
    "\n",
    "df_train = select_rows(id_train,df)\n",
    "df_val = select_rows(id_val,df)\n",
    "df_test = select_rows(id_test,df)"
   ]
  },
  {
   "cell_type": "code",
   "execution_count": 12,
   "id": "65d7faab",
   "metadata": {
    "ExecuteTime": {
     "end_time": "2023-04-28T19:30:23.019154Z",
     "start_time": "2023-04-28T19:30:22.890730Z"
    },
    "colab": {
     "base_uri": "https://localhost:8080/"
    },
    "id": "E2w-MxY1_ClQ",
    "outputId": "d8b06ceb-2d69-4941-a7dd-cb34b1591e7f"
   },
   "outputs": [
    {
     "name": "stdout",
     "output_type": "stream",
     "text": [
      "Number of Murmur present :  2697\n",
      "Number of Murmur absent :  11832\n"
     ]
    }
   ],
   "source": [
    "print(\"Number of Murmur present : \",(df_train.loc[df_train['murmur'] == 1]).shape[0])\n",
    "print(\"Number of Murmur absent : \",(df_train.loc[df_train['murmur'] == 0]).shape[0])"
   ]
  },
  {
   "cell_type": "code",
   "execution_count": 13,
   "id": "fa107a23",
   "metadata": {
    "ExecuteTime": {
     "end_time": "2023-04-28T19:30:23.135492Z",
     "start_time": "2023-04-28T19:30:23.031706Z"
    },
    "id": "jfbOL3Un_ESV"
   },
   "outputs": [],
   "source": [
    "X_train = np.vstack(df_train['recording'])\n",
    "y_train = np.array(df_train['murmur'])\n",
    "\n",
    "X_val = np.vstack(df_val['recording'])\n",
    "y_val = np.array(df_val['murmur'])\n",
    "\n",
    "X_test = np.vstack(df_test['recording'])\n",
    "y_test = np.array(df_test['murmur'])"
   ]
  },
  {
   "cell_type": "code",
   "execution_count": 14,
   "id": "29aaaf54",
   "metadata": {
    "ExecuteTime": {
     "end_time": "2023-04-28T19:30:23.394668Z",
     "start_time": "2023-04-28T19:30:23.343654Z"
    },
    "id": "YAlU7MUoCi6r"
   },
   "outputs": [],
   "source": [
    "X_train = X_train.reshape(len(X_train),len(X_train[1]),1)\n",
    "X_val = X_val.reshape(len(X_val),len(X_val[1]),1)\n",
    "X_test = X_test.reshape(len(X_test),len(X_test[1]),1)"
   ]
  },
  {
   "cell_type": "code",
   "execution_count": 15,
   "id": "751d25ab",
   "metadata": {
    "ExecuteTime": {
     "end_time": "2023-04-28T19:30:23.566721Z",
     "start_time": "2023-04-28T19:30:23.565669Z"
    }
   },
   "outputs": [
    {
     "data": {
      "text/plain": [
       "(14529, 6000, 1)"
      ]
     },
     "execution_count": 15,
     "metadata": {},
     "output_type": "execute_result"
    }
   ],
   "source": [
    "X_train.shape"
   ]
  },
  {
   "cell_type": "code",
   "execution_count": 147,
   "id": "fd4719ea",
   "metadata": {
    "ExecuteTime": {
     "end_time": "2023-04-28T19:30:23.833671Z",
     "start_time": "2023-04-28T19:30:23.810191Z"
    }
   },
   "outputs": [],
   "source": [
    "importlib.reload(Chatgpt_model)\n",
    "from Chatgpt_model import *\n",
    "model = create_small_model(input_shape=X_train.shape[1:])\n",
    "\n",
    "\n",
    "#model = make_model(input_shape=X_train.shape[1:])"
   ]
  },
  {
   "cell_type": "code",
   "execution_count": 148,
   "id": "847851a7",
   "metadata": {
    "ExecuteTime": {
     "end_time": "2023-04-28T19:30:24.050572Z",
     "start_time": "2023-04-28T19:30:24.031597Z"
    },
    "colab": {
     "base_uri": "https://localhost:8080/"
    },
    "id": "f_gayKfl_qdh",
    "outputId": "cbb9656e-720f-4852-ab80-34cda175fbff",
    "scrolled": true
   },
   "outputs": [
    {
     "name": "stdout",
     "output_type": "stream",
     "text": [
      "Model: \"model_8\"\n",
      "__________________________________________________________________________________________________\n",
      " Layer (type)                Output Shape                 Param #   Connected to                  \n",
      "==================================================================================================\n",
      " input_9 (InputLayer)        [(None, 6000, 1)]            0         []                            \n",
      "                                                                                                  \n",
      " conv1d_504 (Conv1D)         (None, 3000, 12)             96        ['input_9[0][0]']             \n",
      "                                                                                                  \n",
      " max_pooling1d_8 (MaxPoolin  (None, 1500, 12)             0         ['conv1d_504[0][0]']          \n",
      " g1D)                                                                                             \n",
      "                                                                                                  \n",
      " batch_normalization_748 (B  (None, 1500, 12)             48        ['max_pooling1d_8[0][0]']     \n",
      " atchNormalization)                                                                               \n",
      "                                                                                                  \n",
      " conv1d_505 (Conv1D)         (None, 1500, 72)             936       ['batch_normalization_748[0][0\n",
      "                                                                    ]']                           \n",
      "                                                                                                  \n",
      " batch_normalization_749 (B  (None, 1500, 72)             288       ['conv1d_505[0][0]']          \n",
      " atchNormalization)                                                                               \n",
      "                                                                                                  \n",
      " re_lu_512 (ReLU)            (None, 1500, 72)             0         ['batch_normalization_749[0][0\n",
      "                                                                    ]']                           \n",
      "                                                                                                  \n",
      " depthwise_conv1d_240 (Dept  (None, 1500, 72)             288       ['re_lu_512[0][0]']           \n",
      " hwiseConv1D)                                                                                     \n",
      "                                                                                                  \n",
      " batch_normalization_750 (B  (None, 1500, 72)             288       ['depthwise_conv1d_240[0][0]']\n",
      " atchNormalization)                                                                               \n",
      "                                                                                                  \n",
      " re_lu_513 (ReLU)            (None, 1500, 72)             0         ['batch_normalization_750[0][0\n",
      "                                                                    ]']                           \n",
      "                                                                                                  \n",
      " conv1d_506 (Conv1D)         (None, 1500, 12)             876       ['re_lu_513[0][0]']           \n",
      "                                                                                                  \n",
      " concatenate_256 (Concatena  (None, 1500, 24)             0         ['max_pooling1d_8[0][0]',     \n",
      " te)                                                                 'conv1d_506[0][0]']          \n",
      "                                                                                                  \n",
      " batch_normalization_751 (B  (None, 1500, 24)             96        ['concatenate_256[0][0]']     \n",
      " atchNormalization)                                                                               \n",
      "                                                                                                  \n",
      " conv1d_507 (Conv1D)         (None, 1500, 144)            3600      ['batch_normalization_751[0][0\n",
      "                                                                    ]']                           \n",
      "                                                                                                  \n",
      " batch_normalization_752 (B  (None, 1500, 144)            576       ['conv1d_507[0][0]']          \n",
      " atchNormalization)                                                                               \n",
      "                                                                                                  \n",
      " re_lu_514 (ReLU)            (None, 1500, 144)            0         ['batch_normalization_752[0][0\n",
      "                                                                    ]']                           \n",
      "                                                                                                  \n",
      " depthwise_conv1d_241 (Dept  (None, 1500, 144)            576       ['re_lu_514[0][0]']           \n",
      " hwiseConv1D)                                                                                     \n",
      "                                                                                                  \n",
      " batch_normalization_753 (B  (None, 1500, 144)            576       ['depthwise_conv1d_241[0][0]']\n",
      " atchNormalization)                                                                               \n",
      "                                                                                                  \n",
      " re_lu_515 (ReLU)            (None, 1500, 144)            0         ['batch_normalization_753[0][0\n",
      "                                                                    ]']                           \n",
      "                                                                                                  \n",
      " conv1d_508 (Conv1D)         (None, 1500, 12)             1740      ['re_lu_515[0][0]']           \n",
      "                                                                                                  \n",
      " concatenate_257 (Concatena  (None, 1500, 36)             0         ['max_pooling1d_8[0][0]',     \n",
      " te)                                                                 'conv1d_506[0][0]',          \n",
      "                                                                     'conv1d_508[0][0]']          \n",
      "                                                                                                  \n",
      " batch_normalization_754 (B  (None, 1500, 36)             144       ['concatenate_257[0][0]']     \n",
      " atchNormalization)                                                                               \n",
      "                                                                                                  \n",
      " conv1d_509 (Conv1D)         (None, 1500, 216)            7992      ['batch_normalization_754[0][0\n",
      "                                                                    ]']                           \n",
      "                                                                                                  \n",
      " batch_normalization_755 (B  (None, 1500, 216)            864       ['conv1d_509[0][0]']          \n",
      " atchNormalization)                                                                               \n",
      "                                                                                                  \n",
      " re_lu_516 (ReLU)            (None, 1500, 216)            0         ['batch_normalization_755[0][0\n",
      "                                                                    ]']                           \n",
      "                                                                                                  \n",
      " depthwise_conv1d_242 (Dept  (None, 1500, 216)            864       ['re_lu_516[0][0]']           \n",
      " hwiseConv1D)                                                                                     \n",
      "                                                                                                  \n",
      " batch_normalization_756 (B  (None, 1500, 216)            864       ['depthwise_conv1d_242[0][0]']\n",
      " atchNormalization)                                                                               \n",
      "                                                                                                  \n",
      " re_lu_517 (ReLU)            (None, 1500, 216)            0         ['batch_normalization_756[0][0\n",
      "                                                                    ]']                           \n"
     ]
    },
    {
     "name": "stdout",
     "output_type": "stream",
     "text": [
      "                                                                                                  \n",
      " conv1d_510 (Conv1D)         (None, 1500, 12)             2604      ['re_lu_517[0][0]']           \n",
      "                                                                                                  \n",
      " concatenate_258 (Concatena  (None, 1500, 48)             0         ['max_pooling1d_8[0][0]',     \n",
      " te)                                                                 'conv1d_506[0][0]',          \n",
      "                                                                     'conv1d_508[0][0]',          \n",
      "                                                                     'conv1d_510[0][0]']          \n",
      "                                                                                                  \n",
      " batch_normalization_757 (B  (None, 1500, 48)             192       ['concatenate_258[0][0]']     \n",
      " atchNormalization)                                                                               \n",
      "                                                                                                  \n",
      " conv1d_511 (Conv1D)         (None, 1500, 288)            14112     ['batch_normalization_757[0][0\n",
      "                                                                    ]']                           \n",
      "                                                                                                  \n",
      " batch_normalization_758 (B  (None, 1500, 288)            1152      ['conv1d_511[0][0]']          \n",
      " atchNormalization)                                                                               \n",
      "                                                                                                  \n",
      " re_lu_518 (ReLU)            (None, 1500, 288)            0         ['batch_normalization_758[0][0\n",
      "                                                                    ]']                           \n",
      "                                                                                                  \n",
      " depthwise_conv1d_243 (Dept  (None, 1500, 288)            1152      ['re_lu_518[0][0]']           \n",
      " hwiseConv1D)                                                                                     \n",
      "                                                                                                  \n",
      " batch_normalization_759 (B  (None, 1500, 288)            1152      ['depthwise_conv1d_243[0][0]']\n",
      " atchNormalization)                                                                               \n",
      "                                                                                                  \n",
      " re_lu_519 (ReLU)            (None, 1500, 288)            0         ['batch_normalization_759[0][0\n",
      "                                                                    ]']                           \n",
      "                                                                                                  \n",
      " conv1d_512 (Conv1D)         (None, 1500, 12)             3468      ['re_lu_519[0][0]']           \n",
      "                                                                                                  \n",
      " concatenate_259 (Concatena  (None, 1500, 60)             0         ['max_pooling1d_8[0][0]',     \n",
      " te)                                                                 'conv1d_506[0][0]',          \n",
      "                                                                     'conv1d_508[0][0]',          \n",
      "                                                                     'conv1d_510[0][0]',          \n",
      "                                                                     'conv1d_512[0][0]']          \n",
      "                                                                                                  \n",
      " batch_normalization_760 (B  (None, 1500, 60)             240       ['concatenate_259[0][0]']     \n",
      " atchNormalization)                                                                               \n",
      "                                                                                                  \n",
      " conv1d_513 (Conv1D)         (None, 1500, 360)            21960     ['batch_normalization_760[0][0\n",
      "                                                                    ]']                           \n",
      "                                                                                                  \n",
      " batch_normalization_761 (B  (None, 1500, 360)            1440      ['conv1d_513[0][0]']          \n",
      " atchNormalization)                                                                               \n",
      "                                                                                                  \n",
      " re_lu_520 (ReLU)            (None, 1500, 360)            0         ['batch_normalization_761[0][0\n",
      "                                                                    ]']                           \n",
      "                                                                                                  \n",
      " depthwise_conv1d_244 (Dept  (None, 1500, 360)            1440      ['re_lu_520[0][0]']           \n",
      " hwiseConv1D)                                                                                     \n",
      "                                                                                                  \n",
      " batch_normalization_762 (B  (None, 1500, 360)            1440      ['depthwise_conv1d_244[0][0]']\n",
      " atchNormalization)                                                                               \n",
      "                                                                                                  \n",
      " re_lu_521 (ReLU)            (None, 1500, 360)            0         ['batch_normalization_762[0][0\n",
      "                                                                    ]']                           \n",
      "                                                                                                  \n",
      " conv1d_514 (Conv1D)         (None, 1500, 12)             4332      ['re_lu_521[0][0]']           \n",
      "                                                                                                  \n",
      " concatenate_260 (Concatena  (None, 1500, 36)             0         ['conv1d_510[0][0]',          \n",
      " te)                                                                 'conv1d_512[0][0]',          \n",
      "                                                                     'conv1d_514[0][0]']          \n",
      "                                                                                                  \n",
      " batch_normalization_763 (B  (None, 1500, 36)             144       ['concatenate_260[0][0]']     \n",
      " atchNormalization)                                                                               \n",
      "                                                                                                  \n",
      " conv1d_515 (Conv1D)         (None, 1500, 216)            7992      ['batch_normalization_763[0][0\n",
      "                                                                    ]']                           \n",
      "                                                                                                  \n",
      " batch_normalization_764 (B  (None, 1500, 216)            864       ['conv1d_515[0][0]']          \n",
      " atchNormalization)                                                                               \n",
      "                                                                                                  \n",
      " re_lu_522 (ReLU)            (None, 1500, 216)            0         ['batch_normalization_764[0][0\n",
      "                                                                    ]']                           \n",
      "                                                                                                  \n",
      " depthwise_conv1d_245 (Dept  (None, 1500, 216)            864       ['re_lu_522[0][0]']           \n",
      " hwiseConv1D)                                                                                     \n",
      "                                                                                                  \n",
      " batch_normalization_765 (B  (None, 1500, 216)            864       ['depthwise_conv1d_245[0][0]']\n",
      " atchNormalization)                                                                               \n",
      "                                                                                                  \n",
      " re_lu_523 (ReLU)            (None, 1500, 216)            0         ['batch_normalization_765[0][0\n"
     ]
    },
    {
     "name": "stdout",
     "output_type": "stream",
     "text": [
      "                                                                    ]']                           \n",
      "                                                                                                  \n",
      " conv1d_516 (Conv1D)         (None, 1500, 12)             2604      ['re_lu_523[0][0]']           \n",
      "                                                                                                  \n",
      " concatenate_261 (Concatena  (None, 1500, 36)             0         ['conv1d_512[0][0]',          \n",
      " te)                                                                 'conv1d_514[0][0]',          \n",
      "                                                                     'conv1d_516[0][0]']          \n",
      "                                                                                                  \n",
      " batch_normalization_766 (B  (None, 1500, 36)             144       ['concatenate_261[0][0]']     \n",
      " atchNormalization)                                                                               \n",
      "                                                                                                  \n",
      " conv1d_517 (Conv1D)         (None, 1500, 216)            7992      ['batch_normalization_766[0][0\n",
      "                                                                    ]']                           \n",
      "                                                                                                  \n",
      " batch_normalization_767 (B  (None, 1500, 216)            864       ['conv1d_517[0][0]']          \n",
      " atchNormalization)                                                                               \n",
      "                                                                                                  \n",
      " re_lu_524 (ReLU)            (None, 1500, 216)            0         ['batch_normalization_767[0][0\n",
      "                                                                    ]']                           \n",
      "                                                                                                  \n",
      " depthwise_conv1d_246 (Dept  (None, 1500, 216)            864       ['re_lu_524[0][0]']           \n",
      " hwiseConv1D)                                                                                     \n",
      "                                                                                                  \n",
      " batch_normalization_768 (B  (None, 1500, 216)            864       ['depthwise_conv1d_246[0][0]']\n",
      " atchNormalization)                                                                               \n",
      "                                                                                                  \n",
      " re_lu_525 (ReLU)            (None, 1500, 216)            0         ['batch_normalization_768[0][0\n",
      "                                                                    ]']                           \n",
      "                                                                                                  \n",
      " conv1d_518 (Conv1D)         (None, 1500, 12)             2604      ['re_lu_525[0][0]']           \n",
      "                                                                                                  \n",
      " concatenate_262 (Concatena  (None, 1500, 36)             0         ['conv1d_514[0][0]',          \n",
      " te)                                                                 'conv1d_516[0][0]',          \n",
      "                                                                     'conv1d_518[0][0]']          \n",
      "                                                                                                  \n",
      " batch_normalization_769 (B  (None, 1500, 36)             144       ['concatenate_262[0][0]']     \n",
      " atchNormalization)                                                                               \n",
      "                                                                                                  \n",
      " conv1d_519 (Conv1D)         (None, 1500, 216)            7992      ['batch_normalization_769[0][0\n",
      "                                                                    ]']                           \n",
      "                                                                                                  \n",
      " batch_normalization_770 (B  (None, 1500, 216)            864       ['conv1d_519[0][0]']          \n",
      " atchNormalization)                                                                               \n",
      "                                                                                                  \n",
      " re_lu_526 (ReLU)            (None, 1500, 216)            0         ['batch_normalization_770[0][0\n",
      "                                                                    ]']                           \n",
      "                                                                                                  \n",
      " depthwise_conv1d_247 (Dept  (None, 1500, 216)            864       ['re_lu_526[0][0]']           \n",
      " hwiseConv1D)                                                                                     \n",
      "                                                                                                  \n",
      " batch_normalization_771 (B  (None, 1500, 216)            864       ['depthwise_conv1d_247[0][0]']\n",
      " atchNormalization)                                                                               \n",
      "                                                                                                  \n",
      " re_lu_527 (ReLU)            (None, 1500, 216)            0         ['batch_normalization_771[0][0\n",
      "                                                                    ]']                           \n",
      "                                                                                                  \n",
      " conv1d_520 (Conv1D)         (None, 1500, 12)             2604      ['re_lu_527[0][0]']           \n",
      "                                                                                                  \n",
      " concatenate_263 (Concatena  (None, 1500, 36)             0         ['conv1d_516[0][0]',          \n",
      " te)                                                                 'conv1d_518[0][0]',          \n",
      "                                                                     'conv1d_520[0][0]']          \n",
      "                                                                                                  \n",
      " batch_normalization_772 (B  (None, 1500, 36)             144       ['concatenate_263[0][0]']     \n",
      " atchNormalization)                                                                               \n",
      "                                                                                                  \n",
      " conv1d_521 (Conv1D)         (None, 1500, 216)            7992      ['batch_normalization_772[0][0\n",
      "                                                                    ]']                           \n",
      "                                                                                                  \n",
      " batch_normalization_773 (B  (None, 1500, 216)            864       ['conv1d_521[0][0]']          \n",
      " atchNormalization)                                                                               \n",
      "                                                                                                  \n",
      " re_lu_528 (ReLU)            (None, 1500, 216)            0         ['batch_normalization_773[0][0\n",
      "                                                                    ]']                           \n",
      "                                                                                                  \n",
      " depthwise_conv1d_248 (Dept  (None, 1500, 216)            864       ['re_lu_528[0][0]']           \n",
      " hwiseConv1D)                                                                                     \n",
      "                                                                                                  \n",
      " batch_normalization_774 (B  (None, 1500, 216)            864       ['depthwise_conv1d_248[0][0]']\n",
      " atchNormalization)                                                                               \n",
      "                                                                                                  \n",
      " re_lu_529 (ReLU)            (None, 1500, 216)            0         ['batch_normalization_774[0][0\n",
      "                                                                    ]']                           \n",
      "                                                                                                  \n"
     ]
    },
    {
     "name": "stdout",
     "output_type": "stream",
     "text": [
      " conv1d_522 (Conv1D)         (None, 1500, 12)             2604      ['re_lu_529[0][0]']           \n",
      "                                                                                                  \n",
      " concatenate_264 (Concatena  (None, 1500, 36)             0         ['conv1d_518[0][0]',          \n",
      " te)                                                                 'conv1d_520[0][0]',          \n",
      "                                                                     'conv1d_522[0][0]']          \n",
      "                                                                                                  \n",
      " batch_normalization_775 (B  (None, 1500, 36)             144       ['concatenate_264[0][0]']     \n",
      " atchNormalization)                                                                               \n",
      "                                                                                                  \n",
      " conv1d_523 (Conv1D)         (None, 1500, 216)            7992      ['batch_normalization_775[0][0\n",
      "                                                                    ]']                           \n",
      "                                                                                                  \n",
      " batch_normalization_776 (B  (None, 1500, 216)            864       ['conv1d_523[0][0]']          \n",
      " atchNormalization)                                                                               \n",
      "                                                                                                  \n",
      " re_lu_530 (ReLU)            (None, 1500, 216)            0         ['batch_normalization_776[0][0\n",
      "                                                                    ]']                           \n",
      "                                                                                                  \n",
      " depthwise_conv1d_249 (Dept  (None, 1500, 216)            864       ['re_lu_530[0][0]']           \n",
      " hwiseConv1D)                                                                                     \n",
      "                                                                                                  \n",
      " batch_normalization_777 (B  (None, 1500, 216)            864       ['depthwise_conv1d_249[0][0]']\n",
      " atchNormalization)                                                                               \n",
      "                                                                                                  \n",
      " re_lu_531 (ReLU)            (None, 1500, 216)            0         ['batch_normalization_777[0][0\n",
      "                                                                    ]']                           \n",
      "                                                                                                  \n",
      " conv1d_524 (Conv1D)         (None, 1500, 12)             2604      ['re_lu_531[0][0]']           \n",
      "                                                                                                  \n",
      " batch_normalization_778 (B  (None, 1500, 12)             48        ['conv1d_524[0][0]']          \n",
      " atchNormalization)                                                                               \n",
      "                                                                                                  \n",
      " re_lu_532 (ReLU)            (None, 1500, 12)             0         ['batch_normalization_778[0][0\n",
      "                                                                    ]']                           \n",
      "                                                                                                  \n",
      " conv1d_525 (Conv1D)         (None, 1500, 6)              78        ['re_lu_532[0][0]']           \n",
      "                                                                                                  \n",
      " global_average_pooling1d_4  (None, 6)                    0         ['conv1d_525[0][0]']          \n",
      " 0 (GlobalAveragePooling1D)                                                                       \n",
      "                                                                                                  \n",
      " dense_54 (Dense)            (None, 6)                    42        ['global_average_pooling1d_40[\n",
      "                                                                    0][0]']                       \n",
      "                                                                                                  \n",
      " re_lu_533 (ReLU)            (None, 6)                    0         ['dense_54[0][0]']            \n",
      "                                                                                                  \n",
      " dense_55 (Dense)            (None, 6)                    42        ['re_lu_533[0][0]']           \n",
      "                                                                                                  \n",
      " tf.math.sigmoid_16 (TFOpLa  (None, 6)                    0         ['dense_55[0][0]']            \n",
      " mbda)                                                                                            \n",
      "                                                                                                  \n",
      " multiply_16 (Multiply)      (None, 1500, 6)              0         ['tf.math.sigmoid_16[0][0]',  \n",
      "                                                                     'conv1d_525[0][0]']          \n",
      "                                                                                                  \n",
      " average_pooling1d_16 (Aver  (None, 750, 6)               0         ['multiply_16[0][0]']         \n",
      " agePooling1D)                                                                                    \n",
      "                                                                                                  \n",
      " batch_normalization_779 (B  (None, 750, 6)               24        ['average_pooling1d_16[0][0]']\n",
      " atchNormalization)                                                                               \n",
      "                                                                                                  \n",
      " conv1d_526 (Conv1D)         (None, 750, 36)              252       ['batch_normalization_779[0][0\n",
      "                                                                    ]']                           \n",
      "                                                                                                  \n",
      " batch_normalization_780 (B  (None, 750, 36)              144       ['conv1d_526[0][0]']          \n",
      " atchNormalization)                                                                               \n",
      "                                                                                                  \n",
      " re_lu_534 (ReLU)            (None, 750, 36)              0         ['batch_normalization_780[0][0\n",
      "                                                                    ]']                           \n",
      "                                                                                                  \n",
      " depthwise_conv1d_250 (Dept  (None, 750, 36)              144       ['re_lu_534[0][0]']           \n",
      " hwiseConv1D)                                                                                     \n",
      "                                                                                                  \n",
      " batch_normalization_781 (B  (None, 750, 36)              144       ['depthwise_conv1d_250[0][0]']\n",
      " atchNormalization)                                                                               \n",
      "                                                                                                  \n",
      " re_lu_535 (ReLU)            (None, 750, 36)              0         ['batch_normalization_781[0][0\n",
      "                                                                    ]']                           \n",
      "                                                                                                  \n",
      " conv1d_527 (Conv1D)         (None, 750, 12)              444       ['re_lu_535[0][0]']           \n",
      "                                                                                                  \n",
      " concatenate_265 (Concatena  (None, 750, 18)              0         ['average_pooling1d_16[0][0]',\n",
      " te)                                                                 'conv1d_527[0][0]']          \n",
      "                                                                                                  \n",
      " batch_normalization_782 (B  (None, 750, 18)              72        ['concatenate_265[0][0]']     \n"
     ]
    },
    {
     "name": "stdout",
     "output_type": "stream",
     "text": [
      " atchNormalization)                                                                               \n",
      "                                                                                                  \n",
      " conv1d_528 (Conv1D)         (None, 750, 108)             2052      ['batch_normalization_782[0][0\n",
      "                                                                    ]']                           \n",
      "                                                                                                  \n",
      " batch_normalization_783 (B  (None, 750, 108)             432       ['conv1d_528[0][0]']          \n",
      " atchNormalization)                                                                               \n",
      "                                                                                                  \n",
      " re_lu_536 (ReLU)            (None, 750, 108)             0         ['batch_normalization_783[0][0\n",
      "                                                                    ]']                           \n",
      "                                                                                                  \n",
      " depthwise_conv1d_251 (Dept  (None, 750, 108)             432       ['re_lu_536[0][0]']           \n",
      " hwiseConv1D)                                                                                     \n",
      "                                                                                                  \n",
      " batch_normalization_784 (B  (None, 750, 108)             432       ['depthwise_conv1d_251[0][0]']\n",
      " atchNormalization)                                                                               \n",
      "                                                                                                  \n",
      " re_lu_537 (ReLU)            (None, 750, 108)             0         ['batch_normalization_784[0][0\n",
      "                                                                    ]']                           \n",
      "                                                                                                  \n",
      " conv1d_529 (Conv1D)         (None, 750, 12)              1308      ['re_lu_537[0][0]']           \n",
      "                                                                                                  \n",
      " concatenate_266 (Concatena  (None, 750, 30)              0         ['average_pooling1d_16[0][0]',\n",
      " te)                                                                 'conv1d_527[0][0]',          \n",
      "                                                                     'conv1d_529[0][0]']          \n",
      "                                                                                                  \n",
      " batch_normalization_785 (B  (None, 750, 30)              120       ['concatenate_266[0][0]']     \n",
      " atchNormalization)                                                                               \n",
      "                                                                                                  \n",
      " conv1d_530 (Conv1D)         (None, 750, 180)             5580      ['batch_normalization_785[0][0\n",
      "                                                                    ]']                           \n",
      "                                                                                                  \n",
      " batch_normalization_786 (B  (None, 750, 180)             720       ['conv1d_530[0][0]']          \n",
      " atchNormalization)                                                                               \n",
      "                                                                                                  \n",
      " re_lu_538 (ReLU)            (None, 750, 180)             0         ['batch_normalization_786[0][0\n",
      "                                                                    ]']                           \n",
      "                                                                                                  \n",
      " depthwise_conv1d_252 (Dept  (None, 750, 180)             720       ['re_lu_538[0][0]']           \n",
      " hwiseConv1D)                                                                                     \n",
      "                                                                                                  \n",
      " batch_normalization_787 (B  (None, 750, 180)             720       ['depthwise_conv1d_252[0][0]']\n",
      " atchNormalization)                                                                               \n",
      "                                                                                                  \n",
      " re_lu_539 (ReLU)            (None, 750, 180)             0         ['batch_normalization_787[0][0\n",
      "                                                                    ]']                           \n",
      "                                                                                                  \n",
      " conv1d_531 (Conv1D)         (None, 750, 12)              2172      ['re_lu_539[0][0]']           \n",
      "                                                                                                  \n",
      " concatenate_267 (Concatena  (None, 750, 42)              0         ['average_pooling1d_16[0][0]',\n",
      " te)                                                                 'conv1d_527[0][0]',          \n",
      "                                                                     'conv1d_529[0][0]',          \n",
      "                                                                     'conv1d_531[0][0]']          \n",
      "                                                                                                  \n",
      " batch_normalization_788 (B  (None, 750, 42)              168       ['concatenate_267[0][0]']     \n",
      " atchNormalization)                                                                               \n",
      "                                                                                                  \n",
      " conv1d_532 (Conv1D)         (None, 750, 252)             10836     ['batch_normalization_788[0][0\n",
      "                                                                    ]']                           \n",
      "                                                                                                  \n",
      " batch_normalization_789 (B  (None, 750, 252)             1008      ['conv1d_532[0][0]']          \n",
      " atchNormalization)                                                                               \n",
      "                                                                                                  \n",
      " re_lu_540 (ReLU)            (None, 750, 252)             0         ['batch_normalization_789[0][0\n",
      "                                                                    ]']                           \n",
      "                                                                                                  \n",
      " depthwise_conv1d_253 (Dept  (None, 750, 252)             1008      ['re_lu_540[0][0]']           \n",
      " hwiseConv1D)                                                                                     \n",
      "                                                                                                  \n",
      " batch_normalization_790 (B  (None, 750, 252)             1008      ['depthwise_conv1d_253[0][0]']\n",
      " atchNormalization)                                                                               \n",
      "                                                                                                  \n",
      " re_lu_541 (ReLU)            (None, 750, 252)             0         ['batch_normalization_790[0][0\n",
      "                                                                    ]']                           \n",
      "                                                                                                  \n",
      " conv1d_533 (Conv1D)         (None, 750, 12)              3036      ['re_lu_541[0][0]']           \n",
      "                                                                                                  \n",
      " concatenate_268 (Concatena  (None, 750, 54)              0         ['average_pooling1d_16[0][0]',\n",
      " te)                                                                 'conv1d_527[0][0]',          \n",
      "                                                                     'conv1d_529[0][0]',          \n",
      "                                                                     'conv1d_531[0][0]',          \n",
      "                                                                     'conv1d_533[0][0]']          \n",
      "                                                                                                  \n"
     ]
    },
    {
     "name": "stdout",
     "output_type": "stream",
     "text": [
      " batch_normalization_791 (B  (None, 750, 54)              216       ['concatenate_268[0][0]']     \n",
      " atchNormalization)                                                                               \n",
      "                                                                                                  \n",
      " conv1d_534 (Conv1D)         (None, 750, 324)             17820     ['batch_normalization_791[0][0\n",
      "                                                                    ]']                           \n",
      "                                                                                                  \n",
      " batch_normalization_792 (B  (None, 750, 324)             1296      ['conv1d_534[0][0]']          \n",
      " atchNormalization)                                                                               \n",
      "                                                                                                  \n",
      " re_lu_542 (ReLU)            (None, 750, 324)             0         ['batch_normalization_792[0][0\n",
      "                                                                    ]']                           \n",
      "                                                                                                  \n",
      " depthwise_conv1d_254 (Dept  (None, 750, 324)             1296      ['re_lu_542[0][0]']           \n",
      " hwiseConv1D)                                                                                     \n",
      "                                                                                                  \n",
      " batch_normalization_793 (B  (None, 750, 324)             1296      ['depthwise_conv1d_254[0][0]']\n",
      " atchNormalization)                                                                               \n",
      "                                                                                                  \n",
      " re_lu_543 (ReLU)            (None, 750, 324)             0         ['batch_normalization_793[0][0\n",
      "                                                                    ]']                           \n",
      "                                                                                                  \n",
      " conv1d_535 (Conv1D)         (None, 750, 12)              3900      ['re_lu_543[0][0]']           \n",
      "                                                                                                  \n",
      " concatenate_269 (Concatena  (None, 750, 36)              0         ['conv1d_531[0][0]',          \n",
      " te)                                                                 'conv1d_533[0][0]',          \n",
      "                                                                     'conv1d_535[0][0]']          \n",
      "                                                                                                  \n",
      " batch_normalization_794 (B  (None, 750, 36)              144       ['concatenate_269[0][0]']     \n",
      " atchNormalization)                                                                               \n",
      "                                                                                                  \n",
      " conv1d_536 (Conv1D)         (None, 750, 216)             7992      ['batch_normalization_794[0][0\n",
      "                                                                    ]']                           \n",
      "                                                                                                  \n",
      " batch_normalization_795 (B  (None, 750, 216)             864       ['conv1d_536[0][0]']          \n",
      " atchNormalization)                                                                               \n",
      "                                                                                                  \n",
      " re_lu_544 (ReLU)            (None, 750, 216)             0         ['batch_normalization_795[0][0\n",
      "                                                                    ]']                           \n",
      "                                                                                                  \n",
      " depthwise_conv1d_255 (Dept  (None, 750, 216)             864       ['re_lu_544[0][0]']           \n",
      " hwiseConv1D)                                                                                     \n",
      "                                                                                                  \n",
      " batch_normalization_796 (B  (None, 750, 216)             864       ['depthwise_conv1d_255[0][0]']\n",
      " atchNormalization)                                                                               \n",
      "                                                                                                  \n",
      " re_lu_545 (ReLU)            (None, 750, 216)             0         ['batch_normalization_796[0][0\n",
      "                                                                    ]']                           \n",
      "                                                                                                  \n",
      " conv1d_537 (Conv1D)         (None, 750, 12)              2604      ['re_lu_545[0][0]']           \n",
      "                                                                                                  \n",
      " concatenate_270 (Concatena  (None, 750, 36)              0         ['conv1d_533[0][0]',          \n",
      " te)                                                                 'conv1d_535[0][0]',          \n",
      "                                                                     'conv1d_537[0][0]']          \n",
      "                                                                                                  \n",
      " batch_normalization_797 (B  (None, 750, 36)              144       ['concatenate_270[0][0]']     \n",
      " atchNormalization)                                                                               \n",
      "                                                                                                  \n",
      " conv1d_538 (Conv1D)         (None, 750, 216)             7992      ['batch_normalization_797[0][0\n",
      "                                                                    ]']                           \n",
      "                                                                                                  \n",
      " batch_normalization_798 (B  (None, 750, 216)             864       ['conv1d_538[0][0]']          \n",
      " atchNormalization)                                                                               \n",
      "                                                                                                  \n",
      " re_lu_546 (ReLU)            (None, 750, 216)             0         ['batch_normalization_798[0][0\n",
      "                                                                    ]']                           \n",
      "                                                                                                  \n",
      " depthwise_conv1d_256 (Dept  (None, 750, 216)             864       ['re_lu_546[0][0]']           \n",
      " hwiseConv1D)                                                                                     \n",
      "                                                                                                  \n",
      " batch_normalization_799 (B  (None, 750, 216)             864       ['depthwise_conv1d_256[0][0]']\n",
      " atchNormalization)                                                                               \n",
      "                                                                                                  \n",
      " re_lu_547 (ReLU)            (None, 750, 216)             0         ['batch_normalization_799[0][0\n",
      "                                                                    ]']                           \n",
      "                                                                                                  \n",
      " conv1d_539 (Conv1D)         (None, 750, 12)              2604      ['re_lu_547[0][0]']           \n",
      "                                                                                                  \n",
      " concatenate_271 (Concatena  (None, 750, 36)              0         ['conv1d_535[0][0]',          \n",
      " te)                                                                 'conv1d_537[0][0]',          \n",
      "                                                                     'conv1d_539[0][0]']          \n",
      "                                                                                                  \n",
      " batch_normalization_800 (B  (None, 750, 36)              144       ['concatenate_271[0][0]']     \n",
      " atchNormalization)                                                                               \n"
     ]
    },
    {
     "name": "stdout",
     "output_type": "stream",
     "text": [
      "                                                                                                  \n",
      " conv1d_540 (Conv1D)         (None, 750, 216)             7992      ['batch_normalization_800[0][0\n",
      "                                                                    ]']                           \n",
      "                                                                                                  \n",
      " batch_normalization_801 (B  (None, 750, 216)             864       ['conv1d_540[0][0]']          \n",
      " atchNormalization)                                                                               \n",
      "                                                                                                  \n",
      " re_lu_548 (ReLU)            (None, 750, 216)             0         ['batch_normalization_801[0][0\n",
      "                                                                    ]']                           \n",
      "                                                                                                  \n",
      " depthwise_conv1d_257 (Dept  (None, 750, 216)             864       ['re_lu_548[0][0]']           \n",
      " hwiseConv1D)                                                                                     \n",
      "                                                                                                  \n",
      " batch_normalization_802 (B  (None, 750, 216)             864       ['depthwise_conv1d_257[0][0]']\n",
      " atchNormalization)                                                                               \n",
      "                                                                                                  \n",
      " re_lu_549 (ReLU)            (None, 750, 216)             0         ['batch_normalization_802[0][0\n",
      "                                                                    ]']                           \n",
      "                                                                                                  \n",
      " conv1d_541 (Conv1D)         (None, 750, 12)              2604      ['re_lu_549[0][0]']           \n",
      "                                                                                                  \n",
      " concatenate_272 (Concatena  (None, 750, 36)              0         ['conv1d_537[0][0]',          \n",
      " te)                                                                 'conv1d_539[0][0]',          \n",
      "                                                                     'conv1d_541[0][0]']          \n",
      "                                                                                                  \n",
      " batch_normalization_803 (B  (None, 750, 36)              144       ['concatenate_272[0][0]']     \n",
      " atchNormalization)                                                                               \n",
      "                                                                                                  \n",
      " conv1d_542 (Conv1D)         (None, 750, 216)             7992      ['batch_normalization_803[0][0\n",
      "                                                                    ]']                           \n",
      "                                                                                                  \n",
      " batch_normalization_804 (B  (None, 750, 216)             864       ['conv1d_542[0][0]']          \n",
      " atchNormalization)                                                                               \n",
      "                                                                                                  \n",
      " re_lu_550 (ReLU)            (None, 750, 216)             0         ['batch_normalization_804[0][0\n",
      "                                                                    ]']                           \n",
      "                                                                                                  \n",
      " depthwise_conv1d_258 (Dept  (None, 750, 216)             864       ['re_lu_550[0][0]']           \n",
      " hwiseConv1D)                                                                                     \n",
      "                                                                                                  \n",
      " batch_normalization_805 (B  (None, 750, 216)             864       ['depthwise_conv1d_258[0][0]']\n",
      " atchNormalization)                                                                               \n",
      "                                                                                                  \n",
      " re_lu_551 (ReLU)            (None, 750, 216)             0         ['batch_normalization_805[0][0\n",
      "                                                                    ]']                           \n",
      "                                                                                                  \n",
      " conv1d_543 (Conv1D)         (None, 750, 12)              2604      ['re_lu_551[0][0]']           \n",
      "                                                                                                  \n",
      " concatenate_273 (Concatena  (None, 750, 36)              0         ['conv1d_539[0][0]',          \n",
      " te)                                                                 'conv1d_541[0][0]',          \n",
      "                                                                     'conv1d_543[0][0]']          \n",
      "                                                                                                  \n",
      " batch_normalization_806 (B  (None, 750, 36)              144       ['concatenate_273[0][0]']     \n",
      " atchNormalization)                                                                               \n",
      "                                                                                                  \n",
      " conv1d_544 (Conv1D)         (None, 750, 216)             7992      ['batch_normalization_806[0][0\n",
      "                                                                    ]']                           \n",
      "                                                                                                  \n",
      " batch_normalization_807 (B  (None, 750, 216)             864       ['conv1d_544[0][0]']          \n",
      " atchNormalization)                                                                               \n",
      "                                                                                                  \n",
      " re_lu_552 (ReLU)            (None, 750, 216)             0         ['batch_normalization_807[0][0\n",
      "                                                                    ]']                           \n",
      "                                                                                                  \n",
      " depthwise_conv1d_259 (Dept  (None, 750, 216)             864       ['re_lu_552[0][0]']           \n",
      " hwiseConv1D)                                                                                     \n",
      "                                                                                                  \n",
      " batch_normalization_808 (B  (None, 750, 216)             864       ['depthwise_conv1d_259[0][0]']\n",
      " atchNormalization)                                                                               \n",
      "                                                                                                  \n",
      " re_lu_553 (ReLU)            (None, 750, 216)             0         ['batch_normalization_808[0][0\n",
      "                                                                    ]']                           \n",
      "                                                                                                  \n",
      " conv1d_545 (Conv1D)         (None, 750, 12)              2604      ['re_lu_553[0][0]']           \n",
      "                                                                                                  \n",
      " batch_normalization_809 (B  (None, 750, 12)              48        ['conv1d_545[0][0]']          \n",
      " atchNormalization)                                                                               \n",
      "                                                                                                  \n",
      " re_lu_554 (ReLU)            (None, 750, 12)              0         ['batch_normalization_809[0][0\n",
      "                                                                    ]']                           \n",
      "                                                                                                  \n",
      " conv1d_546 (Conv1D)         (None, 750, 6)               78        ['re_lu_554[0][0]']           \n",
      "                                                                                                  \n"
     ]
    },
    {
     "name": "stdout",
     "output_type": "stream",
     "text": [
      " global_average_pooling1d_4  (None, 6)                    0         ['conv1d_546[0][0]']          \n",
      " 1 (GlobalAveragePooling1D)                                                                       \n",
      "                                                                                                  \n",
      " dense_56 (Dense)            (None, 6)                    42        ['global_average_pooling1d_41[\n",
      "                                                                    0][0]']                       \n",
      "                                                                                                  \n",
      " re_lu_555 (ReLU)            (None, 6)                    0         ['dense_56[0][0]']            \n",
      "                                                                                                  \n",
      " dense_57 (Dense)            (None, 6)                    42        ['re_lu_555[0][0]']           \n",
      "                                                                                                  \n",
      " tf.math.sigmoid_17 (TFOpLa  (None, 6)                    0         ['dense_57[0][0]']            \n",
      " mbda)                                                                                            \n",
      "                                                                                                  \n",
      " multiply_17 (Multiply)      (None, 750, 6)               0         ['tf.math.sigmoid_17[0][0]',  \n",
      "                                                                     'conv1d_546[0][0]']          \n",
      "                                                                                                  \n",
      " average_pooling1d_17 (Aver  (None, 375, 6)               0         ['multiply_17[0][0]']         \n",
      " agePooling1D)                                                                                    \n",
      "                                                                                                  \n",
      " batch_normalization_810 (B  (None, 375, 6)               24        ['average_pooling1d_17[0][0]']\n",
      " atchNormalization)                                                                               \n",
      "                                                                                                  \n",
      " conv1d_547 (Conv1D)         (None, 375, 36)              252       ['batch_normalization_810[0][0\n",
      "                                                                    ]']                           \n",
      "                                                                                                  \n",
      " batch_normalization_811 (B  (None, 375, 36)              144       ['conv1d_547[0][0]']          \n",
      " atchNormalization)                                                                               \n",
      "                                                                                                  \n",
      " re_lu_556 (ReLU)            (None, 375, 36)              0         ['batch_normalization_811[0][0\n",
      "                                                                    ]']                           \n",
      "                                                                                                  \n",
      " depthwise_conv1d_260 (Dept  (None, 375, 36)              144       ['re_lu_556[0][0]']           \n",
      " hwiseConv1D)                                                                                     \n",
      "                                                                                                  \n",
      " batch_normalization_812 (B  (None, 375, 36)              144       ['depthwise_conv1d_260[0][0]']\n",
      " atchNormalization)                                                                               \n",
      "                                                                                                  \n",
      " re_lu_557 (ReLU)            (None, 375, 36)              0         ['batch_normalization_812[0][0\n",
      "                                                                    ]']                           \n",
      "                                                                                                  \n",
      " conv1d_548 (Conv1D)         (None, 375, 12)              444       ['re_lu_557[0][0]']           \n",
      "                                                                                                  \n",
      " concatenate_274 (Concatena  (None, 375, 18)              0         ['average_pooling1d_17[0][0]',\n",
      " te)                                                                 'conv1d_548[0][0]']          \n",
      "                                                                                                  \n",
      " batch_normalization_813 (B  (None, 375, 18)              72        ['concatenate_274[0][0]']     \n",
      " atchNormalization)                                                                               \n",
      "                                                                                                  \n",
      " conv1d_549 (Conv1D)         (None, 375, 108)             2052      ['batch_normalization_813[0][0\n",
      "                                                                    ]']                           \n",
      "                                                                                                  \n",
      " batch_normalization_814 (B  (None, 375, 108)             432       ['conv1d_549[0][0]']          \n",
      " atchNormalization)                                                                               \n",
      "                                                                                                  \n",
      " re_lu_558 (ReLU)            (None, 375, 108)             0         ['batch_normalization_814[0][0\n",
      "                                                                    ]']                           \n",
      "                                                                                                  \n",
      " depthwise_conv1d_261 (Dept  (None, 375, 108)             432       ['re_lu_558[0][0]']           \n",
      " hwiseConv1D)                                                                                     \n",
      "                                                                                                  \n",
      " batch_normalization_815 (B  (None, 375, 108)             432       ['depthwise_conv1d_261[0][0]']\n",
      " atchNormalization)                                                                               \n",
      "                                                                                                  \n",
      " re_lu_559 (ReLU)            (None, 375, 108)             0         ['batch_normalization_815[0][0\n",
      "                                                                    ]']                           \n",
      "                                                                                                  \n",
      " conv1d_550 (Conv1D)         (None, 375, 12)              1308      ['re_lu_559[0][0]']           \n",
      "                                                                                                  \n",
      " concatenate_275 (Concatena  (None, 375, 30)              0         ['average_pooling1d_17[0][0]',\n",
      " te)                                                                 'conv1d_548[0][0]',          \n",
      "                                                                     'conv1d_550[0][0]']          \n",
      "                                                                                                  \n",
      " batch_normalization_816 (B  (None, 375, 30)              120       ['concatenate_275[0][0]']     \n",
      " atchNormalization)                                                                               \n",
      "                                                                                                  \n",
      " conv1d_551 (Conv1D)         (None, 375, 180)             5580      ['batch_normalization_816[0][0\n",
      "                                                                    ]']                           \n",
      "                                                                                                  \n",
      " batch_normalization_817 (B  (None, 375, 180)             720       ['conv1d_551[0][0]']          \n",
      " atchNormalization)                                                                               \n",
      "                                                                                                  \n",
      " re_lu_560 (ReLU)            (None, 375, 180)             0         ['batch_normalization_817[0][0\n",
      "                                                                    ]']                           \n"
     ]
    },
    {
     "name": "stdout",
     "output_type": "stream",
     "text": [
      "                                                                                                  \n",
      " depthwise_conv1d_262 (Dept  (None, 375, 180)             720       ['re_lu_560[0][0]']           \n",
      " hwiseConv1D)                                                                                     \n",
      "                                                                                                  \n",
      " batch_normalization_818 (B  (None, 375, 180)             720       ['depthwise_conv1d_262[0][0]']\n",
      " atchNormalization)                                                                               \n",
      "                                                                                                  \n",
      " re_lu_561 (ReLU)            (None, 375, 180)             0         ['batch_normalization_818[0][0\n",
      "                                                                    ]']                           \n",
      "                                                                                                  \n",
      " conv1d_552 (Conv1D)         (None, 375, 12)              2172      ['re_lu_561[0][0]']           \n",
      "                                                                                                  \n",
      " concatenate_276 (Concatena  (None, 375, 42)              0         ['average_pooling1d_17[0][0]',\n",
      " te)                                                                 'conv1d_548[0][0]',          \n",
      "                                                                     'conv1d_550[0][0]',          \n",
      "                                                                     'conv1d_552[0][0]']          \n",
      "                                                                                                  \n",
      " batch_normalization_819 (B  (None, 375, 42)              168       ['concatenate_276[0][0]']     \n",
      " atchNormalization)                                                                               \n",
      "                                                                                                  \n",
      " conv1d_553 (Conv1D)         (None, 375, 252)             10836     ['batch_normalization_819[0][0\n",
      "                                                                    ]']                           \n",
      "                                                                                                  \n",
      " batch_normalization_820 (B  (None, 375, 252)             1008      ['conv1d_553[0][0]']          \n",
      " atchNormalization)                                                                               \n",
      "                                                                                                  \n",
      " re_lu_562 (ReLU)            (None, 375, 252)             0         ['batch_normalization_820[0][0\n",
      "                                                                    ]']                           \n",
      "                                                                                                  \n",
      " depthwise_conv1d_263 (Dept  (None, 375, 252)             1008      ['re_lu_562[0][0]']           \n",
      " hwiseConv1D)                                                                                     \n",
      "                                                                                                  \n",
      " batch_normalization_821 (B  (None, 375, 252)             1008      ['depthwise_conv1d_263[0][0]']\n",
      " atchNormalization)                                                                               \n",
      "                                                                                                  \n",
      " re_lu_563 (ReLU)            (None, 375, 252)             0         ['batch_normalization_821[0][0\n",
      "                                                                    ]']                           \n",
      "                                                                                                  \n",
      " conv1d_554 (Conv1D)         (None, 375, 12)              3036      ['re_lu_563[0][0]']           \n",
      "                                                                                                  \n",
      " concatenate_277 (Concatena  (None, 375, 54)              0         ['average_pooling1d_17[0][0]',\n",
      " te)                                                                 'conv1d_548[0][0]',          \n",
      "                                                                     'conv1d_550[0][0]',          \n",
      "                                                                     'conv1d_552[0][0]',          \n",
      "                                                                     'conv1d_554[0][0]']          \n",
      "                                                                                                  \n",
      " batch_normalization_822 (B  (None, 375, 54)              216       ['concatenate_277[0][0]']     \n",
      " atchNormalization)                                                                               \n",
      "                                                                                                  \n",
      " conv1d_555 (Conv1D)         (None, 375, 324)             17820     ['batch_normalization_822[0][0\n",
      "                                                                    ]']                           \n",
      "                                                                                                  \n",
      " batch_normalization_823 (B  (None, 375, 324)             1296      ['conv1d_555[0][0]']          \n",
      " atchNormalization)                                                                               \n",
      "                                                                                                  \n",
      " re_lu_564 (ReLU)            (None, 375, 324)             0         ['batch_normalization_823[0][0\n",
      "                                                                    ]']                           \n",
      "                                                                                                  \n",
      " depthwise_conv1d_264 (Dept  (None, 375, 324)             1296      ['re_lu_564[0][0]']           \n",
      " hwiseConv1D)                                                                                     \n",
      "                                                                                                  \n",
      " batch_normalization_824 (B  (None, 375, 324)             1296      ['depthwise_conv1d_264[0][0]']\n",
      " atchNormalization)                                                                               \n",
      "                                                                                                  \n",
      " re_lu_565 (ReLU)            (None, 375, 324)             0         ['batch_normalization_824[0][0\n",
      "                                                                    ]']                           \n",
      "                                                                                                  \n",
      " conv1d_556 (Conv1D)         (None, 375, 12)              3900      ['re_lu_565[0][0]']           \n",
      "                                                                                                  \n",
      " concatenate_278 (Concatena  (None, 375, 36)              0         ['conv1d_552[0][0]',          \n",
      " te)                                                                 'conv1d_554[0][0]',          \n",
      "                                                                     'conv1d_556[0][0]']          \n",
      "                                                                                                  \n",
      " batch_normalization_825 (B  (None, 375, 36)              144       ['concatenate_278[0][0]']     \n",
      " atchNormalization)                                                                               \n",
      "                                                                                                  \n",
      " conv1d_557 (Conv1D)         (None, 375, 216)             7992      ['batch_normalization_825[0][0\n",
      "                                                                    ]']                           \n",
      "                                                                                                  \n",
      " batch_normalization_826 (B  (None, 375, 216)             864       ['conv1d_557[0][0]']          \n",
      " atchNormalization)                                                                               \n",
      "                                                                                                  \n",
      " re_lu_566 (ReLU)            (None, 375, 216)             0         ['batch_normalization_826[0][0\n"
     ]
    },
    {
     "name": "stdout",
     "output_type": "stream",
     "text": [
      "                                                                    ]']                           \n",
      "                                                                                                  \n",
      " depthwise_conv1d_265 (Dept  (None, 375, 216)             864       ['re_lu_566[0][0]']           \n",
      " hwiseConv1D)                                                                                     \n",
      "                                                                                                  \n",
      " batch_normalization_827 (B  (None, 375, 216)             864       ['depthwise_conv1d_265[0][0]']\n",
      " atchNormalization)                                                                               \n",
      "                                                                                                  \n",
      " re_lu_567 (ReLU)            (None, 375, 216)             0         ['batch_normalization_827[0][0\n",
      "                                                                    ]']                           \n",
      "                                                                                                  \n",
      " conv1d_558 (Conv1D)         (None, 375, 12)              2604      ['re_lu_567[0][0]']           \n",
      "                                                                                                  \n",
      " concatenate_279 (Concatena  (None, 375, 36)              0         ['conv1d_554[0][0]',          \n",
      " te)                                                                 'conv1d_556[0][0]',          \n",
      "                                                                     'conv1d_558[0][0]']          \n",
      "                                                                                                  \n",
      " batch_normalization_828 (B  (None, 375, 36)              144       ['concatenate_279[0][0]']     \n",
      " atchNormalization)                                                                               \n",
      "                                                                                                  \n",
      " conv1d_559 (Conv1D)         (None, 375, 216)             7992      ['batch_normalization_828[0][0\n",
      "                                                                    ]']                           \n",
      "                                                                                                  \n",
      " batch_normalization_829 (B  (None, 375, 216)             864       ['conv1d_559[0][0]']          \n",
      " atchNormalization)                                                                               \n",
      "                                                                                                  \n",
      " re_lu_568 (ReLU)            (None, 375, 216)             0         ['batch_normalization_829[0][0\n",
      "                                                                    ]']                           \n",
      "                                                                                                  \n",
      " depthwise_conv1d_266 (Dept  (None, 375, 216)             864       ['re_lu_568[0][0]']           \n",
      " hwiseConv1D)                                                                                     \n",
      "                                                                                                  \n",
      " batch_normalization_830 (B  (None, 375, 216)             864       ['depthwise_conv1d_266[0][0]']\n",
      " atchNormalization)                                                                               \n",
      "                                                                                                  \n",
      " re_lu_569 (ReLU)            (None, 375, 216)             0         ['batch_normalization_830[0][0\n",
      "                                                                    ]']                           \n",
      "                                                                                                  \n",
      " conv1d_560 (Conv1D)         (None, 375, 12)              2604      ['re_lu_569[0][0]']           \n",
      "                                                                                                  \n",
      " concatenate_280 (Concatena  (None, 375, 36)              0         ['conv1d_556[0][0]',          \n",
      " te)                                                                 'conv1d_558[0][0]',          \n",
      "                                                                     'conv1d_560[0][0]']          \n",
      "                                                                                                  \n",
      " batch_normalization_831 (B  (None, 375, 36)              144       ['concatenate_280[0][0]']     \n",
      " atchNormalization)                                                                               \n",
      "                                                                                                  \n",
      " conv1d_561 (Conv1D)         (None, 375, 216)             7992      ['batch_normalization_831[0][0\n",
      "                                                                    ]']                           \n",
      "                                                                                                  \n",
      " batch_normalization_832 (B  (None, 375, 216)             864       ['conv1d_561[0][0]']          \n",
      " atchNormalization)                                                                               \n",
      "                                                                                                  \n",
      " re_lu_570 (ReLU)            (None, 375, 216)             0         ['batch_normalization_832[0][0\n",
      "                                                                    ]']                           \n",
      "                                                                                                  \n",
      " depthwise_conv1d_267 (Dept  (None, 375, 216)             864       ['re_lu_570[0][0]']           \n",
      " hwiseConv1D)                                                                                     \n",
      "                                                                                                  \n",
      " batch_normalization_833 (B  (None, 375, 216)             864       ['depthwise_conv1d_267[0][0]']\n",
      " atchNormalization)                                                                               \n",
      "                                                                                                  \n",
      " re_lu_571 (ReLU)            (None, 375, 216)             0         ['batch_normalization_833[0][0\n",
      "                                                                    ]']                           \n",
      "                                                                                                  \n",
      " conv1d_562 (Conv1D)         (None, 375, 12)              2604      ['re_lu_571[0][0]']           \n",
      "                                                                                                  \n",
      " concatenate_281 (Concatena  (None, 375, 36)              0         ['conv1d_558[0][0]',          \n",
      " te)                                                                 'conv1d_560[0][0]',          \n",
      "                                                                     'conv1d_562[0][0]']          \n",
      "                                                                                                  \n",
      " batch_normalization_834 (B  (None, 375, 36)              144       ['concatenate_281[0][0]']     \n",
      " atchNormalization)                                                                               \n",
      "                                                                                                  \n",
      " conv1d_563 (Conv1D)         (None, 375, 216)             7992      ['batch_normalization_834[0][0\n",
      "                                                                    ]']                           \n",
      "                                                                                                  \n",
      " batch_normalization_835 (B  (None, 375, 216)             864       ['conv1d_563[0][0]']          \n",
      " atchNormalization)                                                                               \n",
      "                                                                                                  \n",
      " re_lu_572 (ReLU)            (None, 375, 216)             0         ['batch_normalization_835[0][0\n",
      "                                                                    ]']                           \n",
      "                                                                                                  \n"
     ]
    },
    {
     "name": "stdout",
     "output_type": "stream",
     "text": [
      " depthwise_conv1d_268 (Dept  (None, 375, 216)             864       ['re_lu_572[0][0]']           \n",
      " hwiseConv1D)                                                                                     \n",
      "                                                                                                  \n",
      " batch_normalization_836 (B  (None, 375, 216)             864       ['depthwise_conv1d_268[0][0]']\n",
      " atchNormalization)                                                                               \n",
      "                                                                                                  \n",
      " re_lu_573 (ReLU)            (None, 375, 216)             0         ['batch_normalization_836[0][0\n",
      "                                                                    ]']                           \n",
      "                                                                                                  \n",
      " conv1d_564 (Conv1D)         (None, 375, 12)              2604      ['re_lu_573[0][0]']           \n",
      "                                                                                                  \n",
      " concatenate_282 (Concatena  (None, 375, 36)              0         ['conv1d_560[0][0]',          \n",
      " te)                                                                 'conv1d_562[0][0]',          \n",
      "                                                                     'conv1d_564[0][0]']          \n",
      "                                                                                                  \n",
      " batch_normalization_837 (B  (None, 375, 36)              144       ['concatenate_282[0][0]']     \n",
      " atchNormalization)                                                                               \n",
      "                                                                                                  \n",
      " conv1d_565 (Conv1D)         (None, 375, 216)             7992      ['batch_normalization_837[0][0\n",
      "                                                                    ]']                           \n",
      "                                                                                                  \n",
      " batch_normalization_838 (B  (None, 375, 216)             864       ['conv1d_565[0][0]']          \n",
      " atchNormalization)                                                                               \n",
      "                                                                                                  \n",
      " re_lu_574 (ReLU)            (None, 375, 216)             0         ['batch_normalization_838[0][0\n",
      "                                                                    ]']                           \n",
      "                                                                                                  \n",
      " depthwise_conv1d_269 (Dept  (None, 375, 216)             864       ['re_lu_574[0][0]']           \n",
      " hwiseConv1D)                                                                                     \n",
      "                                                                                                  \n",
      " batch_normalization_839 (B  (None, 375, 216)             864       ['depthwise_conv1d_269[0][0]']\n",
      " atchNormalization)                                                                               \n",
      "                                                                                                  \n",
      " re_lu_575 (ReLU)            (None, 375, 216)             0         ['batch_normalization_839[0][0\n",
      "                                                                    ]']                           \n",
      "                                                                                                  \n",
      " conv1d_566 (Conv1D)         (None, 375, 12)              2604      ['re_lu_575[0][0]']           \n",
      "                                                                                                  \n",
      " concatenate_284 (Concatena  (None, 750, 18)              0         ['average_pooling1d_16[0][0]',\n",
      " te)                                                                 'conv1d_545[0][0]']          \n",
      "                                                                                                  \n",
      " concatenate_285 (Concatena  (None, 375, 18)              0         ['average_pooling1d_17[0][0]',\n",
      " te)                                                                 'conv1d_566[0][0]']          \n",
      "                                                                                                  \n",
      " concatenate_283 (Concatena  (None, 1500, 24)             0         ['max_pooling1d_8[0][0]',     \n",
      " te)                                                                 'conv1d_524[0][0]']          \n",
      "                                                                                                  \n",
      " global_average_pooling1d_4  (None, 18)                   0         ['concatenate_284[0][0]']     \n",
      " 3 (GlobalAveragePooling1D)                                                                       \n",
      "                                                                                                  \n",
      " global_average_pooling1d_4  (None, 18)                   0         ['concatenate_285[0][0]']     \n",
      " 4 (GlobalAveragePooling1D)                                                                       \n",
      "                                                                                                  \n",
      " global_average_pooling1d_4  (None, 24)                   0         ['concatenate_283[0][0]']     \n",
      " 2 (GlobalAveragePooling1D)                                                                       \n",
      "                                                                                                  \n",
      " concatenate_286 (Concatena  (None, 36)                   0         ['global_average_pooling1d_43[\n",
      " te)                                                                0][0]',                       \n",
      "                                                                     'global_average_pooling1d_44[\n",
      "                                                                    0][0]']                       \n",
      "                                                                                                  \n",
      " concatenate_287 (Concatena  (None, 60)                   0         ['global_average_pooling1d_42[\n",
      " te)                                                                0][0]',                       \n",
      "                                                                     'concatenate_286[0][0]']     \n",
      "                                                                                                  \n",
      " dense_58 (Dense)            (None, 30)                   1830      ['concatenate_287[0][0]']     \n",
      "                                                                                                  \n",
      " batch_normalization_840 (B  (None, 30)                   120       ['dense_58[0][0]']            \n",
      " atchNormalization)                                                                               \n",
      "                                                                                                  \n",
      " dropout_9 (Dropout)         (None, 30)                   0         ['batch_normalization_840[0][0\n",
      "                                                                    ]']                           \n",
      "                                                                                                  \n",
      " dense_59 (Dense)            (None, 15)                   465       ['dropout_9[0][0]']           \n",
      "                                                                                                  \n",
      " batch_normalization_841 (B  (None, 15)                   60        ['dense_59[0][0]']            \n",
      " atchNormalization)                                                                               \n",
      "                                                                                                  \n",
      " dropout_10 (Dropout)        (None, 15)                   0         ['batch_normalization_841[0][0\n",
      "                                                                    ]']                           \n",
      "                                                                                                  \n",
      " dense_60 (Dense)            (None, 10)                   160       ['dropout_10[0][0]']          \n",
      "                                                                                                  \n"
     ]
    },
    {
     "name": "stdout",
     "output_type": "stream",
     "text": [
      " batch_normalization_842 (B  (None, 10)                   40        ['dense_60[0][0]']            \n",
      " atchNormalization)                                                                               \n",
      "                                                                                                  \n",
      " dense_61 (Dense)            (None, 1)                    11        ['batch_normalization_842[0][0\n",
      "                                                                    ]']                           \n",
      "                                                                                                  \n",
      "==================================================================================================\n",
      "Total params: 396082 (1.51 MB)\n",
      "Trainable params: 369404 (1.41 MB)\n",
      "Non-trainable params: 26678 (104.21 KB)\n",
      "__________________________________________________________________________________________________\n"
     ]
    }
   ],
   "source": [
    "\n",
    "model.summary()\n"
   ]
  },
  {
   "cell_type": "code",
   "execution_count": 149,
   "id": "c07e1014",
   "metadata": {},
   "outputs": [],
   "source": [
    "weights = class_weight.compute_class_weight(  class_weight ='balanced',\n",
    "                                    classes = np.unique(y_train),\n",
    "                                    y = y_train)\n",
    "class_weights = dict(zip(np.unique(y_train), weights))\n",
    "class_weights\n",
    "wghts = {0: 0.6139705882352942, 1: 2.693548387096774}"
   ]
  },
  {
   "cell_type": "code",
   "execution_count": 150,
   "id": "855a839b",
   "metadata": {
    "ExecuteTime": {
     "end_time": "2023-04-28T19:35:36.936643Z",
     "start_time": "2023-04-28T19:30:24.265163Z"
    },
    "colab": {
     "base_uri": "https://localhost:8080/"
    },
    "id": "hyYFCrlJEGsk",
    "outputId": "1ffc58ab-e10e-42d7-da26-95260d876ac1",
    "scrolled": true
   },
   "outputs": [
    {
     "name": "stdout",
     "output_type": "stream",
     "text": [
      "Epoch 1/30\n",
      "454/455 [============================>.] - ETA: 0s - loss: 0.6357 - acc: 0.6992 - auc: 0.7066 - weighted_acc: 0.6532"
     ]
    },
    {
     "name": "stderr",
     "output_type": "stream",
     "text": [
      "/home/iridia/anaconda3/lib/python3.10/site-packages/keras/src/engine/training.py:3000: UserWarning: You are saving your model as an HDF5 file via `model.save()`. This file format is considered legacy. We recommend using instead the native Keras format, e.g. `model.save('my_model.keras')`.\n",
      "  saving_api.save_model(\n"
     ]
    },
    {
     "name": "stdout",
     "output_type": "stream",
     "text": [
      "455/455 [==============================] - 94s 147ms/step - loss: 0.6358 - acc: 0.6992 - auc: 0.7066 - weighted_acc: 0.6531 - val_loss: 0.6727 - val_acc: 0.6786 - val_auc: 0.6762 - val_weighted_acc: 0.6786 - lr: 0.0010\n",
      "Epoch 2/30\n",
      "455/455 [==============================] - 65s 143ms/step - loss: 0.5701 - acc: 0.7545 - auc: 0.7615 - weighted_acc: 0.7005 - val_loss: 1.4705 - val_acc: 0.3193 - val_auc: 0.7540 - val_weighted_acc: 0.3193 - lr: 0.0010\n",
      "Epoch 3/30\n",
      "455/455 [==============================] - 65s 143ms/step - loss: 0.5514 - acc: 0.7592 - auc: 0.7851 - weighted_acc: 0.7220 - val_loss: 1.3106 - val_acc: 0.4516 - val_auc: 0.7651 - val_weighted_acc: 0.4516 - lr: 0.0010\n",
      "Epoch 4/30\n",
      "455/455 [==============================] - 66s 144ms/step - loss: 0.5237 - acc: 0.7744 - auc: 0.8115 - weighted_acc: 0.7415 - val_loss: 1.5360 - val_acc: 0.3438 - val_auc: 0.7637 - val_weighted_acc: 0.3438 - lr: 0.0010\n",
      "Epoch 5/30\n",
      "455/455 [==============================] - 66s 145ms/step - loss: 0.5108 - acc: 0.7864 - auc: 0.8190 - weighted_acc: 0.7479 - val_loss: 0.7160 - val_acc: 0.6772 - val_auc: 0.5816 - val_weighted_acc: 0.6772 - lr: 0.0010\n",
      "Epoch 6/30\n",
      "455/455 [==============================] - 65s 144ms/step - loss: 0.4823 - acc: 0.8095 - auc: 0.8410 - weighted_acc: 0.7720 - val_loss: 1.2748 - val_acc: 0.4730 - val_auc: 0.7882 - val_weighted_acc: 0.4730 - lr: 0.0010\n",
      "Epoch 7/30\n",
      "455/455 [==============================] - 65s 143ms/step - loss: 0.4614 - acc: 0.8194 - auc: 0.8545 - weighted_acc: 0.7805 - val_loss: 1.1580 - val_acc: 0.4001 - val_auc: 0.7606 - val_weighted_acc: 0.4001 - lr: 0.0010\n",
      "Epoch 8/30\n",
      "455/455 [==============================] - 66s 145ms/step - loss: 0.4512 - acc: 0.8251 - auc: 0.8635 - weighted_acc: 0.7866 - val_loss: 0.4033 - val_acc: 0.8395 - val_auc: 0.8193 - val_weighted_acc: 0.8395 - lr: 0.0010\n",
      "Epoch 9/30\n",
      "455/455 [==============================] - 65s 143ms/step - loss: 0.4309 - acc: 0.8317 - auc: 0.8767 - weighted_acc: 0.8016 - val_loss: 0.4434 - val_acc: 0.8252 - val_auc: 0.8346 - val_weighted_acc: 0.8252 - lr: 0.0010\n",
      "Epoch 10/30\n",
      "455/455 [==============================] - 65s 143ms/step - loss: 0.4184 - acc: 0.8349 - auc: 0.8857 - weighted_acc: 0.8046 - val_loss: 0.4589 - val_acc: 0.8153 - val_auc: 0.7252 - val_weighted_acc: 0.8153 - lr: 0.0010\n",
      "Epoch 11/30\n",
      "455/455 [==============================] - 66s 145ms/step - loss: 0.4137 - acc: 0.8370 - auc: 0.8892 - weighted_acc: 0.8065 - val_loss: 0.6683 - val_acc: 0.6811 - val_auc: 0.8385 - val_weighted_acc: 0.6811 - lr: 0.0010\n",
      "Epoch 12/30\n",
      "455/455 [==============================] - 65s 143ms/step - loss: 0.4002 - acc: 0.8427 - auc: 0.8965 - weighted_acc: 0.8162 - val_loss: 0.5980 - val_acc: 0.6935 - val_auc: 0.8220 - val_weighted_acc: 0.6935 - lr: 0.0010\n",
      "Epoch 13/30\n",
      "455/455 [==============================] - 65s 143ms/step - loss: 0.3977 - acc: 0.8489 - auc: 0.8968 - weighted_acc: 0.8245 - val_loss: 0.3757 - val_acc: 0.8461 - val_auc: 0.8516 - val_weighted_acc: 0.8461 - lr: 0.0010\n",
      "Epoch 14/30\n",
      "455/455 [==============================] - 65s 143ms/step - loss: 0.3935 - acc: 0.8405 - auc: 0.8995 - weighted_acc: 0.8219 - val_loss: 0.4945 - val_acc: 0.7635 - val_auc: 0.8425 - val_weighted_acc: 0.7635 - lr: 0.0010\n",
      "Epoch 15/30\n",
      "455/455 [==============================] - 65s 143ms/step - loss: 0.3877 - acc: 0.8494 - auc: 0.9032 - weighted_acc: 0.8265 - val_loss: 0.3808 - val_acc: 0.8426 - val_auc: 0.8282 - val_weighted_acc: 0.8426 - lr: 0.0010\n",
      "Epoch 16/30\n",
      "455/455 [==============================] - 65s 144ms/step - loss: 0.3867 - acc: 0.8447 - auc: 0.9044 - weighted_acc: 0.8199 - val_loss: 0.5178 - val_acc: 0.7544 - val_auc: 0.8406 - val_weighted_acc: 0.7544 - lr: 0.0010\n",
      "Epoch 17/30\n",
      "455/455 [==============================] - 65s 143ms/step - loss: 0.3771 - acc: 0.8500 - auc: 0.9087 - weighted_acc: 0.8277 - val_loss: 0.7089 - val_acc: 0.6707 - val_auc: 0.8535 - val_weighted_acc: 0.6707 - lr: 0.0010\n",
      "Epoch 18/30\n",
      "455/455 [==============================] - 65s 143ms/step - loss: 0.3664 - acc: 0.8568 - auc: 0.9147 - weighted_acc: 0.8357 - val_loss: 0.3980 - val_acc: 0.8196 - val_auc: 0.8493 - val_weighted_acc: 0.8196 - lr: 0.0010\n",
      "Epoch 19/30\n",
      "455/455 [==============================] - 65s 143ms/step - loss: 0.3765 - acc: 0.8486 - auc: 0.9094 - weighted_acc: 0.8279 - val_loss: 0.9131 - val_acc: 0.5610 - val_auc: 0.8334 - val_weighted_acc: 0.5610 - lr: 0.0010\n",
      "Epoch 20/30\n",
      "455/455 [==============================] - 66s 145ms/step - loss: 0.3619 - acc: 0.8516 - auc: 0.9171 - weighted_acc: 0.8352 - val_loss: 0.4379 - val_acc: 0.7964 - val_auc: 0.8643 - val_weighted_acc: 0.7964 - lr: 0.0010\n",
      "Epoch 21/30\n",
      "455/455 [==============================] - 65s 143ms/step - loss: 0.3529 - acc: 0.8573 - auc: 0.9215 - weighted_acc: 0.8388 - val_loss: 0.3957 - val_acc: 0.8192 - val_auc: 0.8453 - val_weighted_acc: 0.8192 - lr: 0.0010\n",
      "Epoch 22/30\n",
      "455/455 [==============================] - 66s 145ms/step - loss: 0.3496 - acc: 0.8610 - auc: 0.9232 - weighted_acc: 0.8445 - val_loss: 0.3759 - val_acc: 0.8432 - val_auc: 0.8541 - val_weighted_acc: 0.8432 - lr: 0.0010\n",
      "Epoch 23/30\n",
      "455/455 [==============================] - 66s 145ms/step - loss: 0.3467 - acc: 0.8642 - auc: 0.9246 - weighted_acc: 0.8458 - val_loss: 0.6315 - val_acc: 0.7275 - val_auc: 0.8217 - val_weighted_acc: 0.7275 - lr: 0.0010\n",
      "Epoch 24/30\n",
      "455/455 [==============================] - 66s 145ms/step - loss: 0.3220 - acc: 0.8656 - auc: 0.9363 - weighted_acc: 0.8580 - val_loss: 0.4530 - val_acc: 0.7855 - val_auc: 0.8603 - val_weighted_acc: 0.7855 - lr: 5.0000e-04\n",
      "Epoch 25/30\n",
      "455/455 [==============================] - 65s 144ms/step - loss: 0.3115 - acc: 0.8681 - auc: 0.9402 - weighted_acc: 0.8605 - val_loss: 0.3782 - val_acc: 0.8339 - val_auc: 0.8574 - val_weighted_acc: 0.8339 - lr: 5.0000e-04\n",
      "Epoch 26/30\n",
      "455/455 [==============================] - 65s 143ms/step - loss: 0.2966 - acc: 0.8746 - auc: 0.9461 - weighted_acc: 0.8655 - val_loss: 0.3880 - val_acc: 0.8304 - val_auc: 0.8501 - val_weighted_acc: 0.8304 - lr: 5.0000e-04\n",
      "Epoch 27/30\n",
      "455/455 [==============================] - 66s 144ms/step - loss: 0.2925 - acc: 0.8800 - auc: 0.9481 - weighted_acc: 0.8742 - val_loss: 0.4521 - val_acc: 0.8646 - val_auc: 0.8257 - val_weighted_acc: 0.8646 - lr: 5.0000e-04\n",
      "Epoch 28/30\n",
      "455/455 [==============================] - 65s 143ms/step - loss: 0.2813 - acc: 0.8809 - auc: 0.9518 - weighted_acc: 0.8752 - val_loss: 0.5790 - val_acc: 0.7391 - val_auc: 0.8503 - val_weighted_acc: 0.7391 - lr: 5.0000e-04\n",
      "Epoch 29/30\n",
      "455/455 [==============================] - 65s 143ms/step - loss: 0.2746 - acc: 0.8852 - auc: 0.9540 - weighted_acc: 0.8781 - val_loss: 0.4252 - val_acc: 0.8039 - val_auc: 0.8502 - val_weighted_acc: 0.8039 - lr: 5.0000e-04\n",
      "Epoch 30/30\n",
      "455/455 [==============================] - 65s 143ms/step - loss: 0.2653 - acc: 0.8841 - auc: 0.9575 - weighted_acc: 0.8835 - val_loss: 0.4325 - val_acc: 0.8039 - val_auc: 0.8598 - val_weighted_acc: 0.8039 - lr: 5.0000e-04\n"
     ]
    }
   ],
   "source": [
    "\n",
    "epochs = 30\n",
    "batch_size = 32\n",
    "\n",
    "callbacks = [\n",
    "    tf.keras.callbacks.ModelCheckpoint(\n",
    "        \"best_model.h5\", save_best_only=True, monitor=\"val_loss\"\n",
    "    ),\n",
    "    tf.keras.callbacks.ReduceLROnPlateau(\n",
    "        monitor=\"val_loss\", factor=0.5, patience=10, min_lr=0.0001\n",
    "    ),\n",
    "    tf.keras.callbacks.EarlyStopping(monitor=\"val_loss\", patience=50, verbose=1),\n",
    "]\n",
    "\n",
    "\n",
    "model.compile(\n",
    "    optimizer=tf.keras.optimizers.Adam(learning_rate=0.001),\n",
    "    loss=\"binary_crossentropy\",\n",
    "    metrics=[\"acc\",tf.keras.metrics.AUC(name='auc')],\n",
    "    weighted_metrics = \"acc\",\n",
    "    #loss_weights=weights\n",
    ")\n",
    "\n",
    "\n",
    "history = model.fit(\n",
    "    X_train,\n",
    "    np.array(y_train),\n",
    "    batch_size=batch_size,\n",
    "    epochs=epochs,\n",
    "    callbacks=callbacks,\n",
    "    validation_data=(X_val,np.array(y_val)),\n",
    "    verbose=1,\n",
    "    class_weight = class_weights,\n",
    ")"
   ]
  },
  {
   "cell_type": "code",
   "execution_count": 151,
   "id": "e20d53bb",
   "metadata": {
    "ExecuteTime": {
     "end_time": "2023-04-28T19:37:10.225225Z",
     "start_time": "2023-04-28T19:37:09.972845Z"
    }
   },
   "outputs": [
    {
     "data": {
      "image/png": "[encoded data removed]",
      "text/plain": [
       "<Figure size 2000x300 with 2 Axes>"
      ]
     },
     "metadata": {},
     "output_type": "display_data"
    }
   ],
   "source": [
    "fig, ax = plt.subplots(1, 2, figsize=(20, 3))\n",
    "ax = ax.ravel()\n",
    "\n",
    "for i, met in enumerate(['acc', 'loss']):\n",
    "    ax[i].plot(history.history[met])\n",
    "    ax[i].plot(history.history['val_' + met])\n",
    "    ax[i].set_title('Model {}'.format(met))\n",
    "    ax[i].set_xlabel('epochs')\n",
    "    ax[i].set_ylabel(met)\n",
    "    ax[i].legend(['train', 'val'])"
   ]
  },
  {
   "cell_type": "code",
   "execution_count": 152,
   "id": "279aec22",
   "metadata": {},
   "outputs": [
    {
     "data": {
      "image/png": "[encoded data removed]",
      "text/plain": [
       "<Figure size 2000x300 with 2 Axes>"
      ]
     },
     "metadata": {},
     "output_type": "display_data"
    }
   ],
   "source": [
    "fig, ax = plt.subplots(1, 2, figsize=(20, 3))\n",
    "ax = ax.ravel()\n",
    "\n",
    "for i, met in enumerate(['auc', 'loss']):\n",
    "    ax[i].plot(history.history[met])\n",
    "    ax[i].plot(history.history['val_' + met])\n",
    "    ax[i].set_title('Model {}'.format(met))\n",
    "    ax[i].set_xlabel('epochs')\n",
    "    ax[i].set_ylabel(met)\n",
    "    ax[i].legend(['train', 'val'])"
   ]
  },
  {
   "cell_type": "code",
   "execution_count": 153,
   "id": "a78fd5e7",
   "metadata": {},
   "outputs": [
    {
     "name": "stdout",
     "output_type": "stream",
     "text": [
      "152/152 [==============================] - 3s 22ms/step - loss: 0.4542 - acc: 0.7954 - auc: 0.8611 - weighted_acc: 0.7954\n"
     ]
    },
    {
     "data": {
      "text/plain": [
       "[0.4541500508785248,\n",
       " 0.7954358458518982,\n",
       " 0.8611499071121216,\n",
       " 0.7954358458518982]"
      ]
     },
     "execution_count": 153,
     "metadata": {},
     "output_type": "execute_result"
    }
   ],
   "source": [
    "model.evaluate(X_test, y_test) "
   ]
  },
  {
   "cell_type": "code",
   "execution_count": 154,
   "id": "fb250f77",
   "metadata": {
    "ExecuteTime": {
     "end_time": "2023-04-28T19:37:15.739469Z",
     "start_time": "2023-04-28T19:37:15.539050Z"
    },
    "colab": {
     "base_uri": "https://localhost:8080/"
    },
    "id": "NRjdR3E9M6bp",
    "outputId": "98b11c5c-2075-4da7-994b-8e29c8644a7c",
    "scrolled": true
   },
   "outputs": [
    {
     "name": "stdout",
     "output_type": "stream",
     "text": [
      "Test loss: 0.4541500508785248\n",
      "Test accuracy score: 0.7954358458518982\n",
      "Test roc auc score: 0.8611499071121216\n",
      "Test weighted accuracy score: 0.7954358458518982\n"
     ]
    }
   ],
   "source": [
    "score = model.evaluate(X_test, y_test, verbose = 0) \n",
    "\n",
    "print('Test loss:', score[0]) \n",
    "print('Test accuracy score:', score[1])\n",
    "print('Test roc auc score:', score[2])\n",
    "print('Test weighted accuracy score:', score[3])"
   ]
  },
  {
   "cell_type": "code",
   "execution_count": 155,
   "id": "eb2ab815",
   "metadata": {
    "ExecuteTime": {
     "end_time": "2023-04-28T19:37:17.560656Z",
     "start_time": "2023-04-28T19:37:17.279104Z"
    },
    "colab": {
     "base_uri": "https://localhost:8080/"
    },
    "id": "PYQLQItpOKBp",
    "outputId": "617b07c3-a5a4-45db-cce1-e3aa4dc1a1af",
    "scrolled": true
   },
   "outputs": [
    {
     "name": "stdout",
     "output_type": "stream",
     "text": [
      "152/152 [==============================] - 4s 21ms/step\n",
      "[[0.6078963 ]\n",
      " [0.3828356 ]\n",
      " [0.67557997]\n",
      " ...\n",
      " [0.35312024]\n",
      " [0.09536308]\n",
      " [0.437389  ]]\n"
     ]
    }
   ],
   "source": [
    "pred = model.predict(X_test)\n",
    "print(pred)"
   ]
  },
  {
   "cell_type": "code",
   "execution_count": 156,
   "id": "b28cbdb2",
   "metadata": {},
   "outputs": [],
   "source": [
    "importlib.reload(results_functions)\n",
    "from results_functions import *"
   ]
  },
  {
   "cell_type": "code",
   "execution_count": 157,
   "id": "6ca0eb6f",
   "metadata": {
    "ExecuteTime": {
     "end_time": "2023-04-28T19:37:18.942364Z",
     "start_time": "2023-04-28T19:37:18.903410Z"
    },
    "id": "Dh7gibaQiOsw"
   },
   "outputs": [],
   "source": [
    "list_patient_rows = list(df_test.groupby(['patient_id'])['patient_id'].count())"
   ]
  },
  {
   "cell_type": "code",
   "execution_count": 158,
   "id": "d087f498",
   "metadata": {
    "ExecuteTime": {
     "end_time": "2023-04-28T19:37:19.839449Z",
     "start_time": "2023-04-28T19:37:19.836902Z"
    },
    "id": "FBeasPNClnpb"
   },
   "outputs": [],
   "source": [
    "pred_groupby_patient = np.split(pred,cumulative(list_patient_rows))\n",
    "pred_groupby_patient = pred_groupby_patient[:-1]\n",
    "\n",
    "df_test = df_test.astype({'murmur':'int'})\n",
    "y_test_grouped = df_test[['patient_id','murmur']].drop_duplicates()['murmur'].to_list()"
   ]
  },
  {
   "cell_type": "code",
   "execution_count": 159,
   "id": "2d28d67a",
   "metadata": {
    "ExecuteTime": {
     "end_time": "2023-04-28T19:37:21.314585Z",
     "start_time": "2023-04-28T19:37:21.291913Z"
    },
    "id": "TYCSAcHFzHLy"
   },
   "outputs": [],
   "source": [
    "pred1 = mean_pred(pred_groupby_patient)\n",
    "pred2 = majority_pred(pred_groupby_patient)"
   ]
  },
  {
   "cell_type": "code",
   "execution_count": 160,
   "id": "8d0c063f",
   "metadata": {
    "ExecuteTime": {
     "end_time": "2023-04-28T19:29:59.110704Z",
     "start_time": "2023-04-28T19:29:58.979913Z"
    },
    "colab": {
     "base_uri": "https://localhost:8080/"
    },
    "id": "UoHq89-17e8x",
    "outputId": "de9a2982-fd6d-43c6-ee32-54ad1a9f6761",
    "scrolled": false
   },
   "outputs": [
    {
     "name": "stdout",
     "output_type": "stream",
     "text": [
      "[0, 0, 0, 0, 1, 0, 0, 1, 1, 1, 1, 0, 1, 0, 0, 1, 1, 0, 0, 0, 1, 0, 0, 0, 0, 0, 0, 0, 0, 1, 1, 0, 0, 0, 0, 0, 1, 0, 0, 0, 0, 0, 0, 0, 0, 0, 0, 1, 1, 0, 0, 0, 0, 0, 0, 0, 0, 0, 0, 0, 0, 0, 0, 0, 0, 0, 0, 0, 0, 0, 1, 0, 0, 0, 0, 0, 0, 1, 1, 0, 0, 0, 1, 1, 0, 0, 1, 1, 0, 1, 1, 0, 0, 0, 0, 0, 0, 1, 0, 0, 0, 0, 0, 0, 0, 1, 1, 0, 0, 1, 0, 1, 1, 0, 0, 1, 1, 1, 0, 1, 0, 0, 0, 0, 0, 0, 1, 0, 0, 0, 0, 0, 0, 0, 0, 0, 0, 0, 1, 1, 0, 0, 0, 0, 1, 0, 1, 0, 0, 0, 0, 0, 0, 0, 0, 1, 0, 1, 0, 0, 0, 0, 0, 0, 0, 0, 0, 0, 0, 1, 0, 0, 0, 0, 0]\n",
      "[0, 0, 0, 0, 1, 0, 0, 1, 1, 1, 1, 0, 1, 0, 0, 1, 1, 0, 0, 0, 0, 0, 0, 0, 0, 0, 0, 0, 0, 1, 1, 0, 0, 0, 0, 1, 1, 0, 0, 0, 0, 0, 0, 0, 0, 0, 0, 1, 1, 0, 0, 0, 0, 0, 0, 0, 0, 0, 0, 0, 0, 0, 0, 0, 0, 0, 0, 0, 0, 0, 1, 0, 0, 0, 0, 0, 0, 1, 1, 0, 0, 0, 1, 1, 0, 0, 1, 1, 0, 1, 1, 0, 0, 0, 0, 0, 0, 1, 0, 0, 0, 0, 0, 0, 0, 1, 1, 0, 0, 1, 0, 1, 1, 0, 0, 1, 1, 1, 0, 1, 0, 0, 0, 0, 0, 0, 1, 0, 0, 0, 0, 0, 0, 0, 0, 0, 0, 0, 1, 1, 0, 0, 0, 0, 1, 0, 1, 0, 0, 0, 0, 0, 0, 0, 0, 1, 0, 1, 0, 0, 0, 0, 0, 0, 0, 0, 0, 0, 0, 1, 0, 0, 0, 0, 0]\n",
      "[1, 0, 0, 1, 1, 0, 0, 1, 1, 1, 1, 0, 1, 0, 0, 0, 1, 0, 0, 0, 0, 0, 0, 0, 0, 0, 0, 0, 0, 0, 1, 0, 1, 1, 0, 0, 1, 0, 0, 0, 0, 0, 0, 0, 0, 0, 0, 1, 0, 0, 0, 0, 0, 0, 0, 1, 0, 0, 0, 0, 0, 0, 0, 0, 0, 0, 0, 0, 0, 0, 1, 0, 0, 0, 0, 0, 0, 1, 0, 0, 0, 0, 1, 1, 0, 0, 1, 1, 1, 1, 1, 0, 0, 0, 0, 0, 0, 1, 0, 0, 0, 0, 0, 0, 0, 1, 1, 0, 0, 1, 0, 1, 1, 0, 0, 1, 1, 0, 0, 1, 0, 0, 0, 0, 0, 0, 1, 0, 0, 0, 0, 0, 0, 0, 0, 0, 0, 0, 1, 1, 0, 0, 0, 0, 1, 0, 1, 0, 0, 0, 0, 0, 0, 0, 0, 1, 0, 1, 0, 0, 0, 0, 0, 0, 1, 0, 0, 0, 0, 1, 0, 0, 0, 0, 0]\n",
      "Accuracy score of mean_pred :  0.9257142857142857\n",
      "Accuracy score of majority_pred :  0.9257142857142857\n"
     ]
    }
   ],
   "source": [
    "print(pred1)\n",
    "print(pred2)\n",
    "print(y_test_grouped)\n",
    "print(\"Accuracy score of mean_pred : \",accuracy_score(pred1 , y_test_grouped))\n",
    "print(\"Accuracy score of majority_pred : \",accuracy_score(pred2 , y_test_grouped))"
   ]
  },
  {
   "cell_type": "code",
   "execution_count": 161,
   "id": "4245a532",
   "metadata": {},
   "outputs": [
    {
     "data": {
      "text/plain": [
       "<sklearn.metrics._plot.confusion_matrix.ConfusionMatrixDisplay at 0x7f0958dc4490>"
      ]
     },
     "execution_count": 161,
     "metadata": {},
     "output_type": "execute_result"
    },
    {
     "data": {
      "image/png": "[encoded data removed]",
      "text/plain": [
       "<Figure size 640x480 with 2 Axes>"
      ]
     },
     "metadata": {},
     "output_type": "display_data"
    }
   ],
   "source": [
    "ConfusionMatrixDisplay.from_predictions(y_test_grouped, pred2,\n",
    "                                        cmap='Blues', normalize = None)"
   ]
  },
  {
   "cell_type": "code",
   "execution_count": 162,
   "id": "ad8da8cd",
   "metadata": {},
   "outputs": [
    {
     "data": {
      "text/plain": [
       "<sklearn.metrics._plot.confusion_matrix.ConfusionMatrixDisplay at 0x7f08091794b0>"
      ]
     },
     "execution_count": 162,
     "metadata": {},
     "output_type": "execute_result"
    },
    {
     "data": {
      "image/png": "[encoded data removed]",
      "text/plain": [
       "<Figure size 640x480 with 2 Axes>"
      ]
     },
     "metadata": {},
     "output_type": "display_data"
    }
   ],
   "source": [
    "ConfusionMatrixDisplay.from_predictions(y_test_grouped, pred2,\n",
    "                                        cmap='Blues', normalize = 'true')"
   ]
  },
  {
   "cell_type": "code",
   "execution_count": null,
   "id": "c32791f1",
   "metadata": {},
   "outputs": [],
   "source": []
  }
 ],
 "metadata": {
  "kernelspec": {
   "display_name": "Python 3 (ipykernel)",
   "language": "python",
   "name": "python3"
  },
  "language_info": {
   "codemirror_mode": {
    "name": "ipython",
    "version": 3
   },
   "file_extension": ".py",
   "mimetype": "text/x-python",
   "name": "python",
   "nbconvert_exporter": "python",
   "pygments_lexer": "ipython3",
   "version": "3.10.9"
  }
 },
 "nbformat": 4,
 "nbformat_minor": 5
}
