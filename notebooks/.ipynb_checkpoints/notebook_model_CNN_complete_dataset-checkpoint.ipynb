{
 "cells": [
  {
   "cell_type": "code",
   "execution_count": null,
   "metadata": {
    "colab": {
     "base_uri": "https://localhost:8080/"
    },
    "id": "Z0p0gzWY3nTm",
    "outputId": "73f236a6-3eee-4f69-a32c-92e4bdb4dd28"
   },
   "outputs": [
    {
     "name": "stdout",
     "output_type": "stream",
     "text": [
      "Mounted at /content/drive\n"
     ]
    }
   ],
   "source": [
    "from google.colab import drive\n",
    "drive.mount('/content/drive')"
   ]
  },
  {
   "cell_type": "code",
   "execution_count": null,
   "metadata": {
    "id": "QRGvE-Pt3x3c"
   },
   "outputs": [],
   "source": [
    "import sys\n",
    "import tensorflow as tf\n",
    "import matplotlib.pyplot as plt\n",
    "from sklearn import metrics\n",
    "from sklearn.impute import SimpleImputer\n",
    "from sklearn.metrics import accuracy_score\n",
    "import numpy as np, scipy as sp, scipy.stats, os, sys, joblib\n",
    "import os, numpy as np, scipy as sp, scipy.io, scipy.io.wavfile\n",
    "from sklearn.ensemble import RandomForestClassifier\n",
    "from sklearn.model_selection import train_test_split\n",
    "import random\n",
    "import pandas as pd"
   ]
  },
  {
   "cell_type": "code",
   "execution_count": null,
   "metadata": {
    "id": "jaM1gC4B37JJ"
   },
   "outputs": [],
   "source": [
    "path = r'drive/MyDrive/Colab Notebooks/df_complete_data.pkl'\n",
    "df = pd.read_pickle(path)"
   ]
  },
  {
   "cell_type": "code",
   "execution_count": null,
   "metadata": {
    "id": "P9HTtXrm78dV"
   },
   "outputs": [],
   "source": [
    "\n",
    "#check correctness of dataframe loaded\n",
    "for i in range(68261):\n",
    "  if len(df[\"recording\"][i]) != 4096:\n",
    "    print(\"problem sir\")"
   ]
  },
  {
   "cell_type": "code",
   "execution_count": null,
   "metadata": {
    "id": "fElXRT5T4a36"
   },
   "outputs": [],
   "source": [
    "new_df = df[['patient_id', 'murmur']]\n",
    "new_df = new_df.drop_duplicates()"
   ]
  },
  {
   "cell_type": "code",
   "execution_count": null,
   "metadata": {
    "id": "PHkvtE-h6uwl"
   },
   "outputs": [],
   "source": [
    "new_df = new_df.reset_index(drop=True)"
   ]
  },
  {
   "cell_type": "code",
   "execution_count": null,
   "metadata": {
    "colab": {
     "base_uri": "https://localhost:8080/"
    },
    "id": "6T9wZX1WyE83",
    "outputId": "076b86ec-0bee-42cc-ace9-e7110a342bf8"
   },
   "outputs": [
    {
     "name": "stdout",
     "output_type": "stream",
     "text": [
      "179\n",
      "695\n"
     ]
    }
   ],
   "source": [
    "nb_murmur_present = (new_df.loc[new_df['murmur'] == 1]).shape[0]\n",
    "nb_murmur_absent = (new_df.loc[new_df['murmur'] == 0]).shape[0]\n",
    "print(nb_murmur_present)\n",
    "print(nb_murmur_absent)"
   ]
  },
  {
   "cell_type": "code",
   "execution_count": null,
   "metadata": {
    "colab": {
     "base_uri": "https://localhost:8080/",
     "height": 424
    },
    "id": "mzg9rqHzxyal",
    "outputId": "22d218b0-1560-4d6a-e62c-3fae95ff0ecc"
   },
   "outputs": [
    {
     "data": {
      "text/html": [
       "\n",
       "  <div id=\"df-1367dd6f-01ba-45e9-87e1-52c078481673\">\n",
       "    <div class=\"colab-df-container\">\n",
       "      <div>\n",
       "<style scoped>\n",
       "    .dataframe tbody tr th:only-of-type {\n",
       "        vertical-align: middle;\n",
       "    }\n",
       "\n",
       "    .dataframe tbody tr th {\n",
       "        vertical-align: top;\n",
       "    }\n",
       "\n",
       "    .dataframe thead th {\n",
       "        text-align: right;\n",
       "    }\n",
       "</style>\n",
       "<table border=\"1\" class=\"dataframe\">\n",
       "  <thead>\n",
       "    <tr style=\"text-align: right;\">\n",
       "      <th></th>\n",
       "      <th>patient_id</th>\n",
       "      <th>murmur</th>\n",
       "    </tr>\n",
       "  </thead>\n",
       "  <tbody>\n",
       "    <tr>\n",
       "      <th>0</th>\n",
       "      <td>2530.0</td>\n",
       "      <td>0.0</td>\n",
       "    </tr>\n",
       "    <tr>\n",
       "      <th>1</th>\n",
       "      <td>9979.0</td>\n",
       "      <td>1.0</td>\n",
       "    </tr>\n",
       "    <tr>\n",
       "      <th>2</th>\n",
       "      <td>13918.0</td>\n",
       "      <td>1.0</td>\n",
       "    </tr>\n",
       "    <tr>\n",
       "      <th>3</th>\n",
       "      <td>14241.0</td>\n",
       "      <td>1.0</td>\n",
       "    </tr>\n",
       "    <tr>\n",
       "      <th>4</th>\n",
       "      <td>14998.0</td>\n",
       "      <td>0.0</td>\n",
       "    </tr>\n",
       "    <tr>\n",
       "      <th>...</th>\n",
       "      <td>...</td>\n",
       "      <td>...</td>\n",
       "    </tr>\n",
       "    <tr>\n",
       "      <th>869</th>\n",
       "      <td>85340.0</td>\n",
       "      <td>0.0</td>\n",
       "    </tr>\n",
       "    <tr>\n",
       "      <th>870</th>\n",
       "      <td>85341.0</td>\n",
       "      <td>0.0</td>\n",
       "    </tr>\n",
       "    <tr>\n",
       "      <th>871</th>\n",
       "      <td>85343.0</td>\n",
       "      <td>1.0</td>\n",
       "    </tr>\n",
       "    <tr>\n",
       "      <th>872</th>\n",
       "      <td>85345.0</td>\n",
       "      <td>0.0</td>\n",
       "    </tr>\n",
       "    <tr>\n",
       "      <th>873</th>\n",
       "      <td>85349.0</td>\n",
       "      <td>0.0</td>\n",
       "    </tr>\n",
       "  </tbody>\n",
       "</table>\n",
       "<p>874 rows × 2 columns</p>\n",
       "</div>\n",
       "      <button class=\"colab-df-convert\" onclick=\"convertToInteractive('df-1367dd6f-01ba-45e9-87e1-52c078481673')\"\n",
       "              title=\"Convert this dataframe to an interactive table.\"\n",
       "              style=\"display:none;\">\n",
       "        \n",
       "  <svg xmlns=\"http://www.w3.org/2000/svg\" height=\"24px\"viewBox=\"0 0 24 24\"\n",
       "       width=\"24px\">\n",
       "    <path d=\"M0 0h24v24H0V0z\" fill=\"none\"/>\n",
       "    <path d=\"M18.56 5.44l.94 2.06.94-2.06 2.06-.94-2.06-.94-.94-2.06-.94 2.06-2.06.94zm-11 1L8.5 8.5l.94-2.06 2.06-.94-2.06-.94L8.5 2.5l-.94 2.06-2.06.94zm10 10l.94 2.06.94-2.06 2.06-.94-2.06-.94-.94-2.06-.94 2.06-2.06.94z\"/><path d=\"M17.41 7.96l-1.37-1.37c-.4-.4-.92-.59-1.43-.59-.52 0-1.04.2-1.43.59L10.3 9.45l-7.72 7.72c-.78.78-.78 2.05 0 2.83L4 21.41c.39.39.9.59 1.41.59.51 0 1.02-.2 1.41-.59l7.78-7.78 2.81-2.81c.8-.78.8-2.07 0-2.86zM5.41 20L4 18.59l7.72-7.72 1.47 1.35L5.41 20z\"/>\n",
       "  </svg>\n",
       "      </button>\n",
       "      \n",
       "  <style>\n",
       "    .colab-df-container {\n",
       "      display:flex;\n",
       "      flex-wrap:wrap;\n",
       "      gap: 12px;\n",
       "    }\n",
       "\n",
       "    .colab-df-convert {\n",
       "      background-color: #E8F0FE;\n",
       "      border: none;\n",
       "      border-radius: 50%;\n",
       "      cursor: pointer;\n",
       "      display: none;\n",
       "      fill: #1967D2;\n",
       "      height: 32px;\n",
       "      padding: 0 0 0 0;\n",
       "      width: 32px;\n",
       "    }\n",
       "\n",
       "    .colab-df-convert:hover {\n",
       "      background-color: #E2EBFA;\n",
       "      box-shadow: 0px 1px 2px rgba(60, 64, 67, 0.3), 0px 1px 3px 1px rgba(60, 64, 67, 0.15);\n",
       "      fill: #174EA6;\n",
       "    }\n",
       "\n",
       "    [theme=dark] .colab-df-convert {\n",
       "      background-color: #3B4455;\n",
       "      fill: #D2E3FC;\n",
       "    }\n",
       "\n",
       "    [theme=dark] .colab-df-convert:hover {\n",
       "      background-color: #434B5C;\n",
       "      box-shadow: 0px 1px 3px 1px rgba(0, 0, 0, 0.15);\n",
       "      filter: drop-shadow(0px 1px 2px rgba(0, 0, 0, 0.3));\n",
       "      fill: #FFFFFF;\n",
       "    }\n",
       "  </style>\n",
       "\n",
       "      <script>\n",
       "        const buttonEl =\n",
       "          document.querySelector('#df-1367dd6f-01ba-45e9-87e1-52c078481673 button.colab-df-convert');\n",
       "        buttonEl.style.display =\n",
       "          google.colab.kernel.accessAllowed ? 'block' : 'none';\n",
       "\n",
       "        async function convertToInteractive(key) {\n",
       "          const element = document.querySelector('#df-1367dd6f-01ba-45e9-87e1-52c078481673');\n",
       "          const dataTable =\n",
       "            await google.colab.kernel.invokeFunction('convertToInteractive',\n",
       "                                                     [key], {});\n",
       "          if (!dataTable) return;\n",
       "\n",
       "          const docLinkHtml = 'Like what you see? Visit the ' +\n",
       "            '<a target=\"_blank\" href=https://colab.research.google.com/notebooks/data_table.ipynb>data table notebook</a>'\n",
       "            + ' to learn more about interactive tables.';\n",
       "          element.innerHTML = '';\n",
       "          dataTable['output_type'] = 'display_data';\n",
       "          await google.colab.output.renderOutput(dataTable, element);\n",
       "          const docLink = document.createElement('div');\n",
       "          docLink.innerHTML = docLinkHtml;\n",
       "          element.appendChild(docLink);\n",
       "        }\n",
       "      </script>\n",
       "    </div>\n",
       "  </div>\n",
       "  "
      ],
      "text/plain": [
       "     patient_id  murmur\n",
       "0        2530.0     0.0\n",
       "1        9979.0     1.0\n",
       "2       13918.0     1.0\n",
       "3       14241.0     1.0\n",
       "4       14998.0     0.0\n",
       "..          ...     ...\n",
       "869     85340.0     0.0\n",
       "870     85341.0     0.0\n",
       "871     85343.0     1.0\n",
       "872     85345.0     0.0\n",
       "873     85349.0     0.0\n",
       "\n",
       "[874 rows x 2 columns]"
      ]
     },
     "execution_count": 8,
     "metadata": {},
     "output_type": "execute_result"
    }
   ],
   "source": [
    "new_df"
   ]
  },
  {
   "cell_type": "code",
   "execution_count": null,
   "metadata": {
    "id": "Un2S1LxU675v"
   },
   "outputs": [],
   "source": [
    "list_id = new_df['patient_id']\n",
    "list_label = new_df['murmur']"
   ]
  },
  {
   "cell_type": "code",
   "execution_count": null,
   "metadata": {
    "colab": {
     "base_uri": "https://localhost:8080/",
     "height": 71
    },
    "id": "MNAjMblwwWaG",
    "outputId": "f922be3b-8a5c-4543-c2c5-f18ebb96f4dd"
   },
   "outputs": [
    {
     "data": {
      "application/vnd.google.colaboratory.intrinsic+json": {
       "type": "string"
      },
      "text/plain": [
       "'\\ndef get_balanced_dataset(X,y):\\n  ones = np.where(np.array(y)==1)\\n  zeros = np.where(np.array(y)==0)\\n  ones = ones[0]\\n  zeros = zeros[0]\\n  trunc = ones.shape[0] - zeros.shape[0]\\n  zeros = zeros[:trunc]\\n  new_X=[]\\n  new_y=[]\\n  for i in ones:\\n    new_X.append(X[i])\\n    new_y.append(y[i])\\n  for j in zeros:\\n    new_X.append(X[j])\\n    new_y.append(y[j])\\n  return new_X,new_y\\n'"
      ]
     },
     "execution_count": 10,
     "metadata": {},
     "output_type": "execute_result"
    }
   ],
   "source": [
    "\"\"\"\n",
    "def get_balanced_dataset(X,y):\n",
    "  ones = np.where(np.array(y)==1)\n",
    "  zeros = np.where(np.array(y)==0)\n",
    "  ones = ones[0]\n",
    "  zeros = zeros[0]\n",
    "  trunc = ones.shape[0] - zeros.shape[0]\n",
    "  zeros = zeros[:trunc]\n",
    "  new_X=[]\n",
    "  new_y=[]\n",
    "  for i in ones:\n",
    "    new_X.append(X[i])\n",
    "    new_y.append(y[i])\n",
    "  for j in zeros:\n",
    "    new_X.append(X[j])\n",
    "    new_y.append(y[j])\n",
    "  return new_X,new_y\n",
    "\"\"\""
   ]
  },
  {
   "cell_type": "code",
   "execution_count": null,
   "metadata": {
    "id": "a6O4idCkwaFz"
   },
   "outputs": [],
   "source": [
    "#list_id,list_label = get_balanced_dataset(list_id,list_label)"
   ]
  },
  {
   "cell_type": "code",
   "execution_count": null,
   "metadata": {
    "id": "uR6aqz5g9oOj"
   },
   "outputs": [],
   "source": [
    "id_train, id_valtest, label_train, label_valtest = train_test_split(list_id, list_label , test_size=0.2, random_state=42)\n",
    "id_val, id_test, label_val, label_test = train_test_split(id_valtest, label_valtest , test_size=0.5, random_state=42)"
   ]
  },
  {
   "cell_type": "code",
   "execution_count": null,
   "metadata": {
    "id": "BlEJD1ce4H1O"
   },
   "outputs": [],
   "source": [
    "def select_rows(id_list,dframe):\n",
    "  #for id in list_id:\n",
    "  sub_df = df.loc[df['patient_id'].isin([int(id) for id in id_list])]\n",
    "  return sub_df\n",
    "\n",
    "df_train = select_rows(id_train,df)\n",
    "df_val = select_rows(id_val,df)\n",
    "df_test = select_rows(id_test,df)"
   ]
  },
  {
   "cell_type": "code",
   "execution_count": null,
   "metadata": {
    "colab": {
     "base_uri": "https://localhost:8080/"
    },
    "id": "E2w-MxY1_ClQ",
    "outputId": "7601a9e6-5067-499d-c1a1-9850f8b57ebc"
   },
   "outputs": [
    {
     "name": "stdout",
     "output_type": "stream",
     "text": [
      "Nb of rows of murmur absent :  43344\n",
      "Nb of rows of murmur present :  10999\n"
     ]
    }
   ],
   "source": [
    "print(\"Nb of rows of murmur absent : \",(df_train.loc[df_train['murmur'] == 0]).shape[0])\n",
    "print(\"Nb of rows of murmur present : \",(df_train.loc[df_train['murmur'] == 1]).shape[0])"
   ]
  },
  {
   "cell_type": "code",
   "execution_count": null,
   "metadata": {
    "id": "jfbOL3Un_ESV"
   },
   "outputs": [],
   "source": [
    "X_train = np.vstack(df_train['recording'])\n",
    "y_train = np.array(df_train['murmur'])\n",
    "\n",
    "X_val = np.vstack(df_val['recording'])\n",
    "y_val = np.array(df_val['murmur'])\n",
    "\n",
    "X_test = np.vstack(df_test['recording'])\n",
    "y_test = np.array(df_test['murmur'])"
   ]
  },
  {
   "cell_type": "code",
   "execution_count": null,
   "metadata": {
    "id": "YAlU7MUoCi6r"
   },
   "outputs": [],
   "source": [
    "X_train = X_train.reshape(len(X_train),len(X_train[1]),1)\n",
    "X_val = X_val.reshape(len(X_val),len(X_val[1]),1)\n",
    "X_test = X_test.reshape(len(X_test),len(X_test[1]),1)"
   ]
  },
  {
   "cell_type": "code",
   "execution_count": null,
   "metadata": {
    "id": "L4opRxvN_pmS"
   },
   "outputs": [],
   "source": [
    "def make_model(input_shape):\n",
    "    input_layer = tf.keras.layers.Input(shape=(input_shape[0],input_shape[1]))\n",
    "    #input_layer = tf.keras.layers.Embedding(input_dim=input_shape[0], output_dim=input_shape[0], mask_zero=True)(input_layer)\n",
    "    #lstm1 = tf.keras.layers.LSTM(128)(input_layer)\n",
    "    #lstm1 = tf.keras.layers.Dropout(0.2)(lstm1)\n",
    "    #lstm2 = tf.keras.layers.LSTM(64)(lstm1)\n",
    "    #lstm2 = tf.keras.layers.Dropout(0.2)(lstm2)\n",
    "    conv1 = tf.keras.layers.Conv1D(filters=32, kernel_size=3, padding=\"same\")(input_layer)\n",
    "    conv1 = tf.keras.layers.BatchNormalization()(conv1)\n",
    "    conv1 = tf.keras.layers.ReLU()(conv1)\n",
    "    #pool1 = tf.keras.layers.MaxPool1D(pool_size=(3,), padding='same')(conv1)\n",
    "    conv2 = tf.keras.layers.Conv1D(filters=64, kernel_size=3, padding=\"same\")(conv1)\n",
    "    conv2 = tf.keras.layers.BatchNormalization()(conv2)\n",
    "    conv2 = tf.keras.layers.ReLU()(conv2)\n",
    "    #pool2 = tf.keras.layers.MaxPool1D(pool_size=(3,), padding='same')(conv2)\n",
    "    #input_conv = tf.keras.layers.Permute((2,1))(input_layer)\n",
    "    conv3 = tf.keras.layers.Conv1D(filters=128, kernel_size=3, padding=\"same\")(conv2)\n",
    "    conv3 = tf.keras.layers.BatchNormalization()(conv3)\n",
    "    conv3 = tf.keras.layers.ReLU()(conv3)\n",
    "\n",
    "    #gap = tf.keras.layers.GlobalAveragePooling1D()(conv3)\n",
    "    #concat = tf.keras.layers.Concatenate([lstm1,gap])\n",
    "    #lstm1 = tf.keras.layers.LSTM(32,return_sequences=True)(conv3)\n",
    "    #lstm1 = tf.keras.layers.Dropout(0.2)(lstm1)\n",
    "\n",
    "    #lstm1 = tf.keras.layers.LSTM(32,return_sequences=True)(lstm1)\n",
    "    #lstm1 = tf.keras.layers.Dropout(0.2)(lstm1)\n",
    "\n",
    "    gap = tf.keras.layers.GlobalAveragePooling1D()(conv3)\n",
    "\n",
    "    dense = tf.keras.layers.Dense(32, activation='relu')(gap)\n",
    "    dense = tf.keras.layers.BatchNormalization()(dense)\n",
    "    dense = tf.keras.layers.Dropout(0.125)(dense)\n",
    "\n",
    "    output_layer = tf.keras.layers.Dense(1, activation=\"sigmoid\")(dense)\n",
    "\n",
    "    return tf.keras.models.Model(inputs=input_layer, outputs=output_layer)\n",
    "\n",
    "\n",
    "model = make_model(input_shape=X_train.shape[1:])"
   ]
  },
  {
   "cell_type": "code",
   "execution_count": null,
   "metadata": {
    "colab": {
     "base_uri": "https://localhost:8080/"
    },
    "id": "f_gayKfl_qdh",
    "outputId": "c89a53d7-5f9a-4fd0-80cd-3ed494a52926"
   },
   "outputs": [
    {
     "name": "stdout",
     "output_type": "stream",
     "text": [
      "Model: \"model\"\n",
      "_________________________________________________________________\n",
      " Layer (type)                Output Shape              Param #   \n",
      "=================================================================\n",
      " input_1 (InputLayer)        [(None, 4096, 1)]         0         \n",
      "                                                                 \n",
      " conv1d (Conv1D)             (None, 4096, 32)          128       \n",
      "                                                                 \n",
      " batch_normalization (BatchN  (None, 4096, 32)         128       \n",
      " ormalization)                                                   \n",
      "                                                                 \n",
      " re_lu (ReLU)                (None, 4096, 32)          0         \n",
      "                                                                 \n",
      " conv1d_1 (Conv1D)           (None, 4096, 64)          6208      \n",
      "                                                                 \n",
      " batch_normalization_1 (Batc  (None, 4096, 64)         256       \n",
      " hNormalization)                                                 \n",
      "                                                                 \n",
      " re_lu_1 (ReLU)              (None, 4096, 64)          0         \n",
      "                                                                 \n",
      " conv1d_2 (Conv1D)           (None, 4096, 128)         24704     \n",
      "                                                                 \n",
      " batch_normalization_2 (Batc  (None, 4096, 128)        512       \n",
      " hNormalization)                                                 \n",
      "                                                                 \n",
      " re_lu_2 (ReLU)              (None, 4096, 128)         0         \n",
      "                                                                 \n",
      " global_average_pooling1d (G  (None, 128)              0         \n",
      " lobalAveragePooling1D)                                          \n",
      "                                                                 \n",
      " dense (Dense)               (None, 32)                4128      \n",
      "                                                                 \n",
      " batch_normalization_3 (Batc  (None, 32)               128       \n",
      " hNormalization)                                                 \n",
      "                                                                 \n",
      " dropout (Dropout)           (None, 32)                0         \n",
      "                                                                 \n",
      " dense_1 (Dense)             (None, 1)                 33        \n",
      "                                                                 \n",
      "=================================================================\n",
      "Total params: 36,225\n",
      "Trainable params: 35,713\n",
      "Non-trainable params: 512\n",
      "_________________________________________________________________\n"
     ]
    }
   ],
   "source": [
    "model.summary()"
   ]
  },
  {
   "cell_type": "code",
   "execution_count": null,
   "metadata": {
    "colab": {
     "base_uri": "https://localhost:8080/"
    },
    "id": "hyYFCrlJEGsk",
    "outputId": "44605680-af0f-443b-d235-cae850fdbd43"
   },
   "outputs": [
    {
     "name": "stdout",
     "output_type": "stream",
     "text": [
      "Epoch 1/100\n",
      "850/850 [==============================] - 68s 75ms/step - loss: 0.4685 - acc: 0.8084 - auc: 0.6734 - val_loss: 0.4461 - val_acc: 0.8265 - val_auc: 0.6526 - lr: 0.0010\n",
      "Epoch 2/100\n",
      "850/850 [==============================] - 64s 75ms/step - loss: 0.4601 - acc: 0.8128 - auc: 0.6850 - val_loss: 0.4386 - val_acc: 0.8323 - val_auc: 0.6504 - lr: 0.0010\n",
      "Epoch 3/100\n",
      "850/850 [==============================] - 63s 74ms/step - loss: 0.4553 - acc: 0.8130 - auc: 0.6946 - val_loss: 0.4832 - val_acc: 0.8122 - val_auc: 0.6443 - lr: 0.0010\n",
      "Epoch 4/100\n",
      "850/850 [==============================] - 64s 75ms/step - loss: 0.4534 - acc: 0.8143 - auc: 0.6983 - val_loss: 0.4496 - val_acc: 0.8248 - val_auc: 0.6316 - lr: 0.0010\n",
      "Epoch 5/100\n",
      "850/850 [==============================] - 64s 75ms/step - loss: 0.4530 - acc: 0.8146 - auc: 0.6978 - val_loss: 0.4760 - val_acc: 0.8167 - val_auc: 0.5953 - lr: 0.0010\n",
      "Epoch 6/100\n",
      "850/850 [==============================] - 63s 74ms/step - loss: 0.4515 - acc: 0.8153 - auc: 0.7012 - val_loss: 0.4624 - val_acc: 0.8252 - val_auc: 0.6493 - lr: 0.0010\n",
      "Epoch 7/100\n",
      "850/850 [==============================] - 63s 74ms/step - loss: 0.4485 - acc: 0.8170 - auc: 0.7060 - val_loss: 0.4460 - val_acc: 0.8295 - val_auc: 0.6606 - lr: 0.0010\n",
      "Epoch 8/100\n",
      "850/850 [==============================] - 63s 74ms/step - loss: 0.4479 - acc: 0.8185 - auc: 0.7073 - val_loss: 0.4421 - val_acc: 0.8322 - val_auc: 0.6547 - lr: 0.0010\n",
      "Epoch 9/100\n",
      "850/850 [==============================] - 63s 75ms/step - loss: 0.4449 - acc: 0.8191 - auc: 0.7131 - val_loss: 0.4581 - val_acc: 0.8254 - val_auc: 0.6343 - lr: 0.0010\n",
      "Epoch 10/100\n",
      "850/850 [==============================] - 63s 74ms/step - loss: 0.4443 - acc: 0.8180 - auc: 0.7141 - val_loss: 0.4644 - val_acc: 0.8239 - val_auc: 0.6415 - lr: 0.0010\n",
      "Epoch 11/100\n",
      "850/850 [==============================] - 64s 75ms/step - loss: 0.4419 - acc: 0.8205 - auc: 0.7181 - val_loss: 0.4423 - val_acc: 0.8331 - val_auc: 0.6634 - lr: 0.0010\n",
      "Epoch 12/100\n",
      "850/850 [==============================] - 63s 74ms/step - loss: 0.4410 - acc: 0.8207 - auc: 0.7191 - val_loss: 0.5877 - val_acc: 0.7390 - val_auc: 0.6590 - lr: 0.0010\n",
      "Epoch 13/100\n",
      "850/850 [==============================] - 63s 74ms/step - loss: 0.4410 - acc: 0.8212 - auc: 0.7197 - val_loss: 0.4727 - val_acc: 0.8281 - val_auc: 0.6786 - lr: 0.0010\n",
      "Epoch 14/100\n",
      "850/850 [==============================] - 64s 75ms/step - loss: 0.4390 - acc: 0.8218 - auc: 0.7235 - val_loss: 0.5166 - val_acc: 0.7697 - val_auc: 0.6714 - lr: 0.0010\n",
      "Epoch 15/100\n",
      "850/850 [==============================] - 63s 74ms/step - loss: 0.4390 - acc: 0.8210 - auc: 0.7239 - val_loss: 0.4446 - val_acc: 0.8326 - val_auc: 0.6356 - lr: 0.0010\n",
      "Epoch 16/100\n",
      "850/850 [==============================] - 64s 75ms/step - loss: 0.4390 - acc: 0.8218 - auc: 0.7226 - val_loss: 0.4576 - val_acc: 0.8297 - val_auc: 0.6569 - lr: 0.0010\n",
      "Epoch 17/100\n",
      "850/850 [==============================] - 64s 75ms/step - loss: 0.4376 - acc: 0.8223 - auc: 0.7253 - val_loss: 0.4782 - val_acc: 0.8163 - val_auc: 0.5950 - lr: 0.0010\n",
      "Epoch 18/100\n",
      "850/850 [==============================] - 64s 75ms/step - loss: 0.4370 - acc: 0.8227 - auc: 0.7268 - val_loss: 0.4894 - val_acc: 0.8096 - val_auc: 0.6607 - lr: 0.0010\n",
      "Epoch 19/100\n",
      "850/850 [==============================] - 64s 75ms/step - loss: 0.4361 - acc: 0.8224 - auc: 0.7270 - val_loss: 0.4414 - val_acc: 0.8353 - val_auc: 0.6596 - lr: 0.0010\n",
      "Epoch 20/100\n",
      "850/850 [==============================] - 63s 75ms/step - loss: 0.4353 - acc: 0.8233 - auc: 0.7298 - val_loss: 0.4896 - val_acc: 0.8243 - val_auc: 0.6626 - lr: 0.0010\n",
      "Epoch 21/100\n",
      "850/850 [==============================] - 64s 75ms/step - loss: 0.4349 - acc: 0.8229 - auc: 0.7315 - val_loss: 0.4429 - val_acc: 0.8319 - val_auc: 0.6585 - lr: 0.0010\n",
      "Epoch 22/100\n",
      "850/850 [==============================] - 64s 75ms/step - loss: 0.4343 - acc: 0.8244 - auc: 0.7307 - val_loss: 0.4534 - val_acc: 0.8277 - val_auc: 0.6226 - lr: 0.0010\n",
      "Epoch 23/100\n",
      "850/850 [==============================] - 64s 76ms/step - loss: 0.4303 - acc: 0.8253 - auc: 0.7384 - val_loss: 0.4655 - val_acc: 0.8293 - val_auc: 0.6595 - lr: 5.0000e-04\n",
      "Epoch 24/100\n",
      "850/850 [==============================] - 64s 75ms/step - loss: 0.4290 - acc: 0.8258 - auc: 0.7385 - val_loss: 0.4534 - val_acc: 0.8326 - val_auc: 0.6413 - lr: 5.0000e-04\n",
      "Epoch 25/100\n",
      "850/850 [==============================] - 64s 76ms/step - loss: 0.4287 - acc: 0.8267 - auc: 0.7402 - val_loss: 0.4714 - val_acc: 0.8164 - val_auc: 0.6649 - lr: 5.0000e-04\n",
      "Epoch 26/100\n",
      "850/850 [==============================] - 64s 75ms/step - loss: 0.4289 - acc: 0.8255 - auc: 0.7409 - val_loss: 0.4576 - val_acc: 0.8286 - val_auc: 0.6603 - lr: 5.0000e-04\n",
      "Epoch 27/100\n",
      "850/850 [==============================] - 64s 75ms/step - loss: 0.4281 - acc: 0.8271 - auc: 0.7411 - val_loss: 0.4458 - val_acc: 0.8342 - val_auc: 0.6571 - lr: 5.0000e-04\n",
      "Epoch 28/100\n",
      "850/850 [==============================] - 64s 76ms/step - loss: 0.4288 - acc: 0.8257 - auc: 0.7413 - val_loss: 0.4976 - val_acc: 0.8095 - val_auc: 0.6524 - lr: 5.0000e-04\n",
      "Epoch 29/100\n",
      "850/850 [==============================] - 64s 75ms/step - loss: 0.4272 - acc: 0.8255 - auc: 0.7438 - val_loss: 0.4443 - val_acc: 0.8324 - val_auc: 0.6647 - lr: 5.0000e-04\n",
      "Epoch 30/100\n",
      "850/850 [==============================] - 64s 75ms/step - loss: 0.4269 - acc: 0.8260 - auc: 0.7443 - val_loss: 0.4614 - val_acc: 0.8322 - val_auc: 0.6576 - lr: 5.0000e-04\n",
      "Epoch 31/100\n",
      "850/850 [==============================] - 64s 75ms/step - loss: 0.4280 - acc: 0.8260 - auc: 0.7416 - val_loss: 0.4451 - val_acc: 0.8320 - val_auc: 0.6537 - lr: 5.0000e-04\n",
      "Epoch 32/100\n",
      "850/850 [==============================] - 64s 75ms/step - loss: 0.4279 - acc: 0.8263 - auc: 0.7427 - val_loss: 0.4406 - val_acc: 0.8313 - val_auc: 0.6729 - lr: 5.0000e-04\n",
      "Epoch 33/100\n",
      "850/850 [==============================] - 63s 75ms/step - loss: 0.4267 - acc: 0.8269 - auc: 0.7442 - val_loss: 0.4760 - val_acc: 0.8254 - val_auc: 0.6468 - lr: 5.0000e-04\n",
      "Epoch 34/100\n",
      "850/850 [==============================] - 64s 75ms/step - loss: 0.4261 - acc: 0.8269 - auc: 0.7459 - val_loss: 0.4468 - val_acc: 0.8326 - val_auc: 0.6756 - lr: 5.0000e-04\n",
      "Epoch 35/100\n",
      "850/850 [==============================] - 64s 75ms/step - loss: 0.4259 - acc: 0.8279 - auc: 0.7453 - val_loss: 0.4564 - val_acc: 0.8360 - val_auc: 0.6270 - lr: 5.0000e-04\n",
      "Epoch 36/100\n",
      "850/850 [==============================] - 63s 75ms/step - loss: 0.4258 - acc: 0.8273 - auc: 0.7444 - val_loss: 0.4551 - val_acc: 0.8322 - val_auc: 0.6640 - lr: 5.0000e-04\n",
      "Epoch 37/100\n",
      "850/850 [==============================] - 64s 75ms/step - loss: 0.4256 - acc: 0.8276 - auc: 0.7452 - val_loss: 0.4615 - val_acc: 0.8315 - val_auc: 0.6708 - lr: 5.0000e-04\n",
      "Epoch 38/100\n",
      "850/850 [==============================] - 64s 75ms/step - loss: 0.4256 - acc: 0.8267 - auc: 0.7466 - val_loss: 0.4663 - val_acc: 0.8298 - val_auc: 0.6629 - lr: 5.0000e-04\n",
      "Epoch 39/100\n",
      "850/850 [==============================] - 63s 74ms/step - loss: 0.4237 - acc: 0.8281 - auc: 0.7492 - val_loss: 0.5458 - val_acc: 0.7683 - val_auc: 0.6556 - lr: 5.0000e-04\n",
      "Epoch 40/100\n",
      "850/850 [==============================] - 63s 74ms/step - loss: 0.4251 - acc: 0.8273 - auc: 0.7472 - val_loss: 0.4469 - val_acc: 0.8331 - val_auc: 0.6710 - lr: 5.0000e-04\n",
      "Epoch 41/100\n",
      "850/850 [==============================] - 63s 74ms/step - loss: 0.4248 - acc: 0.8279 - auc: 0.7482 - val_loss: 0.4950 - val_acc: 0.8236 - val_auc: 0.6706 - lr: 5.0000e-04\n",
      "Epoch 42/100\n",
      "850/850 [==============================] - 63s 75ms/step - loss: 0.4237 - acc: 0.8280 - auc: 0.7486 - val_loss: 0.4592 - val_acc: 0.8297 - val_auc: 0.6674 - lr: 5.0000e-04\n",
      "Epoch 43/100\n",
      "850/850 [==============================] - 63s 74ms/step - loss: 0.4217 - acc: 0.8289 - auc: 0.7530 - val_loss: 0.4529 - val_acc: 0.8269 - val_auc: 0.6674 - lr: 2.5000e-04\n",
      "Epoch 44/100\n",
      "850/850 [==============================] - 64s 75ms/step - loss: 0.4190 - acc: 0.8299 - auc: 0.7560 - val_loss: 0.4493 - val_acc: 0.8328 - val_auc: 0.6542 - lr: 2.5000e-04\n",
      "Epoch 45/100\n",
      "850/850 [==============================] - 63s 75ms/step - loss: 0.4196 - acc: 0.8304 - auc: 0.7552 - val_loss: 0.4472 - val_acc: 0.8308 - val_auc: 0.6488 - lr: 2.5000e-04\n",
      "Epoch 46/100\n",
      "850/850 [==============================] - 64s 76ms/step - loss: 0.4195 - acc: 0.8297 - auc: 0.7565 - val_loss: 0.4519 - val_acc: 0.8298 - val_auc: 0.6573 - lr: 2.5000e-04\n",
      "Epoch 47/100\n",
      "850/850 [==============================] - 64s 75ms/step - loss: 0.4193 - acc: 0.8304 - auc: 0.7562 - val_loss: 0.4900 - val_acc: 0.8071 - val_auc: 0.6653 - lr: 2.5000e-04\n",
      "Epoch 48/100\n",
      "850/850 [==============================] - 65s 76ms/step - loss: 0.4186 - acc: 0.8310 - auc: 0.7567 - val_loss: 0.4658 - val_acc: 0.8281 - val_auc: 0.6392 - lr: 2.5000e-04\n",
      "Epoch 49/100\n",
      "850/850 [==============================] - 64s 75ms/step - loss: 0.4185 - acc: 0.8297 - auc: 0.7571 - val_loss: 0.4483 - val_acc: 0.8312 - val_auc: 0.6724 - lr: 2.5000e-04\n",
      "Epoch 50/100\n",
      "850/850 [==============================] - 64s 76ms/step - loss: 0.4181 - acc: 0.8298 - auc: 0.7583 - val_loss: 0.4671 - val_acc: 0.8330 - val_auc: 0.6533 - lr: 2.5000e-04\n",
      "Epoch 51/100\n",
      "850/850 [==============================] - 64s 75ms/step - loss: 0.4191 - acc: 0.8311 - auc: 0.7560 - val_loss: 0.4487 - val_acc: 0.8317 - val_auc: 0.6622 - lr: 2.5000e-04\n",
      "Epoch 52/100\n",
      "850/850 [==============================] - 64s 76ms/step - loss: 0.4175 - acc: 0.8305 - auc: 0.7595 - val_loss: 0.4463 - val_acc: 0.8324 - val_auc: 0.6567 - lr: 2.5000e-04\n",
      "Epoch 52: early stopping\n"
     ]
    }
   ],
   "source": [
    "\n",
    "epochs = 100\n",
    "batch_size = 64\n",
    "\n",
    "callbacks = [\n",
    "    tf.keras.callbacks.ModelCheckpoint(\n",
    "        \"best_model.h5\", save_best_only=True, monitor=\"val_loss\"\n",
    "    ),\n",
    "    tf.keras.callbacks.ReduceLROnPlateau(\n",
    "        monitor=\"val_loss\", factor=0.5, patience=20, min_lr=0.0001\n",
    "    ),\n",
    "    tf.keras.callbacks.EarlyStopping(monitor=\"val_loss\", patience=50, verbose=1),\n",
    "]\n",
    "model.compile(\n",
    "    optimizer=\"adam\",\n",
    "    #optimizer=opt,\n",
    "    loss=\"binary_crossentropy\",\n",
    "    metrics=[\"acc\",tf.keras.metrics.AUC(name='auc')],\n",
    "    #metrics=[tf.keras.metrics.CategoricalAccuracy(name='acc')],\n",
    ")\n",
    "history = model.fit(\n",
    "    X_train,\n",
    "    np.array(y_train),\n",
    "    batch_size=batch_size,\n",
    "    epochs=epochs,\n",
    "    callbacks=callbacks,\n",
    "    validation_data=(X_val,np.array(y_val)),\n",
    "    verbose=1,\n",
    ")"
   ]
  },
  {
   "cell_type": "code",
   "execution_count": null,
   "metadata": {
    "colab": {
     "base_uri": "https://localhost:8080/"
    },
    "id": "NRjdR3E9M6bp",
    "outputId": "d96c53fc-6c1c-4941-a4fc-97de5b9960a0"
   },
   "outputs": [
    {
     "name": "stdout",
     "output_type": "stream",
     "text": [
      "Test loss: 0.3984576463699341\n",
      "Test accuracy: 0.8492146730422974\n"
     ]
    }
   ],
   "source": [
    "score = model.evaluate(X_test, y_test, verbose = 0) \n",
    "\n",
    "print('Test loss:', score[0]) \n",
    "print('Test accuracy:', score[1])"
   ]
  },
  {
   "cell_type": "code",
   "execution_count": null,
   "metadata": {
    "colab": {
     "base_uri": "https://localhost:8080/"
    },
    "id": "PYQLQItpOKBp",
    "outputId": "61c9d790-341c-4b8a-a731-74616d9732b9"
   },
   "outputs": [
    {
     "name": "stdout",
     "output_type": "stream",
     "text": [
      "209/209 [==============================] - 2s 9ms/step\n",
      "[[0.09832203]\n",
      " [0.0846205 ]\n",
      " [0.10420237]\n",
      " ...\n",
      " [0.10649452]\n",
      " [0.03906907]\n",
      " [0.2129561 ]]\n"
     ]
    }
   ],
   "source": [
    "pred = model.predict(X_test)\n",
    "print(pred)"
   ]
  },
  {
   "cell_type": "code",
   "execution_count": null,
   "metadata": {
    "id": "ZyOqTnS9W--A"
   },
   "outputs": [],
   "source": [
    "def check_max_pred(prd):\n",
    "  max=0\n",
    "  for i in prd:\n",
    "    if i[0] > max:\n",
    "      max = i[0]\n",
    "  print(max)"
   ]
  },
  {
   "cell_type": "code",
   "execution_count": null,
   "metadata": {
    "colab": {
     "base_uri": "https://localhost:8080/"
    },
    "id": "Vt9hHlHde5G2",
    "outputId": "6a391d6c-1acc-4bfc-d8f3-597d302c87b6"
   },
   "outputs": [
    {
     "name": "stdout",
     "output_type": "stream",
     "text": [
      "0.994975\n"
     ]
    }
   ],
   "source": [
    "check_max_pred(pred)"
   ]
  },
  {
   "cell_type": "code",
   "execution_count": null,
   "metadata": {
    "id": "Dh7gibaQiOsw"
   },
   "outputs": [],
   "source": [
    "list_patient_rows = list(df_test.groupby(['patient_id'])['patient_id'].count())"
   ]
  },
  {
   "cell_type": "code",
   "execution_count": null,
   "metadata": {
    "id": "ByfsYZiaiqj3"
   },
   "outputs": [],
   "source": [
    "def cumulative(lists): \n",
    "    cu_list = [] \n",
    "    length = len(lists) \n",
    "    cu_list = [sum(lists[0:x:1]) for x in range(0, length+1)] \n",
    "    return cu_list[1:]"
   ]
  },
  {
   "cell_type": "code",
   "execution_count": null,
   "metadata": {
    "id": "FBeasPNClnpb"
   },
   "outputs": [],
   "source": [
    "pred_groupby_patient = np.split(pred,cumulative(list_patient_rows))\n",
    "pred_groupby_patient = pred_groupby_patient[:-1]\n",
    "\n",
    "df_test = df_test.astype({'murmur':'int'})\n",
    "y_test_grouped = df_test[['patient_id','murmur']].drop_duplicates()['murmur'].to_list()"
   ]
  },
  {
   "cell_type": "code",
   "execution_count": null,
   "metadata": {
    "id": "cKJrhB9QwQ3_"
   },
   "outputs": [],
   "source": [
    "def mean_pred(prediction):\n",
    "  pred = []\n",
    "  for i in prediction:\n",
    "    lst = [ j[0] for j in i]\n",
    "    avg = sum(lst)/len(lst)\n",
    "    if avg > 0.5:\n",
    "      pred.append(1)\n",
    "    else:\n",
    "      pred.append(0)\n",
    "  return pred\n",
    "\n",
    "def majority_pred(prediction):\n",
    "  pred = []\n",
    "  for i in prediction:\n",
    "    lst = [ j[0] for j in i]\n",
    "    if (sum(elem > 0.5 for elem in lst)) > (len(lst)/2):\n",
    "      pred.append(1)\n",
    "    else:\n",
    "      pred.append(0)\n",
    "  return pred\n"
   ]
  },
  {
   "cell_type": "code",
   "execution_count": null,
   "metadata": {
    "id": "TYCSAcHFzHLy"
   },
   "outputs": [],
   "source": [
    "pred1 = mean_pred(pred_groupby_patient)\n",
    "pred2 = majority_pred(pred_groupby_patient)\n",
    "\n"
   ]
  },
  {
   "cell_type": "code",
   "execution_count": null,
   "metadata": {
    "colab": {
     "base_uri": "https://localhost:8080/"
    },
    "id": "UoHq89-17e8x",
    "outputId": "cd48623a-96dc-4cfe-9206-65f355dba977"
   },
   "outputs": [
    {
     "name": "stdout",
     "output_type": "stream",
     "text": [
      "[0, 0, 0, 0, 0, 0, 1, 0, 0, 0, 0, 0, 0, 0, 0, 0, 0, 0, 0, 0, 0, 0, 0, 0, 0, 0, 0, 0, 0, 0, 0, 0, 0, 0, 0, 1, 1, 1, 0, 0, 0, 0, 0, 0, 0, 0, 0, 0, 0, 0, 0, 0, 0, 0, 0, 0, 0, 1, 0, 0, 0, 0, 0, 0, 0, 0, 0, 0, 0, 0, 0, 1, 0, 0, 0, 0, 0, 0, 0, 0, 0, 1, 0, 0, 0, 0, 0, 0]\n",
      "[0, 0, 0, 0, 0, 0, 1, 0, 0, 0, 0, 0, 0, 0, 0, 0, 0, 0, 0, 0, 0, 0, 0, 0, 0, 0, 0, 0, 0, 0, 0, 0, 0, 0, 0, 1, 0, 1, 0, 0, 0, 0, 0, 0, 0, 0, 0, 0, 0, 0, 0, 0, 0, 0, 0, 0, 0, 1, 0, 0, 0, 0, 0, 0, 0, 0, 0, 0, 0, 0, 0, 1, 0, 0, 0, 0, 0, 0, 0, 0, 0, 1, 0, 0, 0, 0, 0, 0]\n",
      "[1, 0, 1, 0, 0, 1, 1, 0, 1, 0, 0, 1, 0, 0, 0, 1, 0, 0, 0, 0, 0, 0, 0, 0, 0, 0, 0, 0, 0, 0, 0, 0, 0, 1, 0, 1, 1, 1, 0, 0, 0, 0, 1, 0, 0, 0, 1, 1, 0, 1, 0, 0, 0, 0, 0, 0, 0, 1, 0, 0, 0, 1, 0, 0, 1, 0, 0, 0, 0, 0, 0, 1, 0, 0, 0, 0, 0, 0, 0, 0, 0, 1, 0, 0, 0, 1, 1, 0]\n",
      "Accuracy score of mean_pred :  0.8295454545454546\n",
      "Accuracy score of majority_pred :  0.8181818181818182\n"
     ]
    }
   ],
   "source": [
    "print(pred1)\n",
    "print(pred2)\n",
    "print(y_test_grouped)\n",
    "print(\"Accuracy score of mean_pred : \",accuracy_score(pred1 , y_test_grouped))\n",
    "print(\"Accuracy score of majority_pred : \",accuracy_score(pred2 , y_test_grouped))"
   ]
  },
  {
   "cell_type": "code",
   "execution_count": null,
   "metadata": {
    "colab": {
     "base_uri": "https://localhost:8080/"
    },
    "id": "Va4k-0WH4FZw",
    "outputId": "4f6b6364-4d7e-4d5c-9fc7-d46493f75b99"
   },
   "outputs": [
    {
     "data": {
      "text/plain": [
       "<tf.Tensor: shape=(2, 2), dtype=int32, numpy=\n",
       "array([[66,  0],\n",
       "       [15,  7]], dtype=int32)>"
      ]
     },
     "execution_count": 34,
     "metadata": {},
     "output_type": "execute_result"
    }
   ],
   "source": [
    "tf.math.confusion_matrix(labels=y_test_grouped,predictions=pred1)"
   ]
  },
  {
   "cell_type": "code",
   "execution_count": null,
   "metadata": {
    "colab": {
     "base_uri": "https://localhost:8080/",
     "height": 301
    },
    "id": "SO30vCJawoVq",
    "outputId": "f476dc2f-6709-4e34-fa2a-d7ae3cb750ee"
   },
   "outputs": [
    {
     "data": {
      "text/plain": [
       "<sklearn.metrics._plot.confusion_matrix.ConfusionMatrixDisplay at 0x7f297284aca0>"
      ]
     },
     "execution_count": 40,
     "metadata": {},
     "output_type": "execute_result"
    },
    {
     "data": {
      "image/png": "[encoded data removed]",
      "text/plain": [
       "<Figure size 432x288 with 2 Axes>"
      ]
     },
     "metadata": {
      "needs_background": "light"
     },
     "output_type": "display_data"
    }
   ],
   "source": [
    "from sklearn.metrics import ConfusionMatrixDisplay\n",
    "ConfusionMatrixDisplay.from_predictions(y_test_grouped, pred1,\n",
    "                                        cmap='Blues', normalize = 'true')"
   ]
  },
  {
   "cell_type": "code",
   "execution_count": null,
   "metadata": {
    "id": "W3KBasIG6uA9"
   },
   "outputs": [],
   "source": []
  }
 ],
 "metadata": {
  "accelerator": "GPU",
  "colab": {
   "provenance": []
  },
  "gpuClass": "standard",
  "kernelspec": {
   "display_name": "Python 3",
   "name": "python3"
  },
  "language_info": {
   "name": "python"
  }
 },
 "nbformat": 4,
 "nbformat_minor": 0
}
