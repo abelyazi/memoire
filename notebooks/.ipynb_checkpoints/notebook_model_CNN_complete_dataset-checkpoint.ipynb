{
 "cells": [
  {
   "cell_type": "code",
   "execution_count": 2,
   "id": "eada695a",
   "metadata": {
    "ExecuteTime": {
     "end_time": "2023-06-22T20:27:28.338325Z",
     "start_time": "2023-06-22T20:27:28.325752Z"
    },
    "id": "QRGvE-Pt3x3c"
   },
   "outputs": [
    {
     "name": "stdout",
     "output_type": "stream",
     "text": [
      "Num GPUs Available:  1\n"
     ]
    },
    {
     "name": "stderr",
     "output_type": "stream",
     "text": [
      "2023-07-09 22:35:34.627839: I tensorflow/compiler/xla/stream_executor/cuda/cuda_gpu_executor.cc:995] successful NUMA node read from SysFS had negative value (-1), but there must be at least one NUMA node, so returning NUMA node zero. See more at https://github.com/torvalds/linux/blob/v6.0/Documentation/ABI/testing/sysfs-bus-pci#L344-L355\n",
      "2023-07-09 22:35:34.640382: I tensorflow/compiler/xla/stream_executor/cuda/cuda_gpu_executor.cc:995] successful NUMA node read from SysFS had negative value (-1), but there must be at least one NUMA node, so returning NUMA node zero. See more at https://github.com/torvalds/linux/blob/v6.0/Documentation/ABI/testing/sysfs-bus-pci#L344-L355\n",
      "2023-07-09 22:35:34.640472: I tensorflow/compiler/xla/stream_executor/cuda/cuda_gpu_executor.cc:995] successful NUMA node read from SysFS had negative value (-1), but there must be at least one NUMA node, so returning NUMA node zero. See more at https://github.com/torvalds/linux/blob/v6.0/Documentation/ABI/testing/sysfs-bus-pci#L344-L355\n"
     ]
    }
   ],
   "source": [
    "import sys\n",
    "import tensorflow as tf\n",
    "import matplotlib.pyplot as plt\n",
    "from sklearn import metrics\n",
    "from sklearn.impute import SimpleImputer\n",
    "from sklearn.metrics import accuracy_score\n",
    "import numpy as np, scipy as sp, scipy.stats, os, sys, joblib\n",
    "import os, numpy as np, scipy as sp, scipy.io, scipy.io.wavfile\n",
    "from sklearn.ensemble import RandomForestClassifier\n",
    "from sklearn.model_selection import train_test_split\n",
    "from sklearn.metrics import ConfusionMatrixDisplay\n",
    "from sklearn.metrics import balanced_accuracy_score\n",
    "from sklearn.utils import class_weight\n",
    "import random\n",
    "import pandas as pd\n",
    "import importlib\n",
    "import useful_functions\n",
    "import preprocessing_functions\n",
    "import Chatgpt_model\n",
    "print(\"Num GPUs Available: \", len(tf.config.list_physical_devices('GPU')))"
   ]
  },
  {
   "cell_type": "code",
   "execution_count": 3,
   "id": "89021430",
   "metadata": {
    "ExecuteTime": {
     "end_time": "2023-06-22T20:28:02.185714Z",
     "start_time": "2023-06-22T20:28:02.152645Z"
    }
   },
   "outputs": [],
   "source": [
    "importlib.reload(useful_functions)\n",
    "importlib.reload(preprocessing_functions)\n",
    "importlib.reload(Chatgpt_model)\n",
    "from useful_functions import *\n",
    "from preprocessing_functions import *\n",
    "from Chatgpt_model import *"
   ]
  },
  {
   "cell_type": "code",
   "execution_count": 4,
   "id": "a411c3a7",
   "metadata": {},
   "outputs": [],
   "source": [
    " # Define the data and model foldes.\n",
    "data_folder = r\"../training_data\"\n",
    "model_folder = r\"../model\"\n",
    "wind_size = 6000\n",
    "verbose = 3"
   ]
  },
  {
   "cell_type": "code",
   "execution_count": 5,
   "id": "c8b4da30",
   "metadata": {},
   "outputs": [
    {
     "data": {
      "text/html": [
       "<div>\n",
       "<style scoped>\n",
       "    .dataframe tbody tr th:only-of-type {\n",
       "        vertical-align: middle;\n",
       "    }\n",
       "\n",
       "    .dataframe tbody tr th {\n",
       "        vertical-align: top;\n",
       "    }\n",
       "\n",
       "    .dataframe thead th {\n",
       "        text-align: right;\n",
       "    }\n",
       "</style>\n",
       "<table border=\"1\" class=\"dataframe\">\n",
       "  <thead>\n",
       "    <tr style=\"text-align: right;\">\n",
       "      <th></th>\n",
       "      <th>patient_id</th>\n",
       "      <th>recording_type</th>\n",
       "      <th>recording</th>\n",
       "      <th>murmur</th>\n",
       "    </tr>\n",
       "  </thead>\n",
       "  <tbody>\n",
       "    <tr>\n",
       "      <th>0</th>\n",
       "      <td>2530.0</td>\n",
       "      <td>1.0</td>\n",
       "      <td>[254.62053374948147, 332.41397606699405, -727....</td>\n",
       "      <td>0.0</td>\n",
       "    </tr>\n",
       "    <tr>\n",
       "      <th>1</th>\n",
       "      <td>2530.0</td>\n",
       "      <td>1.0</td>\n",
       "      <td>[20.550841480663475, -18.884669077279337, 152....</td>\n",
       "      <td>0.0</td>\n",
       "    </tr>\n",
       "    <tr>\n",
       "      <th>2</th>\n",
       "      <td>2530.0</td>\n",
       "      <td>1.0</td>\n",
       "      <td>[2296.0082592261, 1161.8953810714854, 106.9764...</td>\n",
       "      <td>0.0</td>\n",
       "    </tr>\n",
       "    <tr>\n",
       "      <th>3</th>\n",
       "      <td>2530.0</td>\n",
       "      <td>1.0</td>\n",
       "      <td>[-1.2132347511973676, -24.042684343382245, -14...</td>\n",
       "      <td>0.0</td>\n",
       "    </tr>\n",
       "    <tr>\n",
       "      <th>4</th>\n",
       "      <td>2530.0</td>\n",
       "      <td>1.0</td>\n",
       "      <td>[219.40892010033423, 106.21377642082071, 296.9...</td>\n",
       "      <td>0.0</td>\n",
       "    </tr>\n",
       "  </tbody>\n",
       "</table>\n",
       "</div>"
      ],
      "text/plain": [
       "   patient_id  recording_type  \\\n",
       "0      2530.0             1.0   \n",
       "1      2530.0             1.0   \n",
       "2      2530.0             1.0   \n",
       "3      2530.0             1.0   \n",
       "4      2530.0             1.0   \n",
       "\n",
       "                                           recording  murmur  \n",
       "0  [254.62053374948147, 332.41397606699405, -727....     0.0  \n",
       "1  [20.550841480663475, -18.884669077279337, 152....     0.0  \n",
       "2  [2296.0082592261, 1161.8953810714854, 106.9764...     0.0  \n",
       "3  [-1.2132347511973676, -24.042684343382245, -14...     0.0  \n",
       "4  [219.40892010033423, 106.21377642082071, 296.9...     0.0  "
      ]
     },
     "execution_count": 5,
     "metadata": {},
     "output_type": "execute_result"
    }
   ],
   "source": [
    "recordings,patient_label,patient_id = create_rec_patient_list(data_folder)\n",
    "df = build_dataset_df(recordings,patient_id,patient_label,wind_size)\n",
    "df.head()"
   ]
  },
  {
   "cell_type": "code",
   "execution_count": 7,
   "metadata": {
    "id": "P9HTtXrm78dV"
   },
   "outputs": [],
   "source": [
    "#check correctness of dataframe loaded\n",
    "for i in range(df.shape[0]):\n",
    "  if len(df[\"recording\"][i]) != 6000:\n",
    "    print(\"problem sir\")"
   ]
  },
  {
   "cell_type": "code",
   "execution_count": 8,
   "metadata": {
    "id": "fElXRT5T4a36"
   },
   "outputs": [],
   "source": [
    "new_df = df[['patient_id', 'murmur']]\n",
    "new_df = new_df.drop_duplicates()"
   ]
  },
  {
   "cell_type": "code",
   "execution_count": 9,
   "metadata": {
    "id": "PHkvtE-h6uwl"
   },
   "outputs": [],
   "source": [
    "new_df = new_df.reset_index(drop=True)"
   ]
  },
  {
   "cell_type": "code",
   "execution_count": 10,
   "metadata": {
    "colab": {
     "base_uri": "https://localhost:8080/"
    },
    "id": "6T9wZX1WyE83",
    "outputId": "076b86ec-0bee-42cc-ace9-e7110a342bf8"
   },
   "outputs": [
    {
     "name": "stdout",
     "output_type": "stream",
     "text": [
      "179\n",
      "695\n"
     ]
    }
   ],
   "source": [
    "nb_murmur_present = (new_df.loc[new_df['murmur'] == 1]).shape[0]\n",
    "nb_murmur_absent = (new_df.loc[new_df['murmur'] == 0]).shape[0]\n",
    "print(nb_murmur_present)\n",
    "print(nb_murmur_absent)"
   ]
  },
  {
   "cell_type": "code",
   "execution_count": 11,
   "metadata": {
    "colab": {
     "base_uri": "https://localhost:8080/",
     "height": 424
    },
    "id": "mzg9rqHzxyal",
    "outputId": "22d218b0-1560-4d6a-e62c-3fae95ff0ecc"
   },
   "outputs": [
    {
     "data": {
      "text/html": [
       "<div>\n",
       "<style scoped>\n",
       "    .dataframe tbody tr th:only-of-type {\n",
       "        vertical-align: middle;\n",
       "    }\n",
       "\n",
       "    .dataframe tbody tr th {\n",
       "        vertical-align: top;\n",
       "    }\n",
       "\n",
       "    .dataframe thead th {\n",
       "        text-align: right;\n",
       "    }\n",
       "</style>\n",
       "<table border=\"1\" class=\"dataframe\">\n",
       "  <thead>\n",
       "    <tr style=\"text-align: right;\">\n",
       "      <th></th>\n",
       "      <th>patient_id</th>\n",
       "      <th>murmur</th>\n",
       "    </tr>\n",
       "  </thead>\n",
       "  <tbody>\n",
       "    <tr>\n",
       "      <th>0</th>\n",
       "      <td>2530.0</td>\n",
       "      <td>0.0</td>\n",
       "    </tr>\n",
       "    <tr>\n",
       "      <th>1</th>\n",
       "      <td>9979.0</td>\n",
       "      <td>1.0</td>\n",
       "    </tr>\n",
       "    <tr>\n",
       "      <th>2</th>\n",
       "      <td>13918.0</td>\n",
       "      <td>1.0</td>\n",
       "    </tr>\n",
       "    <tr>\n",
       "      <th>3</th>\n",
       "      <td>14241.0</td>\n",
       "      <td>1.0</td>\n",
       "    </tr>\n",
       "    <tr>\n",
       "      <th>4</th>\n",
       "      <td>14998.0</td>\n",
       "      <td>0.0</td>\n",
       "    </tr>\n",
       "    <tr>\n",
       "      <th>...</th>\n",
       "      <td>...</td>\n",
       "      <td>...</td>\n",
       "    </tr>\n",
       "    <tr>\n",
       "      <th>869</th>\n",
       "      <td>85340.0</td>\n",
       "      <td>0.0</td>\n",
       "    </tr>\n",
       "    <tr>\n",
       "      <th>870</th>\n",
       "      <td>85341.0</td>\n",
       "      <td>0.0</td>\n",
       "    </tr>\n",
       "    <tr>\n",
       "      <th>871</th>\n",
       "      <td>85343.0</td>\n",
       "      <td>1.0</td>\n",
       "    </tr>\n",
       "    <tr>\n",
       "      <th>872</th>\n",
       "      <td>85345.0</td>\n",
       "      <td>0.0</td>\n",
       "    </tr>\n",
       "    <tr>\n",
       "      <th>873</th>\n",
       "      <td>85349.0</td>\n",
       "      <td>0.0</td>\n",
       "    </tr>\n",
       "  </tbody>\n",
       "</table>\n",
       "<p>874 rows × 2 columns</p>\n",
       "</div>"
      ],
      "text/plain": [
       "     patient_id  murmur\n",
       "0        2530.0     0.0\n",
       "1        9979.0     1.0\n",
       "2       13918.0     1.0\n",
       "3       14241.0     1.0\n",
       "4       14998.0     0.0\n",
       "..          ...     ...\n",
       "869     85340.0     0.0\n",
       "870     85341.0     0.0\n",
       "871     85343.0     1.0\n",
       "872     85345.0     0.0\n",
       "873     85349.0     0.0\n",
       "\n",
       "[874 rows x 2 columns]"
      ]
     },
     "execution_count": 11,
     "metadata": {},
     "output_type": "execute_result"
    }
   ],
   "source": [
    "new_df"
   ]
  },
  {
   "cell_type": "code",
   "execution_count": 12,
   "metadata": {
    "id": "Un2S1LxU675v"
   },
   "outputs": [],
   "source": [
    "list_id = new_df['patient_id']\n",
    "list_label = new_df['murmur']"
   ]
  },
  {
   "cell_type": "code",
   "execution_count": 16,
   "metadata": {
    "id": "uR6aqz5g9oOj"
   },
   "outputs": [],
   "source": [
    "id_train, id_valtest, label_train, label_valtest = train_test_split(list_id, list_label , test_size=0.4, random_state=42)\n",
    "id_val, id_test, label_val, label_test = train_test_split(id_valtest, label_valtest , test_size=0.5, random_state=42)"
   ]
  },
  {
   "cell_type": "code",
   "execution_count": 17,
   "metadata": {
    "id": "BlEJD1ce4H1O"
   },
   "outputs": [],
   "source": [
    "def select_rows(id_list,dframe):\n",
    "  #for id in list_id:\n",
    "  sub_df = df.loc[df['patient_id'].isin([int(id) for id in id_list])]\n",
    "  return sub_df\n",
    "\n",
    "df_train = select_rows(id_train,df)\n",
    "df_val = select_rows(id_val,df)\n",
    "df_test = select_rows(id_test,df)"
   ]
  },
  {
   "cell_type": "code",
   "execution_count": 18,
   "metadata": {
    "colab": {
     "base_uri": "https://localhost:8080/"
    },
    "id": "E2w-MxY1_ClQ",
    "outputId": "7601a9e6-5067-499d-c1a1-9850f8b57ebc"
   },
   "outputs": [
    {
     "name": "stdout",
     "output_type": "stream",
     "text": [
      "Nb of rows of murmur absent :  11832\n",
      "Nb of rows of murmur present :  2697\n"
     ]
    }
   ],
   "source": [
    "print(\"Nb of rows of murmur absent : \",(df_train.loc[df_train['murmur'] == 0]).shape[0])\n",
    "print(\"Nb of rows of murmur present : \",(df_train.loc[df_train['murmur'] == 1]).shape[0])"
   ]
  },
  {
   "cell_type": "code",
   "execution_count": 19,
   "metadata": {
    "id": "jfbOL3Un_ESV"
   },
   "outputs": [],
   "source": [
    "X_train = np.vstack(df_train['recording'])\n",
    "y_train = np.array(df_train['murmur'])\n",
    "\n",
    "X_val = np.vstack(df_val['recording'])\n",
    "y_val = np.array(df_val['murmur'])\n",
    "\n",
    "X_test = np.vstack(df_test['recording'])\n",
    "y_test = np.array(df_test['murmur'])"
   ]
  },
  {
   "cell_type": "code",
   "execution_count": 20,
   "metadata": {
    "id": "YAlU7MUoCi6r"
   },
   "outputs": [],
   "source": [
    "X_train = X_train.reshape(len(X_train),len(X_train[1]),1)\n",
    "X_val = X_val.reshape(len(X_val),len(X_val[1]),1)\n",
    "X_test = X_test.reshape(len(X_test),len(X_test[1]),1)"
   ]
  },
  {
   "cell_type": "code",
   "execution_count": 21,
   "metadata": {
    "id": "L4opRxvN_pmS"
   },
   "outputs": [
    {
     "name": "stderr",
     "output_type": "stream",
     "text": [
      "2023-07-09 22:37:53.023766: I tensorflow/compiler/xla/stream_executor/cuda/cuda_gpu_executor.cc:995] successful NUMA node read from SysFS had negative value (-1), but there must be at least one NUMA node, so returning NUMA node zero. See more at https://github.com/torvalds/linux/blob/v6.0/Documentation/ABI/testing/sysfs-bus-pci#L344-L355\n",
      "2023-07-09 22:37:53.023877: I tensorflow/compiler/xla/stream_executor/cuda/cuda_gpu_executor.cc:995] successful NUMA node read from SysFS had negative value (-1), but there must be at least one NUMA node, so returning NUMA node zero. See more at https://github.com/torvalds/linux/blob/v6.0/Documentation/ABI/testing/sysfs-bus-pci#L344-L355\n",
      "2023-07-09 22:37:53.023920: I tensorflow/compiler/xla/stream_executor/cuda/cuda_gpu_executor.cc:995] successful NUMA node read from SysFS had negative value (-1), but there must be at least one NUMA node, so returning NUMA node zero. See more at https://github.com/torvalds/linux/blob/v6.0/Documentation/ABI/testing/sysfs-bus-pci#L344-L355\n",
      "2023-07-09 22:37:53.139009: I tensorflow/compiler/xla/stream_executor/cuda/cuda_gpu_executor.cc:995] successful NUMA node read from SysFS had negative value (-1), but there must be at least one NUMA node, so returning NUMA node zero. See more at https://github.com/torvalds/linux/blob/v6.0/Documentation/ABI/testing/sysfs-bus-pci#L344-L355\n",
      "2023-07-09 22:37:53.139098: I tensorflow/compiler/xla/stream_executor/cuda/cuda_gpu_executor.cc:995] successful NUMA node read from SysFS had negative value (-1), but there must be at least one NUMA node, so returning NUMA node zero. See more at https://github.com/torvalds/linux/blob/v6.0/Documentation/ABI/testing/sysfs-bus-pci#L344-L355\n",
      "2023-07-09 22:37:53.139147: I tensorflow/compiler/xla/stream_executor/cuda/cuda_gpu_executor.cc:995] successful NUMA node read from SysFS had negative value (-1), but there must be at least one NUMA node, so returning NUMA node zero. See more at https://github.com/torvalds/linux/blob/v6.0/Documentation/ABI/testing/sysfs-bus-pci#L344-L355\n",
      "2023-07-09 22:37:53.139189: I tensorflow/core/common_runtime/gpu/gpu_device.cc:1639] Created device /job:localhost/replica:0/task:0/device:GPU:0 with 1089 MB memory:  -> device: 0, name: NVIDIA GeForce RTX 4070 Ti, pci bus id: 0000:01:00.0, compute capability: 8.9\n"
     ]
    }
   ],
   "source": [
    "def make_model(input_shape):\n",
    "    input_layer = tf.keras.layers.Input(shape=(input_shape[0],input_shape[1]))\n",
    "    #input_layer = tf.keras.layers.Embedding(input_dim=input_shape[0], output_dim=input_shape[0], mask_zero=True)(input_layer)\n",
    "    #lstm1 = tf.keras.layers.LSTM(128)(input_layer)\n",
    "    #lstm1 = tf.keras.layers.Dropout(0.2)(lstm1)\n",
    "    #lstm2 = tf.keras.layers.LSTM(64)(lstm1)\n",
    "    #lstm2 = tf.keras.layers.Dropout(0.2)(lstm2)\n",
    "    conv1 = tf.keras.layers.Conv1D(filters=32, kernel_size=3, padding=\"same\")(input_layer)\n",
    "    conv1 = tf.keras.layers.BatchNormalization()(conv1)\n",
    "    conv1 = tf.keras.layers.ReLU()(conv1)\n",
    "    #pool1 = tf.keras.layers.MaxPool1D(pool_size=(3,), padding='same')(conv1)\n",
    "    conv2 = tf.keras.layers.Conv1D(filters=64, kernel_size=3, padding=\"same\")(conv1)\n",
    "    conv2 = tf.keras.layers.BatchNormalization()(conv2)\n",
    "    conv2 = tf.keras.layers.ReLU()(conv2)\n",
    "    #pool2 = tf.keras.layers.MaxPool1D(pool_size=(3,), padding='same')(conv2)\n",
    "    #input_conv = tf.keras.layers.Permute((2,1))(input_layer)\n",
    "    conv3 = tf.keras.layers.Conv1D(filters=128, kernel_size=3, padding=\"same\")(conv2)\n",
    "    conv3 = tf.keras.layers.BatchNormalization()(conv3)\n",
    "    conv3 = tf.keras.layers.ReLU()(conv3)\n",
    "\n",
    "    #gap = tf.keras.layers.GlobalAveragePooling1D()(conv3)\n",
    "    #concat = tf.keras.layers.Concatenate([lstm1,gap])\n",
    "    #lstm1 = tf.keras.layers.LSTM(32,return_sequences=True)(conv3)\n",
    "    #lstm1 = tf.keras.layers.Dropout(0.2)(lstm1)\n",
    "\n",
    "    #lstm1 = tf.keras.layers.LSTM(32,return_sequences=True)(lstm1)\n",
    "    #lstm1 = tf.keras.layers.Dropout(0.2)(lstm1)\n",
    "\n",
    "    gap = tf.keras.layers.GlobalAveragePooling1D()(conv3)\n",
    "\n",
    "    dense = tf.keras.layers.Dense(32, activation='relu')(gap)\n",
    "    dense = tf.keras.layers.BatchNormalization()(dense)\n",
    "    dense = tf.keras.layers.Dropout(0.125)(dense)\n",
    "\n",
    "    output_layer = tf.keras.layers.Dense(1, activation=\"sigmoid\")(dense)\n",
    "\n",
    "    return tf.keras.models.Model(inputs=input_layer, outputs=output_layer)\n",
    "\n",
    "\n",
    "model = make_model(input_shape=X_train.shape[1:])"
   ]
  },
  {
   "cell_type": "code",
   "execution_count": 22,
   "metadata": {
    "colab": {
     "base_uri": "https://localhost:8080/"
    },
    "id": "f_gayKfl_qdh",
    "outputId": "c89a53d7-5f9a-4fd0-80cd-3ed494a52926"
   },
   "outputs": [
    {
     "name": "stdout",
     "output_type": "stream",
     "text": [
      "Model: \"model\"\n",
      "_________________________________________________________________\n",
      " Layer (type)                Output Shape              Param #   \n",
      "=================================================================\n",
      " input_1 (InputLayer)        [(None, 6000, 1)]         0         \n",
      "                                                                 \n",
      " conv1d (Conv1D)             (None, 6000, 32)          128       \n",
      "                                                                 \n",
      " batch_normalization (Batch  (None, 6000, 32)          128       \n",
      " Normalization)                                                  \n",
      "                                                                 \n",
      " re_lu (ReLU)                (None, 6000, 32)          0         \n",
      "                                                                 \n",
      " conv1d_1 (Conv1D)           (None, 6000, 64)          6208      \n",
      "                                                                 \n",
      " batch_normalization_1 (Bat  (None, 6000, 64)          256       \n",
      " chNormalization)                                                \n",
      "                                                                 \n",
      " re_lu_1 (ReLU)              (None, 6000, 64)          0         \n",
      "                                                                 \n",
      " conv1d_2 (Conv1D)           (None, 6000, 128)         24704     \n",
      "                                                                 \n",
      " batch_normalization_2 (Bat  (None, 6000, 128)         512       \n",
      " chNormalization)                                                \n",
      "                                                                 \n",
      " re_lu_2 (ReLU)              (None, 6000, 128)         0         \n",
      "                                                                 \n",
      " global_average_pooling1d (  (None, 128)               0         \n",
      " GlobalAveragePooling1D)                                         \n",
      "                                                                 \n",
      " dense (Dense)               (None, 32)                4128      \n",
      "                                                                 \n",
      " batch_normalization_3 (Bat  (None, 32)                128       \n",
      " chNormalization)                                                \n",
      "                                                                 \n",
      " dropout (Dropout)           (None, 32)                0         \n",
      "                                                                 \n",
      " dense_1 (Dense)             (None, 1)                 33        \n",
      "                                                                 \n",
      "=================================================================\n",
      "Total params: 36225 (141.50 KB)\n",
      "Trainable params: 35713 (139.50 KB)\n",
      "Non-trainable params: 512 (2.00 KB)\n",
      "_________________________________________________________________\n"
     ]
    }
   ],
   "source": [
    "model.summary()"
   ]
  },
  {
   "cell_type": "code",
   "execution_count": 26,
   "metadata": {
    "colab": {
     "base_uri": "https://localhost:8080/"
    },
    "id": "hyYFCrlJEGsk",
    "outputId": "44605680-af0f-443b-d235-cae850fdbd43"
   },
   "outputs": [
    {
     "name": "stderr",
     "output_type": "stream",
     "text": [
      "2023-07-09 22:42:45.007608: W tensorflow/tsl/framework/bfc_allocator.cc:485] Allocator (GPU_0_bfc) ran out of memory trying to allocate 56.8KiB (rounded to 58368)requested by op _EagerConst\n",
      "If the cause is memory fragmentation maybe the environment variable 'TF_GPU_ALLOCATOR=cuda_malloc_async' will improve the situation. \n",
      "Current allocation summary follows.\n",
      "Current allocation summary follows.\n",
      "2023-07-09 22:42:45.007665: I tensorflow/tsl/framework/bfc_allocator.cc:1039] BFCAllocator dump for GPU_0_bfc\n",
      "2023-07-09 22:42:45.007684: I tensorflow/tsl/framework/bfc_allocator.cc:1046] Bin (256): \tTotal Chunks: 123, Chunks in use: 123. 30.8KiB allocated for chunks. 30.8KiB in use in bin. 9.4KiB client-requested in use in bin.\n",
      "2023-07-09 22:42:45.007695: I tensorflow/tsl/framework/bfc_allocator.cc:1046] Bin (512): \tTotal Chunks: 22, Chunks in use: 22. 11.0KiB allocated for chunks. 11.0KiB in use in bin. 10.4KiB client-requested in use in bin.\n",
      "2023-07-09 22:42:45.007704: I tensorflow/tsl/framework/bfc_allocator.cc:1046] Bin (1024): \tTotal Chunks: 13, Chunks in use: 13. 13.2KiB allocated for chunks. 13.2KiB in use in bin. 10.4KiB client-requested in use in bin.\n",
      "2023-07-09 22:42:45.007714: I tensorflow/tsl/framework/bfc_allocator.cc:1046] Bin (2048): \tTotal Chunks: 0, Chunks in use: 0. 0B allocated for chunks. 0B in use in bin. 0B client-requested in use in bin.\n",
      "2023-07-09 22:42:45.007724: I tensorflow/tsl/framework/bfc_allocator.cc:1046] Bin (4096): \tTotal Chunks: 0, Chunks in use: 0. 0B allocated for chunks. 0B in use in bin. 0B client-requested in use in bin.\n",
      "2023-07-09 22:42:45.007732: I tensorflow/tsl/framework/bfc_allocator.cc:1046] Bin (8192): \tTotal Chunks: 0, Chunks in use: 0. 0B allocated for chunks. 0B in use in bin. 0B client-requested in use in bin.\n",
      "2023-07-09 22:42:45.007743: I tensorflow/tsl/framework/bfc_allocator.cc:1046] Bin (16384): \tTotal Chunks: 8, Chunks in use: 8. 152.0KiB allocated for chunks. 152.0KiB in use in bin. 152.0KiB client-requested in use in bin.\n",
      "2023-07-09 22:42:45.007759: I tensorflow/tsl/framework/bfc_allocator.cc:1046] Bin (32768): \tTotal Chunks: 4, Chunks in use: 4. 191.5KiB allocated for chunks. 191.5KiB in use in bin. 161.5KiB client-requested in use in bin.\n",
      "2023-07-09 22:42:45.007768: I tensorflow/tsl/framework/bfc_allocator.cc:1046] Bin (65536): \tTotal Chunks: 5, Chunks in use: 5. 480.0KiB allocated for chunks. 480.0KiB in use in bin. 480.0KiB client-requested in use in bin.\n",
      "2023-07-09 22:42:45.007776: I tensorflow/tsl/framework/bfc_allocator.cc:1046] Bin (131072): \tTotal Chunks: 0, Chunks in use: 0. 0B allocated for chunks. 0B in use in bin. 0B client-requested in use in bin.\n",
      "2023-07-09 22:42:45.007784: I tensorflow/tsl/framework/bfc_allocator.cc:1046] Bin (262144): \tTotal Chunks: 0, Chunks in use: 0. 0B allocated for chunks. 0B in use in bin. 0B client-requested in use in bin.\n",
      "2023-07-09 22:42:45.007791: I tensorflow/tsl/framework/bfc_allocator.cc:1046] Bin (524288): \tTotal Chunks: 0, Chunks in use: 0. 0B allocated for chunks. 0B in use in bin. 0B client-requested in use in bin.\n",
      "2023-07-09 22:42:45.007799: I tensorflow/tsl/framework/bfc_allocator.cc:1046] Bin (1048576): \tTotal Chunks: 0, Chunks in use: 0. 0B allocated for chunks. 0B in use in bin. 0B client-requested in use in bin.\n",
      "2023-07-09 22:42:45.007806: I tensorflow/tsl/framework/bfc_allocator.cc:1046] Bin (2097152): \tTotal Chunks: 0, Chunks in use: 0. 0B allocated for chunks. 0B in use in bin. 0B client-requested in use in bin.\n",
      "2023-07-09 22:42:45.007813: I tensorflow/tsl/framework/bfc_allocator.cc:1046] Bin (4194304): \tTotal Chunks: 0, Chunks in use: 0. 0B allocated for chunks. 0B in use in bin. 0B client-requested in use in bin.\n",
      "2023-07-09 22:42:45.007821: I tensorflow/tsl/framework/bfc_allocator.cc:1046] Bin (8388608): \tTotal Chunks: 0, Chunks in use: 0. 0B allocated for chunks. 0B in use in bin. 0B client-requested in use in bin.\n",
      "2023-07-09 22:42:45.007828: I tensorflow/tsl/framework/bfc_allocator.cc:1046] Bin (16777216): \tTotal Chunks: 0, Chunks in use: 0. 0B allocated for chunks. 0B in use in bin. 0B client-requested in use in bin.\n",
      "2023-07-09 22:42:45.007840: I tensorflow/tsl/framework/bfc_allocator.cc:1046] Bin (33554432): \tTotal Chunks: 0, Chunks in use: 0. 0B allocated for chunks. 0B in use in bin. 0B client-requested in use in bin.\n",
      "2023-07-09 22:42:45.007848: I tensorflow/tsl/framework/bfc_allocator.cc:1046] Bin (67108864): \tTotal Chunks: 0, Chunks in use: 0. 0B allocated for chunks. 0B in use in bin. 0B client-requested in use in bin.\n",
      "2023-07-09 22:42:45.007856: I tensorflow/tsl/framework/bfc_allocator.cc:1046] Bin (134217728): \tTotal Chunks: 0, Chunks in use: 0. 0B allocated for chunks. 0B in use in bin. 0B client-requested in use in bin.\n",
      "2023-07-09 22:42:45.007865: I tensorflow/tsl/framework/bfc_allocator.cc:1046] Bin (268435456): \tTotal Chunks: 3, Chunks in use: 3. 1.06GiB allocated for chunks. 1.06GiB in use in bin. 997.63MiB client-requested in use in bin.\n",
      "2023-07-09 22:42:45.007875: I tensorflow/tsl/framework/bfc_allocator.cc:1062] Bin for 57.0KiB was 32.0KiB, Chunk State: \n",
      "2023-07-09 22:42:45.007882: I tensorflow/tsl/framework/bfc_allocator.cc:1075] Next region of size 1142620160\n",
      "2023-07-09 22:42:45.007895: I tensorflow/tsl/framework/bfc_allocator.cc:1095] InUse at 7f504a000000 of size 1280 next 1\n",
      "2023-07-09 22:42:45.007903: I tensorflow/tsl/framework/bfc_allocator.cc:1095] InUse at 7f504a000500 of size 256 next 2\n",
      "2023-07-09 22:42:45.007911: I tensorflow/tsl/framework/bfc_allocator.cc:1095] InUse at 7f504a000600 of size 256 next 3\n",
      "2023-07-09 22:42:45.007919: I tensorflow/tsl/framework/bfc_allocator.cc:1095] InUse at 7f504a000700 of size 256 next 5\n",
      "2023-07-09 22:42:45.007927: I tensorflow/tsl/framework/bfc_allocator.cc:1095] InUse at 7f504a000800 of size 256 next 6\n",
      "2023-07-09 22:42:45.007933: I tensorflow/tsl/framework/bfc_allocator.cc:1095] InUse at 7f504a000900 of size 256 next 4\n",
      "2023-07-09 22:42:45.007939: I tensorflow/tsl/framework/bfc_allocator.cc:1095] InUse at 7f504a000a00 of size 256 next 7\n",
      "2023-07-09 22:42:45.007945: I tensorflow/tsl/framework/bfc_allocator.cc:1095] InUse at 7f504a000b00 of size 256 next 10\n",
      "2023-07-09 22:42:45.007951: I tensorflow/tsl/framework/bfc_allocator.cc:1095] InUse at 7f504a000c00 of size 256 next 11\n",
      "2023-07-09 22:42:45.007957: I tensorflow/tsl/framework/bfc_allocator.cc:1095] InUse at 7f504a000d00 of size 256 next 8\n",
      "2023-07-09 22:42:45.007964: I tensorflow/tsl/framework/bfc_allocator.cc:1095] InUse at 7f504a000e00 of size 512 next 9\n",
      "2023-07-09 22:42:45.007971: I tensorflow/tsl/framework/bfc_allocator.cc:1095] InUse at 7f504a001000 of size 256 next 12\n",
      "2023-07-09 22:42:45.007976: I tensorflow/tsl/framework/bfc_allocator.cc:1095] InUse at 7f504a001100 of size 256 next 13\n",
      "2023-07-09 22:42:45.007982: I tensorflow/tsl/framework/bfc_allocator.cc:1095] InUse at 7f504a001200 of size 256 next 15\n",
      "2023-07-09 22:42:45.007988: I tensorflow/tsl/framework/bfc_allocator.cc:1095] InUse at 7f504a001300 of size 256 next 16\n",
      "2023-07-09 22:42:45.007994: I tensorflow/tsl/framework/bfc_allocator.cc:1095] InUse at 7f504a001400 of size 256 next 14\n",
      "2023-07-09 22:42:45.008000: I tensorflow/tsl/framework/bfc_allocator.cc:1095] InUse at 7f504a001500 of size 256 next 17\n",
      "2023-07-09 22:42:45.008006: I tensorflow/tsl/framework/bfc_allocator.cc:1095] InUse at 7f504a001600 of size 256 next 20\n",
      "2023-07-09 22:42:45.008012: I tensorflow/tsl/framework/bfc_allocator.cc:1095] InUse at 7f504a001700 of size 256 next 21\n",
      "2023-07-09 22:42:45.008017: I tensorflow/tsl/framework/bfc_allocator.cc:1095] InUse at 7f504a001800 of size 256 next 22\n",
      "2023-07-09 22:42:45.008023: I tensorflow/tsl/framework/bfc_allocator.cc:1095] InUse at 7f504a001900 of size 512 next 25\n",
      "2023-07-09 22:42:45.008029: I tensorflow/tsl/framework/bfc_allocator.cc:1095] InUse at 7f504a001b00 of size 512 next 23\n",
      "2023-07-09 22:42:45.008035: I tensorflow/tsl/framework/bfc_allocator.cc:1095] InUse at 7f504a001d00 of size 512 next 24\n",
      "2023-07-09 22:42:45.008041: I tensorflow/tsl/framework/bfc_allocator.cc:1095] InUse at 7f504a001f00 of size 512 next 28\n",
      "2023-07-09 22:42:45.008048: I tensorflow/tsl/framework/bfc_allocator.cc:1095] InUse at 7f504a002100 of size 512 next 29\n",
      "2023-07-09 22:42:45.008054: I tensorflow/tsl/framework/bfc_allocator.cc:1095] InUse at 7f504a002300 of size 256 next 30\n",
      "2023-07-09 22:42:45.008060: I tensorflow/tsl/framework/bfc_allocator.cc:1095] InUse at 7f504a002400 of size 256 next 31\n",
      "2023-07-09 22:42:45.008066: I tensorflow/tsl/framework/bfc_allocator.cc:1095] InUse at 7f504a002500 of size 256 next 33\n",
      "2023-07-09 22:42:45.008072: I tensorflow/tsl/framework/bfc_allocator.cc:1095] InUse at 7f504a002600 of size 256 next 34\n",
      "2023-07-09 22:42:45.008078: I tensorflow/tsl/framework/bfc_allocator.cc:1095] InUse at 7f504a002700 of size 256 next 32\n",
      "2023-07-09 22:42:45.008083: I tensorflow/tsl/framework/bfc_allocator.cc:1095] InUse at 7f504a002800 of size 256 next 35\n",
      "2023-07-09 22:42:45.008089: I tensorflow/tsl/framework/bfc_allocator.cc:1095] InUse at 7f504a002900 of size 256 next 37\n",
      "2023-07-09 22:42:45.008095: I tensorflow/tsl/framework/bfc_allocator.cc:1095] InUse at 7f504a002a00 of size 256 next 38\n",
      "2023-07-09 22:42:45.008105: I tensorflow/tsl/framework/bfc_allocator.cc:1095] InUse at 7f504a002b00 of size 256 next 39\n",
      "2023-07-09 22:42:45.008111: I tensorflow/tsl/framework/bfc_allocator.cc:1095] InUse at 7f504a002c00 of size 256 next 41\n",
      "2023-07-09 22:42:45.008117: I tensorflow/tsl/framework/bfc_allocator.cc:1095] InUse at 7f504a002d00 of size 256 next 40\n",
      "2023-07-09 22:42:45.008123: I tensorflow/tsl/framework/bfc_allocator.cc:1095] InUse at 7f504a002e00 of size 256 next 42\n",
      "2023-07-09 22:42:45.008128: I tensorflow/tsl/framework/bfc_allocator.cc:1095] InUse at 7f504a002f00 of size 256 next 43\n",
      "2023-07-09 22:42:45.008135: I tensorflow/tsl/framework/bfc_allocator.cc:1095] InUse at 7f504a003000 of size 1024 next 44\n",
      "2023-07-09 22:42:45.008142: I tensorflow/tsl/framework/bfc_allocator.cc:1095] InUse at 7f504a003400 of size 1024 next 45\n",
      "2023-07-09 22:42:45.008148: I tensorflow/tsl/framework/bfc_allocator.cc:1095] InUse at 7f504a003800 of size 1024 next 46\n",
      "2023-07-09 22:42:45.008153: I tensorflow/tsl/framework/bfc_allocator.cc:1095] InUse at 7f504a003c00 of size 1024 next 47\n",
      "2023-07-09 22:42:45.008159: I tensorflow/tsl/framework/bfc_allocator.cc:1095] InUse at 7f504a004000 of size 256 next 48\n",
      "2023-07-09 22:42:45.008165: I tensorflow/tsl/framework/bfc_allocator.cc:1095] InUse at 7f504a004100 of size 256 next 49\n",
      "2023-07-09 22:42:45.008171: I tensorflow/tsl/framework/bfc_allocator.cc:1095] InUse at 7f504a004200 of size 256 next 50\n",
      "2023-07-09 22:42:45.008177: I tensorflow/tsl/framework/bfc_allocator.cc:1095] InUse at 7f504a004300 of size 256 next 53\n",
      "2023-07-09 22:42:45.008190: I tensorflow/tsl/framework/bfc_allocator.cc:1095] InUse at 7f504a004400 of size 256 next 54\n",
      "2023-07-09 22:42:45.008196: I tensorflow/tsl/framework/bfc_allocator.cc:1095] InUse at 7f504a004500 of size 256 next 55\n",
      "2023-07-09 22:42:45.008202: I tensorflow/tsl/framework/bfc_allocator.cc:1095] InUse at 7f504a004600 of size 512 next 56\n",
      "2023-07-09 22:42:45.008208: I tensorflow/tsl/framework/bfc_allocator.cc:1095] InUse at 7f504a004800 of size 512 next 57\n",
      "2023-07-09 22:42:45.008213: I tensorflow/tsl/framework/bfc_allocator.cc:1095] InUse at 7f504a004a00 of size 256 next 58\n",
      "2023-07-09 22:42:45.008219: I tensorflow/tsl/framework/bfc_allocator.cc:1095] InUse at 7f504a004b00 of size 256 next 59\n",
      "2023-07-09 22:42:45.008225: I tensorflow/tsl/framework/bfc_allocator.cc:1095] InUse at 7f504a004c00 of size 256 next 60\n",
      "2023-07-09 22:42:45.008231: I tensorflow/tsl/framework/bfc_allocator.cc:1095] InUse at 7f504a004d00 of size 256 next 61\n",
      "2023-07-09 22:42:45.008237: I tensorflow/tsl/framework/bfc_allocator.cc:1095] InUse at 7f504a004e00 of size 256 next 62\n",
      "2023-07-09 22:42:45.008243: I tensorflow/tsl/framework/bfc_allocator.cc:1095] InUse at 7f504a004f00 of size 256 next 63\n",
      "2023-07-09 22:42:45.008249: I tensorflow/tsl/framework/bfc_allocator.cc:1095] InUse at 7f504a005000 of size 34048 next 18\n",
      "2023-07-09 22:42:45.008256: I tensorflow/tsl/framework/bfc_allocator.cc:1095] InUse at 7f504a00d500 of size 24576 next 19\n",
      "2023-07-09 22:42:45.008273: I tensorflow/tsl/framework/bfc_allocator.cc:1095] InUse at 7f504a013500 of size 16384 next 36\n",
      "2023-07-09 22:42:45.008280: I tensorflow/tsl/framework/bfc_allocator.cc:1095] InUse at 7f504a017500 of size 58368 next 52\n",
      "2023-07-09 22:42:45.008286: I tensorflow/tsl/framework/bfc_allocator.cc:1095] InUse at 7f504a025900 of size 24576 next 64\n",
      "2023-07-09 22:42:45.008293: I tensorflow/tsl/framework/bfc_allocator.cc:1095] InUse at 7f504a02b900 of size 256 next 65\n",
      "2023-07-09 22:42:45.008298: I tensorflow/tsl/framework/bfc_allocator.cc:1095] InUse at 7f504a02ba00 of size 256 next 66\n",
      "2023-07-09 22:42:45.008304: I tensorflow/tsl/framework/bfc_allocator.cc:1095] InUse at 7f504a02bb00 of size 256 next 67\n",
      "2023-07-09 22:42:45.008310: I tensorflow/tsl/framework/bfc_allocator.cc:1095] InUse at 7f504a02bc00 of size 256 next 68\n",
      "2023-07-09 22:42:45.008316: I tensorflow/tsl/framework/bfc_allocator.cc:1095] InUse at 7f504a02bd00 of size 256 next 69\n",
      "2023-07-09 22:42:45.008322: I tensorflow/tsl/framework/bfc_allocator.cc:1095] InUse at 7f504a02be00 of size 256 next 70\n",
      "2023-07-09 22:42:45.008328: I tensorflow/tsl/framework/bfc_allocator.cc:1095] InUse at 7f504a02bf00 of size 512 next 73\n",
      "2023-07-09 22:42:45.008334: I tensorflow/tsl/framework/bfc_allocator.cc:1095] InUse at 7f504a02c100 of size 512 next 74\n",
      "2023-07-09 22:42:45.008340: I tensorflow/tsl/framework/bfc_allocator.cc:1095] InUse at 7f504a02c300 of size 512 next 75\n",
      "2023-07-09 22:42:45.008345: I tensorflow/tsl/framework/bfc_allocator.cc:1095] InUse at 7f504a02c500 of size 512 next 76\n",
      "2023-07-09 22:42:45.008351: I tensorflow/tsl/framework/bfc_allocator.cc:1095] InUse at 7f504a02c700 of size 512 next 77\n",
      "2023-07-09 22:42:45.008357: I tensorflow/tsl/framework/bfc_allocator.cc:1095] InUse at 7f504a02c900 of size 512 next 78\n",
      "2023-07-09 22:42:45.008363: I tensorflow/tsl/framework/bfc_allocator.cc:1095] InUse at 7f504a02cb00 of size 16384 next 79\n",
      "2023-07-09 22:42:45.008369: I tensorflow/tsl/framework/bfc_allocator.cc:1095] InUse at 7f504a030b00 of size 16384 next 80\n",
      "2023-07-09 22:42:45.008375: I tensorflow/tsl/framework/bfc_allocator.cc:1095] InUse at 7f504a034b00 of size 256 next 81\n",
      "2023-07-09 22:42:45.008381: I tensorflow/tsl/framework/bfc_allocator.cc:1095] InUse at 7f504a034c00 of size 256 next 82\n",
      "2023-07-09 22:42:45.008386: I tensorflow/tsl/framework/bfc_allocator.cc:1095] InUse at 7f504a034d00 of size 256 next 83\n",
      "2023-07-09 22:42:45.008392: I tensorflow/tsl/framework/bfc_allocator.cc:1095] InUse at 7f504a034e00 of size 256 next 84\n",
      "2023-07-09 22:42:45.008398: I tensorflow/tsl/framework/bfc_allocator.cc:1095] InUse at 7f504a034f00 of size 256 next 85\n",
      "2023-07-09 22:42:45.008404: I tensorflow/tsl/framework/bfc_allocator.cc:1095] InUse at 7f504a035000 of size 256 next 86\n",
      "2023-07-09 22:42:45.008410: I tensorflow/tsl/framework/bfc_allocator.cc:1095] InUse at 7f504a035100 of size 256 next 87\n",
      "2023-07-09 22:42:45.008416: I tensorflow/tsl/framework/bfc_allocator.cc:1095] InUse at 7f504a035200 of size 256 next 88\n",
      "2023-07-09 22:42:45.008422: I tensorflow/tsl/framework/bfc_allocator.cc:1095] InUse at 7f504a035300 of size 256 next 89\n",
      "2023-07-09 22:42:45.008427: I tensorflow/tsl/framework/bfc_allocator.cc:1095] InUse at 7f504a035400 of size 256 next 90\n",
      "2023-07-09 22:42:45.008433: I tensorflow/tsl/framework/bfc_allocator.cc:1095] InUse at 7f504a035500 of size 256 next 91\n",
      "2023-07-09 22:42:45.008439: I tensorflow/tsl/framework/bfc_allocator.cc:1095] InUse at 7f504a035600 of size 256 next 92\n",
      "2023-07-09 22:42:45.008445: I tensorflow/tsl/framework/bfc_allocator.cc:1095] InUse at 7f504a035700 of size 256 next 93\n",
      "2023-07-09 22:42:45.008451: I tensorflow/tsl/framework/bfc_allocator.cc:1095] InUse at 7f504a035800 of size 256 next 94\n",
      "2023-07-09 22:42:45.008457: I tensorflow/tsl/framework/bfc_allocator.cc:1095] InUse at 7f504a035900 of size 256 next 95\n",
      "2023-07-09 22:42:45.008462: I tensorflow/tsl/framework/bfc_allocator.cc:1095] InUse at 7f504a035a00 of size 256 next 96\n",
      "2023-07-09 22:42:45.008468: I tensorflow/tsl/framework/bfc_allocator.cc:1095] InUse at 7f504a035b00 of size 256 next 97\n",
      "2023-07-09 22:42:45.008475: I tensorflow/tsl/framework/bfc_allocator.cc:1095] InUse at 7f504a035c00 of size 256 next 98\n",
      "2023-07-09 22:42:45.008481: I tensorflow/tsl/framework/bfc_allocator.cc:1095] InUse at 7f504a035d00 of size 256 next 99\n",
      "2023-07-09 22:42:45.008487: I tensorflow/tsl/framework/bfc_allocator.cc:1095] InUse at 7f504a035e00 of size 256 next 100\n",
      "2023-07-09 22:42:45.008493: I tensorflow/tsl/framework/bfc_allocator.cc:1095] InUse at 7f504a035f00 of size 256 next 101\n",
      "2023-07-09 22:42:45.008499: I tensorflow/tsl/framework/bfc_allocator.cc:1095] InUse at 7f504a036000 of size 256 next 102\n",
      "2023-07-09 22:42:45.008505: I tensorflow/tsl/framework/bfc_allocator.cc:1095] InUse at 7f504a036100 of size 256 next 103\n",
      "2023-07-09 22:42:45.008510: I tensorflow/tsl/framework/bfc_allocator.cc:1095] InUse at 7f504a036200 of size 256 next 104\n",
      "2023-07-09 22:42:45.008516: I tensorflow/tsl/framework/bfc_allocator.cc:1095] InUse at 7f504a036300 of size 256 next 105\n",
      "2023-07-09 22:42:45.008522: I tensorflow/tsl/framework/bfc_allocator.cc:1095] InUse at 7f504a036400 of size 256 next 106\n",
      "2023-07-09 22:42:45.008528: I tensorflow/tsl/framework/bfc_allocator.cc:1095] InUse at 7f504a036500 of size 256 next 107\n",
      "2023-07-09 22:42:45.008534: I tensorflow/tsl/framework/bfc_allocator.cc:1095] InUse at 7f504a036600 of size 256 next 108\n",
      "2023-07-09 22:42:45.008540: I tensorflow/tsl/framework/bfc_allocator.cc:1095] InUse at 7f504a036700 of size 256 next 109\n",
      "2023-07-09 22:42:45.008546: I tensorflow/tsl/framework/bfc_allocator.cc:1095] InUse at 7f504a036800 of size 1024 next 116\n",
      "2023-07-09 22:42:45.008551: I tensorflow/tsl/framework/bfc_allocator.cc:1095] InUse at 7f504a036c00 of size 1024 next 117\n",
      "2023-07-09 22:42:45.008557: I tensorflow/tsl/framework/bfc_allocator.cc:1095] InUse at 7f504a037000 of size 1024 next 110\n",
      "2023-07-09 22:42:45.008563: I tensorflow/tsl/framework/bfc_allocator.cc:1095] InUse at 7f504a037400 of size 1024 next 113\n",
      "2023-07-09 22:42:45.008569: I tensorflow/tsl/framework/bfc_allocator.cc:1095] InUse at 7f504a037800 of size 256 next 114\n",
      "2023-07-09 22:42:45.008575: I tensorflow/tsl/framework/bfc_allocator.cc:1095] InUse at 7f504a037900 of size 256 next 115\n",
      "2023-07-09 22:42:45.008581: I tensorflow/tsl/framework/bfc_allocator.cc:1095] InUse at 7f504a037a00 of size 512 next 119\n",
      "2023-07-09 22:42:45.008587: I tensorflow/tsl/framework/bfc_allocator.cc:1095] InUse at 7f504a037c00 of size 512 next 121\n",
      "2023-07-09 22:42:45.008593: I tensorflow/tsl/framework/bfc_allocator.cc:1095] InUse at 7f504a037e00 of size 256 next 123\n",
      "2023-07-09 22:42:45.008598: I tensorflow/tsl/framework/bfc_allocator.cc:1095] InUse at 7f504a037f00 of size 256 next 131\n",
      "2023-07-09 22:42:45.008604: I tensorflow/tsl/framework/bfc_allocator.cc:1095] InUse at 7f504a038000 of size 256 next 135\n",
      "2023-07-09 22:42:45.008610: I tensorflow/tsl/framework/bfc_allocator.cc:1095] InUse at 7f504a038100 of size 256 next 129\n",
      "2023-07-09 22:42:45.008616: I tensorflow/tsl/framework/bfc_allocator.cc:1095] InUse at 7f504a038200 of size 256 next 130\n",
      "2023-07-09 22:42:45.008622: I tensorflow/tsl/framework/bfc_allocator.cc:1095] InUse at 7f504a038300 of size 256 next 126\n",
      "2023-07-09 22:42:45.008628: I tensorflow/tsl/framework/bfc_allocator.cc:1095] InUse at 7f504a038400 of size 45312 next 27\n",
      "2023-07-09 22:42:45.008635: I tensorflow/tsl/framework/bfc_allocator.cc:1095] InUse at 7f504a043500 of size 98304 next 26\n",
      "2023-07-09 22:42:45.008641: I tensorflow/tsl/framework/bfc_allocator.cc:1095] InUse at 7f504a05b500 of size 348696064 next 51\n",
      "2023-07-09 22:42:45.008648: I tensorflow/tsl/framework/bfc_allocator.cc:1095] InUse at 7f505ece6300 of size 98304 next 71\n",
      "2023-07-09 22:42:45.008654: I tensorflow/tsl/framework/bfc_allocator.cc:1095] InUse at 7f505ecfe300 of size 98304 next 72\n",
      "2023-07-09 22:42:45.008660: I tensorflow/tsl/framework/bfc_allocator.cc:1095] InUse at 7f505ed16300 of size 348696064 next 112\n",
      "2023-07-09 22:42:45.008667: I tensorflow/tsl/framework/bfc_allocator.cc:1095] InUse at 7f50739a1100 of size 58368 next 118\n",
      "2023-07-09 22:42:45.008674: I tensorflow/tsl/framework/bfc_allocator.cc:1095] InUse at 7f50739af500 of size 24576 next 127\n",
      "2023-07-09 22:42:45.008680: I tensorflow/tsl/framework/bfc_allocator.cc:1095] InUse at 7f50739b5500 of size 256 next 125\n",
      "2023-07-09 22:42:45.008686: I tensorflow/tsl/framework/bfc_allocator.cc:1095] InUse at 7f50739b5600 of size 256 next 128\n",
      "2023-07-09 22:42:45.008692: I tensorflow/tsl/framework/bfc_allocator.cc:1095] InUse at 7f50739b5700 of size 256 next 132\n",
      "2023-07-09 22:42:45.008698: I tensorflow/tsl/framework/bfc_allocator.cc:1095] InUse at 7f50739b5800 of size 256 next 133\n",
      "2023-07-09 22:42:45.008704: I tensorflow/tsl/framework/bfc_allocator.cc:1095] InUse at 7f50739b5900 of size 256 next 134\n",
      "2023-07-09 22:42:45.008710: I tensorflow/tsl/framework/bfc_allocator.cc:1095] InUse at 7f50739b5a00 of size 256 next 138\n",
      "2023-07-09 22:42:45.008715: I tensorflow/tsl/framework/bfc_allocator.cc:1095] InUse at 7f50739b5b00 of size 98304 next 122\n",
      "2023-07-09 22:42:45.008721: I tensorflow/tsl/framework/bfc_allocator.cc:1095] InUse at 7f50739cdb00 of size 98304 next 111\n",
      "2023-07-09 22:42:45.008727: I tensorflow/tsl/framework/bfc_allocator.cc:1095] InUse at 7f50739e5b00 of size 512 next 120\n",
      "2023-07-09 22:42:45.008733: I tensorflow/tsl/framework/bfc_allocator.cc:1095] InUse at 7f50739e5d00 of size 512 next 124\n",
      "2023-07-09 22:42:45.008739: I tensorflow/tsl/framework/bfc_allocator.cc:1095] InUse at 7f50739e5f00 of size 512 next 136\n",
      "2023-07-09 22:42:45.008745: I tensorflow/tsl/framework/bfc_allocator.cc:1095] InUse at 7f50739e6100 of size 512 next 137\n",
      "2023-07-09 22:42:45.008751: I tensorflow/tsl/framework/bfc_allocator.cc:1095] InUse at 7f50739e6300 of size 512 next 139\n",
      "2023-07-09 22:42:45.008757: I tensorflow/tsl/framework/bfc_allocator.cc:1095] InUse at 7f50739e6500 of size 512 next 140\n",
      "2023-07-09 22:42:45.008763: I tensorflow/tsl/framework/bfc_allocator.cc:1095] InUse at 7f50739e6700 of size 16384 next 141\n",
      "2023-07-09 22:42:45.008769: I tensorflow/tsl/framework/bfc_allocator.cc:1095] InUse at 7f50739ea700 of size 16384 next 142\n",
      "2023-07-09 22:42:45.008774: I tensorflow/tsl/framework/bfc_allocator.cc:1095] InUse at 7f50739ee700 of size 256 next 143\n",
      "2023-07-09 22:42:45.008780: I tensorflow/tsl/framework/bfc_allocator.cc:1095] InUse at 7f50739ee800 of size 256 next 144\n",
      "2023-07-09 22:42:45.008786: I tensorflow/tsl/framework/bfc_allocator.cc:1095] InUse at 7f50739ee900 of size 256 next 145\n",
      "2023-07-09 22:42:45.008792: I tensorflow/tsl/framework/bfc_allocator.cc:1095] InUse at 7f50739eea00 of size 256 next 146\n",
      "2023-07-09 22:42:45.008798: I tensorflow/tsl/framework/bfc_allocator.cc:1095] InUse at 7f50739eeb00 of size 256 next 147\n",
      "2023-07-09 22:42:45.008804: I tensorflow/tsl/framework/bfc_allocator.cc:1095] InUse at 7f50739eec00 of size 256 next 148\n",
      "2023-07-09 22:42:45.008810: I tensorflow/tsl/framework/bfc_allocator.cc:1095] InUse at 7f50739eed00 of size 256 next 149\n",
      "2023-07-09 22:42:45.008815: I tensorflow/tsl/framework/bfc_allocator.cc:1095] InUse at 7f50739eee00 of size 256 next 150\n",
      "2023-07-09 22:42:45.008821: I tensorflow/tsl/framework/bfc_allocator.cc:1095] InUse at 7f50739eef00 of size 256 next 151\n",
      "2023-07-09 22:42:45.008827: I tensorflow/tsl/framework/bfc_allocator.cc:1095] InUse at 7f50739ef000 of size 256 next 152\n",
      "2023-07-09 22:42:45.008833: I tensorflow/tsl/framework/bfc_allocator.cc:1095] InUse at 7f50739ef100 of size 256 next 153\n",
      "2023-07-09 22:42:45.008839: I tensorflow/tsl/framework/bfc_allocator.cc:1095] InUse at 7f50739ef200 of size 256 next 154\n",
      "2023-07-09 22:42:45.008846: I tensorflow/tsl/framework/bfc_allocator.cc:1095] InUse at 7f50739ef300 of size 256 next 155\n",
      "2023-07-09 22:42:45.008855: I tensorflow/tsl/framework/bfc_allocator.cc:1095] InUse at 7f50739ef400 of size 256 next 156\n",
      "2023-07-09 22:42:45.008863: I tensorflow/tsl/framework/bfc_allocator.cc:1095] InUse at 7f50739ef500 of size 256 next 157\n",
      "2023-07-09 22:42:45.008872: I tensorflow/tsl/framework/bfc_allocator.cc:1095] InUse at 7f50739ef600 of size 256 next 158\n",
      "2023-07-09 22:42:45.008882: I tensorflow/tsl/framework/bfc_allocator.cc:1095] InUse at 7f50739ef700 of size 256 next 159\n",
      "2023-07-09 22:42:45.008891: I tensorflow/tsl/framework/bfc_allocator.cc:1095] InUse at 7f50739ef800 of size 256 next 160\n",
      "2023-07-09 22:42:45.008900: I tensorflow/tsl/framework/bfc_allocator.cc:1095] InUse at 7f50739ef900 of size 256 next 161\n",
      "2023-07-09 22:42:45.008909: I tensorflow/tsl/framework/bfc_allocator.cc:1095] InUse at 7f50739efa00 of size 256 next 162\n",
      "2023-07-09 22:42:45.008918: I tensorflow/tsl/framework/bfc_allocator.cc:1095] InUse at 7f50739efb00 of size 256 next 163\n",
      "2023-07-09 22:42:45.008928: I tensorflow/tsl/framework/bfc_allocator.cc:1095] InUse at 7f50739efc00 of size 256 next 164\n",
      "2023-07-09 22:42:45.008937: I tensorflow/tsl/framework/bfc_allocator.cc:1095] InUse at 7f50739efd00 of size 256 next 165\n",
      "2023-07-09 22:42:45.008946: I tensorflow/tsl/framework/bfc_allocator.cc:1095] InUse at 7f50739efe00 of size 256 next 166\n",
      "2023-07-09 22:42:45.008955: I tensorflow/tsl/framework/bfc_allocator.cc:1095] InUse at 7f50739eff00 of size 256 next 167\n",
      "2023-07-09 22:42:45.008965: I tensorflow/tsl/framework/bfc_allocator.cc:1095] InUse at 7f50739f0000 of size 256 next 168\n",
      "2023-07-09 22:42:45.008974: I tensorflow/tsl/framework/bfc_allocator.cc:1095] InUse at 7f50739f0100 of size 256 next 169\n",
      "2023-07-09 22:42:45.008983: I tensorflow/tsl/framework/bfc_allocator.cc:1095] InUse at 7f50739f0200 of size 256 next 170\n",
      "2023-07-09 22:42:45.008994: I tensorflow/tsl/framework/bfc_allocator.cc:1095] InUse at 7f50739f0300 of size 256 next 171\n",
      "2023-07-09 22:42:45.009003: I tensorflow/tsl/framework/bfc_allocator.cc:1095] InUse at 7f50739f0400 of size 1024 next 179\n",
      "2023-07-09 22:42:45.009016: I tensorflow/tsl/framework/bfc_allocator.cc:1095] InUse at 7f50739f0800 of size 1024 next 180\n",
      "2023-07-09 22:42:45.009022: I tensorflow/tsl/framework/bfc_allocator.cc:1095] InUse at 7f50739f0c00 of size 1024 next 172\n",
      "2023-07-09 22:42:45.009028: I tensorflow/tsl/framework/bfc_allocator.cc:1095] InUse at 7f50739f1000 of size 1024 next 175\n",
      "2023-07-09 22:42:45.009034: I tensorflow/tsl/framework/bfc_allocator.cc:1095] InUse at 7f50739f1400 of size 256 next 176\n",
      "2023-07-09 22:42:45.009040: I tensorflow/tsl/framework/bfc_allocator.cc:1095] InUse at 7f50739f1500 of size 256 next 174\n",
      "2023-07-09 22:42:45.009047: I tensorflow/tsl/framework/bfc_allocator.cc:1095] InUse at 7f50739f1600 of size 444328448 next 18446744073709551615\n",
      "2023-07-09 22:42:45.009053: I tensorflow/tsl/framework/bfc_allocator.cc:1100]      Summary of in-use Chunks by size: \n",
      "2023-07-09 22:42:45.009062: I tensorflow/tsl/framework/bfc_allocator.cc:1103] 123 Chunks of size 256 totalling 30.8KiB\n",
      "2023-07-09 22:42:45.009070: I tensorflow/tsl/framework/bfc_allocator.cc:1103] 22 Chunks of size 512 totalling 11.0KiB\n",
      "2023-07-09 22:42:45.009078: I tensorflow/tsl/framework/bfc_allocator.cc:1103] 12 Chunks of size 1024 totalling 12.0KiB\n",
      "2023-07-09 22:42:45.009085: I tensorflow/tsl/framework/bfc_allocator.cc:1103] 1 Chunks of size 1280 totalling 1.2KiB\n",
      "2023-07-09 22:42:45.009092: I tensorflow/tsl/framework/bfc_allocator.cc:1103] 5 Chunks of size 16384 totalling 80.0KiB\n",
      "2023-07-09 22:42:45.009099: I tensorflow/tsl/framework/bfc_allocator.cc:1103] 3 Chunks of size 24576 totalling 72.0KiB\n",
      "2023-07-09 22:42:45.009106: I tensorflow/tsl/framework/bfc_allocator.cc:1103] 1 Chunks of size 34048 totalling 33.2KiB\n",
      "2023-07-09 22:42:45.009113: I tensorflow/tsl/framework/bfc_allocator.cc:1103] 1 Chunks of size 45312 totalling 44.2KiB\n",
      "2023-07-09 22:42:45.009121: I tensorflow/tsl/framework/bfc_allocator.cc:1103] 2 Chunks of size 58368 totalling 114.0KiB\n",
      "2023-07-09 22:42:45.009128: I tensorflow/tsl/framework/bfc_allocator.cc:1103] 5 Chunks of size 98304 totalling 480.0KiB\n",
      "2023-07-09 22:42:45.009135: I tensorflow/tsl/framework/bfc_allocator.cc:1103] 2 Chunks of size 348696064 totalling 665.08MiB\n",
      "2023-07-09 22:42:45.009142: I tensorflow/tsl/framework/bfc_allocator.cc:1103] 1 Chunks of size 444328448 totalling 423.74MiB\n",
      "2023-07-09 22:42:45.009152: I tensorflow/tsl/framework/bfc_allocator.cc:1107] Sum Total of in-use chunks: 1.06GiB\n",
      "2023-07-09 22:42:45.009160: I tensorflow/tsl/framework/bfc_allocator.cc:1109] Total bytes in pool: 1142620160 memory_limit_: 1142620160 available bytes: 0 curr_region_allocation_bytes_: 2285240320\n",
      "2023-07-09 22:42:45.009174: I tensorflow/tsl/framework/bfc_allocator.cc:1114] Stats: \n",
      "Limit:                      1142620160\n",
      "InUse:                      1142620160\n",
      "MaxInUse:                   1142620160\n",
      "NumAllocs:                         398\n",
      "MaxAllocSize:                444328448\n",
      "Reserved:                            0\n",
      "PeakReserved:                        0\n",
      "LargestFreeBlock:                    0\n",
      "\n",
      "2023-07-09 22:42:45.009191: W tensorflow/tsl/framework/bfc_allocator.cc:497] ********************************************************************************************xxxxxxxx\n"
     ]
    },
    {
     "ename": "InternalError",
     "evalue": "Failed copying input tensor from /job:localhost/replica:0/task:0/device:CPU:0 to /job:localhost/replica:0/task:0/device:GPU:0 in order to run _EagerConst: Dst tensor is not initialized.",
     "output_type": "error",
     "traceback": [
      "\u001b[0;31m---------------------------------------------------------------------------\u001b[0m",
      "\u001b[0;31mInternalError\u001b[0m                             Traceback (most recent call last)",
      "Cell \u001b[0;32mIn[26], line 23\u001b[0m\n\u001b[1;32m      4\u001b[0m callbacks \u001b[38;5;241m=\u001b[39m [\n\u001b[1;32m      5\u001b[0m     tf\u001b[38;5;241m.\u001b[39mkeras\u001b[38;5;241m.\u001b[39mcallbacks\u001b[38;5;241m.\u001b[39mModelCheckpoint(\n\u001b[1;32m      6\u001b[0m         \u001b[38;5;124m\"\u001b[39m\u001b[38;5;124mbest_model.h5\u001b[39m\u001b[38;5;124m\"\u001b[39m, save_best_only\u001b[38;5;241m=\u001b[39m\u001b[38;5;28;01mTrue\u001b[39;00m, monitor\u001b[38;5;241m=\u001b[39m\u001b[38;5;124m\"\u001b[39m\u001b[38;5;124mval_loss\u001b[39m\u001b[38;5;124m\"\u001b[39m\n\u001b[0;32m   (...)\u001b[0m\n\u001b[1;32m     11\u001b[0m     tf\u001b[38;5;241m.\u001b[39mkeras\u001b[38;5;241m.\u001b[39mcallbacks\u001b[38;5;241m.\u001b[39mEarlyStopping(monitor\u001b[38;5;241m=\u001b[39m\u001b[38;5;124m\"\u001b[39m\u001b[38;5;124mval_loss\u001b[39m\u001b[38;5;124m\"\u001b[39m, patience\u001b[38;5;241m=\u001b[39m\u001b[38;5;241m50\u001b[39m, verbose\u001b[38;5;241m=\u001b[39m\u001b[38;5;241m1\u001b[39m),\n\u001b[1;32m     12\u001b[0m ]\n\u001b[1;32m     15\u001b[0m model\u001b[38;5;241m.\u001b[39mcompile(\n\u001b[1;32m     16\u001b[0m     optimizer\u001b[38;5;241m=\u001b[39mtf\u001b[38;5;241m.\u001b[39mkeras\u001b[38;5;241m.\u001b[39moptimizers\u001b[38;5;241m.\u001b[39mAdam(learning_rate\u001b[38;5;241m=\u001b[39m\u001b[38;5;241m0.001\u001b[39m),\n\u001b[1;32m     17\u001b[0m     loss\u001b[38;5;241m=\u001b[39m\u001b[38;5;124m\"\u001b[39m\u001b[38;5;124mbinary_crossentropy\u001b[39m\u001b[38;5;124m\"\u001b[39m,\n\u001b[1;32m     18\u001b[0m     metrics\u001b[38;5;241m=\u001b[39m[\u001b[38;5;124m\"\u001b[39m\u001b[38;5;124macc\u001b[39m\u001b[38;5;124m\"\u001b[39m,tf\u001b[38;5;241m.\u001b[39mkeras\u001b[38;5;241m.\u001b[39mmetrics\u001b[38;5;241m.\u001b[39mAUC(name\u001b[38;5;241m=\u001b[39m\u001b[38;5;124m'\u001b[39m\u001b[38;5;124mauc\u001b[39m\u001b[38;5;124m'\u001b[39m)],\n\u001b[1;32m     19\u001b[0m     weighted_metrics \u001b[38;5;241m=\u001b[39m \u001b[38;5;124m\"\u001b[39m\u001b[38;5;124macc\u001b[39m\u001b[38;5;124m\"\u001b[39m,\n\u001b[1;32m     20\u001b[0m     loss_weights\u001b[38;5;241m=\u001b[39mweights)\n\u001b[0;32m---> 23\u001b[0m history \u001b[38;5;241m=\u001b[39m \u001b[43mmodel\u001b[49m\u001b[38;5;241;43m.\u001b[39;49m\u001b[43mfit\u001b[49m\u001b[43m(\u001b[49m\n\u001b[1;32m     24\u001b[0m \u001b[43m    \u001b[49m\u001b[43mX_train\u001b[49m\u001b[43m,\u001b[49m\n\u001b[1;32m     25\u001b[0m \u001b[43m    \u001b[49m\u001b[43mnp\u001b[49m\u001b[38;5;241;43m.\u001b[39;49m\u001b[43marray\u001b[49m\u001b[43m(\u001b[49m\u001b[43my_train\u001b[49m\u001b[43m)\u001b[49m\u001b[43m,\u001b[49m\n\u001b[1;32m     26\u001b[0m \u001b[43m    \u001b[49m\u001b[43mbatch_size\u001b[49m\u001b[38;5;241;43m=\u001b[39;49m\u001b[43mbatch_size\u001b[49m\u001b[43m,\u001b[49m\n\u001b[1;32m     27\u001b[0m \u001b[43m    \u001b[49m\u001b[43mepochs\u001b[49m\u001b[38;5;241;43m=\u001b[39;49m\u001b[43mepochs\u001b[49m\u001b[43m,\u001b[49m\n\u001b[1;32m     28\u001b[0m \u001b[43m    \u001b[49m\u001b[43mcallbacks\u001b[49m\u001b[38;5;241;43m=\u001b[39;49m\u001b[43mcallbacks\u001b[49m\u001b[43m,\u001b[49m\n\u001b[1;32m     29\u001b[0m \u001b[43m    \u001b[49m\u001b[43mvalidation_data\u001b[49m\u001b[38;5;241;43m=\u001b[39;49m\u001b[43m(\u001b[49m\u001b[43mX_val\u001b[49m\u001b[43m,\u001b[49m\u001b[43mnp\u001b[49m\u001b[38;5;241;43m.\u001b[39;49m\u001b[43marray\u001b[49m\u001b[43m(\u001b[49m\u001b[43my_val\u001b[49m\u001b[43m)\u001b[49m\u001b[43m)\u001b[49m\u001b[43m,\u001b[49m\n\u001b[1;32m     30\u001b[0m \u001b[43m    \u001b[49m\u001b[43mverbose\u001b[49m\u001b[38;5;241;43m=\u001b[39;49m\u001b[38;5;241;43m1\u001b[39;49m\u001b[43m,\u001b[49m\n\u001b[1;32m     31\u001b[0m \u001b[43m)\u001b[49m\n",
      "File \u001b[0;32m~/anaconda3/lib/python3.10/site-packages/keras/src/utils/traceback_utils.py:70\u001b[0m, in \u001b[0;36mfilter_traceback.<locals>.error_handler\u001b[0;34m(*args, **kwargs)\u001b[0m\n\u001b[1;32m     67\u001b[0m     filtered_tb \u001b[38;5;241m=\u001b[39m _process_traceback_frames(e\u001b[38;5;241m.\u001b[39m__traceback__)\n\u001b[1;32m     68\u001b[0m     \u001b[38;5;66;03m# To get the full stack trace, call:\u001b[39;00m\n\u001b[1;32m     69\u001b[0m     \u001b[38;5;66;03m# `tf.debugging.disable_traceback_filtering()`\u001b[39;00m\n\u001b[0;32m---> 70\u001b[0m     \u001b[38;5;28;01mraise\u001b[39;00m e\u001b[38;5;241m.\u001b[39mwith_traceback(filtered_tb) \u001b[38;5;28;01mfrom\u001b[39;00m \u001b[38;5;28mNone\u001b[39m\n\u001b[1;32m     71\u001b[0m \u001b[38;5;28;01mfinally\u001b[39;00m:\n\u001b[1;32m     72\u001b[0m     \u001b[38;5;28;01mdel\u001b[39;00m filtered_tb\n",
      "File \u001b[0;32m~/anaconda3/lib/python3.10/site-packages/tensorflow/python/framework/constant_op.py:98\u001b[0m, in \u001b[0;36mconvert_to_eager_tensor\u001b[0;34m(value, ctx, dtype)\u001b[0m\n\u001b[1;32m     96\u001b[0m     dtype \u001b[38;5;241m=\u001b[39m dtypes\u001b[38;5;241m.\u001b[39mas_dtype(dtype)\u001b[38;5;241m.\u001b[39mas_datatype_enum\n\u001b[1;32m     97\u001b[0m ctx\u001b[38;5;241m.\u001b[39mensure_initialized()\n\u001b[0;32m---> 98\u001b[0m \u001b[38;5;28;01mreturn\u001b[39;00m \u001b[43mops\u001b[49m\u001b[38;5;241;43m.\u001b[39;49m\u001b[43mEagerTensor\u001b[49m\u001b[43m(\u001b[49m\u001b[43mvalue\u001b[49m\u001b[43m,\u001b[49m\u001b[43m \u001b[49m\u001b[43mctx\u001b[49m\u001b[38;5;241;43m.\u001b[39;49m\u001b[43mdevice_name\u001b[49m\u001b[43m,\u001b[49m\u001b[43m \u001b[49m\u001b[43mdtype\u001b[49m\u001b[43m)\u001b[49m\n",
      "\u001b[0;31mInternalError\u001b[0m: Failed copying input tensor from /job:localhost/replica:0/task:0/device:CPU:0 to /job:localhost/replica:0/task:0/device:GPU:0 in order to run _EagerConst: Dst tensor is not initialized."
     ]
    }
   ],
   "source": [
    "\n",
    "epochs = 20\n",
    "batch_size = 32\n",
    "\n",
    "callbacks = [\n",
    "    tf.keras.callbacks.ModelCheckpoint(\n",
    "        \"best_model.h5\", save_best_only=True, monitor=\"val_loss\"\n",
    "    ),\n",
    "    tf.keras.callbacks.ReduceLROnPlateau(\n",
    "        monitor=\"val_loss\", factor=0.5, patience=10, min_lr=0.0001\n",
    "    ),\n",
    "    tf.keras.callbacks.EarlyStopping(monitor=\"val_loss\", patience=50, verbose=1),\n",
    "]\n",
    "\n",
    "\n",
    "model.compile(\n",
    "    optimizer=tf.keras.optimizers.Adam(learning_rate=0.001),\n",
    "    loss=\"binary_crossentropy\",\n",
    "    metrics=[\"acc\",tf.keras.metrics.AUC(name='auc')],\n",
    "    weighted_metrics = \"acc\",\n",
    "    loss_weights=weights)\n",
    "\n",
    "\n",
    "history = model.fit(\n",
    "    X_train,\n",
    "    np.array(y_train),\n",
    "    batch_size=batch_size,\n",
    "    epochs=epochs,\n",
    "    callbacks=callbacks,\n",
    "    validation_data=(X_val,np.array(y_val)),\n",
    "    verbose=1,\n",
    ")"
   ]
  },
  {
   "cell_type": "code",
   "execution_count": null,
   "metadata": {
    "colab": {
     "base_uri": "https://localhost:8080/"
    },
    "id": "NRjdR3E9M6bp",
    "outputId": "d96c53fc-6c1c-4941-a4fc-97de5b9960a0"
   },
   "outputs": [
    {
     "name": "stdout",
     "output_type": "stream",
     "text": [
      "Test loss: 0.3984576463699341\n",
      "Test accuracy: 0.8492146730422974\n"
     ]
    }
   ],
   "source": [
    "score = model.evaluate(X_test, y_test, verbose = 0) \n",
    "\n",
    "print('Test loss:', score[0]) \n",
    "print('Test accuracy:', score[1])"
   ]
  },
  {
   "cell_type": "code",
   "execution_count": null,
   "metadata": {
    "colab": {
     "base_uri": "https://localhost:8080/"
    },
    "id": "PYQLQItpOKBp",
    "outputId": "61c9d790-341c-4b8a-a731-74616d9732b9"
   },
   "outputs": [
    {
     "name": "stdout",
     "output_type": "stream",
     "text": [
      "209/209 [==============================] - 2s 9ms/step\n",
      "[[0.09832203]\n",
      " [0.0846205 ]\n",
      " [0.10420237]\n",
      " ...\n",
      " [0.10649452]\n",
      " [0.03906907]\n",
      " [0.2129561 ]]\n"
     ]
    }
   ],
   "source": [
    "pred = model.predict(X_test)\n",
    "print(pred)"
   ]
  },
  {
   "cell_type": "code",
   "execution_count": null,
   "metadata": {
    "id": "ZyOqTnS9W--A"
   },
   "outputs": [],
   "source": [
    "def check_max_pred(prd):\n",
    "  max=0\n",
    "  for i in prd:\n",
    "    if i[0] > max:\n",
    "      max = i[0]\n",
    "  print(max)"
   ]
  },
  {
   "cell_type": "code",
   "execution_count": null,
   "metadata": {
    "colab": {
     "base_uri": "https://localhost:8080/"
    },
    "id": "Vt9hHlHde5G2",
    "outputId": "6a391d6c-1acc-4bfc-d8f3-597d302c87b6"
   },
   "outputs": [
    {
     "name": "stdout",
     "output_type": "stream",
     "text": [
      "0.994975\n"
     ]
    }
   ],
   "source": [
    "check_max_pred(pred)"
   ]
  },
  {
   "cell_type": "code",
   "execution_count": null,
   "metadata": {
    "id": "Dh7gibaQiOsw"
   },
   "outputs": [],
   "source": [
    "list_patient_rows = list(df_test.groupby(['patient_id'])['patient_id'].count())"
   ]
  },
  {
   "cell_type": "code",
   "execution_count": null,
   "metadata": {
    "id": "ByfsYZiaiqj3"
   },
   "outputs": [],
   "source": [
    "def cumulative(lists): \n",
    "    cu_list = [] \n",
    "    length = len(lists) \n",
    "    cu_list = [sum(lists[0:x:1]) for x in range(0, length+1)] \n",
    "    return cu_list[1:]"
   ]
  },
  {
   "cell_type": "code",
   "execution_count": null,
   "metadata": {
    "id": "FBeasPNClnpb"
   },
   "outputs": [],
   "source": [
    "pred_groupby_patient = np.split(pred,cumulative(list_patient_rows))\n",
    "pred_groupby_patient = pred_groupby_patient[:-1]\n",
    "\n",
    "df_test = df_test.astype({'murmur':'int'})\n",
    "y_test_grouped = df_test[['patient_id','murmur']].drop_duplicates()['murmur'].to_list()"
   ]
  },
  {
   "cell_type": "code",
   "execution_count": null,
   "metadata": {
    "id": "cKJrhB9QwQ3_"
   },
   "outputs": [],
   "source": [
    "def mean_pred(prediction):\n",
    "  pred = []\n",
    "  for i in prediction:\n",
    "    lst = [ j[0] for j in i]\n",
    "    avg = sum(lst)/len(lst)\n",
    "    if avg > 0.5:\n",
    "      pred.append(1)\n",
    "    else:\n",
    "      pred.append(0)\n",
    "  return pred\n",
    "\n",
    "def majority_pred(prediction):\n",
    "  pred = []\n",
    "  for i in prediction:\n",
    "    lst = [ j[0] for j in i]\n",
    "    if (sum(elem > 0.5 for elem in lst)) > (len(lst)/2):\n",
    "      pred.append(1)\n",
    "    else:\n",
    "      pred.append(0)\n",
    "  return pred\n"
   ]
  },
  {
   "cell_type": "code",
   "execution_count": null,
   "metadata": {
    "id": "TYCSAcHFzHLy"
   },
   "outputs": [],
   "source": [
    "pred1 = mean_pred(pred_groupby_patient)\n",
    "pred2 = majority_pred(pred_groupby_patient)\n",
    "\n"
   ]
  },
  {
   "cell_type": "code",
   "execution_count": null,
   "metadata": {
    "colab": {
     "base_uri": "https://localhost:8080/"
    },
    "id": "UoHq89-17e8x",
    "outputId": "cd48623a-96dc-4cfe-9206-65f355dba977"
   },
   "outputs": [
    {
     "name": "stdout",
     "output_type": "stream",
     "text": [
      "[0, 0, 0, 0, 0, 0, 1, 0, 0, 0, 0, 0, 0, 0, 0, 0, 0, 0, 0, 0, 0, 0, 0, 0, 0, 0, 0, 0, 0, 0, 0, 0, 0, 0, 0, 1, 1, 1, 0, 0, 0, 0, 0, 0, 0, 0, 0, 0, 0, 0, 0, 0, 0, 0, 0, 0, 0, 1, 0, 0, 0, 0, 0, 0, 0, 0, 0, 0, 0, 0, 0, 1, 0, 0, 0, 0, 0, 0, 0, 0, 0, 1, 0, 0, 0, 0, 0, 0]\n",
      "[0, 0, 0, 0, 0, 0, 1, 0, 0, 0, 0, 0, 0, 0, 0, 0, 0, 0, 0, 0, 0, 0, 0, 0, 0, 0, 0, 0, 0, 0, 0, 0, 0, 0, 0, 1, 0, 1, 0, 0, 0, 0, 0, 0, 0, 0, 0, 0, 0, 0, 0, 0, 0, 0, 0, 0, 0, 1, 0, 0, 0, 0, 0, 0, 0, 0, 0, 0, 0, 0, 0, 1, 0, 0, 0, 0, 0, 0, 0, 0, 0, 1, 0, 0, 0, 0, 0, 0]\n",
      "[1, 0, 1, 0, 0, 1, 1, 0, 1, 0, 0, 1, 0, 0, 0, 1, 0, 0, 0, 0, 0, 0, 0, 0, 0, 0, 0, 0, 0, 0, 0, 0, 0, 1, 0, 1, 1, 1, 0, 0, 0, 0, 1, 0, 0, 0, 1, 1, 0, 1, 0, 0, 0, 0, 0, 0, 0, 1, 0, 0, 0, 1, 0, 0, 1, 0, 0, 0, 0, 0, 0, 1, 0, 0, 0, 0, 0, 0, 0, 0, 0, 1, 0, 0, 0, 1, 1, 0]\n",
      "Accuracy score of mean_pred :  0.8295454545454546\n",
      "Accuracy score of majority_pred :  0.8181818181818182\n"
     ]
    }
   ],
   "source": [
    "print(pred1)\n",
    "print(pred2)\n",
    "print(y_test_grouped)\n",
    "print(\"Accuracy score of mean_pred : \",accuracy_score(pred1 , y_test_grouped))\n",
    "print(\"Accuracy score of majority_pred : \",accuracy_score(pred2 , y_test_grouped))"
   ]
  },
  {
   "cell_type": "code",
   "execution_count": null,
   "metadata": {
    "colab": {
     "base_uri": "https://localhost:8080/"
    },
    "id": "Va4k-0WH4FZw",
    "outputId": "4f6b6364-4d7e-4d5c-9fc7-d46493f75b99"
   },
   "outputs": [
    {
     "data": {
      "text/plain": [
       "<tf.Tensor: shape=(2, 2), dtype=int32, numpy=\n",
       "array([[66,  0],\n",
       "       [15,  7]], dtype=int32)>"
      ]
     },
     "execution_count": 34,
     "metadata": {},
     "output_type": "execute_result"
    }
   ],
   "source": [
    "tf.math.confusion_matrix(labels=y_test_grouped,predictions=pred1)"
   ]
  },
  {
   "cell_type": "code",
   "execution_count": null,
   "metadata": {
    "colab": {
     "base_uri": "https://localhost:8080/",
     "height": 301
    },
    "id": "SO30vCJawoVq",
    "outputId": "f476dc2f-6709-4e34-fa2a-d7ae3cb750ee"
   },
   "outputs": [
    {
     "data": {
      "text/plain": [
       "<sklearn.metrics._plot.confusion_matrix.ConfusionMatrixDisplay at 0x7f297284aca0>"
      ]
     },
     "execution_count": 40,
     "metadata": {},
     "output_type": "execute_result"
    },
    {
     "data": {
      "image/png": "[encoded data removed]",
      "text/plain": [
       "<Figure size 432x288 with 2 Axes>"
      ]
     },
     "metadata": {
      "needs_background": "light"
     },
     "output_type": "display_data"
    }
   ],
   "source": [
    "from sklearn.metrics import ConfusionMatrixDisplay\n",
    "ConfusionMatrixDisplay.from_predictions(y_test_grouped, pred1,\n",
    "                                        cmap='Blues', normalize = 'true')"
   ]
  },
  {
   "cell_type": "code",
   "execution_count": null,
   "metadata": {
    "id": "W3KBasIG6uA9"
   },
   "outputs": [],
   "source": []
  }
 ],
 "metadata": {
  "accelerator": "GPU",
  "colab": {
   "provenance": []
  },
  "gpuClass": "standard",
  "kernelspec": {
   "display_name": "Python 3 (ipykernel)",
   "language": "python",
   "name": "python3"
  },
  "language_info": {
   "codemirror_mode": {
    "name": "ipython",
    "version": 3
   },
   "file_extension": ".py",
   "mimetype": "text/x-python",
   "name": "python",
   "nbconvert_exporter": "python",
   "pygments_lexer": "ipython3",
   "version": "3.10.9"
  }
 },
 "nbformat": 4,
 "nbformat_minor": 1
}
