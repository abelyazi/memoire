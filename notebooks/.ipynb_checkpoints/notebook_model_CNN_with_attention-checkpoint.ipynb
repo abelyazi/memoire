{
 "cells": [
  {
   "cell_type": "code",
   "execution_count": 1,
   "id": "eada695a",
   "metadata": {
    "ExecuteTime": {
     "end_time": "2023-06-22T20:27:28.338325Z",
     "start_time": "2023-06-22T20:27:28.325752Z"
    },
    "id": "QRGvE-Pt3x3c"
   },
   "outputs": [
    {
     "name": "stderr",
     "output_type": "stream",
     "text": [
      "2023-07-11 12:45:22.275503: I tensorflow/core/util/port.cc:110] oneDNN custom operations are on. You may see slightly different numerical results due to floating-point round-off errors from different computation orders. To turn them off, set the environment variable `TF_ENABLE_ONEDNN_OPTS=0`.\n",
      "2023-07-11 12:45:22.296669: I tensorflow/core/platform/cpu_feature_guard.cc:182] This TensorFlow binary is optimized to use available CPU instructions in performance-critical operations.\n",
      "To enable the following instructions: AVX2 AVX_VNNI FMA, in other operations, rebuild TensorFlow with the appropriate compiler flags.\n",
      "2023-07-11 12:45:22.617580: W tensorflow/compiler/tf2tensorrt/utils/py_utils.cc:38] TF-TRT Warning: Could not find TensorRT\n"
     ]
    },
    {
     "name": "stdout",
     "output_type": "stream",
     "text": [
      "Num GPUs Available:  1\n"
     ]
    },
    {
     "name": "stderr",
     "output_type": "stream",
     "text": [
      "2023-07-11 12:45:23.707609: I tensorflow/compiler/xla/stream_executor/cuda/cuda_gpu_executor.cc:995] successful NUMA node read from SysFS had negative value (-1), but there must be at least one NUMA node, so returning NUMA node zero. See more at https://github.com/torvalds/linux/blob/v6.0/Documentation/ABI/testing/sysfs-bus-pci#L344-L355\n",
      "2023-07-11 12:45:23.721136: I tensorflow/compiler/xla/stream_executor/cuda/cuda_gpu_executor.cc:995] successful NUMA node read from SysFS had negative value (-1), but there must be at least one NUMA node, so returning NUMA node zero. See more at https://github.com/torvalds/linux/blob/v6.0/Documentation/ABI/testing/sysfs-bus-pci#L344-L355\n",
      "2023-07-11 12:45:23.721228: I tensorflow/compiler/xla/stream_executor/cuda/cuda_gpu_executor.cc:995] successful NUMA node read from SysFS had negative value (-1), but there must be at least one NUMA node, so returning NUMA node zero. See more at https://github.com/torvalds/linux/blob/v6.0/Documentation/ABI/testing/sysfs-bus-pci#L344-L355\n"
     ]
    }
   ],
   "source": [
    "import sys\n",
    "import tensorflow as tf\n",
    "import matplotlib.pyplot as plt\n",
    "from sklearn import metrics\n",
    "from sklearn.impute import SimpleImputer\n",
    "from sklearn.metrics import accuracy_score\n",
    "import numpy as np, scipy as sp, scipy.stats, os, sys, joblib\n",
    "import os, numpy as np, scipy as sp, scipy.io, scipy.io.wavfile\n",
    "from sklearn.ensemble import RandomForestClassifier\n",
    "from sklearn.model_selection import train_test_split\n",
    "from sklearn.metrics import ConfusionMatrixDisplay\n",
    "from sklearn.metrics import balanced_accuracy_score\n",
    "from sklearn.utils import class_weight\n",
    "import random\n",
    "import pandas as pd\n",
    "import importlib\n",
    "import useful_functions\n",
    "import preprocessing_functions\n",
    "import Chatgpt_model\n",
    "import results_functions\n",
    "print(\"Num GPUs Available: \", len(tf.config.list_physical_devices('GPU')))"
   ]
  },
  {
   "cell_type": "code",
   "execution_count": 2,
   "id": "89021430",
   "metadata": {
    "ExecuteTime": {
     "end_time": "2023-06-22T20:28:02.185714Z",
     "start_time": "2023-06-22T20:28:02.152645Z"
    }
   },
   "outputs": [],
   "source": [
    "importlib.reload(useful_functions)\n",
    "importlib.reload(preprocessing_functions)\n",
    "importlib.reload(Chatgpt_model)\n",
    "from useful_functions import *\n",
    "from preprocessing_functions import *\n",
    "from Chatgpt_model import *"
   ]
  },
  {
   "cell_type": "code",
   "execution_count": 3,
   "id": "a411c3a7",
   "metadata": {},
   "outputs": [],
   "source": [
    " # Define the data and model foldes.\n",
    "data_folder = r\"../training_data\"\n",
    "model_folder = r\"../model\"\n",
    "wind_size = 6000\n",
    "verbose = 3"
   ]
  },
  {
   "cell_type": "code",
   "execution_count": 4,
   "id": "c8b4da30",
   "metadata": {},
   "outputs": [
    {
     "data": {
      "text/html": [
       "<div>\n",
       "<style scoped>\n",
       "    .dataframe tbody tr th:only-of-type {\n",
       "        vertical-align: middle;\n",
       "    }\n",
       "\n",
       "    .dataframe tbody tr th {\n",
       "        vertical-align: top;\n",
       "    }\n",
       "\n",
       "    .dataframe thead th {\n",
       "        text-align: right;\n",
       "    }\n",
       "</style>\n",
       "<table border=\"1\" class=\"dataframe\">\n",
       "  <thead>\n",
       "    <tr style=\"text-align: right;\">\n",
       "      <th></th>\n",
       "      <th>patient_id</th>\n",
       "      <th>recording_type</th>\n",
       "      <th>recording</th>\n",
       "      <th>murmur</th>\n",
       "    </tr>\n",
       "  </thead>\n",
       "  <tbody>\n",
       "    <tr>\n",
       "      <th>0</th>\n",
       "      <td>2530.0</td>\n",
       "      <td>1.0</td>\n",
       "      <td>[254.62053374948147, 332.41397606699405, -727....</td>\n",
       "      <td>0.0</td>\n",
       "    </tr>\n",
       "    <tr>\n",
       "      <th>1</th>\n",
       "      <td>2530.0</td>\n",
       "      <td>1.0</td>\n",
       "      <td>[20.550841480663475, -18.884669077279337, 152....</td>\n",
       "      <td>0.0</td>\n",
       "    </tr>\n",
       "    <tr>\n",
       "      <th>2</th>\n",
       "      <td>2530.0</td>\n",
       "      <td>1.0</td>\n",
       "      <td>[2296.0082592261, 1161.8953810714854, 106.9764...</td>\n",
       "      <td>0.0</td>\n",
       "    </tr>\n",
       "    <tr>\n",
       "      <th>3</th>\n",
       "      <td>2530.0</td>\n",
       "      <td>1.0</td>\n",
       "      <td>[-1.2132347511973676, -24.042684343382245, -14...</td>\n",
       "      <td>0.0</td>\n",
       "    </tr>\n",
       "    <tr>\n",
       "      <th>4</th>\n",
       "      <td>2530.0</td>\n",
       "      <td>1.0</td>\n",
       "      <td>[219.40892010033423, 106.21377642082071, 296.9...</td>\n",
       "      <td>0.0</td>\n",
       "    </tr>\n",
       "  </tbody>\n",
       "</table>\n",
       "</div>"
      ],
      "text/plain": [
       "   patient_id  recording_type  \\\n",
       "0      2530.0             1.0   \n",
       "1      2530.0             1.0   \n",
       "2      2530.0             1.0   \n",
       "3      2530.0             1.0   \n",
       "4      2530.0             1.0   \n",
       "\n",
       "                                           recording  murmur  \n",
       "0  [254.62053374948147, 332.41397606699405, -727....     0.0  \n",
       "1  [20.550841480663475, -18.884669077279337, 152....     0.0  \n",
       "2  [2296.0082592261, 1161.8953810714854, 106.9764...     0.0  \n",
       "3  [-1.2132347511973676, -24.042684343382245, -14...     0.0  \n",
       "4  [219.40892010033423, 106.21377642082071, 296.9...     0.0  "
      ]
     },
     "execution_count": 4,
     "metadata": {},
     "output_type": "execute_result"
    }
   ],
   "source": [
    "recordings,patient_label,patient_id = create_rec_patient_list(data_folder)\n",
    "df = build_dataset_df(recordings,patient_id,patient_label,wind_size)\n",
    "df.head()"
   ]
  },
  {
   "cell_type": "code",
   "execution_count": 5,
   "id": "8c066276",
   "metadata": {
    "ExecuteTime": {
     "end_time": "2023-04-28T19:30:19.950046Z",
     "start_time": "2023-04-28T19:30:19.849971Z"
    },
    "id": "P9HTtXrm78dV"
   },
   "outputs": [],
   "source": [
    "# check correctness of dataframe loaded\n",
    "for i in range(df.shape[0]):\n",
    "  if len(df[\"recording\"][i]) != wind_size:\n",
    "    print(\"problem sir\")"
   ]
  },
  {
   "cell_type": "code",
   "execution_count": 6,
   "id": "704c5b24",
   "metadata": {
    "ExecuteTime": {
     "end_time": "2023-04-28T19:30:20.212107Z",
     "start_time": "2023-04-28T19:30:20.210980Z"
    },
    "id": "fElXRT5T4a36"
   },
   "outputs": [],
   "source": [
    "# select only two columns\n",
    "new_df = df[['patient_id', 'murmur']]\n",
    "new_df = new_df.drop_duplicates()\n",
    "new_df = new_df.reset_index(drop=True)"
   ]
  },
  {
   "cell_type": "code",
   "execution_count": 7,
   "id": "cf46440a",
   "metadata": {
    "ExecuteTime": {
     "end_time": "2023-04-28T19:30:20.478399Z",
     "start_time": "2023-04-28T19:30:20.402161Z"
    },
    "colab": {
     "base_uri": "https://localhost:8080/"
    },
    "id": "6T9wZX1WyE83",
    "outputId": "d3fbb777-7c62-410b-fc50-0621a5692645"
   },
   "outputs": [
    {
     "name": "stdout",
     "output_type": "stream",
     "text": [
      "179\n",
      "695\n"
     ]
    }
   ],
   "source": [
    "# check murmur/non-murmur balance\n",
    "nb_murmur_present = (new_df.loc[new_df['murmur'] == 1]).shape[0]\n",
    "nb_murmur_absent = (new_df.loc[new_df['murmur'] == 0]).shape[0]\n",
    "print(nb_murmur_present)\n",
    "print(nb_murmur_absent)"
   ]
  },
  {
   "cell_type": "code",
   "execution_count": 8,
   "id": "af1d9aaa",
   "metadata": {
    "ExecuteTime": {
     "end_time": "2023-04-28T19:30:20.729364Z",
     "start_time": "2023-04-28T19:30:20.665901Z"
    },
    "colab": {
     "base_uri": "https://localhost:8080/",
     "height": 424
    },
    "id": "mzg9rqHzxyal",
    "outputId": "b703a36e-c0e1-42f6-bf19-54cf7bd0851e"
   },
   "outputs": [
    {
     "data": {
      "text/html": [
       "<div>\n",
       "<style scoped>\n",
       "    .dataframe tbody tr th:only-of-type {\n",
       "        vertical-align: middle;\n",
       "    }\n",
       "\n",
       "    .dataframe tbody tr th {\n",
       "        vertical-align: top;\n",
       "    }\n",
       "\n",
       "    .dataframe thead th {\n",
       "        text-align: right;\n",
       "    }\n",
       "</style>\n",
       "<table border=\"1\" class=\"dataframe\">\n",
       "  <thead>\n",
       "    <tr style=\"text-align: right;\">\n",
       "      <th></th>\n",
       "      <th>patient_id</th>\n",
       "      <th>murmur</th>\n",
       "    </tr>\n",
       "  </thead>\n",
       "  <tbody>\n",
       "    <tr>\n",
       "      <th>0</th>\n",
       "      <td>2530.0</td>\n",
       "      <td>0.0</td>\n",
       "    </tr>\n",
       "    <tr>\n",
       "      <th>1</th>\n",
       "      <td>9979.0</td>\n",
       "      <td>1.0</td>\n",
       "    </tr>\n",
       "    <tr>\n",
       "      <th>2</th>\n",
       "      <td>13918.0</td>\n",
       "      <td>1.0</td>\n",
       "    </tr>\n",
       "    <tr>\n",
       "      <th>3</th>\n",
       "      <td>14241.0</td>\n",
       "      <td>1.0</td>\n",
       "    </tr>\n",
       "    <tr>\n",
       "      <th>4</th>\n",
       "      <td>14998.0</td>\n",
       "      <td>0.0</td>\n",
       "    </tr>\n",
       "    <tr>\n",
       "      <th>...</th>\n",
       "      <td>...</td>\n",
       "      <td>...</td>\n",
       "    </tr>\n",
       "    <tr>\n",
       "      <th>869</th>\n",
       "      <td>85340.0</td>\n",
       "      <td>0.0</td>\n",
       "    </tr>\n",
       "    <tr>\n",
       "      <th>870</th>\n",
       "      <td>85341.0</td>\n",
       "      <td>0.0</td>\n",
       "    </tr>\n",
       "    <tr>\n",
       "      <th>871</th>\n",
       "      <td>85343.0</td>\n",
       "      <td>1.0</td>\n",
       "    </tr>\n",
       "    <tr>\n",
       "      <th>872</th>\n",
       "      <td>85345.0</td>\n",
       "      <td>0.0</td>\n",
       "    </tr>\n",
       "    <tr>\n",
       "      <th>873</th>\n",
       "      <td>85349.0</td>\n",
       "      <td>0.0</td>\n",
       "    </tr>\n",
       "  </tbody>\n",
       "</table>\n",
       "<p>874 rows × 2 columns</p>\n",
       "</div>"
      ],
      "text/plain": [
       "     patient_id  murmur\n",
       "0        2530.0     0.0\n",
       "1        9979.0     1.0\n",
       "2       13918.0     1.0\n",
       "3       14241.0     1.0\n",
       "4       14998.0     0.0\n",
       "..          ...     ...\n",
       "869     85340.0     0.0\n",
       "870     85341.0     0.0\n",
       "871     85343.0     1.0\n",
       "872     85345.0     0.0\n",
       "873     85349.0     0.0\n",
       "\n",
       "[874 rows x 2 columns]"
      ]
     },
     "execution_count": 8,
     "metadata": {},
     "output_type": "execute_result"
    }
   ],
   "source": [
    "# display\n",
    "new_df"
   ]
  },
  {
   "cell_type": "code",
   "execution_count": 9,
   "id": "52368980",
   "metadata": {
    "ExecuteTime": {
     "end_time": "2023-04-28T19:30:20.900406Z",
     "start_time": "2023-04-28T19:30:20.872700Z"
    },
    "id": "Un2S1LxU675v"
   },
   "outputs": [],
   "source": [
    "# complete list of distinct patient id's and corresponding label\n",
    "list_id = new_df['patient_id']\n",
    "list_label = new_df['murmur']"
   ]
  },
  {
   "cell_type": "code",
   "execution_count": 10,
   "id": "814df570",
   "metadata": {
    "ExecuteTime": {
     "end_time": "2023-04-28T19:30:22.427855Z",
     "start_time": "2023-04-28T19:30:22.330256Z"
    },
    "id": "uR6aqz5g9oOj"
   },
   "outputs": [],
   "source": [
    "id_train, id_valtest, label_train, label_valtest = train_test_split(list_id, list_label , test_size=0.4, random_state=42)\n",
    "id_val, id_test, label_val, label_test = train_test_split(id_valtest, label_valtest , test_size=0.5, random_state=42)"
   ]
  },
  {
   "cell_type": "code",
   "execution_count": 11,
   "id": "7f3253d4",
   "metadata": {
    "ExecuteTime": {
     "end_time": "2023-04-28T19:30:22.805600Z",
     "start_time": "2023-04-28T19:30:22.633347Z"
    },
    "id": "BlEJD1ce4H1O"
   },
   "outputs": [],
   "source": [
    "def select_rows(id_list,dframe):\n",
    "  #for id in list_id:\n",
    "  sub_df = dframe.loc[dframe['patient_id'].isin([int(id) for id in id_list])]\n",
    "  return sub_df\n",
    "\n",
    "df_train = select_rows(id_train,df)\n",
    "df_val = select_rows(id_val,df)\n",
    "df_test = select_rows(id_test,df)"
   ]
  },
  {
   "cell_type": "code",
   "execution_count": 12,
   "id": "65d7faab",
   "metadata": {
    "ExecuteTime": {
     "end_time": "2023-04-28T19:30:23.019154Z",
     "start_time": "2023-04-28T19:30:22.890730Z"
    },
    "colab": {
     "base_uri": "https://localhost:8080/"
    },
    "id": "E2w-MxY1_ClQ",
    "outputId": "d8b06ceb-2d69-4941-a7dd-cb34b1591e7f"
   },
   "outputs": [
    {
     "name": "stdout",
     "output_type": "stream",
     "text": [
      "Number of Murmur present :  2697\n",
      "Number of Murmur absent :  11832\n"
     ]
    }
   ],
   "source": [
    "print(\"Number of Murmur present : \",(df_train.loc[df_train['murmur'] == 1]).shape[0])\n",
    "print(\"Number of Murmur absent : \",(df_train.loc[df_train['murmur'] == 0]).shape[0])"
   ]
  },
  {
   "cell_type": "code",
   "execution_count": 13,
   "id": "fa107a23",
   "metadata": {
    "ExecuteTime": {
     "end_time": "2023-04-28T19:30:23.135492Z",
     "start_time": "2023-04-28T19:30:23.031706Z"
    },
    "id": "jfbOL3Un_ESV"
   },
   "outputs": [],
   "source": [
    "X_train = np.vstack(df_train['recording'])\n",
    "y_train = np.array(df_train['murmur'])\n",
    "\n",
    "X_val = np.vstack(df_val['recording'])\n",
    "y_val = np.array(df_val['murmur'])\n",
    "\n",
    "X_test = np.vstack(df_test['recording'])\n",
    "y_test = np.array(df_test['murmur'])"
   ]
  },
  {
   "cell_type": "code",
   "execution_count": 14,
   "id": "29aaaf54",
   "metadata": {
    "ExecuteTime": {
     "end_time": "2023-04-28T19:30:23.394668Z",
     "start_time": "2023-04-28T19:30:23.343654Z"
    },
    "id": "YAlU7MUoCi6r"
   },
   "outputs": [],
   "source": [
    "X_train = X_train.reshape(len(X_train),len(X_train[1]),1)\n",
    "X_val = X_val.reshape(len(X_val),len(X_val[1]),1)\n",
    "X_test = X_test.reshape(len(X_test),len(X_test[1]),1)"
   ]
  },
  {
   "cell_type": "code",
   "execution_count": 15,
   "id": "751d25ab",
   "metadata": {
    "ExecuteTime": {
     "end_time": "2023-04-28T19:30:23.566721Z",
     "start_time": "2023-04-28T19:30:23.565669Z"
    }
   },
   "outputs": [
    {
     "data": {
      "text/plain": [
       "(14529, 6000, 1)"
      ]
     },
     "execution_count": 15,
     "metadata": {},
     "output_type": "execute_result"
    }
   ],
   "source": [
    "X_train.shape"
   ]
  },
  {
   "cell_type": "code",
   "execution_count": 16,
   "id": "fd4719ea",
   "metadata": {
    "ExecuteTime": {
     "end_time": "2023-04-28T19:30:23.833671Z",
     "start_time": "2023-04-28T19:30:23.810191Z"
    }
   },
   "outputs": [
    {
     "name": "stderr",
     "output_type": "stream",
     "text": [
      "2023-07-11 12:45:33.777848: I tensorflow/compiler/xla/stream_executor/cuda/cuda_gpu_executor.cc:995] successful NUMA node read from SysFS had negative value (-1), but there must be at least one NUMA node, so returning NUMA node zero. See more at https://github.com/torvalds/linux/blob/v6.0/Documentation/ABI/testing/sysfs-bus-pci#L344-L355\n",
      "2023-07-11 12:45:33.777948: I tensorflow/compiler/xla/stream_executor/cuda/cuda_gpu_executor.cc:995] successful NUMA node read from SysFS had negative value (-1), but there must be at least one NUMA node, so returning NUMA node zero. See more at https://github.com/torvalds/linux/blob/v6.0/Documentation/ABI/testing/sysfs-bus-pci#L344-L355\n",
      "2023-07-11 12:45:33.777994: I tensorflow/compiler/xla/stream_executor/cuda/cuda_gpu_executor.cc:995] successful NUMA node read from SysFS had negative value (-1), but there must be at least one NUMA node, so returning NUMA node zero. See more at https://github.com/torvalds/linux/blob/v6.0/Documentation/ABI/testing/sysfs-bus-pci#L344-L355\n",
      "2023-07-11 12:45:33.842804: I tensorflow/compiler/xla/stream_executor/cuda/cuda_gpu_executor.cc:995] successful NUMA node read from SysFS had negative value (-1), but there must be at least one NUMA node, so returning NUMA node zero. See more at https://github.com/torvalds/linux/blob/v6.0/Documentation/ABI/testing/sysfs-bus-pci#L344-L355\n",
      "2023-07-11 12:45:33.842884: I tensorflow/compiler/xla/stream_executor/cuda/cuda_gpu_executor.cc:995] successful NUMA node read from SysFS had negative value (-1), but there must be at least one NUMA node, so returning NUMA node zero. See more at https://github.com/torvalds/linux/blob/v6.0/Documentation/ABI/testing/sysfs-bus-pci#L344-L355\n",
      "2023-07-11 12:45:33.842932: I tensorflow/compiler/xla/stream_executor/cuda/cuda_gpu_executor.cc:995] successful NUMA node read from SysFS had negative value (-1), but there must be at least one NUMA node, so returning NUMA node zero. See more at https://github.com/torvalds/linux/blob/v6.0/Documentation/ABI/testing/sysfs-bus-pci#L344-L355\n",
      "2023-07-11 12:45:33.842974: I tensorflow/core/common_runtime/gpu/gpu_device.cc:1639] Created device /job:localhost/replica:0/task:0/device:GPU:0 with 9924 MB memory:  -> device: 0, name: NVIDIA GeForce RTX 4070 Ti, pci bus id: 0000:01:00.0, compute capability: 8.9\n"
     ]
    }
   ],
   "source": [
    "importlib.reload(Chatgpt_model)\n",
    "from Chatgpt_model import *\n",
    "model = create_small_model(input_shape=X_train.shape[1:])\n",
    "\n",
    "\n",
    "#model = make_model(input_shape=X_train.shape[1:])"
   ]
  },
  {
   "cell_type": "code",
   "execution_count": 17,
   "id": "847851a7",
   "metadata": {
    "ExecuteTime": {
     "end_time": "2023-04-28T19:30:24.050572Z",
     "start_time": "2023-04-28T19:30:24.031597Z"
    },
    "colab": {
     "base_uri": "https://localhost:8080/"
    },
    "id": "f_gayKfl_qdh",
    "outputId": "cbb9656e-720f-4852-ab80-34cda175fbff",
    "scrolled": true
   },
   "outputs": [
    {
     "name": "stdout",
     "output_type": "stream",
     "text": [
      "Model: \"model\"\n",
      "__________________________________________________________________________________________________\n",
      " Layer (type)                Output Shape                 Param #   Connected to                  \n",
      "==================================================================================================\n",
      " input_1 (InputLayer)        [(None, 6000, 1)]            0         []                            \n",
      "                                                                                                  \n",
      " conv1d (Conv1D)             (None, 3000, 12)             96        ['input_1[0][0]']             \n",
      "                                                                                                  \n",
      " max_pooling1d (MaxPooling1  (None, 1500, 12)             0         ['conv1d[0][0]']              \n",
      " D)                                                                                               \n",
      "                                                                                                  \n",
      " batch_normalization (Batch  (None, 1500, 12)             48        ['max_pooling1d[0][0]']       \n",
      " Normalization)                                                                                   \n",
      "                                                                                                  \n",
      " conv1d_1 (Conv1D)           (None, 1500, 72)             936       ['batch_normalization[0][0]'] \n",
      "                                                                                                  \n",
      " batch_normalization_1 (Bat  (None, 1500, 72)             288       ['conv1d_1[0][0]']            \n",
      " chNormalization)                                                                                 \n",
      "                                                                                                  \n",
      " re_lu (ReLU)                (None, 1500, 72)             0         ['batch_normalization_1[0][0]'\n",
      "                                                                    ]                             \n",
      "                                                                                                  \n",
      " depthwise_conv1d (Depthwis  (None, 1500, 72)             288       ['re_lu[0][0]']               \n",
      " eConv1D)                                                                                         \n",
      "                                                                                                  \n",
      " batch_normalization_2 (Bat  (None, 1500, 72)             288       ['depthwise_conv1d[0][0]']    \n",
      " chNormalization)                                                                                 \n",
      "                                                                                                  \n",
      " re_lu_1 (ReLU)              (None, 1500, 72)             0         ['batch_normalization_2[0][0]'\n",
      "                                                                    ]                             \n",
      "                                                                                                  \n",
      " conv1d_2 (Conv1D)           (None, 1500, 12)             876       ['re_lu_1[0][0]']             \n",
      "                                                                                                  \n",
      " concatenate (Concatenate)   (None, 1500, 24)             0         ['max_pooling1d[0][0]',       \n",
      "                                                                     'conv1d_2[0][0]']            \n",
      "                                                                                                  \n",
      " batch_normalization_3 (Bat  (None, 1500, 24)             96        ['concatenate[0][0]']         \n",
      " chNormalization)                                                                                 \n",
      "                                                                                                  \n",
      " conv1d_3 (Conv1D)           (None, 1500, 144)            3600      ['batch_normalization_3[0][0]'\n",
      "                                                                    ]                             \n",
      "                                                                                                  \n",
      " batch_normalization_4 (Bat  (None, 1500, 144)            576       ['conv1d_3[0][0]']            \n",
      " chNormalization)                                                                                 \n",
      "                                                                                                  \n",
      " re_lu_2 (ReLU)              (None, 1500, 144)            0         ['batch_normalization_4[0][0]'\n",
      "                                                                    ]                             \n",
      "                                                                                                  \n",
      " depthwise_conv1d_1 (Depthw  (None, 1500, 144)            576       ['re_lu_2[0][0]']             \n",
      " iseConv1D)                                                                                       \n",
      "                                                                                                  \n",
      " batch_normalization_5 (Bat  (None, 1500, 144)            576       ['depthwise_conv1d_1[0][0]']  \n",
      " chNormalization)                                                                                 \n",
      "                                                                                                  \n",
      " re_lu_3 (ReLU)              (None, 1500, 144)            0         ['batch_normalization_5[0][0]'\n",
      "                                                                    ]                             \n",
      "                                                                                                  \n",
      " conv1d_4 (Conv1D)           (None, 1500, 12)             1740      ['re_lu_3[0][0]']             \n",
      "                                                                                                  \n",
      " concatenate_1 (Concatenate  (None, 1500, 36)             0         ['max_pooling1d[0][0]',       \n",
      " )                                                                   'conv1d_2[0][0]',            \n",
      "                                                                     'conv1d_4[0][0]']            \n",
      "                                                                                                  \n",
      " batch_normalization_6 (Bat  (None, 1500, 36)             144       ['concatenate_1[0][0]']       \n",
      " chNormalization)                                                                                 \n",
      "                                                                                                  \n",
      " conv1d_5 (Conv1D)           (None, 1500, 216)            7992      ['batch_normalization_6[0][0]'\n",
      "                                                                    ]                             \n",
      "                                                                                                  \n",
      " batch_normalization_7 (Bat  (None, 1500, 216)            864       ['conv1d_5[0][0]']            \n",
      " chNormalization)                                                                                 \n",
      "                                                                                                  \n",
      " re_lu_4 (ReLU)              (None, 1500, 216)            0         ['batch_normalization_7[0][0]'\n",
      "                                                                    ]                             \n",
      "                                                                                                  \n",
      " depthwise_conv1d_2 (Depthw  (None, 1500, 216)            864       ['re_lu_4[0][0]']             \n",
      " iseConv1D)                                                                                       \n",
      "                                                                                                  \n",
      " batch_normalization_8 (Bat  (None, 1500, 216)            864       ['depthwise_conv1d_2[0][0]']  \n",
      " chNormalization)                                                                                 \n",
      "                                                                                                  \n",
      " re_lu_5 (ReLU)              (None, 1500, 216)            0         ['batch_normalization_8[0][0]'\n",
      "                                                                    ]                             \n",
      "                                                                                                  \n"
     ]
    },
    {
     "name": "stdout",
     "output_type": "stream",
     "text": [
      " conv1d_6 (Conv1D)           (None, 1500, 12)             2604      ['re_lu_5[0][0]']             \n",
      "                                                                                                  \n",
      " concatenate_2 (Concatenate  (None, 1500, 48)             0         ['max_pooling1d[0][0]',       \n",
      " )                                                                   'conv1d_2[0][0]',            \n",
      "                                                                     'conv1d_4[0][0]',            \n",
      "                                                                     'conv1d_6[0][0]']            \n",
      "                                                                                                  \n",
      " batch_normalization_9 (Bat  (None, 1500, 48)             192       ['concatenate_2[0][0]']       \n",
      " chNormalization)                                                                                 \n",
      "                                                                                                  \n",
      " conv1d_7 (Conv1D)           (None, 1500, 288)            14112     ['batch_normalization_9[0][0]'\n",
      "                                                                    ]                             \n",
      "                                                                                                  \n",
      " batch_normalization_10 (Ba  (None, 1500, 288)            1152      ['conv1d_7[0][0]']            \n",
      " tchNormalization)                                                                                \n",
      "                                                                                                  \n",
      " re_lu_6 (ReLU)              (None, 1500, 288)            0         ['batch_normalization_10[0][0]\n",
      "                                                                    ']                            \n",
      "                                                                                                  \n",
      " depthwise_conv1d_3 (Depthw  (None, 1500, 288)            1152      ['re_lu_6[0][0]']             \n",
      " iseConv1D)                                                                                       \n",
      "                                                                                                  \n",
      " batch_normalization_11 (Ba  (None, 1500, 288)            1152      ['depthwise_conv1d_3[0][0]']  \n",
      " tchNormalization)                                                                                \n",
      "                                                                                                  \n",
      " re_lu_7 (ReLU)              (None, 1500, 288)            0         ['batch_normalization_11[0][0]\n",
      "                                                                    ']                            \n",
      "                                                                                                  \n",
      " conv1d_8 (Conv1D)           (None, 1500, 12)             3468      ['re_lu_7[0][0]']             \n",
      "                                                                                                  \n",
      " concatenate_3 (Concatenate  (None, 1500, 60)             0         ['max_pooling1d[0][0]',       \n",
      " )                                                                   'conv1d_2[0][0]',            \n",
      "                                                                     'conv1d_4[0][0]',            \n",
      "                                                                     'conv1d_6[0][0]',            \n",
      "                                                                     'conv1d_8[0][0]']            \n",
      "                                                                                                  \n",
      " batch_normalization_12 (Ba  (None, 1500, 60)             240       ['concatenate_3[0][0]']       \n",
      " tchNormalization)                                                                                \n",
      "                                                                                                  \n",
      " conv1d_9 (Conv1D)           (None, 1500, 360)            21960     ['batch_normalization_12[0][0]\n",
      "                                                                    ']                            \n",
      "                                                                                                  \n",
      " batch_normalization_13 (Ba  (None, 1500, 360)            1440      ['conv1d_9[0][0]']            \n",
      " tchNormalization)                                                                                \n",
      "                                                                                                  \n",
      " re_lu_8 (ReLU)              (None, 1500, 360)            0         ['batch_normalization_13[0][0]\n",
      "                                                                    ']                            \n",
      "                                                                                                  \n",
      " depthwise_conv1d_4 (Depthw  (None, 1500, 360)            1440      ['re_lu_8[0][0]']             \n",
      " iseConv1D)                                                                                       \n",
      "                                                                                                  \n",
      " batch_normalization_14 (Ba  (None, 1500, 360)            1440      ['depthwise_conv1d_4[0][0]']  \n",
      " tchNormalization)                                                                                \n",
      "                                                                                                  \n",
      " re_lu_9 (ReLU)              (None, 1500, 360)            0         ['batch_normalization_14[0][0]\n",
      "                                                                    ']                            \n",
      "                                                                                                  \n",
      " conv1d_10 (Conv1D)          (None, 1500, 12)             4332      ['re_lu_9[0][0]']             \n",
      "                                                                                                  \n",
      " concatenate_4 (Concatenate  (None, 1500, 36)             0         ['conv1d_6[0][0]',            \n",
      " )                                                                   'conv1d_8[0][0]',            \n",
      "                                                                     'conv1d_10[0][0]']           \n",
      "                                                                                                  \n",
      " batch_normalization_15 (Ba  (None, 1500, 36)             144       ['concatenate_4[0][0]']       \n",
      " tchNormalization)                                                                                \n",
      "                                                                                                  \n",
      " conv1d_11 (Conv1D)          (None, 1500, 216)            7992      ['batch_normalization_15[0][0]\n",
      "                                                                    ']                            \n",
      "                                                                                                  \n",
      " batch_normalization_16 (Ba  (None, 1500, 216)            864       ['conv1d_11[0][0]']           \n",
      " tchNormalization)                                                                                \n",
      "                                                                                                  \n",
      " re_lu_10 (ReLU)             (None, 1500, 216)            0         ['batch_normalization_16[0][0]\n",
      "                                                                    ']                            \n",
      "                                                                                                  \n",
      " depthwise_conv1d_5 (Depthw  (None, 1500, 216)            864       ['re_lu_10[0][0]']            \n",
      " iseConv1D)                                                                                       \n",
      "                                                                                                  \n",
      " batch_normalization_17 (Ba  (None, 1500, 216)            864       ['depthwise_conv1d_5[0][0]']  \n",
      " tchNormalization)                                                                                \n",
      "                                                                                                  \n",
      " re_lu_11 (ReLU)             (None, 1500, 216)            0         ['batch_normalization_17[0][0]\n",
      "                                                                    ']                            \n"
     ]
    },
    {
     "name": "stdout",
     "output_type": "stream",
     "text": [
      "                                                                                                  \n",
      " conv1d_12 (Conv1D)          (None, 1500, 12)             2604      ['re_lu_11[0][0]']            \n",
      "                                                                                                  \n",
      " concatenate_5 (Concatenate  (None, 1500, 36)             0         ['conv1d_8[0][0]',            \n",
      " )                                                                   'conv1d_10[0][0]',           \n",
      "                                                                     'conv1d_12[0][0]']           \n",
      "                                                                                                  \n",
      " batch_normalization_18 (Ba  (None, 1500, 36)             144       ['concatenate_5[0][0]']       \n",
      " tchNormalization)                                                                                \n",
      "                                                                                                  \n",
      " conv1d_13 (Conv1D)          (None, 1500, 216)            7992      ['batch_normalization_18[0][0]\n",
      "                                                                    ']                            \n",
      "                                                                                                  \n",
      " batch_normalization_19 (Ba  (None, 1500, 216)            864       ['conv1d_13[0][0]']           \n",
      " tchNormalization)                                                                                \n",
      "                                                                                                  \n",
      " re_lu_12 (ReLU)             (None, 1500, 216)            0         ['batch_normalization_19[0][0]\n",
      "                                                                    ']                            \n",
      "                                                                                                  \n",
      " depthwise_conv1d_6 (Depthw  (None, 1500, 216)            864       ['re_lu_12[0][0]']            \n",
      " iseConv1D)                                                                                       \n",
      "                                                                                                  \n",
      " batch_normalization_20 (Ba  (None, 1500, 216)            864       ['depthwise_conv1d_6[0][0]']  \n",
      " tchNormalization)                                                                                \n",
      "                                                                                                  \n",
      " re_lu_13 (ReLU)             (None, 1500, 216)            0         ['batch_normalization_20[0][0]\n",
      "                                                                    ']                            \n",
      "                                                                                                  \n",
      " conv1d_14 (Conv1D)          (None, 1500, 12)             2604      ['re_lu_13[0][0]']            \n",
      "                                                                                                  \n",
      " concatenate_6 (Concatenate  (None, 1500, 36)             0         ['conv1d_10[0][0]',           \n",
      " )                                                                   'conv1d_12[0][0]',           \n",
      "                                                                     'conv1d_14[0][0]']           \n",
      "                                                                                                  \n",
      " batch_normalization_21 (Ba  (None, 1500, 36)             144       ['concatenate_6[0][0]']       \n",
      " tchNormalization)                                                                                \n",
      "                                                                                                  \n",
      " conv1d_15 (Conv1D)          (None, 1500, 216)            7992      ['batch_normalization_21[0][0]\n",
      "                                                                    ']                            \n",
      "                                                                                                  \n",
      " batch_normalization_22 (Ba  (None, 1500, 216)            864       ['conv1d_15[0][0]']           \n",
      " tchNormalization)                                                                                \n",
      "                                                                                                  \n",
      " re_lu_14 (ReLU)             (None, 1500, 216)            0         ['batch_normalization_22[0][0]\n",
      "                                                                    ']                            \n",
      "                                                                                                  \n",
      " depthwise_conv1d_7 (Depthw  (None, 1500, 216)            864       ['re_lu_14[0][0]']            \n",
      " iseConv1D)                                                                                       \n",
      "                                                                                                  \n",
      " batch_normalization_23 (Ba  (None, 1500, 216)            864       ['depthwise_conv1d_7[0][0]']  \n",
      " tchNormalization)                                                                                \n",
      "                                                                                                  \n",
      " re_lu_15 (ReLU)             (None, 1500, 216)            0         ['batch_normalization_23[0][0]\n",
      "                                                                    ']                            \n",
      "                                                                                                  \n",
      " conv1d_16 (Conv1D)          (None, 1500, 12)             2604      ['re_lu_15[0][0]']            \n",
      "                                                                                                  \n",
      " concatenate_7 (Concatenate  (None, 1500, 36)             0         ['conv1d_12[0][0]',           \n",
      " )                                                                   'conv1d_14[0][0]',           \n",
      "                                                                     'conv1d_16[0][0]']           \n",
      "                                                                                                  \n",
      " batch_normalization_24 (Ba  (None, 1500, 36)             144       ['concatenate_7[0][0]']       \n",
      " tchNormalization)                                                                                \n",
      "                                                                                                  \n",
      " conv1d_17 (Conv1D)          (None, 1500, 216)            7992      ['batch_normalization_24[0][0]\n",
      "                                                                    ']                            \n",
      "                                                                                                  \n",
      " batch_normalization_25 (Ba  (None, 1500, 216)            864       ['conv1d_17[0][0]']           \n",
      " tchNormalization)                                                                                \n",
      "                                                                                                  \n",
      " re_lu_16 (ReLU)             (None, 1500, 216)            0         ['batch_normalization_25[0][0]\n",
      "                                                                    ']                            \n",
      "                                                                                                  \n",
      " depthwise_conv1d_8 (Depthw  (None, 1500, 216)            864       ['re_lu_16[0][0]']            \n",
      " iseConv1D)                                                                                       \n",
      "                                                                                                  \n",
      " batch_normalization_26 (Ba  (None, 1500, 216)            864       ['depthwise_conv1d_8[0][0]']  \n",
      " tchNormalization)                                                                                \n",
      "                                                                                                  \n",
      " re_lu_17 (ReLU)             (None, 1500, 216)            0         ['batch_normalization_26[0][0]\n",
      "                                                                    ']                            \n",
      "                                                                                                  \n",
      " conv1d_18 (Conv1D)          (None, 1500, 12)             2604      ['re_lu_17[0][0]']            \n"
     ]
    },
    {
     "name": "stdout",
     "output_type": "stream",
     "text": [
      "                                                                                                  \n",
      " concatenate_8 (Concatenate  (None, 1500, 36)             0         ['conv1d_14[0][0]',           \n",
      " )                                                                   'conv1d_16[0][0]',           \n",
      "                                                                     'conv1d_18[0][0]']           \n",
      "                                                                                                  \n",
      " batch_normalization_27 (Ba  (None, 1500, 36)             144       ['concatenate_8[0][0]']       \n",
      " tchNormalization)                                                                                \n",
      "                                                                                                  \n",
      " conv1d_19 (Conv1D)          (None, 1500, 216)            7992      ['batch_normalization_27[0][0]\n",
      "                                                                    ']                            \n",
      "                                                                                                  \n",
      " batch_normalization_28 (Ba  (None, 1500, 216)            864       ['conv1d_19[0][0]']           \n",
      " tchNormalization)                                                                                \n",
      "                                                                                                  \n",
      " re_lu_18 (ReLU)             (None, 1500, 216)            0         ['batch_normalization_28[0][0]\n",
      "                                                                    ']                            \n",
      "                                                                                                  \n",
      " depthwise_conv1d_9 (Depthw  (None, 1500, 216)            864       ['re_lu_18[0][0]']            \n",
      " iseConv1D)                                                                                       \n",
      "                                                                                                  \n",
      " batch_normalization_29 (Ba  (None, 1500, 216)            864       ['depthwise_conv1d_9[0][0]']  \n",
      " tchNormalization)                                                                                \n",
      "                                                                                                  \n",
      " re_lu_19 (ReLU)             (None, 1500, 216)            0         ['batch_normalization_29[0][0]\n",
      "                                                                    ']                            \n",
      "                                                                                                  \n",
      " conv1d_20 (Conv1D)          (None, 1500, 12)             2604      ['re_lu_19[0][0]']            \n",
      "                                                                                                  \n",
      " batch_normalization_30 (Ba  (None, 1500, 12)             48        ['conv1d_20[0][0]']           \n",
      " tchNormalization)                                                                                \n",
      "                                                                                                  \n",
      " re_lu_20 (ReLU)             (None, 1500, 12)             0         ['batch_normalization_30[0][0]\n",
      "                                                                    ']                            \n",
      "                                                                                                  \n",
      " conv1d_21 (Conv1D)          (None, 1500, 12)             156       ['re_lu_20[0][0]']            \n",
      "                                                                                                  \n",
      " global_average_pooling1d (  (None, 12)                   0         ['conv1d_21[0][0]']           \n",
      " GlobalAveragePooling1D)                                                                          \n",
      "                                                                                                  \n",
      " dense (Dense)               (None, 12)                   156       ['global_average_pooling1d[0][\n",
      "                                                                    0]']                          \n",
      "                                                                                                  \n",
      " re_lu_21 (ReLU)             (None, 12)                   0         ['dense[0][0]']               \n",
      "                                                                                                  \n",
      " dense_1 (Dense)             (None, 12)                   156       ['re_lu_21[0][0]']            \n",
      "                                                                                                  \n",
      " tf.math.sigmoid (TFOpLambd  (None, 12)                   0         ['dense_1[0][0]']             \n",
      " a)                                                                                               \n",
      "                                                                                                  \n",
      " multiply (Multiply)         (None, 1500, 12)             0         ['tf.math.sigmoid[0][0]',     \n",
      "                                                                     'conv1d_21[0][0]']           \n",
      "                                                                                                  \n",
      " average_pooling1d (Average  (None, 750, 12)              0         ['multiply[0][0]']            \n",
      " Pooling1D)                                                                                       \n",
      "                                                                                                  \n",
      " batch_normalization_31 (Ba  (None, 750, 12)              48        ['average_pooling1d[0][0]']   \n",
      " tchNormalization)                                                                                \n",
      "                                                                                                  \n",
      " conv1d_22 (Conv1D)          (None, 750, 72)              936       ['batch_normalization_31[0][0]\n",
      "                                                                    ']                            \n",
      "                                                                                                  \n",
      " batch_normalization_32 (Ba  (None, 750, 72)              288       ['conv1d_22[0][0]']           \n",
      " tchNormalization)                                                                                \n",
      "                                                                                                  \n",
      " re_lu_22 (ReLU)             (None, 750, 72)              0         ['batch_normalization_32[0][0]\n",
      "                                                                    ']                            \n",
      "                                                                                                  \n",
      " depthwise_conv1d_10 (Depth  (None, 750, 72)              288       ['re_lu_22[0][0]']            \n",
      " wiseConv1D)                                                                                      \n",
      "                                                                                                  \n",
      " batch_normalization_33 (Ba  (None, 750, 72)              288       ['depthwise_conv1d_10[0][0]'] \n",
      " tchNormalization)                                                                                \n",
      "                                                                                                  \n",
      " re_lu_23 (ReLU)             (None, 750, 72)              0         ['batch_normalization_33[0][0]\n",
      "                                                                    ']                            \n",
      "                                                                                                  \n",
      " conv1d_23 (Conv1D)          (None, 750, 12)              876       ['re_lu_23[0][0]']            \n",
      "                                                                                                  \n",
      " concatenate_9 (Concatenate  (None, 750, 24)              0         ['average_pooling1d[0][0]',   \n",
      " )                                                                   'conv1d_23[0][0]']           \n",
      "                                                                                                  \n",
      " batch_normalization_34 (Ba  (None, 750, 24)              96        ['concatenate_9[0][0]']       \n",
      " tchNormalization)                                                                                \n"
     ]
    },
    {
     "name": "stdout",
     "output_type": "stream",
     "text": [
      "                                                                                                  \n",
      " conv1d_24 (Conv1D)          (None, 750, 144)             3600      ['batch_normalization_34[0][0]\n",
      "                                                                    ']                            \n",
      "                                                                                                  \n",
      " batch_normalization_35 (Ba  (None, 750, 144)             576       ['conv1d_24[0][0]']           \n",
      " tchNormalization)                                                                                \n",
      "                                                                                                  \n",
      " re_lu_24 (ReLU)             (None, 750, 144)             0         ['batch_normalization_35[0][0]\n",
      "                                                                    ']                            \n",
      "                                                                                                  \n",
      " depthwise_conv1d_11 (Depth  (None, 750, 144)             576       ['re_lu_24[0][0]']            \n",
      " wiseConv1D)                                                                                      \n",
      "                                                                                                  \n",
      " batch_normalization_36 (Ba  (None, 750, 144)             576       ['depthwise_conv1d_11[0][0]'] \n",
      " tchNormalization)                                                                                \n",
      "                                                                                                  \n",
      " re_lu_25 (ReLU)             (None, 750, 144)             0         ['batch_normalization_36[0][0]\n",
      "                                                                    ']                            \n",
      "                                                                                                  \n",
      " conv1d_25 (Conv1D)          (None, 750, 12)              1740      ['re_lu_25[0][0]']            \n",
      "                                                                                                  \n",
      " concatenate_10 (Concatenat  (None, 750, 36)              0         ['average_pooling1d[0][0]',   \n",
      " e)                                                                  'conv1d_23[0][0]',           \n",
      "                                                                     'conv1d_25[0][0]']           \n",
      "                                                                                                  \n",
      " batch_normalization_37 (Ba  (None, 750, 36)              144       ['concatenate_10[0][0]']      \n",
      " tchNormalization)                                                                                \n",
      "                                                                                                  \n",
      " conv1d_26 (Conv1D)          (None, 750, 216)             7992      ['batch_normalization_37[0][0]\n",
      "                                                                    ']                            \n",
      "                                                                                                  \n",
      " batch_normalization_38 (Ba  (None, 750, 216)             864       ['conv1d_26[0][0]']           \n",
      " tchNormalization)                                                                                \n",
      "                                                                                                  \n",
      " re_lu_26 (ReLU)             (None, 750, 216)             0         ['batch_normalization_38[0][0]\n",
      "                                                                    ']                            \n",
      "                                                                                                  \n",
      " depthwise_conv1d_12 (Depth  (None, 750, 216)             864       ['re_lu_26[0][0]']            \n",
      " wiseConv1D)                                                                                      \n",
      "                                                                                                  \n",
      " batch_normalization_39 (Ba  (None, 750, 216)             864       ['depthwise_conv1d_12[0][0]'] \n",
      " tchNormalization)                                                                                \n",
      "                                                                                                  \n",
      " re_lu_27 (ReLU)             (None, 750, 216)             0         ['batch_normalization_39[0][0]\n",
      "                                                                    ']                            \n",
      "                                                                                                  \n",
      " conv1d_27 (Conv1D)          (None, 750, 12)              2604      ['re_lu_27[0][0]']            \n",
      "                                                                                                  \n",
      " concatenate_11 (Concatenat  (None, 750, 48)              0         ['average_pooling1d[0][0]',   \n",
      " e)                                                                  'conv1d_23[0][0]',           \n",
      "                                                                     'conv1d_25[0][0]',           \n",
      "                                                                     'conv1d_27[0][0]']           \n",
      "                                                                                                  \n",
      " batch_normalization_40 (Ba  (None, 750, 48)              192       ['concatenate_11[0][0]']      \n",
      " tchNormalization)                                                                                \n",
      "                                                                                                  \n",
      " conv1d_28 (Conv1D)          (None, 750, 288)             14112     ['batch_normalization_40[0][0]\n",
      "                                                                    ']                            \n",
      "                                                                                                  \n",
      " batch_normalization_41 (Ba  (None, 750, 288)             1152      ['conv1d_28[0][0]']           \n",
      " tchNormalization)                                                                                \n",
      "                                                                                                  \n",
      " re_lu_28 (ReLU)             (None, 750, 288)             0         ['batch_normalization_41[0][0]\n",
      "                                                                    ']                            \n",
      "                                                                                                  \n",
      " depthwise_conv1d_13 (Depth  (None, 750, 288)             1152      ['re_lu_28[0][0]']            \n",
      " wiseConv1D)                                                                                      \n",
      "                                                                                                  \n",
      " batch_normalization_42 (Ba  (None, 750, 288)             1152      ['depthwise_conv1d_13[0][0]'] \n",
      " tchNormalization)                                                                                \n",
      "                                                                                                  \n",
      " re_lu_29 (ReLU)             (None, 750, 288)             0         ['batch_normalization_42[0][0]\n",
      "                                                                    ']                            \n",
      "                                                                                                  \n",
      " conv1d_29 (Conv1D)          (None, 750, 12)              3468      ['re_lu_29[0][0]']            \n",
      "                                                                                                  \n",
      " concatenate_12 (Concatenat  (None, 750, 60)              0         ['average_pooling1d[0][0]',   \n",
      " e)                                                                  'conv1d_23[0][0]',           \n",
      "                                                                     'conv1d_25[0][0]',           \n",
      "                                                                     'conv1d_27[0][0]',           \n",
      "                                                                     'conv1d_29[0][0]']           \n",
      "                                                                                                  \n",
      " batch_normalization_43 (Ba  (None, 750, 60)              240       ['concatenate_12[0][0]']      \n"
     ]
    },
    {
     "name": "stdout",
     "output_type": "stream",
     "text": [
      " tchNormalization)                                                                                \n",
      "                                                                                                  \n",
      " conv1d_30 (Conv1D)          (None, 750, 360)             21960     ['batch_normalization_43[0][0]\n",
      "                                                                    ']                            \n",
      "                                                                                                  \n",
      " batch_normalization_44 (Ba  (None, 750, 360)             1440      ['conv1d_30[0][0]']           \n",
      " tchNormalization)                                                                                \n",
      "                                                                                                  \n",
      " re_lu_30 (ReLU)             (None, 750, 360)             0         ['batch_normalization_44[0][0]\n",
      "                                                                    ']                            \n",
      "                                                                                                  \n",
      " depthwise_conv1d_14 (Depth  (None, 750, 360)             1440      ['re_lu_30[0][0]']            \n",
      " wiseConv1D)                                                                                      \n",
      "                                                                                                  \n",
      " batch_normalization_45 (Ba  (None, 750, 360)             1440      ['depthwise_conv1d_14[0][0]'] \n",
      " tchNormalization)                                                                                \n",
      "                                                                                                  \n",
      " re_lu_31 (ReLU)             (None, 750, 360)             0         ['batch_normalization_45[0][0]\n",
      "                                                                    ']                            \n",
      "                                                                                                  \n",
      " conv1d_31 (Conv1D)          (None, 750, 12)              4332      ['re_lu_31[0][0]']            \n",
      "                                                                                                  \n",
      " concatenate_13 (Concatenat  (None, 750, 36)              0         ['conv1d_27[0][0]',           \n",
      " e)                                                                  'conv1d_29[0][0]',           \n",
      "                                                                     'conv1d_31[0][0]']           \n",
      "                                                                                                  \n",
      " batch_normalization_46 (Ba  (None, 750, 36)              144       ['concatenate_13[0][0]']      \n",
      " tchNormalization)                                                                                \n",
      "                                                                                                  \n",
      " conv1d_32 (Conv1D)          (None, 750, 216)             7992      ['batch_normalization_46[0][0]\n",
      "                                                                    ']                            \n",
      "                                                                                                  \n",
      " batch_normalization_47 (Ba  (None, 750, 216)             864       ['conv1d_32[0][0]']           \n",
      " tchNormalization)                                                                                \n",
      "                                                                                                  \n",
      " re_lu_32 (ReLU)             (None, 750, 216)             0         ['batch_normalization_47[0][0]\n",
      "                                                                    ']                            \n",
      "                                                                                                  \n",
      " depthwise_conv1d_15 (Depth  (None, 750, 216)             864       ['re_lu_32[0][0]']            \n",
      " wiseConv1D)                                                                                      \n",
      "                                                                                                  \n",
      " batch_normalization_48 (Ba  (None, 750, 216)             864       ['depthwise_conv1d_15[0][0]'] \n",
      " tchNormalization)                                                                                \n",
      "                                                                                                  \n",
      " re_lu_33 (ReLU)             (None, 750, 216)             0         ['batch_normalization_48[0][0]\n",
      "                                                                    ']                            \n",
      "                                                                                                  \n",
      " conv1d_33 (Conv1D)          (None, 750, 12)              2604      ['re_lu_33[0][0]']            \n",
      "                                                                                                  \n",
      " concatenate_14 (Concatenat  (None, 750, 36)              0         ['conv1d_29[0][0]',           \n",
      " e)                                                                  'conv1d_31[0][0]',           \n",
      "                                                                     'conv1d_33[0][0]']           \n",
      "                                                                                                  \n",
      " batch_normalization_49 (Ba  (None, 750, 36)              144       ['concatenate_14[0][0]']      \n",
      " tchNormalization)                                                                                \n",
      "                                                                                                  \n",
      " conv1d_34 (Conv1D)          (None, 750, 216)             7992      ['batch_normalization_49[0][0]\n",
      "                                                                    ']                            \n",
      "                                                                                                  \n",
      " batch_normalization_50 (Ba  (None, 750, 216)             864       ['conv1d_34[0][0]']           \n",
      " tchNormalization)                                                                                \n",
      "                                                                                                  \n",
      " re_lu_34 (ReLU)             (None, 750, 216)             0         ['batch_normalization_50[0][0]\n",
      "                                                                    ']                            \n",
      "                                                                                                  \n",
      " depthwise_conv1d_16 (Depth  (None, 750, 216)             864       ['re_lu_34[0][0]']            \n",
      " wiseConv1D)                                                                                      \n",
      "                                                                                                  \n",
      " batch_normalization_51 (Ba  (None, 750, 216)             864       ['depthwise_conv1d_16[0][0]'] \n",
      " tchNormalization)                                                                                \n",
      "                                                                                                  \n",
      " re_lu_35 (ReLU)             (None, 750, 216)             0         ['batch_normalization_51[0][0]\n",
      "                                                                    ']                            \n",
      "                                                                                                  \n",
      " conv1d_35 (Conv1D)          (None, 750, 12)              2604      ['re_lu_35[0][0]']            \n",
      "                                                                                                  \n",
      " concatenate_15 (Concatenat  (None, 750, 36)              0         ['conv1d_31[0][0]',           \n",
      " e)                                                                  'conv1d_33[0][0]',           \n",
      "                                                                     'conv1d_35[0][0]']           \n",
      "                                                                                                  \n",
      " batch_normalization_52 (Ba  (None, 750, 36)              144       ['concatenate_15[0][0]']      \n",
      " tchNormalization)                                                                                \n",
      "                                                                                                  \n"
     ]
    },
    {
     "name": "stdout",
     "output_type": "stream",
     "text": [
      " conv1d_36 (Conv1D)          (None, 750, 216)             7992      ['batch_normalization_52[0][0]\n",
      "                                                                    ']                            \n",
      "                                                                                                  \n",
      " batch_normalization_53 (Ba  (None, 750, 216)             864       ['conv1d_36[0][0]']           \n",
      " tchNormalization)                                                                                \n",
      "                                                                                                  \n",
      " re_lu_36 (ReLU)             (None, 750, 216)             0         ['batch_normalization_53[0][0]\n",
      "                                                                    ']                            \n",
      "                                                                                                  \n",
      " depthwise_conv1d_17 (Depth  (None, 750, 216)             864       ['re_lu_36[0][0]']            \n",
      " wiseConv1D)                                                                                      \n",
      "                                                                                                  \n",
      " batch_normalization_54 (Ba  (None, 750, 216)             864       ['depthwise_conv1d_17[0][0]'] \n",
      " tchNormalization)                                                                                \n",
      "                                                                                                  \n",
      " re_lu_37 (ReLU)             (None, 750, 216)             0         ['batch_normalization_54[0][0]\n",
      "                                                                    ']                            \n",
      "                                                                                                  \n",
      " conv1d_37 (Conv1D)          (None, 750, 12)              2604      ['re_lu_37[0][0]']            \n",
      "                                                                                                  \n",
      " concatenate_16 (Concatenat  (None, 750, 36)              0         ['conv1d_33[0][0]',           \n",
      " e)                                                                  'conv1d_35[0][0]',           \n",
      "                                                                     'conv1d_37[0][0]']           \n",
      "                                                                                                  \n",
      " batch_normalization_55 (Ba  (None, 750, 36)              144       ['concatenate_16[0][0]']      \n",
      " tchNormalization)                                                                                \n",
      "                                                                                                  \n",
      " conv1d_38 (Conv1D)          (None, 750, 216)             7992      ['batch_normalization_55[0][0]\n",
      "                                                                    ']                            \n",
      "                                                                                                  \n",
      " batch_normalization_56 (Ba  (None, 750, 216)             864       ['conv1d_38[0][0]']           \n",
      " tchNormalization)                                                                                \n",
      "                                                                                                  \n",
      " re_lu_38 (ReLU)             (None, 750, 216)             0         ['batch_normalization_56[0][0]\n",
      "                                                                    ']                            \n",
      "                                                                                                  \n",
      " depthwise_conv1d_18 (Depth  (None, 750, 216)             864       ['re_lu_38[0][0]']            \n",
      " wiseConv1D)                                                                                      \n",
      "                                                                                                  \n",
      " batch_normalization_57 (Ba  (None, 750, 216)             864       ['depthwise_conv1d_18[0][0]'] \n",
      " tchNormalization)                                                                                \n",
      "                                                                                                  \n",
      " re_lu_39 (ReLU)             (None, 750, 216)             0         ['batch_normalization_57[0][0]\n",
      "                                                                    ']                            \n",
      "                                                                                                  \n",
      " conv1d_39 (Conv1D)          (None, 750, 12)              2604      ['re_lu_39[0][0]']            \n",
      "                                                                                                  \n",
      " concatenate_17 (Concatenat  (None, 750, 36)              0         ['conv1d_35[0][0]',           \n",
      " e)                                                                  'conv1d_37[0][0]',           \n",
      "                                                                     'conv1d_39[0][0]']           \n",
      "                                                                                                  \n",
      " batch_normalization_58 (Ba  (None, 750, 36)              144       ['concatenate_17[0][0]']      \n",
      " tchNormalization)                                                                                \n",
      "                                                                                                  \n",
      " conv1d_40 (Conv1D)          (None, 750, 216)             7992      ['batch_normalization_58[0][0]\n",
      "                                                                    ']                            \n",
      "                                                                                                  \n",
      " batch_normalization_59 (Ba  (None, 750, 216)             864       ['conv1d_40[0][0]']           \n",
      " tchNormalization)                                                                                \n",
      "                                                                                                  \n",
      " re_lu_40 (ReLU)             (None, 750, 216)             0         ['batch_normalization_59[0][0]\n",
      "                                                                    ']                            \n",
      "                                                                                                  \n",
      " depthwise_conv1d_19 (Depth  (None, 750, 216)             864       ['re_lu_40[0][0]']            \n",
      " wiseConv1D)                                                                                      \n",
      "                                                                                                  \n",
      " batch_normalization_60 (Ba  (None, 750, 216)             864       ['depthwise_conv1d_19[0][0]'] \n",
      " tchNormalization)                                                                                \n",
      "                                                                                                  \n",
      " re_lu_41 (ReLU)             (None, 750, 216)             0         ['batch_normalization_60[0][0]\n",
      "                                                                    ']                            \n",
      "                                                                                                  \n",
      " conv1d_41 (Conv1D)          (None, 750, 12)              2604      ['re_lu_41[0][0]']            \n",
      "                                                                                                  \n",
      " batch_normalization_61 (Ba  (None, 750, 12)              48        ['conv1d_41[0][0]']           \n",
      " tchNormalization)                                                                                \n",
      "                                                                                                  \n",
      " re_lu_42 (ReLU)             (None, 750, 12)              0         ['batch_normalization_61[0][0]\n",
      "                                                                    ']                            \n",
      "                                                                                                  \n",
      " conv1d_42 (Conv1D)          (None, 750, 12)              156       ['re_lu_42[0][0]']            \n",
      "                                                                                                  \n",
      " global_average_pooling1d_1  (None, 12)                   0         ['conv1d_42[0][0]']           \n"
     ]
    },
    {
     "name": "stdout",
     "output_type": "stream",
     "text": [
      "  (GlobalAveragePooling1D)                                                                        \n",
      "                                                                                                  \n",
      " dense_2 (Dense)             (None, 12)                   156       ['global_average_pooling1d_1[0\n",
      "                                                                    ][0]']                        \n",
      "                                                                                                  \n",
      " re_lu_43 (ReLU)             (None, 12)                   0         ['dense_2[0][0]']             \n",
      "                                                                                                  \n",
      " dense_3 (Dense)             (None, 12)                   156       ['re_lu_43[0][0]']            \n",
      "                                                                                                  \n",
      " tf.math.sigmoid_1 (TFOpLam  (None, 12)                   0         ['dense_3[0][0]']             \n",
      " bda)                                                                                             \n",
      "                                                                                                  \n",
      " multiply_1 (Multiply)       (None, 750, 12)              0         ['tf.math.sigmoid_1[0][0]',   \n",
      "                                                                     'conv1d_42[0][0]']           \n",
      "                                                                                                  \n",
      " average_pooling1d_1 (Avera  (None, 375, 12)              0         ['multiply_1[0][0]']          \n",
      " gePooling1D)                                                                                     \n",
      "                                                                                                  \n",
      " batch_normalization_62 (Ba  (None, 375, 12)              48        ['average_pooling1d_1[0][0]'] \n",
      " tchNormalization)                                                                                \n",
      "                                                                                                  \n",
      " conv1d_43 (Conv1D)          (None, 375, 72)              936       ['batch_normalization_62[0][0]\n",
      "                                                                    ']                            \n",
      "                                                                                                  \n",
      " batch_normalization_63 (Ba  (None, 375, 72)              288       ['conv1d_43[0][0]']           \n",
      " tchNormalization)                                                                                \n",
      "                                                                                                  \n",
      " re_lu_44 (ReLU)             (None, 375, 72)              0         ['batch_normalization_63[0][0]\n",
      "                                                                    ']                            \n",
      "                                                                                                  \n",
      " depthwise_conv1d_20 (Depth  (None, 375, 72)              288       ['re_lu_44[0][0]']            \n",
      " wiseConv1D)                                                                                      \n",
      "                                                                                                  \n",
      " batch_normalization_64 (Ba  (None, 375, 72)              288       ['depthwise_conv1d_20[0][0]'] \n",
      " tchNormalization)                                                                                \n",
      "                                                                                                  \n",
      " re_lu_45 (ReLU)             (None, 375, 72)              0         ['batch_normalization_64[0][0]\n",
      "                                                                    ']                            \n",
      "                                                                                                  \n",
      " conv1d_44 (Conv1D)          (None, 375, 12)              876       ['re_lu_45[0][0]']            \n",
      "                                                                                                  \n",
      " concatenate_18 (Concatenat  (None, 375, 24)              0         ['average_pooling1d_1[0][0]', \n",
      " e)                                                                  'conv1d_44[0][0]']           \n",
      "                                                                                                  \n",
      " batch_normalization_65 (Ba  (None, 375, 24)              96        ['concatenate_18[0][0]']      \n",
      " tchNormalization)                                                                                \n",
      "                                                                                                  \n",
      " conv1d_45 (Conv1D)          (None, 375, 144)             3600      ['batch_normalization_65[0][0]\n",
      "                                                                    ']                            \n",
      "                                                                                                  \n",
      " batch_normalization_66 (Ba  (None, 375, 144)             576       ['conv1d_45[0][0]']           \n",
      " tchNormalization)                                                                                \n",
      "                                                                                                  \n",
      " re_lu_46 (ReLU)             (None, 375, 144)             0         ['batch_normalization_66[0][0]\n",
      "                                                                    ']                            \n",
      "                                                                                                  \n",
      " depthwise_conv1d_21 (Depth  (None, 375, 144)             576       ['re_lu_46[0][0]']            \n",
      " wiseConv1D)                                                                                      \n",
      "                                                                                                  \n",
      " batch_normalization_67 (Ba  (None, 375, 144)             576       ['depthwise_conv1d_21[0][0]'] \n",
      " tchNormalization)                                                                                \n",
      "                                                                                                  \n",
      " re_lu_47 (ReLU)             (None, 375, 144)             0         ['batch_normalization_67[0][0]\n",
      "                                                                    ']                            \n",
      "                                                                                                  \n",
      " conv1d_46 (Conv1D)          (None, 375, 12)              1740      ['re_lu_47[0][0]']            \n",
      "                                                                                                  \n",
      " concatenate_19 (Concatenat  (None, 375, 36)              0         ['average_pooling1d_1[0][0]', \n",
      " e)                                                                  'conv1d_44[0][0]',           \n",
      "                                                                     'conv1d_46[0][0]']           \n",
      "                                                                                                  \n",
      " batch_normalization_68 (Ba  (None, 375, 36)              144       ['concatenate_19[0][0]']      \n",
      " tchNormalization)                                                                                \n",
      "                                                                                                  \n",
      " conv1d_47 (Conv1D)          (None, 375, 216)             7992      ['batch_normalization_68[0][0]\n",
      "                                                                    ']                            \n",
      "                                                                                                  \n",
      " batch_normalization_69 (Ba  (None, 375, 216)             864       ['conv1d_47[0][0]']           \n",
      " tchNormalization)                                                                                \n",
      "                                                                                                  \n",
      " re_lu_48 (ReLU)             (None, 375, 216)             0         ['batch_normalization_69[0][0]\n",
      "                                                                    ']                            \n",
      "                                                                                                  \n"
     ]
    },
    {
     "name": "stdout",
     "output_type": "stream",
     "text": [
      " depthwise_conv1d_22 (Depth  (None, 375, 216)             864       ['re_lu_48[0][0]']            \n",
      " wiseConv1D)                                                                                      \n",
      "                                                                                                  \n",
      " batch_normalization_70 (Ba  (None, 375, 216)             864       ['depthwise_conv1d_22[0][0]'] \n",
      " tchNormalization)                                                                                \n",
      "                                                                                                  \n",
      " re_lu_49 (ReLU)             (None, 375, 216)             0         ['batch_normalization_70[0][0]\n",
      "                                                                    ']                            \n",
      "                                                                                                  \n",
      " conv1d_48 (Conv1D)          (None, 375, 12)              2604      ['re_lu_49[0][0]']            \n",
      "                                                                                                  \n",
      " concatenate_20 (Concatenat  (None, 375, 48)              0         ['average_pooling1d_1[0][0]', \n",
      " e)                                                                  'conv1d_44[0][0]',           \n",
      "                                                                     'conv1d_46[0][0]',           \n",
      "                                                                     'conv1d_48[0][0]']           \n",
      "                                                                                                  \n",
      " batch_normalization_71 (Ba  (None, 375, 48)              192       ['concatenate_20[0][0]']      \n",
      " tchNormalization)                                                                                \n",
      "                                                                                                  \n",
      " conv1d_49 (Conv1D)          (None, 375, 288)             14112     ['batch_normalization_71[0][0]\n",
      "                                                                    ']                            \n",
      "                                                                                                  \n",
      " batch_normalization_72 (Ba  (None, 375, 288)             1152      ['conv1d_49[0][0]']           \n",
      " tchNormalization)                                                                                \n",
      "                                                                                                  \n",
      " re_lu_50 (ReLU)             (None, 375, 288)             0         ['batch_normalization_72[0][0]\n",
      "                                                                    ']                            \n",
      "                                                                                                  \n",
      " depthwise_conv1d_23 (Depth  (None, 375, 288)             1152      ['re_lu_50[0][0]']            \n",
      " wiseConv1D)                                                                                      \n",
      "                                                                                                  \n",
      " batch_normalization_73 (Ba  (None, 375, 288)             1152      ['depthwise_conv1d_23[0][0]'] \n",
      " tchNormalization)                                                                                \n",
      "                                                                                                  \n",
      " re_lu_51 (ReLU)             (None, 375, 288)             0         ['batch_normalization_73[0][0]\n",
      "                                                                    ']                            \n",
      "                                                                                                  \n",
      " conv1d_50 (Conv1D)          (None, 375, 12)              3468      ['re_lu_51[0][0]']            \n",
      "                                                                                                  \n",
      " concatenate_21 (Concatenat  (None, 375, 60)              0         ['average_pooling1d_1[0][0]', \n",
      " e)                                                                  'conv1d_44[0][0]',           \n",
      "                                                                     'conv1d_46[0][0]',           \n",
      "                                                                     'conv1d_48[0][0]',           \n",
      "                                                                     'conv1d_50[0][0]']           \n",
      "                                                                                                  \n",
      " batch_normalization_74 (Ba  (None, 375, 60)              240       ['concatenate_21[0][0]']      \n",
      " tchNormalization)                                                                                \n",
      "                                                                                                  \n",
      " conv1d_51 (Conv1D)          (None, 375, 360)             21960     ['batch_normalization_74[0][0]\n",
      "                                                                    ']                            \n",
      "                                                                                                  \n",
      " batch_normalization_75 (Ba  (None, 375, 360)             1440      ['conv1d_51[0][0]']           \n",
      " tchNormalization)                                                                                \n",
      "                                                                                                  \n",
      " re_lu_52 (ReLU)             (None, 375, 360)             0         ['batch_normalization_75[0][0]\n",
      "                                                                    ']                            \n",
      "                                                                                                  \n",
      " depthwise_conv1d_24 (Depth  (None, 375, 360)             1440      ['re_lu_52[0][0]']            \n",
      " wiseConv1D)                                                                                      \n",
      "                                                                                                  \n",
      " batch_normalization_76 (Ba  (None, 375, 360)             1440      ['depthwise_conv1d_24[0][0]'] \n",
      " tchNormalization)                                                                                \n",
      "                                                                                                  \n",
      " re_lu_53 (ReLU)             (None, 375, 360)             0         ['batch_normalization_76[0][0]\n",
      "                                                                    ']                            \n",
      "                                                                                                  \n",
      " conv1d_52 (Conv1D)          (None, 375, 12)              4332      ['re_lu_53[0][0]']            \n",
      "                                                                                                  \n",
      " concatenate_22 (Concatenat  (None, 375, 36)              0         ['conv1d_48[0][0]',           \n",
      " e)                                                                  'conv1d_50[0][0]',           \n",
      "                                                                     'conv1d_52[0][0]']           \n",
      "                                                                                                  \n",
      " batch_normalization_77 (Ba  (None, 375, 36)              144       ['concatenate_22[0][0]']      \n",
      " tchNormalization)                                                                                \n",
      "                                                                                                  \n",
      " conv1d_53 (Conv1D)          (None, 375, 216)             7992      ['batch_normalization_77[0][0]\n",
      "                                                                    ']                            \n",
      "                                                                                                  \n",
      " batch_normalization_78 (Ba  (None, 375, 216)             864       ['conv1d_53[0][0]']           \n",
      " tchNormalization)                                                                                \n",
      "                                                                                                  \n",
      " re_lu_54 (ReLU)             (None, 375, 216)             0         ['batch_normalization_78[0][0]\n",
      "                                                                    ']                            \n"
     ]
    },
    {
     "name": "stdout",
     "output_type": "stream",
     "text": [
      "                                                                                                  \n",
      " depthwise_conv1d_25 (Depth  (None, 375, 216)             864       ['re_lu_54[0][0]']            \n",
      " wiseConv1D)                                                                                      \n",
      "                                                                                                  \n",
      " batch_normalization_79 (Ba  (None, 375, 216)             864       ['depthwise_conv1d_25[0][0]'] \n",
      " tchNormalization)                                                                                \n",
      "                                                                                                  \n",
      " re_lu_55 (ReLU)             (None, 375, 216)             0         ['batch_normalization_79[0][0]\n",
      "                                                                    ']                            \n",
      "                                                                                                  \n",
      " conv1d_54 (Conv1D)          (None, 375, 12)              2604      ['re_lu_55[0][0]']            \n",
      "                                                                                                  \n",
      " concatenate_23 (Concatenat  (None, 375, 36)              0         ['conv1d_50[0][0]',           \n",
      " e)                                                                  'conv1d_52[0][0]',           \n",
      "                                                                     'conv1d_54[0][0]']           \n",
      "                                                                                                  \n",
      " batch_normalization_80 (Ba  (None, 375, 36)              144       ['concatenate_23[0][0]']      \n",
      " tchNormalization)                                                                                \n",
      "                                                                                                  \n",
      " conv1d_55 (Conv1D)          (None, 375, 216)             7992      ['batch_normalization_80[0][0]\n",
      "                                                                    ']                            \n",
      "                                                                                                  \n",
      " batch_normalization_81 (Ba  (None, 375, 216)             864       ['conv1d_55[0][0]']           \n",
      " tchNormalization)                                                                                \n",
      "                                                                                                  \n",
      " re_lu_56 (ReLU)             (None, 375, 216)             0         ['batch_normalization_81[0][0]\n",
      "                                                                    ']                            \n",
      "                                                                                                  \n",
      " depthwise_conv1d_26 (Depth  (None, 375, 216)             864       ['re_lu_56[0][0]']            \n",
      " wiseConv1D)                                                                                      \n",
      "                                                                                                  \n",
      " batch_normalization_82 (Ba  (None, 375, 216)             864       ['depthwise_conv1d_26[0][0]'] \n",
      " tchNormalization)                                                                                \n",
      "                                                                                                  \n",
      " re_lu_57 (ReLU)             (None, 375, 216)             0         ['batch_normalization_82[0][0]\n",
      "                                                                    ']                            \n",
      "                                                                                                  \n",
      " conv1d_56 (Conv1D)          (None, 375, 12)              2604      ['re_lu_57[0][0]']            \n",
      "                                                                                                  \n",
      " concatenate_24 (Concatenat  (None, 375, 36)              0         ['conv1d_52[0][0]',           \n",
      " e)                                                                  'conv1d_54[0][0]',           \n",
      "                                                                     'conv1d_56[0][0]']           \n",
      "                                                                                                  \n",
      " batch_normalization_83 (Ba  (None, 375, 36)              144       ['concatenate_24[0][0]']      \n",
      " tchNormalization)                                                                                \n",
      "                                                                                                  \n",
      " conv1d_57 (Conv1D)          (None, 375, 216)             7992      ['batch_normalization_83[0][0]\n",
      "                                                                    ']                            \n",
      "                                                                                                  \n",
      " batch_normalization_84 (Ba  (None, 375, 216)             864       ['conv1d_57[0][0]']           \n",
      " tchNormalization)                                                                                \n",
      "                                                                                                  \n",
      " re_lu_58 (ReLU)             (None, 375, 216)             0         ['batch_normalization_84[0][0]\n",
      "                                                                    ']                            \n",
      "                                                                                                  \n",
      " depthwise_conv1d_27 (Depth  (None, 375, 216)             864       ['re_lu_58[0][0]']            \n",
      " wiseConv1D)                                                                                      \n",
      "                                                                                                  \n",
      " batch_normalization_85 (Ba  (None, 375, 216)             864       ['depthwise_conv1d_27[0][0]'] \n",
      " tchNormalization)                                                                                \n",
      "                                                                                                  \n",
      " re_lu_59 (ReLU)             (None, 375, 216)             0         ['batch_normalization_85[0][0]\n",
      "                                                                    ']                            \n",
      "                                                                                                  \n",
      " conv1d_58 (Conv1D)          (None, 375, 12)              2604      ['re_lu_59[0][0]']            \n",
      "                                                                                                  \n",
      " concatenate_25 (Concatenat  (None, 375, 36)              0         ['conv1d_54[0][0]',           \n",
      " e)                                                                  'conv1d_56[0][0]',           \n",
      "                                                                     'conv1d_58[0][0]']           \n",
      "                                                                                                  \n",
      " batch_normalization_86 (Ba  (None, 375, 36)              144       ['concatenate_25[0][0]']      \n",
      " tchNormalization)                                                                                \n",
      "                                                                                                  \n",
      " conv1d_59 (Conv1D)          (None, 375, 216)             7992      ['batch_normalization_86[0][0]\n",
      "                                                                    ']                            \n",
      "                                                                                                  \n",
      " batch_normalization_87 (Ba  (None, 375, 216)             864       ['conv1d_59[0][0]']           \n",
      " tchNormalization)                                                                                \n",
      "                                                                                                  \n",
      " re_lu_60 (ReLU)             (None, 375, 216)             0         ['batch_normalization_87[0][0]\n",
      "                                                                    ']                            \n",
      "                                                                                                  \n",
      " depthwise_conv1d_28 (Depth  (None, 375, 216)             864       ['re_lu_60[0][0]']            \n"
     ]
    },
    {
     "name": "stdout",
     "output_type": "stream",
     "text": [
      " wiseConv1D)                                                                                      \n",
      "                                                                                                  \n",
      " batch_normalization_88 (Ba  (None, 375, 216)             864       ['depthwise_conv1d_28[0][0]'] \n",
      " tchNormalization)                                                                                \n",
      "                                                                                                  \n",
      " re_lu_61 (ReLU)             (None, 375, 216)             0         ['batch_normalization_88[0][0]\n",
      "                                                                    ']                            \n",
      "                                                                                                  \n",
      " conv1d_60 (Conv1D)          (None, 375, 12)              2604      ['re_lu_61[0][0]']            \n",
      "                                                                                                  \n",
      " concatenate_26 (Concatenat  (None, 375, 36)              0         ['conv1d_56[0][0]',           \n",
      " e)                                                                  'conv1d_58[0][0]',           \n",
      "                                                                     'conv1d_60[0][0]']           \n",
      "                                                                                                  \n",
      " batch_normalization_89 (Ba  (None, 375, 36)              144       ['concatenate_26[0][0]']      \n",
      " tchNormalization)                                                                                \n",
      "                                                                                                  \n",
      " conv1d_61 (Conv1D)          (None, 375, 216)             7992      ['batch_normalization_89[0][0]\n",
      "                                                                    ']                            \n",
      "                                                                                                  \n",
      " batch_normalization_90 (Ba  (None, 375, 216)             864       ['conv1d_61[0][0]']           \n",
      " tchNormalization)                                                                                \n",
      "                                                                                                  \n",
      " re_lu_62 (ReLU)             (None, 375, 216)             0         ['batch_normalization_90[0][0]\n",
      "                                                                    ']                            \n",
      "                                                                                                  \n",
      " depthwise_conv1d_29 (Depth  (None, 375, 216)             864       ['re_lu_62[0][0]']            \n",
      " wiseConv1D)                                                                                      \n",
      "                                                                                                  \n",
      " batch_normalization_91 (Ba  (None, 375, 216)             864       ['depthwise_conv1d_29[0][0]'] \n",
      " tchNormalization)                                                                                \n",
      "                                                                                                  \n",
      " re_lu_63 (ReLU)             (None, 375, 216)             0         ['batch_normalization_91[0][0]\n",
      "                                                                    ']                            \n",
      "                                                                                                  \n",
      " conv1d_62 (Conv1D)          (None, 375, 12)              2604      ['re_lu_63[0][0]']            \n",
      "                                                                                                  \n",
      " concatenate_28 (Concatenat  (None, 750, 24)              0         ['average_pooling1d[0][0]',   \n",
      " e)                                                                  'conv1d_41[0][0]']           \n",
      "                                                                                                  \n",
      " concatenate_29 (Concatenat  (None, 375, 24)              0         ['average_pooling1d_1[0][0]', \n",
      " e)                                                                  'conv1d_62[0][0]']           \n",
      "                                                                                                  \n",
      " concatenate_27 (Concatenat  (None, 1500, 24)             0         ['max_pooling1d[0][0]',       \n",
      " e)                                                                  'conv1d_20[0][0]']           \n",
      "                                                                                                  \n",
      " global_average_pooling1d_3  (None, 24)                   0         ['concatenate_28[0][0]']      \n",
      "  (GlobalAveragePooling1D)                                                                        \n",
      "                                                                                                  \n",
      " global_average_pooling1d_4  (None, 24)                   0         ['concatenate_29[0][0]']      \n",
      "  (GlobalAveragePooling1D)                                                                        \n",
      "                                                                                                  \n",
      " global_average_pooling1d_2  (None, 24)                   0         ['concatenate_27[0][0]']      \n",
      "  (GlobalAveragePooling1D)                                                                        \n",
      "                                                                                                  \n",
      " concatenate_30 (Concatenat  (None, 48)                   0         ['global_average_pooling1d_3[0\n",
      " e)                                                                 ][0]',                        \n",
      "                                                                     'global_average_pooling1d_4[0\n",
      "                                                                    ][0]']                        \n",
      "                                                                                                  \n",
      " concatenate_31 (Concatenat  (None, 72)                   0         ['global_average_pooling1d_2[0\n",
      " e)                                                                 ][0]',                        \n",
      "                                                                     'concatenate_30[0][0]']      \n",
      "                                                                                                  \n",
      " dense_4 (Dense)             (None, 12)                   876       ['concatenate_31[0][0]']      \n",
      "                                                                                                  \n",
      " batch_normalization_92 (Ba  (None, 12)                   48        ['dense_4[0][0]']             \n",
      " tchNormalization)                                                                                \n",
      "                                                                                                  \n",
      " dense_5 (Dense)             (None, 1)                    13        ['batch_normalization_92[0][0]\n",
      "                                                                    ']                            \n",
      "                                                                                                  \n",
      "==================================================================================================\n",
      "Total params: 427945 (1.63 MB)\n",
      "Trainable params: 399793 (1.53 MB)\n",
      "Non-trainable params: 28152 (109.97 KB)\n",
      "__________________________________________________________________________________________________\n"
     ]
    }
   ],
   "source": [
    "\n",
    "model.summary()\n"
   ]
  },
  {
   "cell_type": "code",
   "execution_count": 18,
   "id": "c07e1014",
   "metadata": {},
   "outputs": [],
   "source": [
    "weights = class_weight.compute_class_weight(  class_weight ='balanced',\n",
    "                                    classes = np.unique(y_train),\n",
    "                                    y = y_train)\n",
    "class_weights = dict(zip(np.unique(y_train), weights))\n",
    "class_weights\n",
    "wghts = {0: 0.6139705882352942, 1: 2.693548387096774}"
   ]
  },
  {
   "cell_type": "code",
   "execution_count": 19,
   "id": "855a839b",
   "metadata": {
    "ExecuteTime": {
     "end_time": "2023-04-28T19:35:36.936643Z",
     "start_time": "2023-04-28T19:30:24.265163Z"
    },
    "colab": {
     "base_uri": "https://localhost:8080/"
    },
    "id": "hyYFCrlJEGsk",
    "outputId": "1ffc58ab-e10e-42d7-da26-95260d876ac1",
    "scrolled": true
   },
   "outputs": [
    {
     "name": "stdout",
     "output_type": "stream",
     "text": [
      "Epoch 1/30\n"
     ]
    },
    {
     "name": "stderr",
     "output_type": "stream",
     "text": [
      "2023-07-11 12:45:47.307520: I tensorflow/compiler/xla/stream_executor/cuda/cuda_dnn.cc:432] Loaded cuDNN version 8600\n",
      "2023-07-11 12:45:47.657515: I tensorflow/compiler/xla/stream_executor/cuda/cuda_blas.cc:606] TensorFloat-32 will be used for the matrix multiplication. This will only be logged once.\n",
      "2023-07-11 12:45:47.954563: I tensorflow/compiler/xla/service/service.cc:168] XLA service 0x7fdef89d4b20 initialized for platform CUDA (this does not guarantee that XLA will be used). Devices:\n",
      "2023-07-11 12:45:47.954579: I tensorflow/compiler/xla/service/service.cc:176]   StreamExecutor device (0): NVIDIA GeForce RTX 4070 Ti, Compute Capability 8.9\n",
      "2023-07-11 12:45:47.956800: I tensorflow/compiler/mlir/tensorflow/utils/dump_mlir_util.cc:255] disabling MLIR crash reproducer, set env var `MLIR_CRASH_REPRODUCER_DIRECTORY` to enable.\n",
      "2023-07-11 12:45:48.009270: I ./tensorflow/compiler/jit/device_compiler.h:186] Compiled cluster using XLA!  This line is logged at most once for the lifetime of the process.\n"
     ]
    },
    {
     "name": "stdout",
     "output_type": "stream",
     "text": [
      "455/455 [==============================] - ETA: 0s - loss: 0.6078 - acc: 0.7137 - auc: 0.7207 - weighted_acc: 0.6688"
     ]
    },
    {
     "name": "stderr",
     "output_type": "stream",
     "text": [
      "/home/iridia/anaconda3/lib/python3.10/site-packages/keras/src/engine/training.py:3000: UserWarning: You are saving your model as an HDF5 file via `model.save()`. This file format is considered legacy. We recommend using instead the native Keras format, e.g. `model.save('my_model.keras')`.\n",
      "  saving_api.save_model(\n"
     ]
    },
    {
     "name": "stdout",
     "output_type": "stream",
     "text": [
      "455/455 [==============================] - 98s 153ms/step - loss: 0.6078 - acc: 0.7137 - auc: 0.7207 - weighted_acc: 0.6688 - val_loss: 0.5889 - val_acc: 0.7904 - val_auc: 0.6502 - val_weighted_acc: 0.7904 - lr: 0.0010\n",
      "Epoch 2/30\n",
      "455/455 [==============================] - 67s 148ms/step - loss: 0.5633 - acc: 0.7664 - auc: 0.7680 - weighted_acc: 0.7079 - val_loss: 0.5305 - val_acc: 0.7873 - val_auc: 0.7586 - val_weighted_acc: 0.7873 - lr: 0.0010\n",
      "Epoch 3/30\n",
      "455/455 [==============================] - 67s 148ms/step - loss: 0.5451 - acc: 0.7794 - auc: 0.7879 - weighted_acc: 0.7213 - val_loss: 2.4281 - val_acc: 0.2769 - val_auc: 0.7383 - val_weighted_acc: 0.2769 - lr: 0.0010\n",
      "Epoch 4/30\n",
      "455/455 [==============================] - 68s 149ms/step - loss: 0.5349 - acc: 0.7786 - auc: 0.7971 - weighted_acc: 0.7287 - val_loss: 1.5041 - val_acc: 0.5204 - val_auc: 0.7466 - val_weighted_acc: 0.5204 - lr: 0.0010\n",
      "Epoch 5/30\n",
      "455/455 [==============================] - 68s 149ms/step - loss: 0.5244 - acc: 0.7860 - auc: 0.8076 - weighted_acc: 0.7292 - val_loss: 1.1381 - val_acc: 0.4678 - val_auc: 0.7841 - val_weighted_acc: 0.4678 - lr: 0.0010\n",
      "Epoch 6/30\n",
      "455/455 [==============================] - 68s 150ms/step - loss: 0.5110 - acc: 0.7884 - auc: 0.8192 - weighted_acc: 0.7474 - val_loss: 1.1332 - val_acc: 0.4630 - val_auc: 0.7767 - val_weighted_acc: 0.4630 - lr: 0.0010\n",
      "Epoch 7/30\n",
      "455/455 [==============================] - 68s 150ms/step - loss: 0.4972 - acc: 0.7934 - auc: 0.8323 - weighted_acc: 0.7590 - val_loss: 0.7762 - val_acc: 0.6059 - val_auc: 0.7928 - val_weighted_acc: 0.6059 - lr: 0.0010\n",
      "Epoch 8/30\n",
      "455/455 [==============================] - 67s 148ms/step - loss: 0.4903 - acc: 0.8003 - auc: 0.8375 - weighted_acc: 0.7628 - val_loss: 0.5413 - val_acc: 0.7488 - val_auc: 0.7744 - val_weighted_acc: 0.7488 - lr: 0.0010\n",
      "Epoch 9/30\n",
      "455/455 [==============================] - 68s 149ms/step - loss: 0.4750 - acc: 0.8029 - auc: 0.8491 - weighted_acc: 0.7702 - val_loss: 0.4597 - val_acc: 0.8190 - val_auc: 0.7800 - val_weighted_acc: 0.8190 - lr: 0.0010\n",
      "Epoch 10/30\n",
      "455/455 [==============================] - 67s 148ms/step - loss: 0.4606 - acc: 0.8099 - auc: 0.8594 - weighted_acc: 0.7815 - val_loss: 0.6401 - val_acc: 0.6960 - val_auc: 0.7990 - val_weighted_acc: 0.6960 - lr: 0.0010\n",
      "Epoch 11/30\n",
      "455/455 [==============================] - 67s 148ms/step - loss: 0.4511 - acc: 0.8083 - auc: 0.8648 - weighted_acc: 0.7811 - val_loss: 0.6588 - val_acc: 0.6596 - val_auc: 0.7843 - val_weighted_acc: 0.6596 - lr: 0.0010\n",
      "Epoch 12/30\n",
      "455/455 [==============================] - 67s 147ms/step - loss: 0.4427 - acc: 0.8133 - auc: 0.8723 - weighted_acc: 0.7866 - val_loss: 0.4858 - val_acc: 0.7995 - val_auc: 0.7728 - val_weighted_acc: 0.7995 - lr: 0.0010\n",
      "Epoch 13/30\n",
      "455/455 [==============================] - 68s 148ms/step - loss: 0.4355 - acc: 0.8100 - auc: 0.8766 - weighted_acc: 0.7880 - val_loss: 0.9716 - val_acc: 0.4506 - val_auc: 0.7529 - val_weighted_acc: 0.4506 - lr: 0.0010\n",
      "Epoch 14/30\n",
      "455/455 [==============================] - 67s 147ms/step - loss: 0.4173 - acc: 0.8180 - auc: 0.8881 - weighted_acc: 0.8027 - val_loss: 0.5380 - val_acc: 0.8020 - val_auc: 0.7730 - val_weighted_acc: 0.8020 - lr: 0.0010\n",
      "Epoch 15/30\n",
      "455/455 [==============================] - 66s 146ms/step - loss: 0.4145 - acc: 0.8327 - auc: 0.8893 - weighted_acc: 0.8087 - val_loss: 1.2122 - val_acc: 0.4933 - val_auc: 0.7808 - val_weighted_acc: 0.4933 - lr: 0.0010\n",
      "Epoch 16/30\n",
      "455/455 [==============================] - 67s 148ms/step - loss: 0.4014 - acc: 0.8256 - auc: 0.8974 - weighted_acc: 0.8100 - val_loss: 0.6271 - val_acc: 0.6790 - val_auc: 0.7760 - val_weighted_acc: 0.6790 - lr: 0.0010\n",
      "Epoch 17/30\n",
      "455/455 [==============================] - 66s 146ms/step - loss: 0.3937 - acc: 0.8279 - auc: 0.9017 - weighted_acc: 0.8179 - val_loss: 1.0257 - val_acc: 0.5411 - val_auc: 0.7858 - val_weighted_acc: 0.5411 - lr: 0.0010\n",
      "Epoch 18/30\n",
      "455/455 [==============================] - 67s 148ms/step - loss: 0.3883 - acc: 0.8348 - auc: 0.9041 - weighted_acc: 0.8170 - val_loss: 1.2881 - val_acc: 0.4467 - val_auc: 0.7742 - val_weighted_acc: 0.4467 - lr: 0.0010\n",
      "Epoch 19/30\n",
      "455/455 [==============================] - 67s 147ms/step - loss: 0.3706 - acc: 0.8383 - auc: 0.9140 - weighted_acc: 0.8303 - val_loss: 0.6567 - val_acc: 0.7590 - val_auc: 0.7876 - val_weighted_acc: 0.7590 - lr: 0.0010\n",
      "Epoch 20/30\n",
      "455/455 [==============================] - 67s 147ms/step - loss: 0.3332 - acc: 0.8509 - auc: 0.9317 - weighted_acc: 0.8475 - val_loss: 0.4318 - val_acc: 0.8389 - val_auc: 0.7912 - val_weighted_acc: 0.8389 - lr: 5.0000e-04\n",
      "Epoch 21/30\n",
      "455/455 [==============================] - 67s 147ms/step - loss: 0.3039 - acc: 0.8648 - auc: 0.9442 - weighted_acc: 0.8657 - val_loss: 0.5201 - val_acc: 0.7821 - val_auc: 0.7749 - val_weighted_acc: 0.7821 - lr: 5.0000e-04\n",
      "Epoch 22/30\n",
      "455/455 [==============================] - 67s 147ms/step - loss: 0.3024 - acc: 0.8640 - auc: 0.9445 - weighted_acc: 0.8658 - val_loss: 0.4942 - val_acc: 0.7892 - val_auc: 0.7944 - val_weighted_acc: 0.7892 - lr: 5.0000e-04\n",
      "Epoch 23/30\n",
      "455/455 [==============================] - 67s 147ms/step - loss: 0.2825 - acc: 0.8712 - auc: 0.9519 - weighted_acc: 0.8750 - val_loss: 0.4758 - val_acc: 0.8265 - val_auc: 0.7832 - val_weighted_acc: 0.8265 - lr: 5.0000e-04\n",
      "Epoch 24/30\n",
      "455/455 [==============================] - 68s 148ms/step - loss: 0.2745 - acc: 0.8796 - auc: 0.9543 - weighted_acc: 0.8803 - val_loss: 0.5101 - val_acc: 0.7892 - val_auc: 0.7706 - val_weighted_acc: 0.7892 - lr: 5.0000e-04\n",
      "Epoch 25/30\n",
      "455/455 [==============================] - 67s 147ms/step - loss: 0.2544 - acc: 0.8878 - auc: 0.9611 - weighted_acc: 0.8919 - val_loss: 0.6408 - val_acc: 0.7387 - val_auc: 0.7678 - val_weighted_acc: 0.7387 - lr: 5.0000e-04\n",
      "Epoch 26/30\n",
      "455/455 [==============================] - 67s 148ms/step - loss: 0.2481 - acc: 0.8881 - auc: 0.9627 - weighted_acc: 0.8942 - val_loss: 0.5566 - val_acc: 0.8124 - val_auc: 0.7830 - val_weighted_acc: 0.8124 - lr: 5.0000e-04\n",
      "Epoch 27/30\n",
      "455/455 [==============================] - 66s 146ms/step - loss: 0.2310 - acc: 0.9002 - auc: 0.9678 - weighted_acc: 0.9031 - val_loss: 0.7506 - val_acc: 0.6861 - val_auc: 0.7887 - val_weighted_acc: 0.6861 - lr: 5.0000e-04\n",
      "Epoch 28/30\n",
      "455/455 [==============================] - 66s 146ms/step - loss: 0.2179 - acc: 0.9064 - auc: 0.9713 - weighted_acc: 0.9129 - val_loss: 0.6473 - val_acc: 0.7828 - val_auc: 0.7698 - val_weighted_acc: 0.7828 - lr: 5.0000e-04\n",
      "Epoch 29/30\n",
      "455/455 [==============================] - 66s 146ms/step - loss: 0.2130 - acc: 0.9043 - auc: 0.9724 - weighted_acc: 0.9098 - val_loss: 0.5655 - val_acc: 0.8455 - val_auc: 0.7645 - val_weighted_acc: 0.8455 - lr: 5.0000e-04\n",
      "Epoch 30/30\n",
      "455/455 [==============================] - 67s 148ms/step - loss: 0.2119 - acc: 0.9091 - auc: 0.9726 - weighted_acc: 0.9118 - val_loss: 0.7509 - val_acc: 0.7260 - val_auc: 0.7749 - val_weighted_acc: 0.7260 - lr: 5.0000e-04\n"
     ]
    }
   ],
   "source": [
    "\n",
    "epochs = 30\n",
    "batch_size = 32\n",
    "\n",
    "callbacks = [\n",
    "    tf.keras.callbacks.ModelCheckpoint(\n",
    "        \"best_model.h5\", save_best_only=True, monitor=\"val_loss\"\n",
    "    ),\n",
    "    tf.keras.callbacks.ReduceLROnPlateau(\n",
    "        monitor=\"val_loss\", factor=0.5, patience=10, min_lr=0.0001\n",
    "    ),\n",
    "    tf.keras.callbacks.EarlyStopping(monitor=\"val_loss\", patience=50, verbose=1),\n",
    "]\n",
    "\n",
    "\n",
    "model.compile(\n",
    "    optimizer=tf.keras.optimizers.Adam(learning_rate=0.001),\n",
    "    loss=\"binary_crossentropy\",\n",
    "    metrics=[\"acc\",tf.keras.metrics.AUC(name='auc')],\n",
    "    weighted_metrics = \"acc\",\n",
    "    #loss_weights=weights\n",
    ")\n",
    "\n",
    "\n",
    "history = model.fit(\n",
    "    X_train,\n",
    "    np.array(y_train),\n",
    "    batch_size=batch_size,\n",
    "    epochs=epochs,\n",
    "    callbacks=callbacks,\n",
    "    validation_data=(X_val,np.array(y_val)),\n",
    "    verbose=1,\n",
    "    class_weight = class_weights,\n",
    ")"
   ]
  },
  {
   "cell_type": "code",
   "execution_count": 20,
   "id": "e20d53bb",
   "metadata": {
    "ExecuteTime": {
     "end_time": "2023-04-28T19:37:10.225225Z",
     "start_time": "2023-04-28T19:37:09.972845Z"
    }
   },
   "outputs": [
    {
     "data": {
      "image/png": "[encoded data removed]",
      "text/plain": [
       "<Figure size 2000x300 with 2 Axes>"
      ]
     },
     "metadata": {},
     "output_type": "display_data"
    }
   ],
   "source": [
    "fig, ax = plt.subplots(1, 2, figsize=(20, 3))\n",
    "ax = ax.ravel()\n",
    "\n",
    "for i, met in enumerate(['acc', 'loss']):\n",
    "    ax[i].plot(history.history[met])\n",
    "    ax[i].plot(history.history['val_' + met])\n",
    "    ax[i].set_title('Model {}'.format(met))\n",
    "    ax[i].set_xlabel('epochs')\n",
    "    ax[i].set_ylabel(met)\n",
    "    ax[i].legend(['train', 'val'])"
   ]
  },
  {
   "cell_type": "code",
   "execution_count": 21,
   "id": "279aec22",
   "metadata": {},
   "outputs": [
    {
     "data": {
      "image/png": "[encoded data removed]",
      "text/plain": [
       "<Figure size 2000x300 with 2 Axes>"
      ]
     },
     "metadata": {},
     "output_type": "display_data"
    }
   ],
   "source": [
    "fig, ax = plt.subplots(1, 2, figsize=(20, 3))\n",
    "ax = ax.ravel()\n",
    "\n",
    "for i, met in enumerate(['auc', 'loss']):\n",
    "    ax[i].plot(history.history[met])\n",
    "    ax[i].plot(history.history['val_' + met])\n",
    "    ax[i].set_title('Model {}'.format(met))\n",
    "    ax[i].set_xlabel('epochs')\n",
    "    ax[i].set_ylabel(met)\n",
    "    ax[i].legend(['train', 'val'])"
   ]
  },
  {
   "cell_type": "code",
   "execution_count": 22,
   "id": "a78fd5e7",
   "metadata": {},
   "outputs": [
    {
     "name": "stdout",
     "output_type": "stream",
     "text": [
      "152/152 [==============================] - 4s 23ms/step - loss: 0.6771 - acc: 0.7395 - auc: 0.7864 - weighted_acc: 0.7395\n"
     ]
    },
    {
     "data": {
      "text/plain": [
       "[0.6770961284637451,\n",
       " 0.7395148277282715,\n",
       " 0.7863876819610596,\n",
       " 0.7395148277282715]"
      ]
     },
     "execution_count": 22,
     "metadata": {},
     "output_type": "execute_result"
    }
   ],
   "source": [
    "model.evaluate(X_test, y_test) "
   ]
  },
  {
   "cell_type": "code",
   "execution_count": 23,
   "id": "fb250f77",
   "metadata": {
    "ExecuteTime": {
     "end_time": "2023-04-28T19:37:15.739469Z",
     "start_time": "2023-04-28T19:37:15.539050Z"
    },
    "colab": {
     "base_uri": "https://localhost:8080/"
    },
    "id": "NRjdR3E9M6bp",
    "outputId": "98b11c5c-2075-4da7-994b-8e29c8644a7c",
    "scrolled": true
   },
   "outputs": [
    {
     "name": "stdout",
     "output_type": "stream",
     "text": [
      "Test loss: 0.6770961284637451\n",
      "Test accuracy score: 0.7395148277282715\n",
      "Test roc auc score: 0.7863876819610596\n",
      "Test weighted accuracy score: 0.7395148277282715\n"
     ]
    }
   ],
   "source": [
    "score = model.evaluate(X_test, y_test, verbose = 0) \n",
    "\n",
    "print('Test loss:', score[0]) \n",
    "print('Test accuracy score:', score[1])\n",
    "print('Test roc auc score:', score[2])\n",
    "print('Test weighted accuracy score:', score[3])"
   ]
  },
  {
   "cell_type": "code",
   "execution_count": 24,
   "id": "eb2ab815",
   "metadata": {
    "ExecuteTime": {
     "end_time": "2023-04-28T19:37:17.560656Z",
     "start_time": "2023-04-28T19:37:17.279104Z"
    },
    "colab": {
     "base_uri": "https://localhost:8080/"
    },
    "id": "PYQLQItpOKBp",
    "outputId": "617b07c3-a5a4-45db-cce1-e3aa4dc1a1af",
    "scrolled": true
   },
   "outputs": [
    {
     "name": "stdout",
     "output_type": "stream",
     "text": [
      "152/152 [==============================] - 4s 22ms/step\n",
      "[[0.8523542 ]\n",
      " [0.55774575]\n",
      " [0.9626472 ]\n",
      " ...\n",
      " [0.66626173]\n",
      " [0.00934223]\n",
      " [0.18947287]]\n"
     ]
    }
   ],
   "source": [
    "pred = model.predict(X_test)\n",
    "print(pred)"
   ]
  },
  {
   "cell_type": "code",
   "execution_count": 25,
   "id": "b28cbdb2",
   "metadata": {},
   "outputs": [],
   "source": [
    "importlib.reload(results_functions)\n",
    "from results_functions import *"
   ]
  },
  {
   "cell_type": "code",
   "execution_count": 26,
   "id": "6ca0eb6f",
   "metadata": {
    "ExecuteTime": {
     "end_time": "2023-04-28T19:37:18.942364Z",
     "start_time": "2023-04-28T19:37:18.903410Z"
    },
    "id": "Dh7gibaQiOsw"
   },
   "outputs": [],
   "source": [
    "list_patient_rows = list(df_test.groupby(['patient_id'])['patient_id'].count())"
   ]
  },
  {
   "cell_type": "code",
   "execution_count": 27,
   "id": "d087f498",
   "metadata": {
    "ExecuteTime": {
     "end_time": "2023-04-28T19:37:19.839449Z",
     "start_time": "2023-04-28T19:37:19.836902Z"
    },
    "id": "FBeasPNClnpb"
   },
   "outputs": [],
   "source": [
    "pred_groupby_patient = np.split(pred,cumulative(list_patient_rows))\n",
    "pred_groupby_patient = pred_groupby_patient[:-1]\n",
    "\n",
    "df_test = df_test.astype({'murmur':'int'})\n",
    "y_test_grouped = df_test[['patient_id','murmur']].drop_duplicates()['murmur'].to_list()"
   ]
  },
  {
   "cell_type": "code",
   "execution_count": 28,
   "id": "2d28d67a",
   "metadata": {
    "ExecuteTime": {
     "end_time": "2023-04-28T19:37:21.314585Z",
     "start_time": "2023-04-28T19:37:21.291913Z"
    },
    "id": "TYCSAcHFzHLy"
   },
   "outputs": [],
   "source": [
    "pred1 = mean_pred(pred_groupby_patient)\n",
    "pred2 = majority_pred(pred_groupby_patient)"
   ]
  },
  {
   "cell_type": "code",
   "execution_count": 29,
   "id": "8d0c063f",
   "metadata": {
    "ExecuteTime": {
     "end_time": "2023-04-28T19:29:59.110704Z",
     "start_time": "2023-04-28T19:29:58.979913Z"
    },
    "colab": {
     "base_uri": "https://localhost:8080/"
    },
    "id": "UoHq89-17e8x",
    "outputId": "de9a2982-fd6d-43c6-ee32-54ad1a9f6761",
    "scrolled": false
   },
   "outputs": [
    {
     "name": "stdout",
     "output_type": "stream",
     "text": [
      "[0, 0, 0, 0, 1, 0, 0, 1, 1, 1, 1, 0, 0, 0, 1, 1, 1, 0, 0, 0, 1, 0, 0, 0, 0, 0, 0, 0, 0, 0, 0, 0, 0, 0, 0, 0, 1, 0, 0, 0, 0, 0, 0, 0, 0, 0, 0, 1, 0, 0, 0, 0, 0, 0, 0, 0, 0, 0, 0, 0, 0, 0, 0, 0, 0, 0, 0, 0, 0, 0, 1, 0, 0, 0, 0, 0, 0, 1, 1, 0, 0, 0, 0, 1, 0, 0, 1, 1, 1, 1, 1, 0, 0, 0, 0, 0, 0, 1, 0, 0, 0, 0, 0, 0, 0, 1, 1, 0, 0, 1, 0, 1, 1, 0, 0, 1, 1, 0, 0, 1, 0, 0, 0, 0, 0, 0, 0, 0, 0, 0, 1, 0, 0, 0, 0, 1, 0, 0, 1, 1, 0, 0, 0, 0, 1, 0, 1, 0, 0, 0, 0, 1, 0, 0, 0, 1, 0, 1, 0, 0, 0, 0, 0, 0, 0, 0, 0, 0, 0, 0, 0, 0, 0, 0, 0]\n",
      "[0, 0, 0, 0, 1, 0, 0, 1, 1, 1, 1, 0, 0, 0, 1, 1, 1, 0, 0, 0, 1, 0, 0, 0, 0, 0, 0, 0, 0, 0, 0, 0, 0, 0, 0, 0, 1, 0, 0, 0, 0, 0, 0, 0, 0, 0, 0, 1, 0, 0, 0, 0, 0, 0, 0, 0, 0, 1, 0, 0, 0, 0, 0, 0, 0, 0, 0, 0, 0, 0, 1, 0, 0, 0, 0, 0, 0, 1, 1, 0, 0, 0, 0, 1, 0, 0, 1, 1, 1, 1, 1, 0, 0, 0, 1, 0, 0, 1, 0, 0, 0, 0, 0, 0, 0, 1, 1, 0, 0, 1, 0, 1, 1, 0, 0, 1, 1, 0, 0, 1, 0, 0, 0, 0, 0, 0, 0, 0, 0, 0, 1, 0, 0, 0, 0, 1, 0, 0, 1, 1, 0, 0, 0, 0, 1, 0, 1, 1, 0, 0, 0, 1, 0, 0, 0, 1, 0, 1, 0, 0, 0, 0, 0, 0, 0, 0, 0, 0, 0, 1, 0, 0, 0, 0, 0]\n",
      "[1, 0, 0, 1, 1, 0, 0, 1, 1, 1, 1, 0, 1, 0, 0, 0, 1, 0, 0, 0, 0, 0, 0, 0, 0, 0, 0, 0, 0, 0, 1, 0, 1, 1, 0, 0, 1, 0, 0, 0, 0, 0, 0, 0, 0, 0, 0, 1, 0, 0, 0, 0, 0, 0, 0, 1, 0, 0, 0, 0, 0, 0, 0, 0, 0, 0, 0, 0, 0, 0, 1, 0, 0, 0, 0, 0, 0, 1, 0, 0, 0, 0, 1, 1, 0, 0, 1, 1, 1, 1, 1, 0, 0, 0, 0, 0, 0, 1, 0, 0, 0, 0, 0, 0, 0, 1, 1, 0, 0, 1, 0, 1, 1, 0, 0, 1, 1, 0, 0, 1, 0, 0, 0, 0, 0, 0, 1, 0, 0, 0, 0, 0, 0, 0, 0, 0, 0, 0, 1, 1, 0, 0, 0, 0, 1, 0, 1, 0, 0, 0, 0, 0, 0, 0, 0, 1, 0, 1, 0, 0, 0, 0, 0, 0, 1, 0, 0, 0, 0, 1, 0, 0, 0, 0, 0]\n",
      "Accuracy score of mean_pred :  0.8971428571428571\n",
      "Accuracy score of majority_pred :  0.8857142857142857\n"
     ]
    }
   ],
   "source": [
    "print(pred1)\n",
    "print(pred2)\n",
    "print(y_test_grouped)\n",
    "print(\"Accuracy score of mean_pred : \",accuracy_score(pred1 , y_test_grouped))\n",
    "print(\"Accuracy score of majority_pred : \",accuracy_score(pred2 , y_test_grouped))"
   ]
  },
  {
   "cell_type": "code",
   "execution_count": 30,
   "id": "4245a532",
   "metadata": {},
   "outputs": [
    {
     "data": {
      "text/plain": [
       "<sklearn.metrics._plot.confusion_matrix.ConfusionMatrixDisplay at 0x7fdf29983d00>"
      ]
     },
     "execution_count": 30,
     "metadata": {},
     "output_type": "execute_result"
    },
    {
     "data": {
      "image/png": "[encoded data removed]",
      "text/plain": [
       "<Figure size 640x480 with 2 Axes>"
      ]
     },
     "metadata": {},
     "output_type": "display_data"
    }
   ],
   "source": [
    "ConfusionMatrixDisplay.from_predictions(y_test_grouped, pred1,\n",
    "                                        cmap='Blues', normalize = None)"
   ]
  },
  {
   "cell_type": "code",
   "execution_count": 31,
   "id": "ad8da8cd",
   "metadata": {},
   "outputs": [
    {
     "data": {
      "text/plain": [
       "<sklearn.metrics._plot.confusion_matrix.ConfusionMatrixDisplay at 0x7fdf299c5990>"
      ]
     },
     "execution_count": 31,
     "metadata": {},
     "output_type": "execute_result"
    },
    {
     "data": {
      "image/png": "[encoded data removed]",
      "text/plain": [
       "<Figure size 640x480 with 2 Axes>"
      ]
     },
     "metadata": {},
     "output_type": "display_data"
    }
   ],
   "source": [
    "ConfusionMatrixDisplay.from_predictions(y_test_grouped, pred1,\n",
    "                                        cmap='Blues', normalize = 'true')"
   ]
  }
 ],
 "metadata": {
  "kernelspec": {
   "display_name": "Python 3 (ipykernel)",
   "language": "python",
   "name": "python3"
  },
  "language_info": {
   "codemirror_mode": {
    "name": "ipython",
    "version": 3
   },
   "file_extension": ".py",
   "mimetype": "text/x-python",
   "name": "python",
   "nbconvert_exporter": "python",
   "pygments_lexer": "ipython3",
   "version": "3.10.9"
  }
 },
 "nbformat": 4,
 "nbformat_minor": 5
}
