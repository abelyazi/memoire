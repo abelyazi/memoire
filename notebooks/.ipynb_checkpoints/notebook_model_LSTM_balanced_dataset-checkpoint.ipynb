{
 "cells": [
  {
   "cell_type": "code",
   "execution_count": 1,
   "metadata": {
    "ExecuteTime": {
     "end_time": "2023-04-28T15:30:14.103432Z",
     "start_time": "2023-04-28T15:30:13.038123Z"
    },
    "id": "QRGvE-Pt3x3c"
   },
   "outputs": [
    {
     "name": "stderr",
     "output_type": "stream",
     "text": [
      "2023-04-28 15:30:13.085959: I tensorflow/core/util/port.cc:110] oneDNN custom operations are on. You may see slightly different numerical results due to floating-point round-off errors from different computation orders. To turn them off, set the environment variable `TF_ENABLE_ONEDNN_OPTS=0`.\n",
      "2023-04-28 15:30:13.107474: I tensorflow/core/platform/cpu_feature_guard.cc:182] This TensorFlow binary is optimized to use available CPU instructions in performance-critical operations.\n",
      "To enable the following instructions: AVX2 AVX_VNNI FMA, in other operations, rebuild TensorFlow with the appropriate compiler flags.\n",
      "2023-04-28 15:30:13.456680: W tensorflow/compiler/tf2tensorrt/utils/py_utils.cc:38] TF-TRT Warning: Could not find TensorRT\n"
     ]
    }
   ],
   "source": [
    "import sys\n",
    "import tensorflow as tf\n",
    "import matplotlib.pyplot as plt\n",
    "from sklearn import metrics\n",
    "from sklearn.impute import SimpleImputer\n",
    "from sklearn.metrics import accuracy_score\n",
    "import numpy as np, scipy as sp, scipy.stats, os, sys, joblib\n",
    "import os, numpy as np, scipy as sp, scipy.io, scipy.io.wavfile\n",
    "from sklearn.ensemble import RandomForestClassifier\n",
    "from sklearn.model_selection import train_test_split\n",
    "import random\n",
    "import pandas as pd"
   ]
  },
  {
   "cell_type": "code",
   "execution_count": 2,
   "metadata": {
    "ExecuteTime": {
     "end_time": "2023-04-28T15:01:23.552701Z",
     "start_time": "2023-04-28T15:01:23.176664Z"
    },
    "id": "jaM1gC4B37JJ"
   },
   "outputs": [
    {
     "name": "stdout",
     "output_type": "stream",
     "text": [
      "allo\n"
     ]
    }
   ],
   "source": [
    "path = r'df_complete_data.pkl'\n",
    "df = pd.read_pickle(path)\n",
    "print(\"allo\")"
   ]
  },
  {
   "cell_type": "code",
   "execution_count": 3,
   "metadata": {
    "ExecuteTime": {
     "end_time": "2023-04-28T15:01:24.194578Z",
     "start_time": "2023-04-28T15:01:24.077530Z"
    },
    "id": "P9HTtXrm78dV"
   },
   "outputs": [],
   "source": [
    "\n",
    "#check correctness of dataframe loaded\n",
    "for i in range(68261):\n",
    "  if len(df[\"recording\"][i]) != 4096:\n",
    "    print(\"problem sir\")"
   ]
  },
  {
   "cell_type": "code",
   "execution_count": 4,
   "metadata": {
    "ExecuteTime": {
     "end_time": "2023-04-28T15:01:24.554423Z",
     "start_time": "2023-04-28T15:01:24.512417Z"
    },
    "id": "fElXRT5T4a36"
   },
   "outputs": [],
   "source": [
    "\n",
    "new_df = df[['patient_id', 'murmur']]\n",
    "new_df = new_df.drop_duplicates()"
   ]
  },
  {
   "cell_type": "code",
   "execution_count": 5,
   "metadata": {
    "ExecuteTime": {
     "end_time": "2023-04-28T15:01:24.882122Z",
     "start_time": "2023-04-28T15:01:24.852236Z"
    },
    "id": "PHkvtE-h6uwl"
   },
   "outputs": [],
   "source": [
    "new_df = new_df.reset_index(drop=True)"
   ]
  },
  {
   "cell_type": "code",
   "execution_count": 6,
   "metadata": {
    "ExecuteTime": {
     "end_time": "2023-04-28T15:01:25.150143Z",
     "start_time": "2023-04-28T15:01:25.107941Z"
    },
    "colab": {
     "base_uri": "https://localhost:8080/"
    },
    "id": "6T9wZX1WyE83",
    "outputId": "d3fbb777-7c62-410b-fc50-0621a5692645"
   },
   "outputs": [
    {
     "name": "stdout",
     "output_type": "stream",
     "text": [
      "179\n",
      "695\n"
     ]
    }
   ],
   "source": [
    "nb_murmur_present = (new_df.loc[new_df['murmur'] == 1]).shape[0]\n",
    "nb_murmur_absent = (new_df.loc[new_df['murmur'] == 0]).shape[0]\n",
    "print(nb_murmur_present)\n",
    "print(nb_murmur_absent)"
   ]
  },
  {
   "cell_type": "code",
   "execution_count": 7,
   "metadata": {
    "ExecuteTime": {
     "end_time": "2023-04-28T15:01:25.405272Z",
     "start_time": "2023-04-28T15:01:25.361607Z"
    },
    "colab": {
     "base_uri": "https://localhost:8080/",
     "height": 424
    },
    "id": "mzg9rqHzxyal",
    "outputId": "b703a36e-c0e1-42f6-bf19-54cf7bd0851e"
   },
   "outputs": [
    {
     "data": {
      "text/html": [
       "<div>\n",
       "<style scoped>\n",
       "    .dataframe tbody tr th:only-of-type {\n",
       "        vertical-align: middle;\n",
       "    }\n",
       "\n",
       "    .dataframe tbody tr th {\n",
       "        vertical-align: top;\n",
       "    }\n",
       "\n",
       "    .dataframe thead th {\n",
       "        text-align: right;\n",
       "    }\n",
       "</style>\n",
       "<table border=\"1\" class=\"dataframe\">\n",
       "  <thead>\n",
       "    <tr style=\"text-align: right;\">\n",
       "      <th></th>\n",
       "      <th>patient_id</th>\n",
       "      <th>murmur</th>\n",
       "    </tr>\n",
       "  </thead>\n",
       "  <tbody>\n",
       "    <tr>\n",
       "      <th>0</th>\n",
       "      <td>2530.0</td>\n",
       "      <td>0.0</td>\n",
       "    </tr>\n",
       "    <tr>\n",
       "      <th>1</th>\n",
       "      <td>9979.0</td>\n",
       "      <td>1.0</td>\n",
       "    </tr>\n",
       "    <tr>\n",
       "      <th>2</th>\n",
       "      <td>13918.0</td>\n",
       "      <td>1.0</td>\n",
       "    </tr>\n",
       "    <tr>\n",
       "      <th>3</th>\n",
       "      <td>14241.0</td>\n",
       "      <td>1.0</td>\n",
       "    </tr>\n",
       "    <tr>\n",
       "      <th>4</th>\n",
       "      <td>14998.0</td>\n",
       "      <td>0.0</td>\n",
       "    </tr>\n",
       "    <tr>\n",
       "      <th>...</th>\n",
       "      <td>...</td>\n",
       "      <td>...</td>\n",
       "    </tr>\n",
       "    <tr>\n",
       "      <th>869</th>\n",
       "      <td>85340.0</td>\n",
       "      <td>0.0</td>\n",
       "    </tr>\n",
       "    <tr>\n",
       "      <th>870</th>\n",
       "      <td>85341.0</td>\n",
       "      <td>0.0</td>\n",
       "    </tr>\n",
       "    <tr>\n",
       "      <th>871</th>\n",
       "      <td>85343.0</td>\n",
       "      <td>1.0</td>\n",
       "    </tr>\n",
       "    <tr>\n",
       "      <th>872</th>\n",
       "      <td>85345.0</td>\n",
       "      <td>0.0</td>\n",
       "    </tr>\n",
       "    <tr>\n",
       "      <th>873</th>\n",
       "      <td>85349.0</td>\n",
       "      <td>0.0</td>\n",
       "    </tr>\n",
       "  </tbody>\n",
       "</table>\n",
       "<p>874 rows × 2 columns</p>\n",
       "</div>"
      ],
      "text/plain": [
       "     patient_id  murmur\n",
       "0        2530.0     0.0\n",
       "1        9979.0     1.0\n",
       "2       13918.0     1.0\n",
       "3       14241.0     1.0\n",
       "4       14998.0     0.0\n",
       "..          ...     ...\n",
       "869     85340.0     0.0\n",
       "870     85341.0     0.0\n",
       "871     85343.0     1.0\n",
       "872     85345.0     0.0\n",
       "873     85349.0     0.0\n",
       "\n",
       "[874 rows x 2 columns]"
      ]
     },
     "execution_count": 7,
     "metadata": {},
     "output_type": "execute_result"
    }
   ],
   "source": [
    "new_df"
   ]
  },
  {
   "cell_type": "code",
   "execution_count": 8,
   "metadata": {
    "ExecuteTime": {
     "end_time": "2023-04-28T15:01:25.758405Z",
     "start_time": "2023-04-28T15:01:25.716995Z"
    },
    "id": "Un2S1LxU675v"
   },
   "outputs": [],
   "source": [
    "list_id = new_df['patient_id']\n",
    "list_label = new_df['murmur']"
   ]
  },
  {
   "cell_type": "code",
   "execution_count": 9,
   "metadata": {
    "ExecuteTime": {
     "end_time": "2023-04-28T15:01:26.517845Z",
     "start_time": "2023-04-28T15:01:26.514337Z"
    },
    "id": "MNAjMblwwWaG"
   },
   "outputs": [],
   "source": [
    "def get_balanced_dataset(X,y):\n",
    "  ones = np.where(np.array(y)==1)\n",
    "  zeros = np.where(np.array(y)==0)\n",
    "  ones = ones[0]\n",
    "  zeros = zeros[0]\n",
    "  trunc = ones.shape[0] - zeros.shape[0]\n",
    "  zeros = zeros[:trunc]\n",
    "  new_X=[]\n",
    "  new_y=[]\n",
    "  for i in ones:\n",
    "    new_X.append(X[i])\n",
    "    new_y.append(y[i])\n",
    "  for j in zeros:\n",
    "    new_X.append(X[j])\n",
    "    new_y.append(y[j])\n",
    "  return new_X,new_y"
   ]
  },
  {
   "cell_type": "code",
   "execution_count": 10,
   "metadata": {
    "ExecuteTime": {
     "end_time": "2023-04-28T15:01:26.982298Z",
     "start_time": "2023-04-28T15:01:26.940526Z"
    },
    "id": "a6O4idCkwaFz"
   },
   "outputs": [],
   "source": [
    "list_id,list_label = get_balanced_dataset(list_id,list_label)"
   ]
  },
  {
   "cell_type": "code",
   "execution_count": 11,
   "metadata": {
    "ExecuteTime": {
     "end_time": "2023-04-28T15:01:27.314471Z",
     "start_time": "2023-04-28T15:01:27.270315Z"
    },
    "id": "uR6aqz5g9oOj"
   },
   "outputs": [],
   "source": [
    "id_train, id_valtest, label_train, label_valtest = train_test_split(list_id, list_label , test_size=0.2, random_state=42)\n",
    "id_val, id_test, label_val, label_test = train_test_split(id_valtest, label_valtest , test_size=0.5, random_state=42)"
   ]
  },
  {
   "cell_type": "code",
   "execution_count": 12,
   "metadata": {
    "ExecuteTime": {
     "end_time": "2023-04-28T15:01:27.630205Z",
     "start_time": "2023-04-28T15:01:27.588459Z"
    },
    "id": "BlEJD1ce4H1O"
   },
   "outputs": [],
   "source": [
    "def select_rows(id_list,dframe):\n",
    "  #for id in list_id:\n",
    "  sub_df = dframe.loc[dframe['patient_id'].isin([int(id) for id in id_list])]\n",
    "  return sub_df\n",
    "\n",
    "df_train = select_rows(id_train,df)\n",
    "df_val = select_rows(id_val,df)\n",
    "df_test = select_rows(id_test,df)"
   ]
  },
  {
   "cell_type": "code",
   "execution_count": 13,
   "metadata": {
    "ExecuteTime": {
     "end_time": "2023-04-28T15:01:27.942717Z",
     "start_time": "2023-04-28T15:01:27.942353Z"
    },
    "colab": {
     "base_uri": "https://localhost:8080/"
    },
    "id": "E2w-MxY1_ClQ",
    "outputId": "d8b06ceb-2d69-4941-a7dd-cb34b1591e7f"
   },
   "outputs": [
    {
     "data": {
      "text/plain": [
       "12317"
      ]
     },
     "execution_count": 13,
     "metadata": {},
     "output_type": "execute_result"
    }
   ],
   "source": [
    "(df_train.loc[df_train['murmur'] == 0]).shape[0]"
   ]
  },
  {
   "cell_type": "code",
   "execution_count": 14,
   "metadata": {
    "ExecuteTime": {
     "end_time": "2023-04-28T15:01:28.371893Z",
     "start_time": "2023-04-28T15:01:28.358394Z"
    },
    "id": "jfbOL3Un_ESV"
   },
   "outputs": [],
   "source": [
    "X_train = np.vstack(df_train['recording'])\n",
    "y_train = np.array(df_train['murmur'])\n",
    "\n",
    "X_val = np.vstack(df_val['recording'])\n",
    "y_val = np.array(df_val['murmur'])\n",
    "\n",
    "X_test = np.vstack(df_test['recording'])\n",
    "y_test = np.array(df_test['murmur'])"
   ]
  },
  {
   "cell_type": "code",
   "execution_count": 15,
   "metadata": {
    "ExecuteTime": {
     "end_time": "2023-04-28T15:01:29.130594Z",
     "start_time": "2023-04-28T15:01:29.130304Z"
    },
    "id": "YAlU7MUoCi6r"
   },
   "outputs": [],
   "source": [
    "X_train = X_train.reshape(len(X_train),len(X_train[1]),1)\n",
    "X_val = X_val.reshape(len(X_val),len(X_val[1]),1)\n",
    "X_test = X_test.reshape(len(X_test),len(X_test[1]),1)"
   ]
  },
  {
   "cell_type": "code",
   "execution_count": 16,
   "metadata": {
    "ExecuteTime": {
     "end_time": "2023-04-28T15:01:29.674411Z",
     "start_time": "2023-04-28T15:01:29.632270Z"
    }
   },
   "outputs": [
    {
     "data": {
      "text/plain": [
       "(23182, 4096, 1)"
      ]
     },
     "execution_count": 16,
     "metadata": {},
     "output_type": "execute_result"
    }
   ],
   "source": [
    "X_train.shape"
   ]
  },
  {
   "cell_type": "code",
   "execution_count": 17,
   "metadata": {
    "ExecuteTime": {
     "end_time": "2023-04-28T00:23:06.444794Z",
     "start_time": "2023-04-28T00:23:06.309376Z"
    }
   },
   "outputs": [
    {
     "name": "stderr",
     "output_type": "stream",
     "text": [
      "2023-04-28 15:01:31.230199: I tensorflow/compiler/xla/stream_executor/cuda/cuda_gpu_executor.cc:996] successful NUMA node read from SysFS had negative value (-1), but there must be at least one NUMA node, so returning NUMA node zero. See more at https://github.com/torvalds/linux/blob/v6.0/Documentation/ABI/testing/sysfs-bus-pci#L344-L355\n",
      "2023-04-28 15:01:31.243603: I tensorflow/compiler/xla/stream_executor/cuda/cuda_gpu_executor.cc:996] successful NUMA node read from SysFS had negative value (-1), but there must be at least one NUMA node, so returning NUMA node zero. See more at https://github.com/torvalds/linux/blob/v6.0/Documentation/ABI/testing/sysfs-bus-pci#L344-L355\n",
      "2023-04-28 15:01:31.243695: I tensorflow/compiler/xla/stream_executor/cuda/cuda_gpu_executor.cc:996] successful NUMA node read from SysFS had negative value (-1), but there must be at least one NUMA node, so returning NUMA node zero. See more at https://github.com/torvalds/linux/blob/v6.0/Documentation/ABI/testing/sysfs-bus-pci#L344-L355\n",
      "2023-04-28 15:01:31.244976: I tensorflow/compiler/xla/stream_executor/cuda/cuda_gpu_executor.cc:996] successful NUMA node read from SysFS had negative value (-1), but there must be at least one NUMA node, so returning NUMA node zero. See more at https://github.com/torvalds/linux/blob/v6.0/Documentation/ABI/testing/sysfs-bus-pci#L344-L355\n",
      "2023-04-28 15:01:31.245048: I tensorflow/compiler/xla/stream_executor/cuda/cuda_gpu_executor.cc:996] successful NUMA node read from SysFS had negative value (-1), but there must be at least one NUMA node, so returning NUMA node zero. See more at https://github.com/torvalds/linux/blob/v6.0/Documentation/ABI/testing/sysfs-bus-pci#L344-L355\n",
      "2023-04-28 15:01:31.245093: I tensorflow/compiler/xla/stream_executor/cuda/cuda_gpu_executor.cc:996] successful NUMA node read from SysFS had negative value (-1), but there must be at least one NUMA node, so returning NUMA node zero. See more at https://github.com/torvalds/linux/blob/v6.0/Documentation/ABI/testing/sysfs-bus-pci#L344-L355\n",
      "2023-04-28 15:01:31.552262: I tensorflow/compiler/xla/stream_executor/cuda/cuda_gpu_executor.cc:996] successful NUMA node read from SysFS had negative value (-1), but there must be at least one NUMA node, so returning NUMA node zero. See more at https://github.com/torvalds/linux/blob/v6.0/Documentation/ABI/testing/sysfs-bus-pci#L344-L355\n",
      "2023-04-28 15:01:31.552387: I tensorflow/compiler/xla/stream_executor/cuda/cuda_gpu_executor.cc:996] successful NUMA node read from SysFS had negative value (-1), but there must be at least one NUMA node, so returning NUMA node zero. See more at https://github.com/torvalds/linux/blob/v6.0/Documentation/ABI/testing/sysfs-bus-pci#L344-L355\n",
      "2023-04-28 15:01:31.552458: I tensorflow/compiler/xla/stream_executor/cuda/cuda_gpu_executor.cc:996] successful NUMA node read from SysFS had negative value (-1), but there must be at least one NUMA node, so returning NUMA node zero. See more at https://github.com/torvalds/linux/blob/v6.0/Documentation/ABI/testing/sysfs-bus-pci#L344-L355\n",
      "2023-04-28 15:01:31.552523: I tensorflow/core/common_runtime/gpu/gpu_device.cc:1635] Created device /job:localhost/replica:0/task:0/device:GPU:0 with 9634 MB memory:  -> device: 0, name: NVIDIA GeForce RTX 4070 Ti, pci bus id: 0000:01:00.0, compute capability: 8.9\n"
     ]
    },
    {
     "ename": "ValueError",
     "evalue": "Input 0 of layer \"lstm\" is incompatible with the layer: expected ndim=3, found ndim=2. Full shape received: (None, 128)",
     "output_type": "error",
     "traceback": [
      "\u001b[0;31m---------------------------------------------------------------------------\u001b[0m",
      "\u001b[0;31mValueError\u001b[0m                                Traceback (most recent call last)",
      "Cell \u001b[0;32mIn[17], line 56\u001b[0m\n\u001b[1;32m     51\u001b[0m     output_layer \u001b[38;5;241m=\u001b[39m tf\u001b[38;5;241m.\u001b[39mkeras\u001b[38;5;241m.\u001b[39mlayers\u001b[38;5;241m.\u001b[39mDense(\u001b[38;5;241m1\u001b[39m, activation\u001b[38;5;241m=\u001b[39m\u001b[38;5;124m\"\u001b[39m\u001b[38;5;124msigmoid\u001b[39m\u001b[38;5;124m\"\u001b[39m)(x)\n\u001b[1;32m     53\u001b[0m     \u001b[38;5;28;01mreturn\u001b[39;00m tf\u001b[38;5;241m.\u001b[39mkeras\u001b[38;5;241m.\u001b[39mmodels\u001b[38;5;241m.\u001b[39mModel(inputs\u001b[38;5;241m=\u001b[39minput_layer, outputs\u001b[38;5;241m=\u001b[39moutput_layer)\n\u001b[0;32m---> 56\u001b[0m model \u001b[38;5;241m=\u001b[39m \u001b[43mmake_model\u001b[49m\u001b[43m(\u001b[49m\u001b[43minput_shape\u001b[49m\u001b[38;5;241;43m=\u001b[39;49m\u001b[43mX_train\u001b[49m\u001b[38;5;241;43m.\u001b[39;49m\u001b[43mshape\u001b[49m\u001b[43m[\u001b[49m\u001b[38;5;241;43m1\u001b[39;49m\u001b[43m:\u001b[49m\u001b[43m]\u001b[49m\u001b[43m)\u001b[49m\n",
      "Cell \u001b[0;32mIn[17], line 30\u001b[0m, in \u001b[0;36mmake_model\u001b[0;34m(input_shape)\u001b[0m\n\u001b[1;32m     28\u001b[0m x \u001b[38;5;241m=\u001b[39m tf\u001b[38;5;241m.\u001b[39mkeras\u001b[38;5;241m.\u001b[39mlayers\u001b[38;5;241m.\u001b[39mFlatten()(x)\n\u001b[1;32m     29\u001b[0m \u001b[38;5;66;03m#concat = tf.keras.layers.Concatenate([lstm1,gap])\u001b[39;00m\n\u001b[0;32m---> 30\u001b[0m x \u001b[38;5;241m=\u001b[39m \u001b[43mtf\u001b[49m\u001b[38;5;241;43m.\u001b[39;49m\u001b[43mkeras\u001b[49m\u001b[38;5;241;43m.\u001b[39;49m\u001b[43mlayers\u001b[49m\u001b[38;5;241;43m.\u001b[39;49m\u001b[43mLSTM\u001b[49m\u001b[43m(\u001b[49m\u001b[38;5;241;43m100\u001b[39;49m\u001b[43m,\u001b[49m\u001b[43mreturn_sequences\u001b[49m\u001b[38;5;241;43m=\u001b[39;49m\u001b[38;5;28;43;01mTrue\u001b[39;49;00m\u001b[43m)\u001b[49m\u001b[43m(\u001b[49m\u001b[43mx\u001b[49m\u001b[43m)\u001b[49m\n\u001b[1;32m     31\u001b[0m \u001b[38;5;66;03m#lstm1 = tf.keras.layers.Dropout(0.2)(lstm1)\u001b[39;00m\n\u001b[1;32m     32\u001b[0m \n\u001b[1;32m     33\u001b[0m \u001b[38;5;66;03m#lstm1 = tf.keras.layers.LSTM(32,return_sequences=True)(lstm1)\u001b[39;00m\n\u001b[0;32m   (...)\u001b[0m\n\u001b[1;32m     36\u001b[0m \u001b[38;5;66;03m#dense = tf.keras.layers.GlobalAveragePooling1D()(conv3)\u001b[39;00m\n\u001b[1;32m     37\u001b[0m \u001b[38;5;66;03m#x = tf.keras.layers.Flatten()(x)\u001b[39;00m\n\u001b[1;32m     38\u001b[0m \u001b[38;5;124;03m\"\"\"\u001b[39;00m\n\u001b[1;32m     39\u001b[0m \u001b[38;5;124;03mx = tf.keras.layers.Dense(512, activation='relu')(x)\u001b[39;00m\n\u001b[1;32m     40\u001b[0m \u001b[38;5;124;03mx = tf.keras.layers.BatchNormalization()(x)\u001b[39;00m\n\u001b[1;32m     41\u001b[0m \u001b[38;5;124;03mx = tf.keras.layers.Dropout(0.5)(x)\u001b[39;00m\n\u001b[1;32m     42\u001b[0m \u001b[38;5;124;03m\"\"\"\u001b[39;00m\n",
      "File \u001b[0;32m~/.local/lib/python3.10/site-packages/keras/layers/rnn/base_rnn.py:556\u001b[0m, in \u001b[0;36mRNN.__call__\u001b[0;34m(self, inputs, initial_state, constants, **kwargs)\u001b[0m\n\u001b[1;32m    551\u001b[0m inputs, initial_state, constants \u001b[38;5;241m=\u001b[39m rnn_utils\u001b[38;5;241m.\u001b[39mstandardize_args(\n\u001b[1;32m    552\u001b[0m     inputs, initial_state, constants, \u001b[38;5;28mself\u001b[39m\u001b[38;5;241m.\u001b[39m_num_constants\n\u001b[1;32m    553\u001b[0m )\n\u001b[1;32m    555\u001b[0m \u001b[38;5;28;01mif\u001b[39;00m initial_state \u001b[38;5;129;01mis\u001b[39;00m \u001b[38;5;28;01mNone\u001b[39;00m \u001b[38;5;129;01mand\u001b[39;00m constants \u001b[38;5;129;01mis\u001b[39;00m \u001b[38;5;28;01mNone\u001b[39;00m:\n\u001b[0;32m--> 556\u001b[0m     \u001b[38;5;28;01mreturn\u001b[39;00m \u001b[38;5;28;43msuper\u001b[39;49m\u001b[43m(\u001b[49m\u001b[43m)\u001b[49m\u001b[38;5;241;43m.\u001b[39;49m\u001b[38;5;21;43m__call__\u001b[39;49m\u001b[43m(\u001b[49m\u001b[43minputs\u001b[49m\u001b[43m,\u001b[49m\u001b[43m \u001b[49m\u001b[38;5;241;43m*\u001b[39;49m\u001b[38;5;241;43m*\u001b[39;49m\u001b[43mkwargs\u001b[49m\u001b[43m)\u001b[49m\n\u001b[1;32m    558\u001b[0m \u001b[38;5;66;03m# If any of `initial_state` or `constants` are specified and are Keras\u001b[39;00m\n\u001b[1;32m    559\u001b[0m \u001b[38;5;66;03m# tensors, then add them to the inputs and temporarily modify the\u001b[39;00m\n\u001b[1;32m    560\u001b[0m \u001b[38;5;66;03m# input_spec to include them.\u001b[39;00m\n\u001b[1;32m    562\u001b[0m additional_inputs \u001b[38;5;241m=\u001b[39m []\n",
      "File \u001b[0;32m~/.local/lib/python3.10/site-packages/keras/utils/traceback_utils.py:70\u001b[0m, in \u001b[0;36mfilter_traceback.<locals>.error_handler\u001b[0;34m(*args, **kwargs)\u001b[0m\n\u001b[1;32m     67\u001b[0m     filtered_tb \u001b[38;5;241m=\u001b[39m _process_traceback_frames(e\u001b[38;5;241m.\u001b[39m__traceback__)\n\u001b[1;32m     68\u001b[0m     \u001b[38;5;66;03m# To get the full stack trace, call:\u001b[39;00m\n\u001b[1;32m     69\u001b[0m     \u001b[38;5;66;03m# `tf.debugging.disable_traceback_filtering()`\u001b[39;00m\n\u001b[0;32m---> 70\u001b[0m     \u001b[38;5;28;01mraise\u001b[39;00m e\u001b[38;5;241m.\u001b[39mwith_traceback(filtered_tb) \u001b[38;5;28;01mfrom\u001b[39;00m \u001b[38;5;28mNone\u001b[39m\n\u001b[1;32m     71\u001b[0m \u001b[38;5;28;01mfinally\u001b[39;00m:\n\u001b[1;32m     72\u001b[0m     \u001b[38;5;28;01mdel\u001b[39;00m filtered_tb\n",
      "File \u001b[0;32m~/.local/lib/python3.10/site-packages/keras/engine/input_spec.py:235\u001b[0m, in \u001b[0;36massert_input_compatibility\u001b[0;34m(input_spec, inputs, layer_name)\u001b[0m\n\u001b[1;32m    233\u001b[0m     ndim \u001b[38;5;241m=\u001b[39m shape\u001b[38;5;241m.\u001b[39mrank\n\u001b[1;32m    234\u001b[0m     \u001b[38;5;28;01mif\u001b[39;00m ndim \u001b[38;5;241m!=\u001b[39m spec\u001b[38;5;241m.\u001b[39mndim:\n\u001b[0;32m--> 235\u001b[0m         \u001b[38;5;28;01mraise\u001b[39;00m \u001b[38;5;167;01mValueError\u001b[39;00m(\n\u001b[1;32m    236\u001b[0m             \u001b[38;5;124mf\u001b[39m\u001b[38;5;124m'\u001b[39m\u001b[38;5;124mInput \u001b[39m\u001b[38;5;132;01m{\u001b[39;00minput_index\u001b[38;5;132;01m}\u001b[39;00m\u001b[38;5;124m of layer \u001b[39m\u001b[38;5;124m\"\u001b[39m\u001b[38;5;132;01m{\u001b[39;00mlayer_name\u001b[38;5;132;01m}\u001b[39;00m\u001b[38;5;124m\"\u001b[39m\u001b[38;5;124m \u001b[39m\u001b[38;5;124m'\u001b[39m\n\u001b[1;32m    237\u001b[0m             \u001b[38;5;124m\"\u001b[39m\u001b[38;5;124mis incompatible with the layer: \u001b[39m\u001b[38;5;124m\"\u001b[39m\n\u001b[1;32m    238\u001b[0m             \u001b[38;5;124mf\u001b[39m\u001b[38;5;124m\"\u001b[39m\u001b[38;5;124mexpected ndim=\u001b[39m\u001b[38;5;132;01m{\u001b[39;00mspec\u001b[38;5;241m.\u001b[39mndim\u001b[38;5;132;01m}\u001b[39;00m\u001b[38;5;124m, found ndim=\u001b[39m\u001b[38;5;132;01m{\u001b[39;00mndim\u001b[38;5;132;01m}\u001b[39;00m\u001b[38;5;124m. \u001b[39m\u001b[38;5;124m\"\u001b[39m\n\u001b[1;32m    239\u001b[0m             \u001b[38;5;124mf\u001b[39m\u001b[38;5;124m\"\u001b[39m\u001b[38;5;124mFull shape received: \u001b[39m\u001b[38;5;132;01m{\u001b[39;00m\u001b[38;5;28mtuple\u001b[39m(shape)\u001b[38;5;132;01m}\u001b[39;00m\u001b[38;5;124m\"\u001b[39m\n\u001b[1;32m    240\u001b[0m         )\n\u001b[1;32m    241\u001b[0m \u001b[38;5;28;01mif\u001b[39;00m spec\u001b[38;5;241m.\u001b[39mmax_ndim \u001b[38;5;129;01mis\u001b[39;00m \u001b[38;5;129;01mnot\u001b[39;00m \u001b[38;5;28;01mNone\u001b[39;00m:\n\u001b[1;32m    242\u001b[0m     ndim \u001b[38;5;241m=\u001b[39m x\u001b[38;5;241m.\u001b[39mshape\u001b[38;5;241m.\u001b[39mrank\n",
      "\u001b[0;31mValueError\u001b[0m: Input 0 of layer \"lstm\" is incompatible with the layer: expected ndim=3, found ndim=2. Full shape received: (None, 128)"
     ]
    }
   ],
   "source": [
    "def make_model(input_shape):\n",
    "    drop_rate = 0.2\n",
    "    input_layer = tf.keras.layers.Input(shape=(input_shape[0],input_shape[1]))\n",
    "\n",
    "    x = tf.keras.layers.Conv1D(filters=32, kernel_size=3, padding=\"same\",activation='relu')(input_layer)\n",
    "    x = tf.keras.layers.BatchNormalization()(x)\n",
    "    x = tf.keras.layers.MaxPool1D(2,padding=\"same\")(x)\n",
    "    x = tf.keras.layers.Dropout(drop_rate)(x)\n",
    "\n",
    "\n",
    "    x = tf.keras.layers.Conv1D(filters=64, kernel_size=3, padding=\"same\",activation='relu')(x)\n",
    "    x = tf.keras.layers.BatchNormalization()(x)\n",
    "    x = tf.keras.layers.Dropout(drop_rate)(x)\n",
    "\n",
    "\n",
    "    x = tf.keras.layers.Conv1D(filters=128, kernel_size=3, padding=\"same\",activation='relu')(x)\n",
    "    x = tf.keras.layers.BatchNormalization()(x)\n",
    "    x = tf.keras.layers.Dropout(drop_rate)(x)\n",
    "\n",
    "\n",
    "    #pool2 = tf.keras.layers.MaxPool1D(pool_size=(3,), padding='same')(conv2)\n",
    "\n",
    "    #x = tf.keras.layers.LSTM(64,return_sequences=True)(x)\n",
    "    \n",
    "    \n",
    "\n",
    "    x = tf.keras.layers.GlobalAveragePooling1D()(x)\n",
    "    x = tf.keras.layers.Flatten()(x)\n",
    "    #concat = tf.keras.layers.Concatenate([lstm1,gap])\n",
    "    x = tf.keras.layers.LSTM(100,return_sequences=True)(x)\n",
    "    #lstm1 = tf.keras.layers.Dropout(0.2)(lstm1)\n",
    "\n",
    "    #lstm1 = tf.keras.layers.LSTM(32,return_sequences=True)(lstm1)\n",
    "    #lstm1 = tf.keras.layers.Dropout(0.2)(lstm1)\n",
    "\n",
    "    #dense = tf.keras.layers.GlobalAveragePooling1D()(conv3)\n",
    "    #x = tf.keras.layers.Flatten()(x)\n",
    "    \"\"\"\n",
    "    x = tf.keras.layers.Dense(512, activation='relu')(x)\n",
    "    x = tf.keras.layers.BatchNormalization()(x)\n",
    "    x = tf.keras.layers.Dropout(0.5)(x)\n",
    "    \"\"\"\n",
    "    x = tf.keras.layers.Dense(64, activation='relu')(x)\n",
    "    x = tf.keras.layers.BatchNormalization()(x)\n",
    "    x = tf.keras.layers.Dropout(0.4)(x)\n",
    "\n",
    "    x = tf.keras.layers.Dense(32, activation='relu')(x)\n",
    "    x = tf.keras.layers.BatchNormalization()(x)\n",
    "    x = tf.keras.layers.Dropout(0.3)(x)\n",
    "\n",
    "    output_layer = tf.keras.layers.Dense(1, activation=\"sigmoid\")(x)\n",
    "\n",
    "    return tf.keras.models.Model(inputs=input_layer, outputs=output_layer)\n",
    "\n",
    "\n",
    "model = make_model(input_shape=X_train.shape[1:])"
   ]
  },
  {
   "cell_type": "code",
   "execution_count": 42,
   "metadata": {
    "ExecuteTime": {
     "end_time": "2023-04-27T23:31:36.034831Z",
     "start_time": "2023-04-27T23:31:35.888224Z"
    },
    "id": "L4opRxvN_pmS"
   },
   "outputs": [],
   "source": [
    "def make_model(input_shape):\n",
    "    input_layer = tf.keras.layers.Input(shape=(input_shape[0],input_shape[1]))\n",
    "    #input_layer = tf.keras.layers.Embedding(input_dim=input_shape[0], output_dim=input_shape[0], mask_zero=True)(input_layer)\n",
    "    #lstm1 = tf.keras.layers.LSTM(128)(input_layer)\n",
    "    #lstm1 = tf.keras.layers.Dropout(0.2)(lstm1)\n",
    "    #lstm2 = tf.keras.layers.LSTM(64)(lstm1)\n",
    "    #lstm2 = tf.keras.layers.Dropout(0.2)(lstm2)\n",
    "    conv1 = tf.keras.layers.Conv1D(filters=32, kernel_size=3, padding=\"same\")(input_layer)\n",
    "    conv1 = tf.keras.layers.BatchNormalization()(conv1)\n",
    "    conv1 = tf.keras.layers.ReLU()(conv1)\n",
    "    #pool1 = tf.keras.layers.MaxPool1D(pool_size=(3,), padding='same')(conv1)\n",
    "    conv2 = tf.keras.layers.Conv1D(filters=64, kernel_size=3, padding=\"same\")(conv1)\n",
    "    conv2 = tf.keras.layers.BatchNormalization()(conv2)\n",
    "    conv2 = tf.keras.layers.ReLU()(conv2)\n",
    "    #pool2 = tf.keras.layers.MaxPool1D(pool_size=(3,), padding='same')(conv2)\n",
    "    #input_conv = tf.keras.layers.Permute((2,1))(input_layer)\n",
    "    conv3 = tf.keras.layers.Conv1D(filters=128, kernel_size=3, padding=\"same\")(conv2)\n",
    "    conv3 = tf.keras.layers.BatchNormalization()(conv3)\n",
    "    conv3 = tf.keras.layers.ReLU()(conv3)\n",
    "\n",
    "    #gap = tf.keras.layers.GlobalAveragePooling1D()(conv3)\n",
    "    #concat = tf.keras.layers.Concatenate([lstm1,gap])\n",
    "    #lstm1 = tf.keras.layers.LSTM(32,return_sequences=True)(conv3)\n",
    "    #lstm1 = tf.keras.layers.Dropout(0.2)(lstm1)\n",
    "\n",
    "    #lstm1 = tf.keras.layers.LSTM(32,return_sequences=True)(lstm1)\n",
    "    #lstm1 = tf.keras.layers.Dropout(0.2)(lstm1)\n",
    "\n",
    "    gap = tf.keras.layers.GlobalAveragePooling1D()(conv3)\n",
    "\n",
    "    dense = tf.keras.layers.Dense(32, activation='relu')(gap)\n",
    "    dense = tf.keras.layers.BatchNormalization()(dense)\n",
    "    dense = tf.keras.layers.Dropout(0.125)(dense)\n",
    "\n",
    "    output_layer = tf.keras.layers.Dense(1, activation=\"sigmoid\")(dense)\n",
    "\n",
    "    return tf.keras.models.Model(inputs=input_layer, outputs=output_layer)\n",
    "\n",
    "\n",
    "model = make_model(input_shape=X_train.shape[1:])"
   ]
  },
  {
   "cell_type": "code",
   "execution_count": 43,
   "metadata": {
    "ExecuteTime": {
     "end_time": "2023-04-27T23:31:37.342901Z",
     "start_time": "2023-04-27T23:31:37.269367Z"
    }
   },
   "outputs": [],
   "source": [
    "def make_model(input_shape):\n",
    "    drop_rate = 0.2\n",
    "    input_layer = tf.keras.layers.Input(shape=(input_shape[0],input_shape[1]))\n",
    "    #input_layer = tf.keras.layers.Embedding(input_dim=input_shape[0], output_dim=input_shape[0], mask_zero=True)(input_layer)\n",
    "    #lstm1 = tf.keras.layers.LSTM(128)(input_layer)\n",
    "    #lstm1 = tf.keras.layers.Dropout(0.2)(lstm1)\n",
    "    #lstm2 = tf.keras.layers.LSTM(64)(lstm1)\n",
    "    #lstm2 = tf.keras.layers.Dropout(0.2)(lstm2)\n",
    "    x = tf.keras.layers.Conv1D(filters=32, kernel_size=3, padding=\"same\",activation='relu')(input_layer)\n",
    "    x = tf.keras.layers.BatchNormalization()(x)\n",
    "    #conv1 = tf.keras.layers.ReLU()(conv1)\n",
    "    x = tf.keras.layers.MaxPool1D(2,padding=\"same\")(x)\n",
    "    x = tf.keras.layers.Dropout(drop_rate)(x)\n",
    "\n",
    "\n",
    "    #pool1 = tf.keras.layers.MaxPool1D(pool_size=(3,), padding='same')(conv1)\n",
    "    x = tf.keras.layers.Conv1D(filters=64, kernel_size=3, padding=\"same\",activation='relu')(x)\n",
    "    x = tf.keras.layers.BatchNormalization()(x)\n",
    "    #conv2 = tf.keras.layers.ReLU()(conv2)\n",
    "    x = tf.keras.layers.MaxPool1D(2, padding=\"same\")(x)\n",
    "    x = tf.keras.layers.Dropout(drop_rate)(x)\n",
    "\n",
    "    #pool2 = tf.keras.layers.MaxPool1D(pool_size=(3,), padding='same')(conv2)\n",
    "    #input_conv = tf.keras.layers.Permute((2,1))(input_layer)\n",
    "    \"\"\"\n",
    "    x = tf.keras.layers.Conv1D(filters=128, kernel_size=3, padding=\"same\",activation='relu')(x)\n",
    "    x = tf.keras.layers.BatchNormalization()(x)\n",
    "    #conv3 = tf.keras.layers.ReLU()(conv3)\n",
    "    x = tf.keras.layers.MaxPool1D(2, padding=\"same\")(x)\n",
    "    x = tf.keras.layers.Dropout(drop_rate)(x)\n",
    "    \"\"\"\n",
    "\n",
    "\n",
    "    #gap = tf.keras.layers.GlobalAveragePooling1D()(conv3)\n",
    "    #concat = tf.keras.layers.Concatenate([lstm1,gap])\n",
    "    #lstm1 = tf.keras.layers.LSTM(32,return_sequences=True)(conv3)\n",
    "    #lstm1 = tf.keras.layers.Dropout(0.2)(lstm1)\n",
    "\n",
    "    #lstm1 = tf.keras.layers.LSTM(32,return_sequences=True)(lstm1)\n",
    "    #lstm1 = tf.keras.layers.Dropout(0.2)(lstm1)\n",
    "\n",
    "    #dense = tf.keras.layers.GlobalAveragePooling1D()(conv3)\n",
    "    x = tf.keras.layers.Flatten()(x)\n",
    "    \"\"\"\n",
    "    x = tf.keras.layers.Dense(512, activation='relu')(x)\n",
    "    x = tf.keras.layers.BatchNormalization()(x)\n",
    "    x = tf.keras.layers.Dropout(0.5)(x)\n",
    "    \"\"\"\n",
    "    x = tf.keras.layers.Dense(64, activation='relu')(x)\n",
    "    x = tf.keras.layers.BatchNormalization()(x)\n",
    "    x = tf.keras.layers.Dropout(0.4)(x)\n",
    "\n",
    "    x = tf.keras.layers.Dense(32, activation='relu')(x)\n",
    "    x = tf.keras.layers.BatchNormalization()(x)\n",
    "    x = tf.keras.layers.Dropout(0.3)(x)\n",
    "\n",
    "    output_layer = tf.keras.layers.Dense(1, activation=\"sigmoid\")(x)\n",
    "\n",
    "    return tf.keras.models.Model(inputs=input_layer, outputs=output_layer)\n",
    "\n",
    "\n",
    "model = make_model(input_shape=X_train.shape[1:])"
   ]
  },
  {
   "cell_type": "code",
   "execution_count": 81,
   "metadata": {
    "ExecuteTime": {
     "end_time": "2023-04-28T00:23:15.285962Z",
     "start_time": "2023-04-28T00:23:15.243962Z"
    },
    "colab": {
     "base_uri": "https://localhost:8080/"
    },
    "id": "f_gayKfl_qdh",
    "outputId": "cbb9656e-720f-4852-ab80-34cda175fbff"
   },
   "outputs": [
    {
     "name": "stdout",
     "output_type": "stream",
     "text": [
      "Model: \"model_11\"\n",
      "_________________________________________________________________\n",
      " Layer (type)                Output Shape              Param #   \n",
      "=================================================================\n",
      " input_12 (InputLayer)       [(None, 4096, 1)]         0         \n",
      "                                                                 \n",
      " conv1d_30 (Conv1D)          (None, 4096, 32)          128       \n",
      "                                                                 \n",
      " batch_normalization_50 (Bat  (None, 4096, 32)         128       \n",
      " chNormalization)                                                \n",
      "                                                                 \n",
      " max_pooling1d_6 (MaxPooling  (None, 2048, 32)         0         \n",
      " 1D)                                                             \n",
      "                                                                 \n",
      " dropout_44 (Dropout)        (None, 2048, 32)          0         \n",
      "                                                                 \n",
      " conv1d_31 (Conv1D)          (None, 2048, 64)          6208      \n",
      "                                                                 \n",
      " batch_normalization_51 (Bat  (None, 2048, 64)         256       \n",
      " chNormalization)                                                \n",
      "                                                                 \n",
      " dropout_45 (Dropout)        (None, 2048, 64)          0         \n",
      "                                                                 \n",
      " conv1d_32 (Conv1D)          (None, 2048, 128)         24704     \n",
      "                                                                 \n",
      " batch_normalization_52 (Bat  (None, 2048, 128)        512       \n",
      " chNormalization)                                                \n",
      "                                                                 \n",
      " dropout_46 (Dropout)        (None, 2048, 128)         0         \n",
      "                                                                 \n",
      " global_average_pooling1d_10  (None, 128)              0         \n",
      "  (GlobalAveragePooling1D)                                       \n",
      "                                                                 \n",
      " dense_31 (Dense)            (None, 64)                8256      \n",
      "                                                                 \n",
      " batch_normalization_53 (Bat  (None, 64)               256       \n",
      " chNormalization)                                                \n",
      "                                                                 \n",
      " dropout_47 (Dropout)        (None, 64)                0         \n",
      "                                                                 \n",
      " dense_32 (Dense)            (None, 32)                2080      \n",
      "                                                                 \n",
      " batch_normalization_54 (Bat  (None, 32)               128       \n",
      " chNormalization)                                                \n",
      "                                                                 \n",
      " dropout_48 (Dropout)        (None, 32)                0         \n",
      "                                                                 \n",
      " dense_33 (Dense)            (None, 1)                 33        \n",
      "                                                                 \n",
      "=================================================================\n",
      "Total params: 42,689\n",
      "Trainable params: 42,049\n",
      "Non-trainable params: 640\n",
      "_________________________________________________________________\n"
     ]
    }
   ],
   "source": [
    "\n",
    "model.summary()\n"
   ]
  },
  {
   "cell_type": "code",
   "execution_count": 82,
   "metadata": {
    "ExecuteTime": {
     "end_time": "2023-04-28T00:27:49.281713Z",
     "start_time": "2023-04-28T00:23:20.737735Z"
    },
    "colab": {
     "base_uri": "https://localhost:8080/"
    },
    "id": "hyYFCrlJEGsk",
    "outputId": "1ffc58ab-e10e-42d7-da26-95260d876ac1",
    "scrolled": false
   },
   "outputs": [
    {
     "name": "stdout",
     "output_type": "stream",
     "text": [
      "Epoch 1/50\n",
      "725/725 [==============================] - 7s 8ms/step - loss: 0.6846 - acc: 0.6186 - val_loss: 0.6606 - val_acc: 0.6132 - lr: 0.0010\n",
      "Epoch 2/50\n",
      "725/725 [==============================] - 5s 7ms/step - loss: 0.6249 - acc: 0.6568 - val_loss: 0.6334 - val_acc: 0.6396 - lr: 0.0010\n",
      "Epoch 3/50\n",
      "725/725 [==============================] - 5s 7ms/step - loss: 0.6149 - acc: 0.6671 - val_loss: 0.6780 - val_acc: 0.5977 - lr: 0.0010\n",
      "Epoch 4/50\n",
      "725/725 [==============================] - 5s 8ms/step - loss: 0.6044 - acc: 0.6733 - val_loss: 0.6357 - val_acc: 0.6374 - lr: 0.0010\n",
      "Epoch 5/50\n",
      "725/725 [==============================] - 5s 7ms/step - loss: 0.5960 - acc: 0.6798 - val_loss: 0.6092 - val_acc: 0.6730 - lr: 0.0010\n",
      "Epoch 6/50\n",
      "725/725 [==============================] - 6s 8ms/step - loss: 0.5900 - acc: 0.6835 - val_loss: 0.6016 - val_acc: 0.6653 - lr: 0.0010\n",
      "Epoch 7/50\n",
      "725/725 [==============================] - 6s 8ms/step - loss: 0.5877 - acc: 0.6907 - val_loss: 0.6407 - val_acc: 0.6407 - lr: 0.0010\n",
      "Epoch 8/50\n",
      "725/725 [==============================] - 5s 7ms/step - loss: 0.5792 - acc: 0.6950 - val_loss: 0.6227 - val_acc: 0.6616 - lr: 0.0010\n",
      "Epoch 9/50\n",
      "725/725 [==============================] - 5s 7ms/step - loss: 0.5746 - acc: 0.6988 - val_loss: 0.6164 - val_acc: 0.6550 - lr: 0.0010\n",
      "Epoch 10/50\n",
      "725/725 [==============================] - 5s 7ms/step - loss: 0.5710 - acc: 0.6999 - val_loss: 0.6305 - val_acc: 0.6312 - lr: 0.0010\n",
      "Epoch 11/50\n",
      "725/725 [==============================] - 6s 8ms/step - loss: 0.5662 - acc: 0.7066 - val_loss: 0.6288 - val_acc: 0.6286 - lr: 0.0010\n",
      "Epoch 12/50\n",
      "725/725 [==============================] - 5s 7ms/step - loss: 0.5635 - acc: 0.7053 - val_loss: 0.6819 - val_acc: 0.6150 - lr: 0.0010\n",
      "Epoch 13/50\n",
      "725/725 [==============================] - 5s 8ms/step - loss: 0.5612 - acc: 0.7113 - val_loss: 0.6497 - val_acc: 0.6411 - lr: 0.0010\n",
      "Epoch 14/50\n",
      "725/725 [==============================] - 5s 8ms/step - loss: 0.5598 - acc: 0.7111 - val_loss: 0.6536 - val_acc: 0.6165 - lr: 0.0010\n",
      "Epoch 15/50\n",
      "725/725 [==============================] - 5s 7ms/step - loss: 0.5528 - acc: 0.7182 - val_loss: 0.6330 - val_acc: 0.6381 - lr: 0.0010\n",
      "Epoch 16/50\n",
      "725/725 [==============================] - 5s 7ms/step - loss: 0.5542 - acc: 0.7181 - val_loss: 0.6321 - val_acc: 0.6517 - lr: 0.0010\n",
      "Epoch 17/50\n",
      "725/725 [==============================] - 6s 8ms/step - loss: 0.5453 - acc: 0.7216 - val_loss: 0.6581 - val_acc: 0.6165 - lr: 5.0000e-04\n",
      "Epoch 18/50\n",
      "725/725 [==============================] - 5s 7ms/step - loss: 0.5434 - acc: 0.7231 - val_loss: 0.6396 - val_acc: 0.6201 - lr: 5.0000e-04\n",
      "Epoch 19/50\n",
      "725/725 [==============================] - 6s 8ms/step - loss: 0.5404 - acc: 0.7254 - val_loss: 0.6479 - val_acc: 0.6234 - lr: 5.0000e-04\n",
      "Epoch 20/50\n",
      "725/725 [==============================] - 6s 8ms/step - loss: 0.5426 - acc: 0.7277 - val_loss: 0.6415 - val_acc: 0.6209 - lr: 5.0000e-04\n",
      "Epoch 21/50\n",
      "725/725 [==============================] - 5s 7ms/step - loss: 0.5399 - acc: 0.7260 - val_loss: 0.6601 - val_acc: 0.6091 - lr: 5.0000e-04\n",
      "Epoch 22/50\n",
      "725/725 [==============================] - 6s 8ms/step - loss: 0.5365 - acc: 0.7256 - val_loss: 0.6531 - val_acc: 0.6109 - lr: 5.0000e-04\n",
      "Epoch 23/50\n",
      "725/725 [==============================] - 5s 7ms/step - loss: 0.5361 - acc: 0.7275 - val_loss: 0.6698 - val_acc: 0.6146 - lr: 5.0000e-04\n",
      "Epoch 24/50\n",
      "725/725 [==============================] - 5s 7ms/step - loss: 0.5333 - acc: 0.7319 - val_loss: 0.6391 - val_acc: 0.6282 - lr: 5.0000e-04\n",
      "Epoch 25/50\n",
      "725/725 [==============================] - 5s 7ms/step - loss: 0.5376 - acc: 0.7284 - val_loss: 0.6596 - val_acc: 0.6095 - lr: 5.0000e-04\n",
      "Epoch 26/50\n",
      "725/725 [==============================] - 6s 8ms/step - loss: 0.5341 - acc: 0.7284 - val_loss: 0.6643 - val_acc: 0.6087 - lr: 5.0000e-04\n",
      "Epoch 27/50\n",
      "725/725 [==============================] - 6s 8ms/step - loss: 0.5289 - acc: 0.7342 - val_loss: 0.6471 - val_acc: 0.6249 - lr: 2.5000e-04\n",
      "Epoch 28/50\n",
      "725/725 [==============================] - 5s 7ms/step - loss: 0.5249 - acc: 0.7366 - val_loss: 0.6533 - val_acc: 0.6289 - lr: 2.5000e-04\n",
      "Epoch 29/50\n",
      "725/725 [==============================] - 5s 7ms/step - loss: 0.5277 - acc: 0.7366 - val_loss: 0.6763 - val_acc: 0.6120 - lr: 2.5000e-04\n",
      "Epoch 30/50\n",
      "725/725 [==============================] - 5s 7ms/step - loss: 0.5262 - acc: 0.7337 - val_loss: 0.6767 - val_acc: 0.6135 - lr: 2.5000e-04\n",
      "Epoch 31/50\n",
      "725/725 [==============================] - 6s 8ms/step - loss: 0.5256 - acc: 0.7388 - val_loss: 0.6480 - val_acc: 0.6348 - lr: 2.5000e-04\n",
      "Epoch 32/50\n",
      "725/725 [==============================] - 5s 7ms/step - loss: 0.5238 - acc: 0.7407 - val_loss: 0.6765 - val_acc: 0.6139 - lr: 2.5000e-04\n",
      "Epoch 33/50\n",
      "725/725 [==============================] - 5s 8ms/step - loss: 0.5227 - acc: 0.7404 - val_loss: 0.6576 - val_acc: 0.6411 - lr: 2.5000e-04\n",
      "Epoch 34/50\n",
      "725/725 [==============================] - 6s 8ms/step - loss: 0.5183 - acc: 0.7422 - val_loss: 0.7043 - val_acc: 0.6091 - lr: 2.5000e-04\n",
      "Epoch 35/50\n",
      "725/725 [==============================] - 5s 8ms/step - loss: 0.5187 - acc: 0.7416 - val_loss: 0.6568 - val_acc: 0.6374 - lr: 2.5000e-04\n",
      "Epoch 36/50\n",
      "725/725 [==============================] - 5s 7ms/step - loss: 0.5205 - acc: 0.7398 - val_loss: 0.6714 - val_acc: 0.6297 - lr: 2.5000e-04\n",
      "Epoch 37/50\n",
      "725/725 [==============================] - 5s 7ms/step - loss: 0.5160 - acc: 0.7479 - val_loss: 0.6925 - val_acc: 0.6201 - lr: 1.2500e-04\n",
      "Epoch 38/50\n",
      "725/725 [==============================] - 5s 7ms/step - loss: 0.5117 - acc: 0.7455 - val_loss: 0.7004 - val_acc: 0.6194 - lr: 1.2500e-04\n",
      "Epoch 39/50\n",
      "725/725 [==============================] - 5s 7ms/step - loss: 0.5156 - acc: 0.7441 - val_loss: 0.6795 - val_acc: 0.6282 - lr: 1.2500e-04\n",
      "Epoch 40/50\n",
      "725/725 [==============================] - 5s 7ms/step - loss: 0.5150 - acc: 0.7458 - val_loss: 0.6716 - val_acc: 0.6275 - lr: 1.2500e-04\n",
      "Epoch 41/50\n",
      "725/725 [==============================] - 5s 7ms/step - loss: 0.5139 - acc: 0.7447 - val_loss: 0.7112 - val_acc: 0.6091 - lr: 1.2500e-04\n",
      "Epoch 42/50\n",
      "725/725 [==============================] - 5s 7ms/step - loss: 0.5116 - acc: 0.7484 - val_loss: 0.7106 - val_acc: 0.6205 - lr: 1.2500e-04\n",
      "Epoch 43/50\n",
      "725/725 [==============================] - 6s 8ms/step - loss: 0.5114 - acc: 0.7473 - val_loss: 0.6776 - val_acc: 0.6242 - lr: 1.2500e-04\n",
      "Epoch 44/50\n",
      "725/725 [==============================] - 5s 7ms/step - loss: 0.5141 - acc: 0.7432 - val_loss: 0.6825 - val_acc: 0.6176 - lr: 1.2500e-04\n",
      "Epoch 45/50\n",
      "725/725 [==============================] - 5s 7ms/step - loss: 0.5138 - acc: 0.7454 - val_loss: 0.6890 - val_acc: 0.6301 - lr: 1.2500e-04\n",
      "Epoch 46/50\n",
      "725/725 [==============================] - 5s 7ms/step - loss: 0.5126 - acc: 0.7437 - val_loss: 0.6806 - val_acc: 0.6190 - lr: 1.2500e-04\n",
      "Epoch 47/50\n",
      "725/725 [==============================] - 5s 8ms/step - loss: 0.5110 - acc: 0.7476 - val_loss: 0.6880 - val_acc: 0.6183 - lr: 1.0000e-04\n",
      "Epoch 48/50\n",
      "725/725 [==============================] - 5s 7ms/step - loss: 0.5082 - acc: 0.7510 - val_loss: 0.6789 - val_acc: 0.6286 - lr: 1.0000e-04\n",
      "Epoch 49/50\n",
      "725/725 [==============================] - 6s 8ms/step - loss: 0.5114 - acc: 0.7473 - val_loss: 0.6831 - val_acc: 0.6216 - lr: 1.0000e-04\n",
      "Epoch 50/50\n",
      "725/725 [==============================] - 5s 7ms/step - loss: 0.5111 - acc: 0.7468 - val_loss: 0.6792 - val_acc: 0.6168 - lr: 1.0000e-04\n"
     ]
    }
   ],
   "source": [
    "\n",
    "epochs = 50\n",
    "batch_size = 32\n",
    "\n",
    "callbacks = [\n",
    "    tf.keras.callbacks.ModelCheckpoint(\n",
    "        \"best_model.h5\", save_best_only=True, monitor=\"val_loss\"\n",
    "    ),\n",
    "    tf.keras.callbacks.ReduceLROnPlateau(\n",
    "        monitor=\"val_loss\", factor=0.5, patience=10, min_lr=0.0001\n",
    "    ),\n",
    "    tf.keras.callbacks.EarlyStopping(monitor=\"val_loss\", patience=50, verbose=1),\n",
    "]\n",
    "model.compile(\n",
    "    optimizer=tf.keras.optimizers.Adam(learning_rate=0.001),\n",
    "    #optimizer=opt,\n",
    "    loss=\"binary_crossentropy\",\n",
    "    metrics=[\"acc\"],\n",
    "    #metrics=[tf.keras.metrics.CategoricalAccuracy(name='acc')],\n",
    ")\n",
    "history = model.fit(\n",
    "    X_train,\n",
    "    np.array(y_train),\n",
    "    batch_size=batch_size,\n",
    "    epochs=epochs,\n",
    "    callbacks=callbacks,\n",
    "    validation_data=(X_val,np.array(y_val)),\n",
    "    verbose=1,\n",
    ")"
   ]
  },
  {
   "cell_type": "code",
   "execution_count": 83,
   "metadata": {
    "ExecuteTime": {
     "end_time": "2023-04-28T00:27:55.430900Z",
     "start_time": "2023-04-28T00:27:55.262906Z"
    }
   },
   "outputs": [
    {
     "data": {
      "image/png": "[encoded data removed]",
      "text/plain": [
       "<Figure size 2000x300 with 2 Axes>"
      ]
     },
     "metadata": {},
     "output_type": "display_data"
    }
   ],
   "source": [
    "fig, ax = plt.subplots(1, 2, figsize=(20, 3))\n",
    "ax = ax.ravel()\n",
    "\n",
    "for i, met in enumerate(['acc', 'loss']):\n",
    "    ax[i].plot(history.history[met])\n",
    "    ax[i].plot(history.history['val_' + met])\n",
    "    ax[i].set_title('Model {}'.format(met))\n",
    "    ax[i].set_xlabel('epochs')\n",
    "    ax[i].set_ylabel(met)\n",
    "    ax[i].legend(['train', 'val'])"
   ]
  },
  {
   "cell_type": "code",
   "execution_count": 84,
   "metadata": {
    "ExecuteTime": {
     "end_time": "2023-04-28T00:28:00.783797Z",
     "start_time": "2023-04-28T00:28:00.629042Z"
    },
    "colab": {
     "base_uri": "https://localhost:8080/"
    },
    "id": "NRjdR3E9M6bp",
    "outputId": "98b11c5c-2075-4da7-994b-8e29c8644a7c"
   },
   "outputs": [
    {
     "name": "stdout",
     "output_type": "stream",
     "text": [
      "Test loss: 0.6493598222732544\n",
      "Test accuracy: 0.6535652279853821\n"
     ]
    }
   ],
   "source": [
    "score = model.evaluate(X_test, y_test, verbose = 0) \n",
    "\n",
    "print('Test loss:', score[0]) \n",
    "print('Test accuracy:', score[1])"
   ]
  },
  {
   "cell_type": "code",
   "execution_count": 85,
   "metadata": {
    "ExecuteTime": {
     "end_time": "2023-04-28T00:28:07.155092Z",
     "start_time": "2023-04-28T00:28:06.967183Z"
    },
    "colab": {
     "base_uri": "https://localhost:8080/"
    },
    "id": "PYQLQItpOKBp",
    "outputId": "617b07c3-a5a4-45db-cce1-e3aa4dc1a1af"
   },
   "outputs": [
    {
     "name": "stdout",
     "output_type": "stream",
     "text": [
      "90/90 [==============================] - 0s 994us/step\n",
      "[[0.8162826 ]\n",
      " [0.5327546 ]\n",
      " [0.4725774 ]\n",
      " ...\n",
      " [0.6986229 ]\n",
      " [0.62127584]\n",
      " [0.13229485]]\n"
     ]
    }
   ],
   "source": [
    "pred = model.predict(X_test)\n",
    "print(pred)"
   ]
  },
  {
   "cell_type": "code",
   "execution_count": 86,
   "metadata": {
    "ExecuteTime": {
     "end_time": "2023-04-28T00:28:09.013688Z",
     "start_time": "2023-04-28T00:28:09.005706Z"
    },
    "id": "ZyOqTnS9W--A"
   },
   "outputs": [],
   "source": [
    "def check_max_pred(prd):\n",
    "  max=0\n",
    "  for i in prd:\n",
    "    if i[0] > max:\n",
    "      max = i[0]\n",
    "  print(max)"
   ]
  },
  {
   "cell_type": "code",
   "execution_count": 87,
   "metadata": {
    "ExecuteTime": {
     "end_time": "2023-04-28T00:28:09.528061Z",
     "start_time": "2023-04-28T00:28:09.516038Z"
    },
    "colab": {
     "base_uri": "https://localhost:8080/"
    },
    "id": "Vt9hHlHde5G2",
    "outputId": "1cc0fee9-11b4-4180-e3e5-16bb06bd316e"
   },
   "outputs": [
    {
     "name": "stdout",
     "output_type": "stream",
     "text": [
      "0.99783957\n"
     ]
    }
   ],
   "source": [
    "check_max_pred(pred)"
   ]
  },
  {
   "cell_type": "code",
   "execution_count": 88,
   "metadata": {
    "ExecuteTime": {
     "end_time": "2023-04-28T00:28:09.955896Z",
     "start_time": "2023-04-28T00:28:09.944538Z"
    },
    "id": "Dh7gibaQiOsw"
   },
   "outputs": [],
   "source": [
    "list_patient_rows = list(df_test.groupby(['patient_id'])['patient_id'].count())"
   ]
  },
  {
   "cell_type": "code",
   "execution_count": 89,
   "metadata": {
    "ExecuteTime": {
     "end_time": "2023-04-28T00:28:10.417035Z",
     "start_time": "2023-04-28T00:28:10.413809Z"
    },
    "id": "ByfsYZiaiqj3"
   },
   "outputs": [],
   "source": [
    "def cumulative(lists): \n",
    "    cu_list = [] \n",
    "    length = len(lists) \n",
    "    cu_list = [sum(lists[0:x:1]) for x in range(0, length+1)] \n",
    "    return cu_list[1:]"
   ]
  },
  {
   "cell_type": "code",
   "execution_count": 90,
   "metadata": {
    "ExecuteTime": {
     "end_time": "2023-04-28T00:28:10.800940Z",
     "start_time": "2023-04-28T00:28:10.757730Z"
    },
    "id": "FBeasPNClnpb"
   },
   "outputs": [],
   "source": [
    "pred_groupby_patient = np.split(pred,cumulative(list_patient_rows))\n",
    "pred_groupby_patient = pred_groupby_patient[:-1]\n",
    "\n",
    "df_test = df_test.astype({'murmur':'int'})\n",
    "y_test_grouped = df_test[['patient_id','murmur']].drop_duplicates()['murmur'].to_list()"
   ]
  },
  {
   "cell_type": "code",
   "execution_count": 91,
   "metadata": {
    "ExecuteTime": {
     "end_time": "2023-04-28T00:28:11.205485Z",
     "start_time": "2023-04-28T00:28:11.185055Z"
    },
    "id": "cKJrhB9QwQ3_"
   },
   "outputs": [],
   "source": [
    "def mean_pred(prediction):\n",
    "  pred = []\n",
    "  for i in prediction:\n",
    "    lst = [ j[0] for j in i]\n",
    "    avg = sum(lst)/len(lst)\n",
    "    if avg > 0.5:\n",
    "      pred.append(1)\n",
    "    else:\n",
    "      pred.append(0)\n",
    "  return pred\n",
    "\n",
    "def majority_pred(prediction):\n",
    "  pred = []\n",
    "  for i in prediction:\n",
    "    lst = [ j[0] for j in i]\n",
    "    if (sum(elem > 0.5 for elem in lst)) > (len(lst)/2):\n",
    "      pred.append(1)\n",
    "    else:\n",
    "      pred.append(0)\n",
    "  return pred\n"
   ]
  },
  {
   "cell_type": "code",
   "execution_count": 92,
   "metadata": {
    "ExecuteTime": {
     "end_time": "2023-04-28T00:28:11.938969Z",
     "start_time": "2023-04-28T00:28:11.925526Z"
    },
    "id": "TYCSAcHFzHLy"
   },
   "outputs": [],
   "source": [
    "pred1 = mean_pred(pred_groupby_patient)\n",
    "pred2 = majority_pred(pred_groupby_patient)\n",
    "\n"
   ]
  },
  {
   "cell_type": "code",
   "execution_count": 93,
   "metadata": {
    "ExecuteTime": {
     "end_time": "2023-04-28T00:28:12.669174Z",
     "start_time": "2023-04-28T00:28:12.654143Z"
    },
    "colab": {
     "base_uri": "https://localhost:8080/"
    },
    "id": "UoHq89-17e8x",
    "outputId": "de9a2982-fd6d-43c6-ee32-54ad1a9f6761"
   },
   "outputs": [
    {
     "name": "stdout",
     "output_type": "stream",
     "text": [
      "[0, 1, 1, 1, 1, 0, 0, 0, 1, 0, 1, 0, 0, 1, 0, 0, 0, 0, 1, 0, 1, 1, 0, 0, 1, 1, 1, 1, 1, 0, 1, 1, 1, 1, 0, 1]\n",
      "[0, 1, 1, 1, 1, 0, 0, 0, 1, 0, 1, 0, 0, 1, 0, 0, 0, 0, 1, 0, 1, 1, 0, 0, 1, 1, 1, 1, 1, 0, 1, 1, 1, 1, 0, 1]\n",
      "[0, 1, 1, 1, 0, 0, 0, 0, 1, 0, 0, 0, 0, 0, 0, 0, 0, 0, 0, 1, 0, 0, 0, 1, 1, 1, 0, 1, 1, 1, 1, 1, 1, 1, 1, 1]\n",
      "Accuracy score of mean_pred :  0.6944444444444444\n",
      "Accuracy score of majority_pred :  0.6944444444444444\n"
     ]
    }
   ],
   "source": [
    "print(pred1)\n",
    "print(pred2)\n",
    "print(y_test_grouped)\n",
    "print(\"Accuracy score of mean_pred : \",accuracy_score(pred1 , y_test_grouped))\n",
    "print(\"Accuracy score of majority_pred : \",accuracy_score(pred2 , y_test_grouped))"
   ]
  },
  {
   "cell_type": "code",
   "execution_count": 55,
   "metadata": {
    "id": "Va4k-0WH4FZw"
   },
   "outputs": [],
   "source": []
  },
  {
   "cell_type": "code",
   "execution_count": null,
   "metadata": {
    "id": "SO30vCJawoVq"
   },
   "outputs": [],
   "source": []
  }
 ],
 "metadata": {
  "colab": {
   "provenance": []
  },
  "gpuClass": "standard",
  "kernelspec": {
   "display_name": "Python 3 (ipykernel)",
   "language": "python",
   "name": "python3"
  },
  "language_info": {
   "codemirror_mode": {
    "name": "ipython",
    "version": 3
   },
   "file_extension": ".py",
   "mimetype": "text/x-python",
   "name": "python",
   "nbconvert_exporter": "python",
   "pygments_lexer": "ipython3",
   "version": "3.10.9"
  }
 },
 "nbformat": 4,
 "nbformat_minor": 1
}
