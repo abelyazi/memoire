{
 "cells": [
  {
   "cell_type": "code",
   "execution_count": null,
   "id": "gj-2bjWoVVnt",
   "metadata": {
    "colab": {
     "base_uri": "https://localhost:8080/"
    },
    "id": "gj-2bjWoVVnt",
    "outputId": "78fa62b9-012f-43ce-96f9-13d343095048"
   },
   "outputs": [
    {
     "name": "stdout",
     "output_type": "stream",
     "text": [
      "\u001b[0m\u001b[01;34mmaster_thesis\u001b[0m/  \u001b[01;34msample_data\u001b[0m/\n"
     ]
    }
   ],
   "source": [
    "ls"
   ]
  },
  {
   "cell_type": "code",
   "execution_count": null,
   "id": "xw4nL9PscATm",
   "metadata": {
    "colab": {
     "base_uri": "https://localhost:8080/"
    },
    "id": "xw4nL9PscATm",
    "outputId": "ba0fb419-40f3-4519-ad95-353e7357d158"
   },
   "outputs": [
    {
     "name": "stdout",
     "output_type": "stream",
     "text": [
      "fatal: destination path 'master_thesis' already exists and is not an empty directory.\n"
     ]
    }
   ],
   "source": [
    "!git clone https://github.com/abelyazi/master_thesis.git\n",
    "\n"
   ]
  },
  {
   "cell_type": "code",
   "execution_count": null,
   "id": "dff43604",
   "metadata": {
    "id": "dff43604"
   },
   "outputs": [],
   "source": [
    "import sys\n",
    "import tensorflow as tf\n",
    "import matplotlib.pyplot as plt\n",
    "from sklearn import metrics\n",
    "from sklearn.impute import SimpleImputer\n",
    "import numpy as np, scipy as sp, scipy.stats, os, sys, joblib\n",
    "import os, numpy as np, scipy as sp, scipy.io, scipy.io.wavfile\n",
    "from sklearn.ensemble import RandomForestClassifier\n",
    "from sklearn.model_selection import train_test_split\n",
    "import random"
   ]
  },
  {
   "cell_type": "code",
   "execution_count": null,
   "id": "6Yk23JwFwJXr",
   "metadata": {
    "id": "6Yk23JwFwJXr"
   },
   "outputs": [],
   "source": []
  },
  {
   "cell_type": "markdown",
   "id": "f34f1616",
   "metadata": {
    "id": "f34f1616"
   },
   "source": [
    "# Définition des fonctions utiles"
   ]
  },
  {
   "cell_type": "code",
   "execution_count": null,
   "id": "00c8049f",
   "metadata": {
    "id": "00c8049f"
   },
   "outputs": [],
   "source": [
    "# Check if a variable is a number or represents a number.\n",
    "def is_number(x):\n",
    "    try:\n",
    "        float(x)\n",
    "        return True\n",
    "    except (ValueError, TypeError):\n",
    "        return False\n",
    "\n",
    "# Check if a variable is an integer or represents an integer.\n",
    "def is_integer(x):\n",
    "    if is_number(x):\n",
    "        return float(x).is_integer()\n",
    "    else:\n",
    "        return False\n",
    "\n",
    "# Check if a variable is a a finite number or represents a finite number.\n",
    "def is_finite_number(x):\n",
    "    if is_number(x):\n",
    "        return np.isfinite(float(x))\n",
    "    else:\n",
    "        return False\n",
    "\n",
    "# Compare normalized strings.\n",
    "def compare_strings(x, y):\n",
    "    try:\n",
    "        return str(x).strip().casefold()==str(y).strip().casefold()\n",
    "    except AttributeError: # For Python 2.x compatibility\n",
    "        return str(x).strip().lower()==str(y).strip().lower()\n",
    "\n",
    "# Find patient data files.\n",
    "def find_patient_files(data_folder):\n",
    "    # Find patient files.\n",
    "    filenames = list()\n",
    "    for f in sorted(os.listdir(data_folder)):\n",
    "        root, extension = os.path.splitext(f)\n",
    "        if not root.startswith('.') and extension=='.txt':\n",
    "            filename = os.path.join(data_folder, f)\n",
    "            filenames.append(filename)\n",
    "\n",
    "    # To help with debugging, sort numerically if the filenames are integers.\n",
    "    roots = [os.path.split(filename)[1][:-4] for filename in filenames]\n",
    "    if all(is_integer(root) for root in roots):\n",
    "        filenames = sorted(filenames, key=lambda filename: int(os.path.split(filename)[1][:-4]))\n",
    "        \n",
    "    return filenames\n",
    "\n",
    "# Load patient data as a string.\n",
    "def load_patient_data(filename):\n",
    "    with open(filename, 'r') as f:\n",
    "        data = f.read()\n",
    "    return data\n",
    "\n",
    "# Load a WAV file.\n",
    "def load_wav_file(filename):\n",
    "    frequency, recording = sp.io.wavfile.read(filename)\n",
    "    return recording, frequency\n",
    "\n",
    "# Load recordings.\n",
    "def load_recordings_AV(data_folder, data, get_frequencies=False):\n",
    "    num_locations = get_num_locations(data)\n",
    "    recording_information = data.split('\\n')[1:num_locations+1]\n",
    "\n",
    "    recordings = list()\n",
    "    frequencies = list()\n",
    "    for i in range(num_locations):\n",
    "        entries = recording_information[i].split(' ')\n",
    "        recording_file = entries[2]\n",
    "        filename = os.path.join(data_folder, recording_file)\n",
    "        if 'AV.wav' in filename:\n",
    "            recording, frequency = load_wav_file(filename)\n",
    "            recordings.append(recording)\n",
    "            frequencies.append(frequency)\n",
    "\n",
    "    if get_frequencies:\n",
    "        return recordings, frequencies\n",
    "    else:\n",
    "        return recordings\n",
    "\n",
    "# Load recordings.\n",
    "def load_recordings(data_folder, data, get_frequencies=False):\n",
    "    num_locations = get_num_locations(data)\n",
    "    recording_information = data.split('\\n')[1:num_locations+1]\n",
    "\n",
    "    recordings = list()\n",
    "    frequencies = list()\n",
    "    for i in range(num_locations):\n",
    "        entries = recording_information[i].split(' ')\n",
    "        recording_file = entries[2]\n",
    "        filename = os.path.join(data_folder, recording_file)\n",
    "        recording, frequency = load_wav_file(filename)\n",
    "        recordings.append(recording)\n",
    "        frequencies.append(frequency)\n",
    "\n",
    "    if get_frequencies:\n",
    "        return recordings, frequencies\n",
    "    else:\n",
    "        return recordings\n",
    "\n",
    "# Get patient ID from patient data.\n",
    "def get_patient_id(data):\n",
    "    patient_id = None\n",
    "    for i, l in enumerate(data.split('\\n')):\n",
    "        if i==0:\n",
    "            try:\n",
    "                patient_id = l.split(' ')[0]\n",
    "            except:\n",
    "                pass\n",
    "        else:\n",
    "            break\n",
    "    return patient_id\n",
    "\n",
    "# Get number of recording locations from patient data.\n",
    "def get_num_locations(data):\n",
    "    num_locations = None\n",
    "    for i, l in enumerate(data.split('\\n')):\n",
    "        if i==0:\n",
    "            try:\n",
    "                num_locations = int(l.split(' ')[1])\n",
    "            except:\n",
    "                pass\n",
    "        else:\n",
    "            break\n",
    "    return num_locations\n",
    "\n",
    "# Get frequency from patient data.\n",
    "def get_frequency(data):\n",
    "    frequency = None\n",
    "    for i, l in enumerate(data.split('\\n')):\n",
    "        if i==0:\n",
    "            try:\n",
    "                frequency = float(l.split(' ')[2])\n",
    "            except:\n",
    "                pass\n",
    "        else:\n",
    "            break\n",
    "    return frequency\n",
    "\n",
    "# Get recording locations from patient data.\n",
    "def get_locations(data):\n",
    "    num_locations = get_num_locations(data)\n",
    "    locations = list()\n",
    "    for i, l in enumerate(data.split('\\n')):\n",
    "        entries = l.split(' ')\n",
    "        if i==0:\n",
    "            pass\n",
    "        elif 1<=i<=num_locations:\n",
    "            locations.append(entries[0])\n",
    "        else:\n",
    "            break\n",
    "    return locations\n",
    "\n",
    "# Get age from patient data.\n",
    "def get_age(data):\n",
    "    age = None\n",
    "    for l in data.split('\\n'):\n",
    "        if l.startswith('#Age:'):\n",
    "            try:\n",
    "                age = l.split(': ')[1].strip()\n",
    "            except:\n",
    "                pass\n",
    "    return age\n",
    "\n",
    "# Get sex from patient data.\n",
    "def get_sex(data):\n",
    "    sex = None\n",
    "    for l in data.split('\\n'):\n",
    "        if l.startswith('#Sex:'):\n",
    "            try:\n",
    "                sex = l.split(': ')[1].strip()\n",
    "            except:\n",
    "                pass\n",
    "    return sex\n",
    "\n",
    "# Get height from patient data.\n",
    "def get_height(data):\n",
    "    height = None\n",
    "    for l in data.split('\\n'):\n",
    "        if l.startswith('#Height:'):\n",
    "            try:\n",
    "                height = float(l.split(': ')[1].strip())\n",
    "            except:\n",
    "                pass\n",
    "    return height\n",
    "\n",
    "# Get weight from patient data.\n",
    "def get_weight(data):\n",
    "    weight = None\n",
    "    for l in data.split('\\n'):\n",
    "        if l.startswith('#Weight:'):\n",
    "            try:\n",
    "                weight = float(l.split(': ')[1].strip())\n",
    "            except:\n",
    "                pass\n",
    "    return weight\n",
    "\n",
    "# Get pregnancy status from patient data.\n",
    "def get_pregnancy_status(data):\n",
    "    is_pregnant = None\n",
    "    for l in data.split('\\n'):\n",
    "        if l.startswith('#Pregnancy status:'):\n",
    "            try:\n",
    "                is_pregnant = bool(sanitize_binary_value(l.split(': ')[1].strip()))\n",
    "            except:\n",
    "                pass\n",
    "    return is_pregnant\n",
    "\n",
    "# Get murmur from patient data.\n",
    "def get_murmur(data):\n",
    "    murmur = None\n",
    "    for l in data.split('\\n'):\n",
    "        if l.startswith('#Murmur:'):\n",
    "            try:\n",
    "                murmur = l.split(': ')[1]\n",
    "            except:\n",
    "                pass\n",
    "    if murmur is None:\n",
    "        raise ValueError('No murmur available. Is your code trying to load labels from the hidden data?')\n",
    "    return murmur\n",
    "\n",
    "# Get outcome from patient data.\n",
    "def get_outcome(data):\n",
    "    outcome = None\n",
    "    for l in data.split('\\n'):\n",
    "        if l.startswith('#Outcome:'):\n",
    "            try:\n",
    "                outcome = l.split(': ')[1]\n",
    "            except:\n",
    "                pass\n",
    "    if outcome is None:\n",
    "        raise ValueError('No outcome available. Is your code trying to load labels from the hidden data?')\n",
    "    return outcome\n",
    "\n",
    "# Sanitize binary values from Challenge outputs.\n",
    "def sanitize_binary_value(x):\n",
    "    x = str(x).replace('\"', '').replace(\"'\", \"\").strip() # Remove any quotes or invisible characters.\n",
    "    if (is_finite_number(x) and float(x)==1) or (x in ('True', 'true', 'T', 't')):\n",
    "        return 1\n",
    "    else:\n",
    "        return 0\n",
    "\n",
    "# Santize scalar values from Challenge outputs.\n",
    "def sanitize_scalar_value(x):\n",
    "    x = str(x).replace('\"', '').replace(\"'\", \"\").strip() # Remove any quotes or invisible characters.\n",
    "    if is_finite_number(x) or (is_number(x) and np.isinf(float(x))):\n",
    "        return float(x)\n",
    "    else:\n",
    "        return 0.0\n",
    "\n",
    "# Save Challenge outputs.\n",
    "def save_challenge_outputs(filename, patient_id, classes, labels, probabilities):\n",
    "    # Format Challenge outputs.\n",
    "    patient_string = '#{}'.format(patient_id)\n",
    "    class_string = ','.join(str(c) for c in classes)\n",
    "    label_string = ','.join(str(l) for l in labels)\n",
    "    probabilities_string = ','.join(str(p) for p in probabilities)\n",
    "    output_string = patient_string + '\\n' + class_string + '\\n' + label_string + '\\n' + probabilities_string + '\\n'\n",
    "\n",
    "    # Write the Challenge outputs.\n",
    "    with open(filename, 'w') as f:\n",
    "        f.write(output_string)\n",
    "\n",
    "# Load Challenge outputs.\n",
    "def load_challenge_outputs(filename):\n",
    "    with open(filename, 'r') as f:\n",
    "        for i, l in enumerate(f):\n",
    "            if i==0:\n",
    "                patient_id = l.replace('#', '').strip()\n",
    "            elif i==1:\n",
    "                classes = tuple(entry.strip() for entry in l.split(','))\n",
    "            elif i==2:\n",
    "                labels = tuple(sanitize_binary_value(entry) for entry in l.split(','))\n",
    "            elif i==3:\n",
    "                probabilities = tuple(sanitize_scalar_value(entry) for entry in l.split(','))\n",
    "            else:\n",
    "                break\n",
    "    return patient_id, classes, labels, probabilities\n",
    "# Extract features from the data.\n",
    "def get_features_wav(data, recordings):\n",
    "    \n",
    "    # Extract recording locations and data. Identify when a location is present, and compute the mean, variance, and skewness of\n",
    "    # each recording. If there are multiple recordings for one location, then extract features from the last recording.\n",
    "    locations = get_locations(data)\n",
    "\n",
    "    recording_locations = ['AV', 'MV', 'PV', 'TV', 'PhC']\n",
    "    num_recording_locations = len(recording_locations)\n",
    "    recording_features = np.zeros((num_recording_locations, 4), dtype=float)\n",
    "    num_locations = len(locations)\n",
    "    num_recordings = len(recordings)\n",
    "    if num_locations==num_recordings:\n",
    "        for i in range(num_locations):\n",
    "            for j in range(num_recording_locations):\n",
    "                if compare_strings(locations[i], recording_locations[j]) and np.size(recordings[i])>0:\n",
    "                    recording_features[j, 0] = 1\n",
    "                    recording_features[j, 1] = np.mean(recordings[i])\n",
    "                    recording_features[j, 2] = np.var(recordings[i])\n",
    "                    recording_features[j, 3] = sp.stats.skew(recordings[i])\n",
    "    recording_features = recording_features.flatten()\n",
    "\n",
    "    features = np.hstack(recording_features)\n",
    "\n",
    "    return np.asarray(features, dtype=np.float32)\n"
   ]
  },
  {
   "cell_type": "markdown",
   "id": "eac41752",
   "metadata": {
    "id": "eac41752"
   },
   "source": [
    "# Constants definition"
   ]
  },
  {
   "cell_type": "code",
   "execution_count": null,
   "id": "fd4fb5d8",
   "metadata": {
    "id": "fd4fb5d8"
   },
   "outputs": [],
   "source": [
    " # Define the data and model foldes.\n",
    "data_folder = \"master_thesis/training_data\"\n",
    "model_folder = \"master_thesis/model\"\n",
    "verbose = 3"
   ]
  },
  {
   "cell_type": "markdown",
   "id": "a1ab1942",
   "metadata": {
    "id": "a1ab1942"
   },
   "source": [
    "# Create train, val, test sets of AV signals"
   ]
  },
  {
   "cell_type": "code",
   "execution_count": null,
   "id": "41bb01a0",
   "metadata": {
    "id": "41bb01a0"
   },
   "outputs": [],
   "source": [
    "def create_train_test_1_recording(data_f):\n",
    "    # Find the patient data files.\n",
    "    patient_files = find_patient_files(data_f)\n",
    "    num_patient_files = len(patient_files)\n",
    "    \n",
    "    murmur_classes = ['Present', 'Absent']\n",
    "    num_murmur_classes = len(murmur_classes)\n",
    "    features = list()\n",
    "    murmurs = list()\n",
    "    #outcomes = list()\n",
    "    for i in range(400):\n",
    "        # Load the current patient data and recordings.\n",
    "        current_patient_data = load_patient_data(patient_files[i])\n",
    "        current_recordings = load_recordings_AV(data_folder, current_patient_data)\n",
    "    \n",
    "        # Extract features.\n",
    "        #current_features = get_features_wav(current_patient_data,current_recordings)\n",
    "        if len(current_recordings)!=0:\n",
    "            current_features = current_recordings[0] # we keep first element of a list of one element\n",
    "        \n",
    "\n",
    "        # Extract labels and use one-hot encoding.\n",
    "        #current_murmur = np.zeros(num_murmur_classes, dtype=int)\n",
    "        current_murmur = 0\n",
    "        murmur = get_murmur(current_patient_data)\n",
    "        #if murmur in murmur_classes:\n",
    "        if murmur == \"Present\":\n",
    "            #j = murmur_classes.index(murmur)\n",
    "            #current_murmur[j] = 1\n",
    "            current_murmur=1\n",
    "        \n",
    "        # Takes only in account patient that have a \"Present\" or \"Absent\" murmur.\n",
    "        if murmur != \"Unknown\" and len(current_recordings)!=0 :\n",
    "            murmurs.append(current_murmur)\n",
    "            features.append(current_features)\n",
    "    \n",
    "\n",
    "    #features = np.asarray(features, dtype=np.float32)\n",
    "    #murmurs = np.asarray(murmurs, dtype=np.float32)\n",
    "    \n",
    "\n",
    "    X_train, X_test, y_train, y_test = train_test_split(features, murmurs, test_size=0.15, random_state=42)\n",
    "    return X_train, X_test, y_train, y_test\n",
    "    #return np.array(features),np.array(murmurs)"
   ]
  },
  {
   "cell_type": "code",
   "execution_count": null,
   "id": "039059e6",
   "metadata": {
    "id": "039059e6"
   },
   "outputs": [],
   "source": [
    "X_train, X_test, y_train, y_test = create_train_test_1_recording(data_folder)\n",
    "#features,murmurs = create_train_test_1_recording(data_folder)"
   ]
  },
  {
   "cell_type": "code",
   "execution_count": null,
   "id": "QNo_1IrGgemN",
   "metadata": {
    "colab": {
     "base_uri": "https://localhost:8080/"
    },
    "id": "QNo_1IrGgemN",
    "outputId": "15167565-097c-4fdb-d0e7-7894ce6bebe0"
   },
   "outputs": [
    {
     "name": "stdout",
     "output_type": "stream",
     "text": [
      "253\n"
     ]
    }
   ],
   "source": [
    "print(len(y_train))"
   ]
  },
  {
   "cell_type": "code",
   "execution_count": null,
   "id": "zBfyimbTInyc",
   "metadata": {
    "colab": {
     "base_uri": "https://localhost:8080/"
    },
    "id": "zBfyimbTInyc",
    "outputId": "c8892231-fb6e-4bfc-9228-f99fb33d28f5"
   },
   "outputs": [
    {
     "data": {
      "text/plain": [
       "(array([  0,   9,  19,  20,  32,  36,  43,  49,  53,  55,  58,  61,  62,\n",
       "         64,  72,  74,  81,  86,  92,  94,  99, 102, 115, 121, 131, 132,\n",
       "        134, 135, 141, 145, 149, 150, 151, 170, 176, 188, 192, 201, 202,\n",
       "        205, 206, 212, 214, 215, 219, 220, 223, 225, 227, 237, 239, 240,\n",
       "        247]),)"
      ]
     },
     "execution_count": 99,
     "metadata": {},
     "output_type": "execute_result"
    }
   ],
   "source": [
    "ones = np.where(np.array(y_train)==1)\n",
    "zeros = np.where(np.array(y_train)==0)\n",
    "ones"
   ]
  },
  {
   "cell_type": "code",
   "execution_count": null,
   "id": "g8yGrwMYHGeb",
   "metadata": {
    "id": "g8yGrwMYHGeb"
   },
   "outputs": [],
   "source": [
    "def get_balanced_dataset(X,y):\n",
    "  ones = np.where(np.array(y)==1)\n",
    "  zeros = np.where(np.array(y)==0)\n",
    "  ones = ones[0]\n",
    "  zeros = zeros[0]\n",
    "  trunc = ones.shape[0] - zeros.shape[0]\n",
    "  zeros = zeros[:trunc]\n",
    "  new_X=[]\n",
    "  new_y=[]\n",
    "  for i in ones:\n",
    "    new_X.append(X[i])\n",
    "    new_y.append(y[i])\n",
    "  for j in zeros:\n",
    "    new_X.append(X[j])\n",
    "    new_y.append(y[j])\n",
    "  return new_X,new_y\n",
    "  "
   ]
  },
  {
   "cell_type": "code",
   "execution_count": null,
   "id": "Ya7Rguzlkm_C",
   "metadata": {
    "id": "Ya7Rguzlkm_C"
   },
   "outputs": [],
   "source": [
    "\n",
    "def shuffle_two_lists(X,y):\n",
    "  mapIndexPosition = list(zip(X, y))\n",
    "  random.shuffle(mapIndexPosition)\n",
    "  list1_X, list2_y = zip(*mapIndexPosition)\n",
    "  return list1_X, list2_y\n"
   ]
  },
  {
   "cell_type": "code",
   "execution_count": null,
   "id": "aKDH0shCmHkz",
   "metadata": {
    "id": "aKDH0shCmHkz"
   },
   "outputs": [],
   "source": [
    "X_train, y_train = get_balanced_dataset(X_train,y_train)\n",
    "X_train, y_train = shuffle_two_lists(X_train,y_train)\n"
   ]
  },
  {
   "cell_type": "code",
   "execution_count": null,
   "id": "uLpfN8zImOpc",
   "metadata": {
    "colab": {
     "base_uri": "https://localhost:8080/"
    },
    "id": "uLpfN8zImOpc",
    "outputId": "9a46c958-1837-4df8-ff22-d9b0946bd8c4"
   },
   "outputs": [
    {
     "name": "stdout",
     "output_type": "stream",
     "text": [
      "(0, 0, 0, 0, 1, 1, 0, 1, 1, 1, 0, 1, 0, 1, 1, 0, 0, 1, 1, 0, 1, 0, 1, 1, 0, 1, 0, 0, 1, 0, 1, 1, 1, 1, 0, 1, 1, 0, 1, 1, 0, 1, 1, 0, 0, 0, 0, 0, 1, 0, 0, 0, 1, 1, 0, 0, 1, 1, 0, 1, 0, 0, 1, 0, 0, 0, 0, 1, 0, 1, 1, 1, 1, 1, 0, 0, 0, 0, 0, 1, 1, 0, 1, 0, 1, 1, 0, 0, 1, 1, 0, 1, 0, 0, 0, 0, 1, 1, 1, 1, 1, 0, 1, 0, 0, 1)\n"
     ]
    }
   ],
   "source": [
    "print(y_train)"
   ]
  },
  {
   "cell_type": "code",
   "execution_count": null,
   "id": "d82df60d",
   "metadata": {
    "id": "d82df60d"
   },
   "outputs": [],
   "source": [
    "# convert array of int16 to float32\n",
    "def convert_to_float32(array):\n",
    "    new_array = []\n",
    "    for i in range(len(array)):\n",
    "        new_signal = np.asarray(array[i], dtype=np.float32)\n",
    "        new_array.append(new_signal)\n",
    "    return new_array"
   ]
  },
  {
   "cell_type": "code",
   "execution_count": null,
   "id": "ziEJa5LTh4wU",
   "metadata": {
    "id": "ziEJa5LTh4wU"
   },
   "outputs": [],
   "source": [
    "X_train = convert_to_float32(X_train)"
   ]
  },
  {
   "cell_type": "code",
   "execution_count": null,
   "id": "0157b269",
   "metadata": {
    "id": "0157b269"
   },
   "outputs": [],
   "source": [
    "def get_max_val(array):\n",
    "    max = -10000\n",
    "    for elem in array : \n",
    "        if np.max(elem) > max :\n",
    "            max = np.max(elem)\n",
    "    return max\n",
    "\n",
    "def get_min_val(array):\n",
    "    min = 10000\n",
    "    for elem in array : \n",
    "        if np.min(elem) < min :\n",
    "            min = np.min(elem)\n",
    "    return min\n",
    "\n",
    "def normalize_data(array,max,min):\n",
    "    new_array = []\n",
    "    for i in range(len(array)):\n",
    "        new_signal = (max - array[i])/(max-min)\n",
    "        new_array.append(new_signal)\n",
    "    return new_array"
   ]
  },
  {
   "cell_type": "code",
   "execution_count": null,
   "id": "a04b9bbf",
   "metadata": {
    "id": "a04b9bbf"
   },
   "outputs": [],
   "source": [
    "val_max = get_max_val(X_train)\n",
    "val_min = get_min_val(X_train)\n",
    "final = normalize_data(X_train,val_max,val_min)"
   ]
  },
  {
   "cell_type": "code",
   "execution_count": null,
   "id": "76e78b7d",
   "metadata": {
    "colab": {
     "base_uri": "https://localhost:8080/",
     "height": 265
    },
    "id": "76e78b7d",
    "outputId": "16fc32e1-e366-4f33-fc10-dd437b4df7b0"
   },
   "outputs": [
    {
     "data": {
      "image/png": "[encoded data removed]",
      "text/plain": [
       "<Figure size 432x288 with 1 Axes>"
      ]
     },
     "metadata": {
      "needs_background": "light"
     },
     "output_type": "display_data"
    }
   ],
   "source": [
    "plt.plot(final[54])\n",
    "plt.show()"
   ]
  },
  {
   "cell_type": "code",
   "execution_count": null,
   "id": "9043a688",
   "metadata": {
    "colab": {
     "base_uri": "https://localhost:8080/",
     "height": 265
    },
    "id": "9043a688",
    "outputId": "dd2f518b-860a-4d31-9b74-47311ca85304"
   },
   "outputs": [
    {
     "data": {
      "image/png": "[encoded data removed]",
      "text/plain": [
       "<Figure size 432x288 with 1 Axes>"
      ]
     },
     "metadata": {
      "needs_background": "light"
     },
     "output_type": "display_data"
    }
   ],
   "source": [
    "plt.plot(X_train[54])\n",
    "plt.show()"
   ]
  },
  {
   "cell_type": "code",
   "execution_count": null,
   "id": "0d92a0c2",
   "metadata": {
    "id": "0d92a0c2"
   },
   "outputs": [],
   "source": [
    "X_train = final"
   ]
  },
  {
   "cell_type": "code",
   "execution_count": null,
   "id": "b1cb7c5d",
   "metadata": {
    "id": "b1cb7c5d"
   },
   "outputs": [],
   "source": [
    "X_train = tf.keras.preprocessing.sequence.pad_sequences(\n",
    "    X_train, padding=\"post\",value=0,dtype=np.float32\n",
    ")\n",
    "X_train, X_valid, y_train, y_valid = train_test_split(X_train, y_train, test_size=0.1764,random_state=42)\n"
   ]
  },
  {
   "cell_type": "code",
   "execution_count": null,
   "id": "1304997a",
   "metadata": {
    "id": "1304997a"
   },
   "outputs": [],
   "source": [
    "X_train = np.vstack(X_train)\n",
    "X_valid = np.vstack(X_valid)\n",
    "#y_train = np.vstack(y_train)\n",
    "#y_valid = np.vstack(y_valid)"
   ]
  },
  {
   "cell_type": "code",
   "execution_count": null,
   "id": "7oNLP63DxdSu",
   "metadata": {
    "id": "7oNLP63DxdSu"
   },
   "outputs": [],
   "source": [
    "temp = np.array(y_train)"
   ]
  },
  {
   "cell_type": "code",
   "execution_count": null,
   "id": "CIwNXufe5uCj",
   "metadata": {
    "colab": {
     "base_uri": "https://localhost:8080/"
    },
    "id": "CIwNXufe5uCj",
    "outputId": "20721d73-49e1-49f2-ff1f-4d5b4a1b5671"
   },
   "outputs": [
    {
     "data": {
      "text/plain": [
       "0.4942528735632184"
      ]
     },
     "execution_count": 114,
     "metadata": {},
     "output_type": "execute_result"
    }
   ],
   "source": [
    "np.count_nonzero(temp)/np.size(temp)"
   ]
  },
  {
   "cell_type": "code",
   "execution_count": null,
   "id": "VIbLkk7unYUZ",
   "metadata": {
    "colab": {
     "base_uri": "https://localhost:8080/"
    },
    "id": "VIbLkk7unYUZ",
    "outputId": "2a01ca91-72a5-42d7-e4f6-de0849421c3a"
   },
   "outputs": [
    {
     "data": {
      "text/plain": [
       "44"
      ]
     },
     "execution_count": 115,
     "metadata": {},
     "output_type": "execute_result"
    }
   ],
   "source": [
    "np.size(temp) - np.count_nonzero(temp)"
   ]
  },
  {
   "cell_type": "code",
   "execution_count": null,
   "id": "ba59e6bf",
   "metadata": {
    "colab": {
     "base_uri": "https://localhost:8080/"
    },
    "id": "ba59e6bf",
    "outputId": "c61daf86-725e-4e91-e503-fdf0a8022257"
   },
   "outputs": [
    {
     "name": "stdout",
     "output_type": "stream",
     "text": [
      "235008\n"
     ]
    }
   ],
   "source": [
    "print(len(X_train[0]))"
   ]
  },
  {
   "cell_type": "code",
   "execution_count": null,
   "id": "a8ca2d4f",
   "metadata": {
    "colab": {
     "base_uri": "https://localhost:8080/"
    },
    "id": "a8ca2d4f",
    "outputId": "a61f64c0-4dd1-46bb-e951-bebece465171"
   },
   "outputs": [
    {
     "name": "stdout",
     "output_type": "stream",
     "text": [
      "235008\n",
      "235008\n"
     ]
    }
   ],
   "source": [
    "print(len(X_train[0]))\n",
    "print(len(X_train[1]))\n",
    "# LSTM reshape\n",
    "#X_train = X_train.reshape(len(X_train),1,len(X_train[1]))\n",
    "#X_valid = X_valid.reshape(len(X_valid),1,len(X_valid[1]))\n",
    "# CONV1D reshape\n",
    "X_train = X_train.reshape(len(X_train),len(X_train[1]),1)\n",
    "X_valid = X_valid.reshape(len(X_valid),len(X_valid[1]),1)\n",
    "#y_train = y_train.reshape(len(y_train),1)\n",
    "#y_valid = y_valid.reshape(len(y_valid),1)"
   ]
  },
  {
   "cell_type": "code",
   "execution_count": null,
   "id": "0YslSGH7N6F2",
   "metadata": {
    "id": "0YslSGH7N6F2"
   },
   "outputs": [],
   "source": [
    "X_test = tf.keras.preprocessing.sequence.pad_sequences(\n",
    "    X_test, padding=\"post\",value=0,dtype=np.float32\n",
    ")\n",
    "trunc = X_train.shape[1] - len(X_test[0])\n",
    "new_X_test = []\n",
    "for i in range(len(X_test)):\n",
    "  new_X_test.append(X_test[i][:trunc])\n",
    "\n",
    "X_test = np.vstack(new_X_test)\n",
    "X_test = X_test.reshape(len(X_test),len(X_test[1]),1)"
   ]
  },
  {
   "cell_type": "code",
   "execution_count": null,
   "id": "eab3c72a",
   "metadata": {
    "id": "eab3c72a"
   },
   "outputs": [],
   "source": [
    "def one_recording_model():\n",
    "    model = tf.keras.Sequential([\n",
    "        tf.keras.Input(shape=((152384,1))),\n",
    "        #tf.keras.layers.Masking(mask_value=-1),\n",
    "        \n",
    "        \n",
    "        tf.keras.layers.Conv1D(filters=32, kernel_size=3, padding=\"same\"),\n",
    "        tf.keras.layers.MaxPool1D(pool_size=(3,), strides=2, padding='same'),\n",
    "        \n",
    "        tf.keras.layers.Conv1D(filters=32, kernel_size=3, padding=\"same\"),\n",
    "        tf.keras.layers.MaxPool1D(pool_size=(3,), strides=2, padding='same'),\n",
    "        \n",
    "        tf.keras.layers.Conv1D(filters=32, kernel_size=3, padding=\"same\"),\n",
    "        tf.keras.layers.MaxPool1D(pool_size=(3,), strides=2, padding='same'),\n",
    "        #tf.keras.layers.BatchNormalization(),\n",
    "        #tf.keras.layers.ReLU(),\n",
    "\n",
    "        #tf.keras.layers.Conv1D(filters=64, kernel_size=3, padding=\"same\"),\n",
    "        #tf.keras.layers.BatchNormalization(),\n",
    "        #tf.keras.layers.ReLU(),\n",
    "    \n",
    "        #tf.keras.layers.Conv1D(filters=64, kernel_size=3, padding=\"same\"),\n",
    "        #tf.keras.layers.BatchNormalization(),\n",
    "        #tf.keras.layers.ReLU(),\n",
    "\n",
    "        #tf.keras.layers.GlobalAveragePooling1D(),\n",
    "\n",
    "        #tf.keras.Input(shape=((152384,1))),\n",
    "        #tf.keras.layers.Conv1D(6, kernel_size=(3,),activation='relu'),\n",
    "        #tf.keras.layers.Conv1D(64, kernel_size=(3,), activation='relu'),\n",
    "        #tf.keras.layers.MaxPool1D(pool_size=(3,), strides=2, padding='same'),\n",
    "        #tf.keras.layers.Dense(64, activation='relu'),\n",
    "        #tf.keras.layers.Dropout(0.3),\n",
    "        #tf.keras.layers.Flatten(),\n",
    "        #tf.keras.layers.LSTM(10),\n",
    "\n",
    "        tf.keras.layers.Dense(2, activation='softmax') \n",
    "    ])\n",
    "    return model"
   ]
  },
  {
   "cell_type": "code",
   "execution_count": null,
   "id": "8cb6a1ae",
   "metadata": {
    "id": "8cb6a1ae"
   },
   "outputs": [],
   "source": [
    "def make_model(input_shape):\n",
    "    input_layer = tf.keras.layers.Input(shape=(input_shape[0],input_shape[1]))\n",
    "    #input_layer = tf.keras.layers.Embedding(input_dim=input_shape[0], output_dim=input_shape[0], mask_zero=True)(input_layer)\n",
    "    #lstm1 = tf.keras.layers.LSTM(128)(input_layer)\n",
    "    #lstm1 = tf.keras.layers.Dropout(0.2)(lstm1)\n",
    "    #lstm2 = tf.keras.layers.LSTM(64)(lstm1)\n",
    "    #lstm2 = tf.keras.layers.Dropout(0.2)(lstm2)\n",
    "\n",
    "\n",
    "    \n",
    "    conv1 = tf.keras.layers.Conv1D(filters=64, kernel_size=3, padding=\"same\")(input_layer)\n",
    "    conv1 = tf.keras.layers.BatchNormalization()(conv1)\n",
    "    conv1 = tf.keras.layers.ReLU()(conv1)\n",
    "    #pool1 = tf.keras.layers.MaxPool1D(pool_size=(3,), padding='same')(conv1)\n",
    "\n",
    "\n",
    "\n",
    "    conv2 = tf.keras.layers.Conv1D(filters=128, kernel_size=3, padding=\"same\")(conv1)\n",
    "    conv2 = tf.keras.layers.BatchNormalization()(conv2)\n",
    "    conv2 = tf.keras.layers.ReLU()(conv2)\n",
    "    #pool2 = tf.keras.layers.MaxPool1D(pool_size=(3,), padding='same')(conv2)\n",
    "    \n",
    "    #input_conv = tf.keras.layers.Permute((2,1))(input_layer)\n",
    "    conv3 = tf.keras.layers.Conv1D(filters=64, kernel_size=3, padding=\"same\")(conv2)\n",
    "    conv3 = tf.keras.layers.BatchNormalization()(conv3)\n",
    "    conv3 = tf.keras.layers.ReLU()(conv3)\n",
    "\n",
    "    #gap = tf.keras.layers.GlobalAveragePooling1D()(conv3)\n",
    "\n",
    "    #concat = tf.keras.layers.Concatenate([lstm1,gap])\n",
    "    \n",
    "\n",
    "\n",
    "    #lstm = tf.keras.layers.LSTM(32,return_sequences=True)(conv3)\n",
    "\n",
    "    \n",
    "    gap = tf.keras.layers.GlobalAveragePooling1D()(conv3)\n",
    "\n",
    "    output_layer = tf.keras.layers.Dense(1, activation=\"sigmoid\")(gap)\n",
    "\n",
    "    return tf.keras.models.Model(inputs=input_layer, outputs=output_layer)\n",
    "\n",
    "\n",
    "model = make_model(input_shape=X_train.shape[1:])"
   ]
  },
  {
   "cell_type": "code",
   "execution_count": null,
   "id": "zJeBQqu9udLj",
   "metadata": {
    "colab": {
     "base_uri": "https://localhost:8080/"
    },
    "id": "zJeBQqu9udLj",
    "outputId": "3961a7de-6398-49f8-9355-b2cb8019a2ce"
   },
   "outputs": [
    {
     "name": "stdout",
     "output_type": "stream",
     "text": [
      "Model: \"model_2\"\n",
      "_________________________________________________________________\n",
      " Layer (type)                Output Shape              Param #   \n",
      "=================================================================\n",
      " input_4 (InputLayer)        [(None, 235008, 1)]       0         \n",
      "                                                                 \n",
      " conv1d_9 (Conv1D)           (None, 235008, 64)        256       \n",
      "                                                                 \n",
      " batch_normalization_9 (Batc  (None, 235008, 64)       256       \n",
      " hNormalization)                                                 \n",
      "                                                                 \n",
      " re_lu_9 (ReLU)              (None, 235008, 64)        0         \n",
      "                                                                 \n",
      " conv1d_10 (Conv1D)          (None, 235008, 128)       24704     \n",
      "                                                                 \n",
      " batch_normalization_10 (Bat  (None, 235008, 128)      512       \n",
      " chNormalization)                                                \n",
      "                                                                 \n",
      " re_lu_10 (ReLU)             (None, 235008, 128)       0         \n",
      "                                                                 \n",
      " conv1d_11 (Conv1D)          (None, 235008, 64)        24640     \n",
      "                                                                 \n",
      " batch_normalization_11 (Bat  (None, 235008, 64)       256       \n",
      " chNormalization)                                                \n",
      "                                                                 \n",
      " re_lu_11 (ReLU)             (None, 235008, 64)        0         \n",
      "                                                                 \n",
      " global_average_pooling1d_3   (None, 64)               0         \n",
      " (GlobalAveragePooling1D)                                        \n",
      "                                                                 \n",
      " dense_2 (Dense)             (None, 1)                 65        \n",
      "                                                                 \n",
      "=================================================================\n",
      "Total params: 50,689\n",
      "Trainable params: 50,177\n",
      "Non-trainable params: 512\n",
      "_________________________________________________________________\n"
     ]
    }
   ],
   "source": [
    "model.summary()"
   ]
  },
  {
   "cell_type": "code",
   "execution_count": null,
   "id": "NQSMeLYlz9UY",
   "metadata": {
    "colab": {
     "base_uri": "https://localhost:8080/"
    },
    "id": "NQSMeLYlz9UY",
    "outputId": "0162e6d8-851c-4ffe-d620-fef4668f949b"
   },
   "outputs": [
    {
     "name": "stderr",
     "output_type": "stream",
     "text": [
      "/usr/local/lib/python3.8/dist-packages/keras/optimizers/optimizer_v2/gradient_descent.py:114: UserWarning: The `lr` argument is deprecated, use `learning_rate` instead.\n",
      "  super().__init__(name, **kwargs)\n"
     ]
    }
   ],
   "source": [
    "from keras.optimizers import SGD\n",
    "opt = SGD(lr=0.01)"
   ]
  },
  {
   "cell_type": "code",
   "execution_count": null,
   "id": "a86011b0",
   "metadata": {
    "colab": {
     "base_uri": "https://localhost:8080/"
    },
    "id": "a86011b0",
    "outputId": "16d184ee-86c9-43dd-fdc8-8d1985a3ff8b"
   },
   "outputs": [
    {
     "name": "stdout",
     "output_type": "stream",
     "text": [
      "Epoch 1/20\n",
      "22/22 [==============================] - 8s 328ms/step - loss: 0.7050 - acc: 0.5057 - val_loss: 0.6858 - val_acc: 0.5263 - lr: 0.0100\n",
      "Epoch 2/20\n",
      "22/22 [==============================] - 7s 326ms/step - loss: 0.6907 - acc: 0.5172 - val_loss: 0.6873 - val_acc: 0.5789 - lr: 0.0100\n",
      "Epoch 3/20\n",
      "22/22 [==============================] - 7s 330ms/step - loss: 0.6865 - acc: 0.5402 - val_loss: 0.6858 - val_acc: 0.6316 - lr: 0.0100\n",
      "Epoch 4/20\n",
      "22/22 [==============================] - 7s 317ms/step - loss: 0.6858 - acc: 0.5747 - val_loss: 0.6837 - val_acc: 0.6316 - lr: 0.0100\n",
      "Epoch 5/20\n",
      "22/22 [==============================] - 7s 331ms/step - loss: 0.6834 - acc: 0.5862 - val_loss: 0.6801 - val_acc: 0.5789 - lr: 0.0100\n",
      "Epoch 6/20\n",
      "22/22 [==============================] - 7s 321ms/step - loss: 0.6859 - acc: 0.5632 - val_loss: 0.6776 - val_acc: 0.5263 - lr: 0.0100\n",
      "Epoch 7/20\n",
      "22/22 [==============================] - 7s 331ms/step - loss: 0.6945 - acc: 0.5862 - val_loss: 0.6788 - val_acc: 0.5263 - lr: 0.0100\n",
      "Epoch 8/20\n",
      "22/22 [==============================] - 7s 333ms/step - loss: 0.6874 - acc: 0.5172 - val_loss: 0.6730 - val_acc: 0.5263 - lr: 0.0100\n",
      "Epoch 9/20\n",
      "22/22 [==============================] - 7s 337ms/step - loss: 0.6751 - acc: 0.5977 - val_loss: 0.6693 - val_acc: 0.5263 - lr: 0.0100\n",
      "Epoch 10/20\n",
      "22/22 [==============================] - 7s 324ms/step - loss: 0.6797 - acc: 0.5977 - val_loss: 0.6661 - val_acc: 0.6842 - lr: 0.0100\n",
      "Epoch 11/20\n",
      "22/22 [==============================] - 7s 335ms/step - loss: 0.6702 - acc: 0.5977 - val_loss: 0.6649 - val_acc: 0.5789 - lr: 0.0100\n",
      "Epoch 12/20\n",
      "22/22 [==============================] - 7s 332ms/step - loss: 0.6859 - acc: 0.5172 - val_loss: 0.6686 - val_acc: 0.6316 - lr: 0.0100\n",
      "Epoch 13/20\n",
      "22/22 [==============================] - 7s 332ms/step - loss: 0.6862 - acc: 0.5747 - val_loss: 0.6727 - val_acc: 0.6316 - lr: 0.0100\n",
      "Epoch 14/20\n",
      "22/22 [==============================] - 7s 333ms/step - loss: 0.6866 - acc: 0.5402 - val_loss: 0.6691 - val_acc: 0.6316 - lr: 0.0100\n",
      "Epoch 15/20\n",
      "22/22 [==============================] - 7s 334ms/step - loss: 0.6770 - acc: 0.6437 - val_loss: 0.6666 - val_acc: 0.5789 - lr: 0.0100\n",
      "Epoch 16/20\n",
      "22/22 [==============================] - 7s 335ms/step - loss: 0.6802 - acc: 0.5977 - val_loss: 0.6674 - val_acc: 0.6316 - lr: 0.0100\n",
      "Epoch 17/20\n",
      "22/22 [==============================] - 7s 324ms/step - loss: 0.6855 - acc: 0.5517 - val_loss: 0.6657 - val_acc: 0.6316 - lr: 0.0100\n",
      "Epoch 18/20\n",
      "22/22 [==============================] - 7s 340ms/step - loss: 0.6783 - acc: 0.5632 - val_loss: 0.6615 - val_acc: 0.6316 - lr: 0.0100\n",
      "Epoch 19/20\n",
      "22/22 [==============================] - 7s 338ms/step - loss: 0.6887 - acc: 0.5172 - val_loss: 0.6617 - val_acc: 0.5789 - lr: 0.0100\n",
      "Epoch 20/20\n",
      "22/22 [==============================] - 7s 327ms/step - loss: 0.6798 - acc: 0.5632 - val_loss: 0.6636 - val_acc: 0.6316 - lr: 0.0100\n"
     ]
    }
   ],
   "source": [
    "epochs = 20\n",
    "batch_size = 4\n",
    "\n",
    "callbacks = [\n",
    "    tf.keras.callbacks.ModelCheckpoint(\n",
    "        \"best_model.h5\", save_best_only=True, monitor=\"val_loss\"\n",
    "    ),\n",
    "    tf.keras.callbacks.ReduceLROnPlateau(\n",
    "        monitor=\"val_loss\", factor=0.5, patience=20, min_lr=0.0001\n",
    "    ),\n",
    "    tf.keras.callbacks.EarlyStopping(monitor=\"val_loss\", patience=50, verbose=1),\n",
    "]\n",
    "model.compile(\n",
    "    #optimizer=\"adam\",\n",
    "    optimizer=opt,\n",
    "    loss=\"binary_crossentropy\",\n",
    "    metrics=[\"acc\"],\n",
    "    #metrics=[tf.keras.metrics.CategoricalAccuracy(name='acc')],\n",
    ")\n",
    "history = model.fit(\n",
    "    X_train,\n",
    "    np.array(y_train),\n",
    "    batch_size=batch_size,\n",
    "    epochs=epochs,\n",
    "    callbacks=callbacks,\n",
    "    validation_data=(X_valid,np.array(y_valid)),\n",
    "    verbose=1,\n",
    ")"
   ]
  },
  {
   "cell_type": "code",
   "execution_count": null,
   "id": "6acd6dcc",
   "metadata": {
    "colab": {
     "base_uri": "https://localhost:8080/"
    },
    "id": "6acd6dcc",
    "outputId": "42077371-1a59-419b-a00a-b94b72bffe3b"
   },
   "outputs": [
    {
     "name": "stdout",
     "output_type": "stream",
     "text": [
      "2/2 [==============================] - 1s 633ms/step\n",
      "[[6.59417128e-03]\n",
      " [3.38758241e-07]\n",
      " [5.59639046e-03]\n",
      " [2.11257294e-01]\n",
      " [9.77815017e-02]\n",
      " [1.10786967e-03]\n",
      " [1.68919805e-02]\n",
      " [1.26628254e-06]\n",
      " [5.32723367e-02]\n",
      " [2.21409991e-01]\n",
      " [3.86962644e-03]\n",
      " [3.54308460e-04]\n",
      " [7.23913684e-02]\n",
      " [9.69607790e-04]\n",
      " [1.24340062e-03]\n",
      " [1.06468014e-01]\n",
      " [7.09455693e-03]\n",
      " [1.87430754e-02]\n",
      " [4.04414525e-15]\n",
      " [8.75825572e-05]\n",
      " [1.86857687e-05]\n",
      " [1.46102663e-02]\n",
      " [8.40270426e-03]\n",
      " [1.79847973e-06]\n",
      " [1.20381117e-02]\n",
      " [4.20892575e-05]\n",
      " [4.14570346e-02]\n",
      " [1.88658293e-02]\n",
      " [3.08152637e-03]\n",
      " [1.43802108e-03]\n",
      " [1.60967140e-03]\n",
      " [1.62913710e-01]\n",
      " [1.52786365e-02]\n",
      " [1.00567872e-02]\n",
      " [4.84453551e-02]\n",
      " [7.58565888e-02]\n",
      " [1.40654268e-02]\n",
      " [7.33269304e-02]\n",
      " [1.61862688e-03]\n",
      " [4.99101169e-02]\n",
      " [6.29995689e-02]\n",
      " [3.36770690e-03]\n",
      " [2.46528210e-03]\n",
      " [1.46647579e-07]\n",
      " [3.02737877e-02]]\n"
     ]
    }
   ],
   "source": [
    "#model.evaluate(X_test)\n",
    "pred = model.predict(\n",
    "    X_test\n",
    ")\n",
    "print(pred)"
   ]
  },
  {
   "cell_type": "code",
   "execution_count": null,
   "id": "x9nQ9y0rjUqx",
   "metadata": {
    "colab": {
     "base_uri": "https://localhost:8080/"
    },
    "id": "x9nQ9y0rjUqx",
    "outputId": "206b8bf9-d5ac-488d-c2c1-3e9abec52680"
   },
   "outputs": [
    {
     "name": "stdout",
     "output_type": "stream",
     "text": [
      "[[0.63011134 0.3698887 ]\n",
      " [0.7834316  0.21656844]\n",
      " [0.63011134 0.3698887 ]\n",
      " [0.63011134 0.36988866]\n",
      " [0.63011134 0.3698887 ]\n",
      " [0.63011134 0.3698887 ]\n",
      " [0.63011134 0.36988866]\n",
      " [0.63011134 0.3698887 ]\n",
      " [0.63011134 0.3698887 ]\n",
      " [0.63011134 0.3698887 ]\n",
      " [0.63011134 0.3698887 ]\n",
      " [0.63011134 0.36988866]\n",
      " [0.63011134 0.3698887 ]\n",
      " [0.63011134 0.3698887 ]\n",
      " [0.63011134 0.3698887 ]\n",
      " [0.63011134 0.3698887 ]\n",
      " [0.63011134 0.3698887 ]\n",
      " [0.63011134 0.3698887 ]\n",
      " [0.63011134 0.3698887 ]\n",
      " [0.63011134 0.3698887 ]\n",
      " [0.63011134 0.3698887 ]\n",
      " [0.63011134 0.3698887 ]\n",
      " [0.63011134 0.3698887 ]\n",
      " [0.63011134 0.3698887 ]\n",
      " [0.63011134 0.3698887 ]\n",
      " [0.63011134 0.36988866]\n",
      " [0.63011134 0.3698887 ]\n",
      " [0.63011134 0.3698887 ]\n",
      " [0.63011134 0.3698887 ]\n",
      " [0.63011134 0.3698887 ]\n",
      " [0.63011134 0.3698887 ]\n",
      " [0.63011134 0.3698887 ]\n",
      " [0.63011134 0.3698887 ]\n",
      " [0.63011134 0.3698887 ]\n",
      " [0.63011134 0.3698887 ]\n",
      " [0.63011134 0.3698887 ]\n",
      " [0.63011134 0.3698887 ]\n",
      " [0.63011134 0.3698887 ]\n",
      " [0.63011134 0.3698887 ]\n",
      " [0.63011134 0.3698887 ]\n",
      " [0.63011134 0.3698887 ]\n",
      " [0.63011134 0.3698887 ]\n",
      " [0.63011134 0.3698887 ]\n",
      " [0.63011134 0.3698887 ]\n",
      " [0.63011134 0.3698887 ]]\n"
     ]
    }
   ],
   "source": [
    "print(pred)"
   ]
  },
  {
   "cell_type": "code",
   "execution_count": null,
   "id": "5OEtPsWyjVxy",
   "metadata": {
    "id": "5OEtPsWyjVxy"
   },
   "outputs": [],
   "source": []
  }
 ],
 "metadata": {
  "colab": {
   "collapsed_sections": [
    "f34f1616",
    "eac41752"
   ],
   "provenance": []
  },
  "gpuClass": "standard",
  "kernelspec": {
   "display_name": "Python 3 (ipykernel)",
   "language": "python",
   "name": "python3"
  },
  "language_info": {
   "codemirror_mode": {
    "name": "ipython",
    "version": 3
   },
   "file_extension": ".py",
   "mimetype": "text/x-python",
   "name": "python",
   "nbconvert_exporter": "python",
   "pygments_lexer": "ipython3",
   "version": "3.9.13"
  },
  "vscode": {
   "interpreter": {
    "hash": "1af4746c29405094662b643b47f1080a1f930bd3e7852f7cac4913a277b61fc2"
   }
  }
 },
 "nbformat": 4,
 "nbformat_minor": 5
}
