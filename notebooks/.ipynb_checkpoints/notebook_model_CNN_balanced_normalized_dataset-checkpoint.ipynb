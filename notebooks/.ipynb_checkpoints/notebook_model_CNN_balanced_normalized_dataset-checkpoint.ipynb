{
 "cells": [
  {
   "cell_type": "code",
   "execution_count": 2,
   "metadata": {
    "ExecuteTime": {
     "end_time": "2023-04-26T21:08:52.777174439Z",
     "start_time": "2023-04-26T21:08:51.507698849Z"
    }
   },
   "outputs": [
    {
     "name": "stdout",
     "output_type": "stream",
     "text": [
      "Num GPUs Available:  1\n"
     ]
    }
   ],
   "source": [
    "#check if GPU seen\n",
    "import tensorflow as tf\n",
    "print(\"Num GPUs Available: \", len(tf.config.list_physical_devices('GPU')))"
   ]
  },
  {
   "cell_type": "code",
   "execution_count": 3,
   "metadata": {
    "ExecuteTime": {
     "end_time": "2023-04-26T19:52:46.282583241Z",
     "start_time": "2023-04-26T19:52:46.063387714Z"
    }
   },
   "outputs": [],
   "source": [
    "import sys\n",
    "import tensorflow as tf\n",
    "import matplotlib.pyplot as plt\n",
    "from sklearn import metrics\n",
    "from sklearn.impute import SimpleImputer\n",
    "from sklearn.metrics import accuracy_score\n",
    "from sklearn.preprocessing import Normalizer\n",
    "from sklearn.preprocessing import MinMaxScaler\n",
    "import numpy as np, scipy as sp, scipy.stats, os, sys, joblib\n",
    "import os, numpy as np, scipy as sp, scipy.io, scipy.io.wavfile\n",
    "from sklearn.ensemble import RandomForestClassifier\n",
    "from sklearn.model_selection import train_test_split\n",
    "import random\n",
    "import pandas as pd"
   ]
  },
  {
   "cell_type": "code",
   "execution_count": 4,
   "metadata": {
    "ExecuteTime": {
     "end_time": "2023-04-26T19:52:49.206608599Z",
     "start_time": "2023-04-26T19:52:48.859571517Z"
    },
    "id": "jaM1gC4B37JJ"
   },
   "outputs": [],
   "source": [
    "path = r'df_complete_data.pkl'\n",
    "df = pd.read_pickle(path)"
   ]
  },
  {
   "cell_type": "code",
   "execution_count": 5,
   "metadata": {
    "ExecuteTime": {
     "end_time": "2023-04-26T19:52:50.205662032Z",
     "start_time": "2023-04-26T19:52:50.129529504Z"
    },
    "id": "P9HTtXrm78dV"
   },
   "outputs": [],
   "source": [
    "\n",
    "#check correctness of dataframe loaded\n",
    "for i in range(68261):\n",
    "  if len(df[\"recording\"][i]) != 4096:\n",
    "    print(\"problem sir\")"
   ]
  },
  {
   "cell_type": "code",
   "execution_count": 6,
   "metadata": {
    "ExecuteTime": {
     "end_time": "2023-04-26T19:52:50.812135313Z",
     "start_time": "2023-04-26T19:52:50.809604727Z"
    },
    "id": "fElXRT5T4a36"
   },
   "outputs": [],
   "source": [
    "new_df = df[['patient_id', 'murmur']]\n",
    "new_df = new_df.drop_duplicates()"
   ]
  },
  {
   "cell_type": "code",
   "execution_count": 7,
   "metadata": {
    "ExecuteTime": {
     "end_time": "2023-04-26T19:53:06.691263165Z",
     "start_time": "2023-04-26T19:53:06.647431337Z"
    },
    "id": "PHkvtE-h6uwl"
   },
   "outputs": [],
   "source": [
    "new_df = new_df.reset_index(drop=True)"
   ]
  },
  {
   "cell_type": "code",
   "execution_count": 8,
   "metadata": {
    "ExecuteTime": {
     "end_time": "2023-04-26T19:53:07.639644881Z",
     "start_time": "2023-04-26T19:53:07.636663319Z"
    },
    "colab": {
     "base_uri": "https://localhost:8080/"
    },
    "id": "6T9wZX1WyE83",
    "outputId": "5972f492-336f-4528-af8b-f91e0ec5ab9e"
   },
   "outputs": [
    {
     "name": "stdout",
     "output_type": "stream",
     "text": [
      "179\n",
      "695\n"
     ]
    }
   ],
   "source": [
    "nb_murmur_present = (new_df.loc[new_df['murmur'] == 1]).shape[0]\n",
    "nb_murmur_absent = (new_df.loc[new_df['murmur'] == 0]).shape[0]\n",
    "print(nb_murmur_present)\n",
    "print(nb_murmur_absent)"
   ]
  },
  {
   "cell_type": "code",
   "execution_count": 9,
   "metadata": {
    "ExecuteTime": {
     "end_time": "2023-04-26T19:53:08.953674740Z",
     "start_time": "2023-04-26T19:53:08.945309395Z"
    },
    "colab": {
     "base_uri": "https://localhost:8080/",
     "height": 424
    },
    "id": "mzg9rqHzxyal",
    "outputId": "8d7dead3-58b8-4c3c-e22d-21760128413f"
   },
   "outputs": [
    {
     "data": {
      "text/html": [
       "<div>\n",
       "<style scoped>\n",
       "    .dataframe tbody tr th:only-of-type {\n",
       "        vertical-align: middle;\n",
       "    }\n",
       "\n",
       "    .dataframe tbody tr th {\n",
       "        vertical-align: top;\n",
       "    }\n",
       "\n",
       "    .dataframe thead th {\n",
       "        text-align: right;\n",
       "    }\n",
       "</style>\n",
       "<table border=\"1\" class=\"dataframe\">\n",
       "  <thead>\n",
       "    <tr style=\"text-align: right;\">\n",
       "      <th></th>\n",
       "      <th>patient_id</th>\n",
       "      <th>murmur</th>\n",
       "    </tr>\n",
       "  </thead>\n",
       "  <tbody>\n",
       "    <tr>\n",
       "      <th>0</th>\n",
       "      <td>2530.0</td>\n",
       "      <td>0.0</td>\n",
       "    </tr>\n",
       "    <tr>\n",
       "      <th>1</th>\n",
       "      <td>9979.0</td>\n",
       "      <td>1.0</td>\n",
       "    </tr>\n",
       "    <tr>\n",
       "      <th>2</th>\n",
       "      <td>13918.0</td>\n",
       "      <td>1.0</td>\n",
       "    </tr>\n",
       "    <tr>\n",
       "      <th>3</th>\n",
       "      <td>14241.0</td>\n",
       "      <td>1.0</td>\n",
       "    </tr>\n",
       "    <tr>\n",
       "      <th>4</th>\n",
       "      <td>14998.0</td>\n",
       "      <td>0.0</td>\n",
       "    </tr>\n",
       "    <tr>\n",
       "      <th>...</th>\n",
       "      <td>...</td>\n",
       "      <td>...</td>\n",
       "    </tr>\n",
       "    <tr>\n",
       "      <th>869</th>\n",
       "      <td>85340.0</td>\n",
       "      <td>0.0</td>\n",
       "    </tr>\n",
       "    <tr>\n",
       "      <th>870</th>\n",
       "      <td>85341.0</td>\n",
       "      <td>0.0</td>\n",
       "    </tr>\n",
       "    <tr>\n",
       "      <th>871</th>\n",
       "      <td>85343.0</td>\n",
       "      <td>1.0</td>\n",
       "    </tr>\n",
       "    <tr>\n",
       "      <th>872</th>\n",
       "      <td>85345.0</td>\n",
       "      <td>0.0</td>\n",
       "    </tr>\n",
       "    <tr>\n",
       "      <th>873</th>\n",
       "      <td>85349.0</td>\n",
       "      <td>0.0</td>\n",
       "    </tr>\n",
       "  </tbody>\n",
       "</table>\n",
       "<p>874 rows × 2 columns</p>\n",
       "</div>"
      ],
      "text/plain": [
       "     patient_id  murmur\n",
       "0        2530.0     0.0\n",
       "1        9979.0     1.0\n",
       "2       13918.0     1.0\n",
       "3       14241.0     1.0\n",
       "4       14998.0     0.0\n",
       "..          ...     ...\n",
       "869     85340.0     0.0\n",
       "870     85341.0     0.0\n",
       "871     85343.0     1.0\n",
       "872     85345.0     0.0\n",
       "873     85349.0     0.0\n",
       "\n",
       "[874 rows x 2 columns]"
      ]
     },
     "execution_count": 9,
     "metadata": {},
     "output_type": "execute_result"
    }
   ],
   "source": [
    "new_df"
   ]
  },
  {
   "cell_type": "code",
   "execution_count": 10,
   "metadata": {
    "ExecuteTime": {
     "end_time": "2023-04-26T19:53:10.395678889Z",
     "start_time": "2023-04-26T19:53:10.392326143Z"
    },
    "id": "Un2S1LxU675v"
   },
   "outputs": [],
   "source": [
    "list_id = new_df['patient_id']\n",
    "list_label = new_df['murmur']"
   ]
  },
  {
   "cell_type": "code",
   "execution_count": 11,
   "metadata": {
    "ExecuteTime": {
     "end_time": "2023-04-26T19:53:10.979045487Z",
     "start_time": "2023-04-26T19:53:10.975525788Z"
    },
    "id": "MNAjMblwwWaG"
   },
   "outputs": [],
   "source": [
    "def get_balanced_dataset(X,y):\n",
    "  ones = np.where(np.array(y)==1)\n",
    "  zeros = np.where(np.array(y)==0)\n",
    "  ones = ones[0]\n",
    "  zeros = zeros[0]\n",
    "  trunc = ones.shape[0] - zeros.shape[0]\n",
    "  zeros = zeros[:trunc]\n",
    "  new_X=[]\n",
    "  new_y=[]\n",
    "  for i in ones:\n",
    "    new_X.append(X[i])\n",
    "    new_y.append(y[i])\n",
    "  for j in zeros:\n",
    "    new_X.append(X[j])\n",
    "    new_y.append(y[j])\n",
    "  return new_X,new_y"
   ]
  },
  {
   "cell_type": "code",
   "execution_count": 12,
   "metadata": {
    "ExecuteTime": {
     "end_time": "2023-04-26T19:53:11.669474088Z",
     "start_time": "2023-04-26T19:53:11.663690702Z"
    },
    "id": "a6O4idCkwaFz"
   },
   "outputs": [],
   "source": [
    "list_id,list_label = get_balanced_dataset(list_id,list_label)"
   ]
  },
  {
   "cell_type": "code",
   "execution_count": 13,
   "metadata": {
    "ExecuteTime": {
     "end_time": "2023-04-26T19:53:12.173071368Z",
     "start_time": "2023-04-26T19:53:12.169812800Z"
    },
    "id": "uR6aqz5g9oOj"
   },
   "outputs": [],
   "source": [
    "id_train, id_valtest, label_train, label_valtest = train_test_split(list_id, list_label , test_size=0.2, random_state=42)\n",
    "id_val, id_test, label_val, label_test = train_test_split(id_valtest, label_valtest , test_size=0.5, random_state=42)"
   ]
  },
  {
   "cell_type": "code",
   "execution_count": 14,
   "metadata": {
    "ExecuteTime": {
     "end_time": "2023-04-26T19:53:12.657511504Z",
     "start_time": "2023-04-26T19:53:12.652925115Z"
    },
    "id": "BlEJD1ce4H1O"
   },
   "outputs": [],
   "source": [
    "def select_rows(id_list,dframe):\n",
    "  #for id in list_id:\n",
    "  sub_df = df.loc[df['patient_id'].isin([int(id) for id in id_list])]\n",
    "  return sub_df\n",
    "\n",
    "df_train = select_rows(id_train,df)\n",
    "df_val = select_rows(id_val,df)\n",
    "df_test = select_rows(id_test,df)"
   ]
  },
  {
   "cell_type": "code",
   "execution_count": 15,
   "metadata": {
    "ExecuteTime": {
     "end_time": "2023-04-26T19:53:14.986337711Z",
     "start_time": "2023-04-26T19:53:14.260343969Z"
    },
    "id": "ExR_3iZf16CE"
   },
   "outputs": [],
   "source": [
    "train_raw = list(df_train['recording'])\n",
    "val_raw = list(df_val['recording'])\n",
    "test_raw = list(df_test['recording'])\n",
    "\n",
    "train_raw = [np.asarray(i,dtype='float32') for i in train_raw]\n",
    "val_raw = [np.asarray(i,dtype='float32') for i in val_raw]\n",
    "test_raw = [np.asarray(i,dtype='float32') for i in test_raw]\n",
    "\n",
    "scaler = MinMaxScaler()\n",
    "scaler.fit(train_raw)\n",
    "\n",
    "train_norm = scaler.transform(train_raw)\n",
    "val_norm = scaler.transform(val_raw)\n",
    "test_norm = scaler.transform(test_raw)\n",
    "\n",
    "\n",
    "\n"
   ]
  },
  {
   "cell_type": "code",
   "execution_count": 16,
   "metadata": {
    "ExecuteTime": {
     "end_time": "2023-04-26T19:53:16.012974456Z",
     "start_time": "2023-04-26T19:53:15.781806142Z"
    },
    "colab": {
     "base_uri": "https://localhost:8080/",
     "height": 521
    },
    "id": "vdw0CLfh7LZW",
    "outputId": "61a88cb1-e165-41c3-f284-35e7cba0471e"
   },
   "outputs": [
    {
     "data": {
      "text/plain": [
       "Text(0.5, 1.0, 'Normalized signal')"
      ]
     },
     "execution_count": 16,
     "metadata": {},
     "output_type": "execute_result"
    },
    {
     "data": {
      "image/png": "[encoded data removed]",
      "text/plain": [
       "<Figure size 640x480 with 4 Axes>"
      ]
     },
     "metadata": {},
     "output_type": "display_data"
    }
   ],
   "source": [
    "fig, axs = plt.subplots(2, 2)\n",
    "fig.tight_layout()\n",
    "axs[0, 0].plot(train_raw[54])\n",
    "axs[0, 0].set_title('Raw signal')\n",
    "axs[0, 1].plot(train_raw[55])\n",
    "axs[0, 1].set_title('Raw signal')\n",
    "axs[1, 0].plot(train_norm[54])\n",
    "axs[1, 0].set_title('Normalized signal')\n",
    "axs[1, 1].plot(train_norm[55])\n",
    "axs[1, 1].set_title('Normalized signal')"
   ]
  },
  {
   "cell_type": "code",
   "execution_count": 17,
   "metadata": {
    "ExecuteTime": {
     "end_time": "2023-04-26T19:53:18.104668124Z",
     "start_time": "2023-04-26T19:53:18.101886940Z"
    },
    "colab": {
     "base_uri": "https://localhost:8080/"
    },
    "id": "E2w-MxY1_ClQ",
    "outputId": "7cf9bb94-4c96-4bd6-dd29-a36e981d18fe"
   },
   "outputs": [
    {
     "data": {
      "text/plain": [
       "12317"
      ]
     },
     "execution_count": 17,
     "metadata": {},
     "output_type": "execute_result"
    }
   ],
   "source": [
    "(df_train.loc[df_train['murmur'] == 0]).shape[0]"
   ]
  },
  {
   "cell_type": "code",
   "execution_count": 18,
   "metadata": {
    "ExecuteTime": {
     "end_time": "2023-04-26T19:53:19.204615042Z",
     "start_time": "2023-04-26T19:53:19.061918671Z"
    },
    "id": "jfbOL3Un_ESV"
   },
   "outputs": [],
   "source": [
    "X_train = np.vstack(train_norm)\n",
    "y_train = np.array(df_train['murmur'])\n",
    "\n",
    "X_val = np.vstack(val_norm)\n",
    "y_val = np.array(df_val['murmur'])\n",
    "\n",
    "X_test = np.vstack(test_norm)\n",
    "y_test = np.array(df_test['murmur'])"
   ]
  },
  {
   "cell_type": "code",
   "execution_count": 19,
   "metadata": {
    "ExecuteTime": {
     "end_time": "2023-04-26T19:53:19.719420269Z",
     "start_time": "2023-04-26T19:53:19.676743349Z"
    },
    "id": "YAlU7MUoCi6r"
   },
   "outputs": [],
   "source": [
    "X_train = X_train.reshape(len(X_train),len(X_train[1]),1)\n",
    "X_val = X_val.reshape(len(X_val),len(X_val[1]),1)\n",
    "X_test = X_test.reshape(len(X_test),len(X_test[1]),1)"
   ]
  },
  {
   "cell_type": "code",
   "execution_count": null,
   "metadata": {},
   "outputs": [],
   "source": [
    "def make_model(input_shape):\n",
    "    input_layer = tf.keras.layers.Input(shape=(input_shape[0],input_shape[1]))\n",
    "    #input_layer = tf.keras.layers.Embedding(input_dim=input_shape[0], output_dim=input_shape[0], mask_zero=True)(input_layer)\n",
    "    #lstm1 = tf.keras.layers.LSTM(128)(input_layer)\n",
    "    #lstm1 = tf.keras.layers.Dropout(0.2)(lstm1)\n",
    "    #lstm2 = tf.keras.layers.LSTM(64)(lstm1)\n",
    "    #lstm2 = tf.keras.layers.Dropout(0.2)(lstm2)\n",
    "    conv1 = tf.keras.layers.Conv1D(filters=32, kernel_size=3, padding=\"same\")(input_layer)\n",
    "    conv1 = tf.keras.layers.BatchNormalization()(conv1)\n",
    "    conv1 = tf.keras.layers.ReLU()(conv1)\n",
    "    #pool1 = tf.keras.layers.MaxPool1D(pool_size=(3,), padding='same')(conv1)\n",
    "    conv2 = tf.keras.layers.Conv1D(filters=64, kernel_size=3, padding=\"same\")(conv1)\n",
    "    conv2 = tf.keras.layers.BatchNormalization()(conv2)\n",
    "    conv2 = tf.keras.layers.ReLU()(conv2)\n",
    "    #pool2 = tf.keras.layers.MaxPool1D(pool_size=(3,), padding='same')(conv2)\n",
    "    #input_conv = tf.keras.layers.Permute((2,1))(input_layer)\n",
    "    conv3 = tf.keras.layers.Conv1D(filters=128, kernel_size=3, padding=\"same\")(conv2)\n",
    "    conv3 = tf.keras.layers.BatchNormalization()(conv3)\n",
    "    conv3 = tf.keras.layers.ReLU()(conv3)\n",
    "\n",
    "    #gap = tf.keras.layers.GlobalAveragePooling1D()(conv3)\n",
    "    #concat = tf.keras.layers.Concatenate([lstm1,gap])\n",
    "    #lstm1 = tf.keras.layers.LSTM(32,return_sequences=True)(conv3)\n",
    "    #lstm1 = tf.keras.layers.Dropout(0.2)(lstm1)\n",
    "\n",
    "    #lstm1 = tf.keras.layers.LSTM(32,return_sequences=True)(lstm1)\n",
    "    #lstm1 = tf.keras.layers.Dropout(0.2)(lstm1)\n",
    "\n",
    "    gap = tf.keras.layers.GlobalAveragePooling1D()(conv3)\n",
    "\n",
    "    dense = tf.keras.layers.Dense(32, activation='relu')(gap)\n",
    "    dense = tf.keras.layers.BatchNormalization()(dense)\n",
    "    dense = tf.keras.layers.Dropout(0.125)(dense)\n",
    "\n",
    "    output_layer = tf.keras.layers.Dense(1, activation=\"sigmoid\")(dense)\n",
    "\n",
    "    return tf.keras.models.Model(inputs=input_layer, outputs=output_layer)\n",
    "\n",
    "\n",
    "model = make_model(input_shape=X_train.shape[1:])"
   ]
  },
  {
   "cell_type": "code",
   "execution_count": 19,
   "metadata": {
    "ExecuteTime": {
     "end_time": "2023-04-26T17:48:34.427672Z",
     "start_time": "2023-04-26T17:48:34.427230Z"
    }
   },
   "outputs": [
    {
     "name": "stdout",
     "output_type": "stream",
     "text": [
      "(4096, 1)\n"
     ]
    }
   ],
   "source": [
    "print(X_train.shape[1:])"
   ]
  },
  {
   "cell_type": "code",
   "execution_count": 19,
   "metadata": {
    "ExecuteTime": {
     "end_time": "2023-04-26T19:58:16.648133814Z",
     "start_time": "2023-04-26T19:58:16.186630828Z"
    },
    "id": "L4opRxvN_pmS"
   },
   "outputs": [
    {
     "name": "stderr",
     "output_type": "stream",
     "text": [
      "2023-04-26 21:58:16.189056: I tensorflow/compiler/xla/stream_executor/cuda/cuda_gpu_executor.cc:996] successful NUMA node read from SysFS had negative value (-1), but there must be at least one NUMA node, so returning NUMA node zero. See more at https://github.com/torvalds/linux/blob/v6.0/Documentation/ABI/testing/sysfs-bus-pci#L344-L355\n",
      "2023-04-26 21:58:16.189162: I tensorflow/compiler/xla/stream_executor/cuda/cuda_gpu_executor.cc:996] successful NUMA node read from SysFS had negative value (-1), but there must be at least one NUMA node, so returning NUMA node zero. See more at https://github.com/torvalds/linux/blob/v6.0/Documentation/ABI/testing/sysfs-bus-pci#L344-L355\n",
      "2023-04-26 21:58:16.189204: I tensorflow/compiler/xla/stream_executor/cuda/cuda_gpu_executor.cc:996] successful NUMA node read from SysFS had negative value (-1), but there must be at least one NUMA node, so returning NUMA node zero. See more at https://github.com/torvalds/linux/blob/v6.0/Documentation/ABI/testing/sysfs-bus-pci#L344-L355\n",
      "2023-04-26 21:58:16.490941: I tensorflow/compiler/xla/stream_executor/cuda/cuda_gpu_executor.cc:996] successful NUMA node read from SysFS had negative value (-1), but there must be at least one NUMA node, so returning NUMA node zero. See more at https://github.com/torvalds/linux/blob/v6.0/Documentation/ABI/testing/sysfs-bus-pci#L344-L355\n",
      "2023-04-26 21:58:16.491036: I tensorflow/compiler/xla/stream_executor/cuda/cuda_gpu_executor.cc:996] successful NUMA node read from SysFS had negative value (-1), but there must be at least one NUMA node, so returning NUMA node zero. See more at https://github.com/torvalds/linux/blob/v6.0/Documentation/ABI/testing/sysfs-bus-pci#L344-L355\n",
      "2023-04-26 21:58:16.491082: I tensorflow/compiler/xla/stream_executor/cuda/cuda_gpu_executor.cc:996] successful NUMA node read from SysFS had negative value (-1), but there must be at least one NUMA node, so returning NUMA node zero. See more at https://github.com/torvalds/linux/blob/v6.0/Documentation/ABI/testing/sysfs-bus-pci#L344-L355\n",
      "2023-04-26 21:58:16.491128: I tensorflow/core/common_runtime/gpu/gpu_device.cc:1635] Created device /job:localhost/replica:0/task:0/device:GPU:0 with 9993 MB memory:  -> device: 0, name: NVIDIA GeForce RTX 4070 Ti, pci bus id: 0000:01:00.0, compute capability: 8.9\n"
     ]
    }
   ],
   "source": [
    "def make_model(input_shape):\n",
    "    drop_rate = 0.2\n",
    "    input_layer = tf.keras.layers.Input(shape=(input_shape[0],input_shape[1]))\n",
    "    #input_layer = tf.keras.layers.Embedding(input_dim=input_shape[0], output_dim=input_shape[0], mask_zero=True)(input_layer)\n",
    "    #lstm1 = tf.keras.layers.LSTM(128)(input_layer)\n",
    "    #lstm1 = tf.keras.layers.Dropout(0.2)(lstm1)\n",
    "    #lstm2 = tf.keras.layers.LSTM(64)(lstm1)\n",
    "    #lstm2 = tf.keras.layers.Dropout(0.2)(lstm2)\n",
    "    conv1 = tf.keras.layers.Conv1D(filters=32, kernel_size=3, padding=\"same\",activation='relu')(input_layer)\n",
    "    conv1 = tf.keras.layers.BatchNormalization()(conv1)\n",
    "    #conv1 = tf.keras.layers.ReLU()(conv1)\n",
    "    conv1 = tf.keras.layers.MaxPool1D(2,padding=\"same\")(conv1)\n",
    "    conv1 = tf.keras.layers.Dropout(drop_rate)(conv1)\n",
    "\n",
    "\n",
    "    #pool1 = tf.keras.layers.MaxPool1D(pool_size=(3,), padding='same')(conv1)\n",
    "    conv2 = tf.keras.layers.Conv1D(filters=64, kernel_size=3, padding=\"same\",activation='relu')(conv1)\n",
    "    conv2 = tf.keras.layers.BatchNormalization()(conv2)\n",
    "    #conv2 = tf.keras.layers.ReLU()(conv2)\n",
    "    conv2 = tf.keras.layers.MaxPool1D(2, padding=\"same\")(conv2)\n",
    "    conv2 = tf.keras.layers.Dropout(drop_rate)(conv2)\n",
    "\n",
    "    #pool2 = tf.keras.layers.MaxPool1D(pool_size=(3,), padding='same')(conv2)\n",
    "    #input_conv = tf.keras.layers.Permute((2,1))(input_layer)\n",
    "    conv3 = tf.keras.layers.Conv1D(filters=128, kernel_size=3, padding=\"same\",activation='relu')(conv2)\n",
    "    conv3 = tf.keras.layers.BatchNormalization()(conv3)\n",
    "    #conv3 = tf.keras.layers.ReLU()(conv3)\n",
    "    conv3 = tf.keras.layers.MaxPool1D(2, padding=\"same\")(conv3)\n",
    "    conv3 = tf.keras.layers.Dropout(drop_rate)(conv3)\n",
    "\n",
    "\n",
    "\n",
    "    #gap = tf.keras.layers.GlobalAveragePooling1D()(conv3)\n",
    "    #concat = tf.keras.layers.Concatenate([lstm1,gap])\n",
    "    #lstm1 = tf.keras.layers.LSTM(32,return_sequences=True)(conv3)\n",
    "    #lstm1 = tf.keras.layers.Dropout(0.2)(lstm1)\n",
    "\n",
    "    #lstm1 = tf.keras.layers.LSTM(32,return_sequences=True)(lstm1)\n",
    "    #lstm1 = tf.keras.layers.Dropout(0.2)(lstm1)\n",
    "\n",
    "    #gap = tf.keras.layers.GlobalAveragePooling1D()(conv3)\n",
    "    dense = tf.keras.layers.Flatten()(conv3)\n",
    "\n",
    "    dense = tf.keras.layers.Dense(512, activation='relu')(dense)\n",
    "    dense = tf.keras.layers.BatchNormalization()(dense)\n",
    "    dense = tf.keras.layers.Dropout(0.5)(dense)\n",
    "\n",
    "    dense = tf.keras.layers.Dense(256, activation='relu')(dense)\n",
    "    dense = tf.keras.layers.BatchNormalization()(dense)\n",
    "    dense = tf.keras.layers.Dropout(0.4)(dense)\n",
    "\n",
    "    dense = tf.keras.layers.Dense(32, activation='relu')(dense)\n",
    "    dense = tf.keras.layers.BatchNormalization()(dense)\n",
    "    dense = tf.keras.layers.Dropout(0.3)(dense)\n",
    "\n",
    "    output_layer = tf.keras.layers.Dense(1, activation=\"sigmoid\")(dense)\n",
    "\n",
    "    return tf.keras.models.Model(inputs=input_layer, outputs=output_layer)\n",
    "\n",
    "\n",
    "model = make_model(input_shape=X_train.shape[1:])"
   ]
  },
  {
   "cell_type": "code",
   "execution_count": 19,
   "metadata": {
    "ExecuteTime": {
     "end_time": "2023-04-26T19:58:18.376710718Z",
     "start_time": "2023-04-26T19:58:18.374064249Z"
    }
   },
   "outputs": [],
   "source": []
  },
  {
   "cell_type": "code",
   "execution_count": 20,
   "metadata": {
    "ExecuteTime": {
     "end_time": "2023-04-26T19:58:19.607771889Z",
     "start_time": "2023-04-26T19:58:19.554515620Z"
    },
    "colab": {
     "base_uri": "https://localhost:8080/"
    },
    "id": "f_gayKfl_qdh",
    "outputId": "f2595c5e-bc98-40b3-c221-4c52df69f1cb"
   },
   "outputs": [
    {
     "name": "stdout",
     "output_type": "stream",
     "text": [
      "Model: \"model\"\n",
      "_________________________________________________________________\n",
      " Layer (type)                Output Shape              Param #   \n",
      "=================================================================\n",
      " input_1 (InputLayer)        [(None, 4096, 1)]         0         \n",
      "                                                                 \n",
      " conv1d (Conv1D)             (None, 4096, 32)          128       \n",
      "                                                                 \n",
      " batch_normalization (BatchN  (None, 4096, 32)         128       \n",
      " ormalization)                                                   \n",
      "                                                                 \n",
      " max_pooling1d (MaxPooling1D  (None, 2048, 32)         0         \n",
      " )                                                               \n",
      "                                                                 \n",
      " dropout (Dropout)           (None, 2048, 32)          0         \n",
      "                                                                 \n",
      " conv1d_1 (Conv1D)           (None, 2048, 64)          6208      \n",
      "                                                                 \n",
      " batch_normalization_1 (Batc  (None, 2048, 64)         256       \n",
      " hNormalization)                                                 \n",
      "                                                                 \n",
      " max_pooling1d_1 (MaxPooling  (None, 1024, 64)         0         \n",
      " 1D)                                                             \n",
      "                                                                 \n",
      " dropout_1 (Dropout)         (None, 1024, 64)          0         \n",
      "                                                                 \n",
      " conv1d_2 (Conv1D)           (None, 1024, 128)         24704     \n",
      "                                                                 \n",
      " batch_normalization_2 (Batc  (None, 1024, 128)        512       \n",
      " hNormalization)                                                 \n",
      "                                                                 \n",
      " max_pooling1d_2 (MaxPooling  (None, 512, 128)         0         \n",
      " 1D)                                                             \n",
      "                                                                 \n",
      " dropout_2 (Dropout)         (None, 512, 128)          0         \n",
      "                                                                 \n",
      " flatten (Flatten)           (None, 65536)             0         \n",
      "                                                                 \n",
      " dense (Dense)               (None, 512)               33554944  \n",
      "                                                                 \n",
      " batch_normalization_3 (Batc  (None, 512)              2048      \n",
      " hNormalization)                                                 \n",
      "                                                                 \n",
      " dropout_3 (Dropout)         (None, 512)               0         \n",
      "                                                                 \n",
      " dense_1 (Dense)             (None, 256)               131328    \n",
      "                                                                 \n",
      " batch_normalization_4 (Batc  (None, 256)              1024      \n",
      " hNormalization)                                                 \n",
      "                                                                 \n",
      " dropout_4 (Dropout)         (None, 256)               0         \n",
      "                                                                 \n",
      " dense_2 (Dense)             (None, 32)                8224      \n",
      "                                                                 \n",
      " batch_normalization_5 (Batc  (None, 32)               128       \n",
      " hNormalization)                                                 \n",
      "                                                                 \n",
      " dropout_5 (Dropout)         (None, 32)                0         \n",
      "                                                                 \n",
      " dense_3 (Dense)             (None, 1)                 33        \n",
      "                                                                 \n",
      "=================================================================\n",
      "Total params: 33,729,665\n",
      "Trainable params: 33,727,617\n",
      "Non-trainable params: 2,048\n",
      "_________________________________________________________________\n"
     ]
    }
   ],
   "source": [
    "model.summary()"
   ]
  },
  {
   "cell_type": "code",
   "execution_count": 21,
   "metadata": {
    "ExecuteTime": {
     "end_time": "2023-04-26T19:59:38.899524833Z",
     "start_time": "2023-04-26T19:58:27.330946492Z"
    },
    "colab": {
     "base_uri": "https://localhost:8080/"
    },
    "id": "hyYFCrlJEGsk",
    "outputId": "88881891-6e84-430f-9fb5-d8b6a06154e5"
   },
   "outputs": [
    {
     "name": "stdout",
     "output_type": "stream",
     "text": [
      "Epoch 1/100\n"
     ]
    },
    {
     "name": "stderr",
     "output_type": "stream",
     "text": [
      "2023-04-26 21:58:28.905826: I tensorflow/compiler/xla/stream_executor/cuda/cuda_dnn.cc:424] Loaded cuDNN version 8600\n",
      "2023-04-26 21:58:29.221829: I tensorflow/tsl/platform/default/subprocess.cc:304] Start cannot spawn child process: No such file or directory\n",
      "2023-04-26 21:58:29.288394: I tensorflow/compiler/xla/stream_executor/cuda/cuda_blas.cc:637] TensorFloat-32 will be used for the matrix multiplication. This will only be logged once.\n",
      "2023-04-26 21:58:29.290446: I tensorflow/compiler/xla/service/service.cc:169] XLA service 0x55e05fe54d20 initialized for platform CUDA (this does not guarantee that XLA will be used). Devices:\n",
      "2023-04-26 21:58:29.290454: I tensorflow/compiler/xla/service/service.cc:177]   StreamExecutor device (0): NVIDIA GeForce RTX 4070 Ti, Compute Capability 8.9\n",
      "2023-04-26 21:58:29.293022: I tensorflow/compiler/mlir/tensorflow/utils/dump_mlir_util.cc:269] disabling MLIR crash reproducer, set env var `MLIR_CRASH_REPRODUCER_DIRECTORY` to enable.\n",
      "2023-04-26 21:58:29.329662: I tensorflow/tsl/platform/default/subprocess.cc:304] Start cannot spawn child process: No such file or directory\n",
      "2023-04-26 21:58:29.359207: I ./tensorflow/compiler/jit/device_compiler.h:180] Compiled cluster using XLA!  This line is logged at most once for the lifetime of the process.\n"
     ]
    },
    {
     "name": "stdout",
     "output_type": "stream",
     "text": [
      "725/725 [==============================] - 10s 10ms/step - loss: 0.8280 - acc: 0.5796 - val_loss: 0.6394 - val_acc: 0.6631 - lr: 1.0000e-05\n",
      "Epoch 2/100\n",
      "725/725 [==============================] - 6s 8ms/step - loss: 0.7797 - acc: 0.5953 - val_loss: 0.6482 - val_acc: 0.6558 - lr: 1.0000e-05\n",
      "Epoch 3/100\n",
      "725/725 [==============================] - 6s 8ms/step - loss: 0.7579 - acc: 0.6021 - val_loss: 0.6451 - val_acc: 0.6598 - lr: 1.0000e-05\n",
      "Epoch 4/100\n",
      "725/725 [==============================] - 6s 8ms/step - loss: 0.7260 - acc: 0.6160 - val_loss: 0.6492 - val_acc: 0.6583 - lr: 1.0000e-05\n",
      "Epoch 5/100\n",
      "725/725 [==============================] - 6s 8ms/step - loss: 0.7197 - acc: 0.6163 - val_loss: 0.6564 - val_acc: 0.6627 - lr: 1.0000e-05\n",
      "Epoch 6/100\n",
      "725/725 [==============================] - 6s 8ms/step - loss: 0.7065 - acc: 0.6262 - val_loss: 0.6539 - val_acc: 0.6503 - lr: 1.0000e-05\n",
      "Epoch 7/100\n",
      "725/725 [==============================] - 6s 8ms/step - loss: 0.7008 - acc: 0.6321 - val_loss: 0.6598 - val_acc: 0.6481 - lr: 1.0000e-05\n",
      "Epoch 8/100\n",
      "725/725 [==============================] - 6s 9ms/step - loss: 0.6925 - acc: 0.6341 - val_loss: 0.6671 - val_acc: 0.6278 - lr: 1.0000e-05\n",
      "Epoch 9/100\n",
      "725/725 [==============================] - 6s 8ms/step - loss: 0.6896 - acc: 0.6373 - val_loss: 0.6629 - val_acc: 0.6396 - lr: 1.0000e-05\n",
      "Epoch 10/100\n",
      "725/725 [==============================] - 6s 8ms/step - loss: 0.6749 - acc: 0.6455 - val_loss: 0.6581 - val_acc: 0.6308 - lr: 1.0000e-05\n",
      "Epoch 11/100\n",
      "725/725 [==============================] - 6s 8ms/step - loss: 0.6653 - acc: 0.6461 - val_loss: 0.6505 - val_acc: 0.6514 - lr: 1.0000e-05\n",
      "Epoch 11: early stopping\n"
     ]
    }
   ],
   "source": [
    "\n",
    "epochs = 100\n",
    "batch_size = 32\n",
    "\n",
    "callbacks = [\n",
    "    tf.keras.callbacks.ModelCheckpoint(\n",
    "        \"best_model.h5\", save_best_only=True, monitor=\"val_loss\"\n",
    "    ),\n",
    "    tf.keras.callbacks.ReduceLROnPlateau(\n",
    "        monitor=\"val_loss\", factor=0.5, patience=10, min_lr=0.00001\n",
    "    ),\n",
    "    tf.keras.callbacks.EarlyStopping(monitor=\"val_loss\", patience=10, verbose=1),\n",
    "]\n",
    "model.compile(\n",
    "    optimizer=tf.keras.optimizers.Adam(learning_rate=0.00001),\n",
    "    #optimizer=opt,\n",
    "    loss=\"binary_crossentropy\",\n",
    "    metrics=[\"acc\"],\n",
    "    #metrics=[tf.keras.metrics.CategoricalAccuracy(name='acc')],\n",
    ")\n",
    "history = model.fit(\n",
    "    X_train,\n",
    "    np.array(y_train),\n",
    "    batch_size=batch_size,\n",
    "    epochs=epochs,\n",
    "    callbacks=callbacks,\n",
    "    validation_data=(X_val,np.array(y_val)),\n",
    "    verbose=1,\n",
    ")"
   ]
  },
  {
   "cell_type": "code",
   "execution_count": 22,
   "metadata": {
    "ExecuteTime": {
     "end_time": "2023-04-26T20:00:59.671254061Z",
     "start_time": "2023-04-26T20:00:59.549386083Z"
    },
    "id": "DRLH6AmXN88D"
   },
   "outputs": [
    {
     "data": {
      "image/png": "[encoded data removed]",
      "text/plain": [
       "<Figure size 2000x300 with 2 Axes>"
      ]
     },
     "metadata": {},
     "output_type": "display_data"
    }
   ],
   "source": [
    "fig, ax = plt.subplots(1, 2, figsize=(20, 3))\n",
    "ax = ax.ravel()\n",
    "\n",
    "for i, met in enumerate(['acc', 'loss']):\n",
    "    ax[i].plot(history.history[met])\n",
    "    ax[i].plot(history.history['val_' + met])\n",
    "    ax[i].set_title('Model {}'.format(met))\n",
    "    ax[i].set_xlabel('epochs')\n",
    "    ax[i].set_ylabel(met)\n",
    "    ax[i].legend(['train', 'val'])"
   ]
  },
  {
   "cell_type": "code",
   "execution_count": 23,
   "metadata": {
    "ExecuteTime": {
     "end_time": "2023-04-26T20:01:02.216439167Z",
     "start_time": "2023-04-26T20:01:01.982990143Z"
    },
    "id": "NRjdR3E9M6bp"
   },
   "outputs": [
    {
     "name": "stdout",
     "output_type": "stream",
     "text": [
      "Test loss: 0.7262147665023804\n",
      "Test accuracy: 0.5123478174209595\n"
     ]
    }
   ],
   "source": [
    "score = model.evaluate(X_test, y_test, verbose = 0) \n",
    "\n",
    "print('Test loss:', score[0]) \n",
    "print('Test accuracy:', score[1])"
   ]
  },
  {
   "cell_type": "code",
   "execution_count": 24,
   "metadata": {
    "ExecuteTime": {
     "end_time": "2023-04-26T20:01:05.903287863Z",
     "start_time": "2023-04-26T20:01:05.626754675Z"
    },
    "id": "PYQLQItpOKBp"
   },
   "outputs": [
    {
     "name": "stdout",
     "output_type": "stream",
     "text": [
      "90/90 [==============================] - 0s 1ms/step\n",
      "[[0.6021533 ]\n",
      " [0.6111838 ]\n",
      " [0.48989064]\n",
      " ...\n",
      " [0.46068826]\n",
      " [0.58765644]\n",
      " [0.33523247]]\n"
     ]
    }
   ],
   "source": [
    "pred = model.predict(X_test)\n",
    "print(pred)"
   ]
  },
  {
   "cell_type": "code",
   "execution_count": 25,
   "metadata": {
    "ExecuteTime": {
     "end_time": "2023-04-26T20:01:06.075445048Z",
     "start_time": "2023-04-26T20:01:06.075195554Z"
    },
    "id": "ZyOqTnS9W--A"
   },
   "outputs": [],
   "source": [
    "def check_max_pred(prd):\n",
    "  max=0\n",
    "  for i in prd:\n",
    "    if i[0] > max:\n",
    "      max = i[0]\n",
    "  print(max)"
   ]
  },
  {
   "cell_type": "code",
   "execution_count": 26,
   "metadata": {
    "ExecuteTime": {
     "end_time": "2023-04-26T20:01:06.523409146Z",
     "start_time": "2023-04-26T20:01:06.480211717Z"
    },
    "id": "Vt9hHlHde5G2"
   },
   "outputs": [
    {
     "name": "stdout",
     "output_type": "stream",
     "text": [
      "0.9865182\n"
     ]
    }
   ],
   "source": [
    "check_max_pred(pred)"
   ]
  },
  {
   "cell_type": "code",
   "execution_count": 27,
   "metadata": {
    "ExecuteTime": {
     "end_time": "2023-04-26T20:01:07.011241914Z",
     "start_time": "2023-04-26T20:01:06.968220337Z"
    },
    "id": "Dh7gibaQiOsw"
   },
   "outputs": [],
   "source": [
    "list_patient_rows = list(df_test.groupby(['patient_id'])['patient_id'].count())"
   ]
  },
  {
   "cell_type": "code",
   "execution_count": 28,
   "metadata": {
    "ExecuteTime": {
     "end_time": "2023-04-26T20:01:07.455397513Z",
     "start_time": "2023-04-26T20:01:07.410329682Z"
    },
    "id": "ByfsYZiaiqj3",
    "pycharm": {
     "is_executing": true
    }
   },
   "outputs": [],
   "source": [
    "def cumulative(lists): \n",
    "    cu_list = [] \n",
    "    length = len(lists) \n",
    "    cu_list = [sum(lists[0:x:1]) for x in range(0, length+1)] \n",
    "    return cu_list[1:]"
   ]
  },
  {
   "cell_type": "code",
   "execution_count": 29,
   "metadata": {
    "ExecuteTime": {
     "end_time": "2023-04-26T20:01:07.807496295Z",
     "start_time": "2023-04-26T20:01:07.807224409Z"
    },
    "id": "FBeasPNClnpb"
   },
   "outputs": [],
   "source": [
    "pred_groupby_patient = np.split(pred,cumulative(list_patient_rows))\n",
    "pred_groupby_patient = pred_groupby_patient[:-1]\n",
    "\n",
    "df_test = df_test.astype({'murmur':'int'})\n",
    "y_test_grouped = df_test[['patient_id','murmur']].drop_duplicates()['murmur'].to_list()"
   ]
  },
  {
   "cell_type": "code",
   "execution_count": 30,
   "metadata": {
    "ExecuteTime": {
     "end_time": "2023-04-26T20:01:08.391554440Z",
     "start_time": "2023-04-26T20:01:08.391275339Z"
    },
    "id": "cKJrhB9QwQ3_"
   },
   "outputs": [],
   "source": [
    "def mean_pred(prediction):\n",
    "  pred = []\n",
    "  for i in prediction:\n",
    "    lst = [ j[0] for j in i]\n",
    "    avg = sum(lst)/len(lst)\n",
    "    if avg > 0.5:\n",
    "      pred.append(1)\n",
    "    else:\n",
    "      pred.append(0)\n",
    "  return pred\n",
    "\n",
    "def majority_pred(prediction):\n",
    "  pred = []\n",
    "  for i in prediction:\n",
    "    lst = [ j[0] for j in i]\n",
    "    if (sum(elem > 0.5 for elem in lst)) > (len(lst)/2):\n",
    "      pred.append(1)\n",
    "    else:\n",
    "      pred.append(0)\n",
    "  return pred\n"
   ]
  },
  {
   "cell_type": "code",
   "execution_count": 31,
   "metadata": {
    "ExecuteTime": {
     "end_time": "2023-04-26T20:01:09.099526206Z",
     "start_time": "2023-04-26T20:01:09.099251833Z"
    },
    "id": "TYCSAcHFzHLy"
   },
   "outputs": [],
   "source": [
    "pred1 = mean_pred(pred_groupby_patient)\n",
    "pred2 = majority_pred(pred_groupby_patient)\n",
    "\n"
   ]
  },
  {
   "cell_type": "code",
   "execution_count": 32,
   "metadata": {
    "ExecuteTime": {
     "end_time": "2023-04-26T20:01:09.515633888Z",
     "start_time": "2023-04-26T20:01:09.515241363Z"
    },
    "id": "UoHq89-17e8x"
   },
   "outputs": [
    {
     "name": "stdout",
     "output_type": "stream",
     "text": [
      "[1, 1, 1, 1, 1, 1, 1, 1, 1, 1, 1, 0, 0, 1, 1, 1, 1, 1, 1, 1, 1, 0, 1, 0, 1, 1, 0, 1, 1, 1, 1, 1, 1, 1, 1, 1]\n",
      "[1, 1, 0, 1, 1, 1, 1, 1, 1, 1, 1, 0, 0, 1, 1, 1, 1, 1, 1, 1, 1, 0, 1, 0, 1, 1, 0, 1, 1, 1, 1, 1, 1, 1, 1, 1]\n",
      "[0, 1, 1, 1, 0, 0, 0, 0, 1, 0, 0, 0, 0, 0, 0, 0, 0, 0, 0, 1, 0, 0, 0, 1, 1, 1, 0, 1, 1, 1, 1, 1, 1, 1, 1, 1]\n",
      "Accuracy score of mean_pred :  0.5555555555555556\n",
      "Accuracy score of majority_pred :  0.5277777777777778\n"
     ]
    }
   ],
   "source": [
    "print(pred1)\n",
    "print(pred2)\n",
    "print(y_test_grouped)\n",
    "print(\"Accuracy score of mean_pred : \",accuracy_score(pred1 , y_test_grouped))\n",
    "print(\"Accuracy score of majority_pred : \",accuracy_score(pred2 , y_test_grouped))"
   ]
  },
  {
   "cell_type": "code",
   "execution_count": 99,
   "metadata": {
    "ExecuteTime": {
     "end_time": "2023-04-26T17:41:34.647200Z",
     "start_time": "2023-04-26T17:41:34.647025Z"
    }
   },
   "outputs": [],
   "source": []
  },
  {
   "cell_type": "code",
   "execution_count": null,
   "metadata": {},
   "outputs": [],
   "source": []
  }
 ],
 "metadata": {
  "accelerator": "GPU",
  "colab": {
   "provenance": []
  },
  "gpuClass": "standard",
  "kernelspec": {
   "display_name": "Python 3 (ipykernel)",
   "language": "python",
   "name": "python3"
  },
  "language_info": {
   "codemirror_mode": {
    "name": "ipython",
    "version": 3
   },
   "file_extension": ".py",
   "mimetype": "text/x-python",
   "name": "python",
   "nbconvert_exporter": "python",
   "pygments_lexer": "ipython3",
   "version": "3.10.9"
  }
 },
 "nbformat": 4,
 "nbformat_minor": 1
}
