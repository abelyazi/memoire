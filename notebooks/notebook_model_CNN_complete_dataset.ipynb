{
 "cells": [
  {
   "cell_type": "code",
   "execution_count": 1,
   "id": "eada695a",
   "metadata": {
    "ExecuteTime": {
     "end_time": "2023-06-22T20:27:28.338325Z",
     "start_time": "2023-06-22T20:27:28.325752Z"
    },
    "id": "QRGvE-Pt3x3c"
   },
   "outputs": [
    {
     "name": "stderr",
     "output_type": "stream",
     "text": [
      "2023-07-11 14:31:29.838531: I tensorflow/core/util/port.cc:110] oneDNN custom operations are on. You may see slightly different numerical results due to floating-point round-off errors from different computation orders. To turn them off, set the environment variable `TF_ENABLE_ONEDNN_OPTS=0`.\n",
      "2023-07-11 14:31:29.859484: I tensorflow/core/platform/cpu_feature_guard.cc:182] This TensorFlow binary is optimized to use available CPU instructions in performance-critical operations.\n",
      "To enable the following instructions: AVX2 AVX_VNNI FMA, in other operations, rebuild TensorFlow with the appropriate compiler flags.\n",
      "2023-07-11 14:31:30.219528: W tensorflow/compiler/tf2tensorrt/utils/py_utils.cc:38] TF-TRT Warning: Could not find TensorRT\n"
     ]
    },
    {
     "name": "stdout",
     "output_type": "stream",
     "text": [
      "Num GPUs Available:  1\n"
     ]
    },
    {
     "name": "stderr",
     "output_type": "stream",
     "text": [
      "2023-07-11 14:31:31.578509: I tensorflow/compiler/xla/stream_executor/cuda/cuda_gpu_executor.cc:995] successful NUMA node read from SysFS had negative value (-1), but there must be at least one NUMA node, so returning NUMA node zero. See more at https://github.com/torvalds/linux/blob/v6.0/Documentation/ABI/testing/sysfs-bus-pci#L344-L355\n",
      "2023-07-11 14:31:31.578986: I tensorflow/compiler/xla/stream_executor/cuda/cuda_gpu_executor.cc:995] successful NUMA node read from SysFS had negative value (-1), but there must be at least one NUMA node, so returning NUMA node zero. See more at https://github.com/torvalds/linux/blob/v6.0/Documentation/ABI/testing/sysfs-bus-pci#L344-L355\n",
      "2023-07-11 14:31:31.579040: I tensorflow/compiler/xla/stream_executor/cuda/cuda_gpu_executor.cc:995] successful NUMA node read from SysFS had negative value (-1), but there must be at least one NUMA node, so returning NUMA node zero. See more at https://github.com/torvalds/linux/blob/v6.0/Documentation/ABI/testing/sysfs-bus-pci#L344-L355\n"
     ]
    }
   ],
   "source": [
    "import sys\n",
    "import tensorflow as tf\n",
    "import matplotlib.pyplot as plt\n",
    "from sklearn import metrics\n",
    "from sklearn.impute import SimpleImputer\n",
    "from sklearn.metrics import accuracy_score\n",
    "import numpy as np, scipy as sp, scipy.stats, os, sys, joblib\n",
    "import os, numpy as np, scipy as sp, scipy.io, scipy.io.wavfile\n",
    "from sklearn.ensemble import RandomForestClassifier\n",
    "from sklearn.model_selection import train_test_split\n",
    "from sklearn.metrics import ConfusionMatrixDisplay\n",
    "from sklearn.metrics import balanced_accuracy_score\n",
    "from sklearn.utils import class_weight\n",
    "import random\n",
    "import pandas as pd\n",
    "import importlib\n",
    "import useful_functions\n",
    "import preprocessing_functions\n",
    "import Chatgpt_model\n",
    "print(\"Num GPUs Available: \", len(tf.config.list_physical_devices('GPU')))"
   ]
  },
  {
   "cell_type": "code",
   "execution_count": 2,
   "id": "89021430",
   "metadata": {
    "ExecuteTime": {
     "end_time": "2023-06-22T20:28:02.185714Z",
     "start_time": "2023-06-22T20:28:02.152645Z"
    }
   },
   "outputs": [],
   "source": [
    "importlib.reload(useful_functions)\n",
    "importlib.reload(preprocessing_functions)\n",
    "importlib.reload(Chatgpt_model)\n",
    "from useful_functions import *\n",
    "from preprocessing_functions import *\n",
    "from Chatgpt_model import *"
   ]
  },
  {
   "cell_type": "code",
   "execution_count": 3,
   "id": "a411c3a7",
   "metadata": {},
   "outputs": [],
   "source": [
    " # Define the data and model foldes.\n",
    "data_folder = r\"../training_data\"\n",
    "model_folder = r\"../model\"\n",
    "wind_size = 6000\n",
    "verbose = 3"
   ]
  },
  {
   "cell_type": "code",
   "execution_count": 4,
   "id": "c8b4da30",
   "metadata": {},
   "outputs": [
    {
     "data": {
      "text/html": [
       "<div>\n",
       "<style scoped>\n",
       "    .dataframe tbody tr th:only-of-type {\n",
       "        vertical-align: middle;\n",
       "    }\n",
       "\n",
       "    .dataframe tbody tr th {\n",
       "        vertical-align: top;\n",
       "    }\n",
       "\n",
       "    .dataframe thead th {\n",
       "        text-align: right;\n",
       "    }\n",
       "</style>\n",
       "<table border=\"1\" class=\"dataframe\">\n",
       "  <thead>\n",
       "    <tr style=\"text-align: right;\">\n",
       "      <th></th>\n",
       "      <th>patient_id</th>\n",
       "      <th>recording_type</th>\n",
       "      <th>recording</th>\n",
       "      <th>murmur</th>\n",
       "    </tr>\n",
       "  </thead>\n",
       "  <tbody>\n",
       "    <tr>\n",
       "      <th>0</th>\n",
       "      <td>2530.0</td>\n",
       "      <td>1.0</td>\n",
       "      <td>[254.62053374948147, 332.41397606699405, -727....</td>\n",
       "      <td>0.0</td>\n",
       "    </tr>\n",
       "    <tr>\n",
       "      <th>1</th>\n",
       "      <td>2530.0</td>\n",
       "      <td>1.0</td>\n",
       "      <td>[20.550841480663475, -18.884669077279337, 152....</td>\n",
       "      <td>0.0</td>\n",
       "    </tr>\n",
       "    <tr>\n",
       "      <th>2</th>\n",
       "      <td>2530.0</td>\n",
       "      <td>1.0</td>\n",
       "      <td>[2296.0082592261, 1161.8953810714854, 106.9764...</td>\n",
       "      <td>0.0</td>\n",
       "    </tr>\n",
       "    <tr>\n",
       "      <th>3</th>\n",
       "      <td>2530.0</td>\n",
       "      <td>1.0</td>\n",
       "      <td>[-1.2132347511973676, -24.042684343382245, -14...</td>\n",
       "      <td>0.0</td>\n",
       "    </tr>\n",
       "    <tr>\n",
       "      <th>4</th>\n",
       "      <td>2530.0</td>\n",
       "      <td>1.0</td>\n",
       "      <td>[219.40892010033423, 106.21377642082071, 296.9...</td>\n",
       "      <td>0.0</td>\n",
       "    </tr>\n",
       "  </tbody>\n",
       "</table>\n",
       "</div>"
      ],
      "text/plain": [
       "   patient_id  recording_type  \\\n",
       "0      2530.0             1.0   \n",
       "1      2530.0             1.0   \n",
       "2      2530.0             1.0   \n",
       "3      2530.0             1.0   \n",
       "4      2530.0             1.0   \n",
       "\n",
       "                                           recording  murmur  \n",
       "0  [254.62053374948147, 332.41397606699405, -727....     0.0  \n",
       "1  [20.550841480663475, -18.884669077279337, 152....     0.0  \n",
       "2  [2296.0082592261, 1161.8953810714854, 106.9764...     0.0  \n",
       "3  [-1.2132347511973676, -24.042684343382245, -14...     0.0  \n",
       "4  [219.40892010033423, 106.21377642082071, 296.9...     0.0  "
      ]
     },
     "execution_count": 4,
     "metadata": {},
     "output_type": "execute_result"
    }
   ],
   "source": [
    "recordings,patient_label,patient_id = create_rec_patient_list(data_folder)\n",
    "df = build_dataset_df(recordings,patient_id,patient_label,wind_size)\n",
    "df.head()"
   ]
  },
  {
   "cell_type": "code",
   "execution_count": 5,
   "id": "f80a0c75",
   "metadata": {
    "id": "P9HTtXrm78dV"
   },
   "outputs": [],
   "source": [
    "#check correctness of dataframe loaded\n",
    "for i in range(df.shape[0]):\n",
    "  if len(df[\"recording\"][i]) != 6000:\n",
    "    print(\"problem sir\")"
   ]
  },
  {
   "cell_type": "code",
   "execution_count": 6,
   "id": "5d65abeb",
   "metadata": {
    "id": "fElXRT5T4a36"
   },
   "outputs": [],
   "source": [
    "new_df = df[['patient_id', 'murmur']]\n",
    "new_df = new_df.drop_duplicates()"
   ]
  },
  {
   "cell_type": "code",
   "execution_count": 7,
   "id": "f69d3996",
   "metadata": {
    "id": "PHkvtE-h6uwl"
   },
   "outputs": [],
   "source": [
    "new_df = new_df.reset_index(drop=True)"
   ]
  },
  {
   "cell_type": "code",
   "execution_count": 8,
   "id": "03546086",
   "metadata": {
    "colab": {
     "base_uri": "https://localhost:8080/"
    },
    "id": "6T9wZX1WyE83",
    "outputId": "076b86ec-0bee-42cc-ace9-e7110a342bf8"
   },
   "outputs": [
    {
     "name": "stdout",
     "output_type": "stream",
     "text": [
      "179\n",
      "695\n"
     ]
    }
   ],
   "source": [
    "nb_murmur_present = (new_df.loc[new_df['murmur'] == 1]).shape[0]\n",
    "nb_murmur_absent = (new_df.loc[new_df['murmur'] == 0]).shape[0]\n",
    "print(nb_murmur_present)\n",
    "print(nb_murmur_absent)"
   ]
  },
  {
   "cell_type": "code",
   "execution_count": 9,
   "id": "5ba29dea",
   "metadata": {
    "colab": {
     "base_uri": "https://localhost:8080/",
     "height": 424
    },
    "id": "mzg9rqHzxyal",
    "outputId": "22d218b0-1560-4d6a-e62c-3fae95ff0ecc"
   },
   "outputs": [
    {
     "data": {
      "text/html": [
       "<div>\n",
       "<style scoped>\n",
       "    .dataframe tbody tr th:only-of-type {\n",
       "        vertical-align: middle;\n",
       "    }\n",
       "\n",
       "    .dataframe tbody tr th {\n",
       "        vertical-align: top;\n",
       "    }\n",
       "\n",
       "    .dataframe thead th {\n",
       "        text-align: right;\n",
       "    }\n",
       "</style>\n",
       "<table border=\"1\" class=\"dataframe\">\n",
       "  <thead>\n",
       "    <tr style=\"text-align: right;\">\n",
       "      <th></th>\n",
       "      <th>patient_id</th>\n",
       "      <th>murmur</th>\n",
       "    </tr>\n",
       "  </thead>\n",
       "  <tbody>\n",
       "    <tr>\n",
       "      <th>0</th>\n",
       "      <td>2530.0</td>\n",
       "      <td>0.0</td>\n",
       "    </tr>\n",
       "    <tr>\n",
       "      <th>1</th>\n",
       "      <td>9979.0</td>\n",
       "      <td>1.0</td>\n",
       "    </tr>\n",
       "    <tr>\n",
       "      <th>2</th>\n",
       "      <td>13918.0</td>\n",
       "      <td>1.0</td>\n",
       "    </tr>\n",
       "    <tr>\n",
       "      <th>3</th>\n",
       "      <td>14241.0</td>\n",
       "      <td>1.0</td>\n",
       "    </tr>\n",
       "    <tr>\n",
       "      <th>4</th>\n",
       "      <td>14998.0</td>\n",
       "      <td>0.0</td>\n",
       "    </tr>\n",
       "    <tr>\n",
       "      <th>...</th>\n",
       "      <td>...</td>\n",
       "      <td>...</td>\n",
       "    </tr>\n",
       "    <tr>\n",
       "      <th>869</th>\n",
       "      <td>85340.0</td>\n",
       "      <td>0.0</td>\n",
       "    </tr>\n",
       "    <tr>\n",
       "      <th>870</th>\n",
       "      <td>85341.0</td>\n",
       "      <td>0.0</td>\n",
       "    </tr>\n",
       "    <tr>\n",
       "      <th>871</th>\n",
       "      <td>85343.0</td>\n",
       "      <td>1.0</td>\n",
       "    </tr>\n",
       "    <tr>\n",
       "      <th>872</th>\n",
       "      <td>85345.0</td>\n",
       "      <td>0.0</td>\n",
       "    </tr>\n",
       "    <tr>\n",
       "      <th>873</th>\n",
       "      <td>85349.0</td>\n",
       "      <td>0.0</td>\n",
       "    </tr>\n",
       "  </tbody>\n",
       "</table>\n",
       "<p>874 rows × 2 columns</p>\n",
       "</div>"
      ],
      "text/plain": [
       "     patient_id  murmur\n",
       "0        2530.0     0.0\n",
       "1        9979.0     1.0\n",
       "2       13918.0     1.0\n",
       "3       14241.0     1.0\n",
       "4       14998.0     0.0\n",
       "..          ...     ...\n",
       "869     85340.0     0.0\n",
       "870     85341.0     0.0\n",
       "871     85343.0     1.0\n",
       "872     85345.0     0.0\n",
       "873     85349.0     0.0\n",
       "\n",
       "[874 rows x 2 columns]"
      ]
     },
     "execution_count": 9,
     "metadata": {},
     "output_type": "execute_result"
    }
   ],
   "source": [
    "new_df"
   ]
  },
  {
   "cell_type": "code",
   "execution_count": 10,
   "id": "960107f9",
   "metadata": {
    "id": "Un2S1LxU675v"
   },
   "outputs": [],
   "source": [
    "list_id = new_df['patient_id']\n",
    "list_label = new_df['murmur']"
   ]
  },
  {
   "cell_type": "code",
   "execution_count": 11,
   "id": "810ec18b",
   "metadata": {
    "id": "uR6aqz5g9oOj"
   },
   "outputs": [],
   "source": [
    "id_train, id_valtest, label_train, label_valtest = train_test_split(list_id, list_label , test_size=0.4, random_state=42)\n",
    "id_val, id_test, label_val, label_test = train_test_split(id_valtest, label_valtest , test_size=0.5, random_state=42)"
   ]
  },
  {
   "cell_type": "code",
   "execution_count": 12,
   "id": "1860e311",
   "metadata": {
    "id": "BlEJD1ce4H1O"
   },
   "outputs": [],
   "source": [
    "def select_rows(id_list,dframe):\n",
    "  #for id in list_id:\n",
    "  sub_df = df.loc[df['patient_id'].isin([int(id) for id in id_list])]\n",
    "  return sub_df\n",
    "\n",
    "df_train = select_rows(id_train,df)\n",
    "df_val = select_rows(id_val,df)\n",
    "df_test = select_rows(id_test,df)"
   ]
  },
  {
   "cell_type": "code",
   "execution_count": 13,
   "id": "809a0505",
   "metadata": {
    "colab": {
     "base_uri": "https://localhost:8080/"
    },
    "id": "E2w-MxY1_ClQ",
    "outputId": "7601a9e6-5067-499d-c1a1-9850f8b57ebc"
   },
   "outputs": [
    {
     "name": "stdout",
     "output_type": "stream",
     "text": [
      "Nb of rows of murmur absent :  11832\n",
      "Nb of rows of murmur present :  2697\n"
     ]
    }
   ],
   "source": [
    "print(\"Nb of rows of murmur absent : \",(df_train.loc[df_train['murmur'] == 0]).shape[0])\n",
    "print(\"Nb of rows of murmur present : \",(df_train.loc[df_train['murmur'] == 1]).shape[0])"
   ]
  },
  {
   "cell_type": "code",
   "execution_count": 14,
   "id": "a7be8243",
   "metadata": {
    "id": "jfbOL3Un_ESV"
   },
   "outputs": [],
   "source": [
    "X_train = np.vstack(df_train['recording'])\n",
    "y_train = np.array(df_train['murmur'])\n",
    "\n",
    "X_val = np.vstack(df_val['recording'])\n",
    "y_val = np.array(df_val['murmur'])\n",
    "\n",
    "X_test = np.vstack(df_test['recording'])\n",
    "y_test = np.array(df_test['murmur'])"
   ]
  },
  {
   "cell_type": "code",
   "execution_count": 15,
   "id": "ecc2ac3c",
   "metadata": {
    "id": "YAlU7MUoCi6r"
   },
   "outputs": [],
   "source": [
    "X_train = X_train.reshape(len(X_train),len(X_train[1]),1)\n",
    "X_val = X_val.reshape(len(X_val),len(X_val[1]),1)\n",
    "X_test = X_test.reshape(len(X_test),len(X_test[1]),1)"
   ]
  },
  {
   "cell_type": "code",
   "execution_count": 16,
   "id": "3b8b4b46",
   "metadata": {
    "scrolled": true
   },
   "outputs": [
    {
     "name": "stderr",
     "output_type": "stream",
     "text": [
      "2023-07-11 14:31:46.780160: I tensorflow/compiler/xla/stream_executor/cuda/cuda_gpu_executor.cc:995] successful NUMA node read from SysFS had negative value (-1), but there must be at least one NUMA node, so returning NUMA node zero. See more at https://github.com/torvalds/linux/blob/v6.0/Documentation/ABI/testing/sysfs-bus-pci#L344-L355\n",
      "2023-07-11 14:31:46.780271: I tensorflow/compiler/xla/stream_executor/cuda/cuda_gpu_executor.cc:995] successful NUMA node read from SysFS had negative value (-1), but there must be at least one NUMA node, so returning NUMA node zero. See more at https://github.com/torvalds/linux/blob/v6.0/Documentation/ABI/testing/sysfs-bus-pci#L344-L355\n",
      "2023-07-11 14:31:46.780315: I tensorflow/compiler/xla/stream_executor/cuda/cuda_gpu_executor.cc:995] successful NUMA node read from SysFS had negative value (-1), but there must be at least one NUMA node, so returning NUMA node zero. See more at https://github.com/torvalds/linux/blob/v6.0/Documentation/ABI/testing/sysfs-bus-pci#L344-L355\n",
      "2023-07-11 14:31:46.835290: I tensorflow/compiler/xla/stream_executor/cuda/cuda_gpu_executor.cc:995] successful NUMA node read from SysFS had negative value (-1), but there must be at least one NUMA node, so returning NUMA node zero. See more at https://github.com/torvalds/linux/blob/v6.0/Documentation/ABI/testing/sysfs-bus-pci#L344-L355\n",
      "2023-07-11 14:31:46.835382: I tensorflow/compiler/xla/stream_executor/cuda/cuda_gpu_executor.cc:995] successful NUMA node read from SysFS had negative value (-1), but there must be at least one NUMA node, so returning NUMA node zero. See more at https://github.com/torvalds/linux/blob/v6.0/Documentation/ABI/testing/sysfs-bus-pci#L344-L355\n",
      "2023-07-11 14:31:46.835432: I tensorflow/compiler/xla/stream_executor/cuda/cuda_gpu_executor.cc:995] successful NUMA node read from SysFS had negative value (-1), but there must be at least one NUMA node, so returning NUMA node zero. See more at https://github.com/torvalds/linux/blob/v6.0/Documentation/ABI/testing/sysfs-bus-pci#L344-L355\n",
      "2023-07-11 14:31:46.835474: I tensorflow/core/common_runtime/gpu/gpu_device.cc:1639] Created device /job:localhost/replica:0/task:0/device:GPU:0 with 1136 MB memory:  -> device: 0, name: NVIDIA GeForce RTX 4070 Ti, pci bus id: 0000:01:00.0, compute capability: 8.9\n"
     ]
    }
   ],
   "source": [
    "def make_model(input_shape):\n",
    "    drop_rate = 0.2\n",
    "    input_layer = tf.keras.layers.Input(shape=(input_shape[0],input_shape[1]))\n",
    "\n",
    "    x = tf.keras.layers.Conv1D(filters=32, kernel_size=3, padding=\"same\",activation='relu')(input_layer)\n",
    "    x = tf.keras.layers.BatchNormalization()(x)\n",
    "    x = tf.keras.layers.MaxPool1D(2,padding=\"same\")(x)\n",
    "    x = tf.keras.layers.Dropout(0.4)(x)\n",
    "\n",
    "    x = tf.keras.layers.Conv1D(filters=64, kernel_size=3, padding=\"same\",activation='relu')(x)\n",
    "    x = tf.keras.layers.BatchNormalization()(x)\n",
    "    x = tf.keras.layers.Dropout(0.3)(x)\n",
    "\n",
    "    x = tf.keras.layers.Conv1D(filters=128, kernel_size=3, padding=\"same\",activation='relu')(x)\n",
    "    x = tf.keras.layers.BatchNormalization()(x)\n",
    "    x = tf.keras.layers.Dropout(0.2)(x)\n",
    "\n",
    "    x = tf.keras.layers.GlobalAveragePooling1D()(x)\n",
    "    \"\"\"\n",
    "    x = tf.keras.layers.Dense(512, activation='relu')(x)\n",
    "    x = tf.keras.layers.BatchNormalization()(x)\n",
    "    x = tf.keras.layers.Dropout(0.5)(x)\n",
    "    \"\"\"\n",
    "    x = tf.keras.layers.Dense(64, activation='relu')(x)\n",
    "    x = tf.keras.layers.BatchNormalization()(x)\n",
    "    x = tf.keras.layers.Dropout(0.4)(x)\n",
    "\n",
    "    x = tf.keras.layers.Dense(32, activation='relu')(x)\n",
    "    x = tf.keras.layers.BatchNormalization()(x)\n",
    "    x = tf.keras.layers.Dropout(0.3)(x)\n",
    "\n",
    "    output_layer = tf.keras.layers.Dense(1, activation=\"sigmoid\")(x)\n",
    "\n",
    "    return tf.keras.models.Model(inputs=input_layer, outputs=output_layer)\n",
    "\n",
    "\n",
    "model = make_model(input_shape=X_train.shape[1:])"
   ]
  },
  {
   "cell_type": "code",
   "execution_count": 17,
   "id": "83b40705",
   "metadata": {
    "colab": {
     "base_uri": "https://localhost:8080/"
    },
    "id": "f_gayKfl_qdh",
    "outputId": "c89a53d7-5f9a-4fd0-80cd-3ed494a52926",
    "scrolled": true
   },
   "outputs": [
    {
     "name": "stdout",
     "output_type": "stream",
     "text": [
      "Model: \"model\"\n",
      "_________________________________________________________________\n",
      " Layer (type)                Output Shape              Param #   \n",
      "=================================================================\n",
      " input_1 (InputLayer)        [(None, 6000, 1)]         0         \n",
      "                                                                 \n",
      " conv1d (Conv1D)             (None, 6000, 32)          128       \n",
      "                                                                 \n",
      " batch_normalization (Batch  (None, 6000, 32)          128       \n",
      " Normalization)                                                  \n",
      "                                                                 \n",
      " max_pooling1d (MaxPooling1  (None, 3000, 32)          0         \n",
      " D)                                                              \n",
      "                                                                 \n",
      " dropout (Dropout)           (None, 3000, 32)          0         \n",
      "                                                                 \n",
      " conv1d_1 (Conv1D)           (None, 3000, 64)          6208      \n",
      "                                                                 \n",
      " batch_normalization_1 (Bat  (None, 3000, 64)          256       \n",
      " chNormalization)                                                \n",
      "                                                                 \n",
      " dropout_1 (Dropout)         (None, 3000, 64)          0         \n",
      "                                                                 \n",
      " conv1d_2 (Conv1D)           (None, 3000, 128)         24704     \n",
      "                                                                 \n",
      " batch_normalization_2 (Bat  (None, 3000, 128)         512       \n",
      " chNormalization)                                                \n",
      "                                                                 \n",
      " dropout_2 (Dropout)         (None, 3000, 128)         0         \n",
      "                                                                 \n",
      " global_average_pooling1d (  (None, 128)               0         \n",
      " GlobalAveragePooling1D)                                         \n",
      "                                                                 \n",
      " dense (Dense)               (None, 64)                8256      \n",
      "                                                                 \n",
      " batch_normalization_3 (Bat  (None, 64)                256       \n",
      " chNormalization)                                                \n",
      "                                                                 \n",
      " dropout_3 (Dropout)         (None, 64)                0         \n",
      "                                                                 \n",
      " dense_1 (Dense)             (None, 32)                2080      \n",
      "                                                                 \n",
      " batch_normalization_4 (Bat  (None, 32)                128       \n",
      " chNormalization)                                                \n",
      "                                                                 \n",
      " dropout_4 (Dropout)         (None, 32)                0         \n",
      "                                                                 \n",
      " dense_2 (Dense)             (None, 1)                 33        \n",
      "                                                                 \n",
      "=================================================================\n",
      "Total params: 42689 (166.75 KB)\n",
      "Trainable params: 42049 (164.25 KB)\n",
      "Non-trainable params: 640 (2.50 KB)\n",
      "_________________________________________________________________\n"
     ]
    }
   ],
   "source": [
    "model.summary()"
   ]
  },
  {
   "cell_type": "code",
   "execution_count": 18,
   "id": "7290fe62",
   "metadata": {},
   "outputs": [],
   "source": [
    "weights = class_weight.compute_class_weight(  class_weight ='balanced',\n",
    "                                    classes = np.unique(y_train),\n",
    "                                    y = y_train)\n",
    "class_weights = dict(zip(np.unique(y_train), weights))"
   ]
  },
  {
   "cell_type": "code",
   "execution_count": 19,
   "id": "8ae06167",
   "metadata": {
    "colab": {
     "base_uri": "https://localhost:8080/"
    },
    "id": "hyYFCrlJEGsk",
    "outputId": "44605680-af0f-443b-d235-cae850fdbd43",
    "scrolled": true
   },
   "outputs": [
    {
     "name": "stdout",
     "output_type": "stream",
     "text": [
      "Epoch 1/30\n"
     ]
    },
    {
     "name": "stderr",
     "output_type": "stream",
     "text": [
      "2023-07-11 14:31:57.116116: I tensorflow/compiler/xla/stream_executor/cuda/cuda_dnn.cc:432] Loaded cuDNN version 8600\n",
      "2023-07-11 14:31:57.303844: I tensorflow/compiler/xla/stream_executor/cuda/cuda_blas.cc:606] TensorFloat-32 will be used for the matrix multiplication. This will only be logged once.\n",
      "2023-07-11 14:31:57.328164: I tensorflow/compiler/xla/service/service.cc:168] XLA service 0x7fe58c03b650 initialized for platform CUDA (this does not guarantee that XLA will be used). Devices:\n",
      "2023-07-11 14:31:57.328176: I tensorflow/compiler/xla/service/service.cc:176]   StreamExecutor device (0): NVIDIA GeForce RTX 4070 Ti, Compute Capability 8.9\n",
      "2023-07-11 14:31:57.342090: I tensorflow/compiler/mlir/tensorflow/utils/dump_mlir_util.cc:255] disabling MLIR crash reproducer, set env var `MLIR_CRASH_REPRODUCER_DIRECTORY` to enable.\n",
      "2023-07-11 14:31:57.451854: I ./tensorflow/compiler/jit/device_compiler.h:186] Compiled cluster using XLA!  This line is logged at most once for the lifetime of the process.\n"
     ]
    },
    {
     "name": "stdout",
     "output_type": "stream",
     "text": [
      "455/455 [==============================] - 9s 14ms/step - loss: 0.7114 - acc: 0.6228 - auc: 0.6500 - weighted_acc: 0.6134 - val_loss: 0.4755 - val_acc: 0.8029 - val_auc: 0.6921 - val_weighted_acc: 0.8029 - lr: 0.0010\n",
      "Epoch 2/30\n",
      " 11/455 [..............................] - ETA: 5s - loss: 0.6301 - acc: 0.6705 - auc: 0.7101 - weighted_acc: 0.6531"
     ]
    },
    {
     "name": "stderr",
     "output_type": "stream",
     "text": [
      "/home/iridia/anaconda3/lib/python3.10/site-packages/keras/src/engine/training.py:3000: UserWarning: You are saving your model as an HDF5 file via `model.save()`. This file format is considered legacy. We recommend using instead the native Keras format, e.g. `model.save('my_model.keras')`.\n",
      "  saving_api.save_model(\n"
     ]
    },
    {
     "name": "stdout",
     "output_type": "stream",
     "text": [
      "455/455 [==============================] - 6s 13ms/step - loss: 0.6479 - acc: 0.6720 - auc: 0.6848 - weighted_acc: 0.6391 - val_loss: 0.5166 - val_acc: 0.8103 - val_auc: 0.7151 - val_weighted_acc: 0.8103 - lr: 0.0010\n",
      "Epoch 3/30\n",
      "455/455 [==============================] - 6s 13ms/step - loss: 0.6220 - acc: 0.7086 - auc: 0.7060 - weighted_acc: 0.6593 - val_loss: 0.5367 - val_acc: 0.7923 - val_auc: 0.7245 - val_weighted_acc: 0.7923 - lr: 0.0010\n",
      "Epoch 4/30\n",
      "455/455 [==============================] - 6s 13ms/step - loss: 0.6059 - acc: 0.7165 - auc: 0.7273 - weighted_acc: 0.6739 - val_loss: 0.4878 - val_acc: 0.8118 - val_auc: 0.7119 - val_weighted_acc: 0.8118 - lr: 0.0010\n",
      "Epoch 5/30\n",
      "455/455 [==============================] - 6s 13ms/step - loss: 0.6005 - acc: 0.7387 - auc: 0.7288 - weighted_acc: 0.6792 - val_loss: 0.4981 - val_acc: 0.8213 - val_auc: 0.7164 - val_weighted_acc: 0.8213 - lr: 0.0010\n",
      "Epoch 6/30\n",
      "455/455 [==============================] - 6s 13ms/step - loss: 0.5955 - acc: 0.7346 - auc: 0.7371 - weighted_acc: 0.6849 - val_loss: 0.4787 - val_acc: 0.8300 - val_auc: 0.7188 - val_weighted_acc: 0.8300 - lr: 0.0010\n",
      "Epoch 7/30\n",
      "455/455 [==============================] - 6s 13ms/step - loss: 0.5964 - acc: 0.7456 - auc: 0.7336 - weighted_acc: 0.6822 - val_loss: 0.5256 - val_acc: 0.8020 - val_auc: 0.7052 - val_weighted_acc: 0.8020 - lr: 0.0010\n",
      "Epoch 8/30\n",
      "455/455 [==============================] - 6s 13ms/step - loss: 0.5923 - acc: 0.7426 - auc: 0.7383 - weighted_acc: 0.6829 - val_loss: 0.6123 - val_acc: 0.6900 - val_auc: 0.7190 - val_weighted_acc: 0.6900 - lr: 0.0010\n",
      "Epoch 9/30\n",
      "455/455 [==============================] - 6s 13ms/step - loss: 0.5866 - acc: 0.7390 - auc: 0.7466 - weighted_acc: 0.6847 - val_loss: 0.4519 - val_acc: 0.8277 - val_auc: 0.7144 - val_weighted_acc: 0.8277 - lr: 0.0010\n",
      "Epoch 10/30\n",
      "455/455 [==============================] - 6s 13ms/step - loss: 0.5880 - acc: 0.7453 - auc: 0.7443 - weighted_acc: 0.6855 - val_loss: 0.4539 - val_acc: 0.8347 - val_auc: 0.7011 - val_weighted_acc: 0.8347 - lr: 0.0010\n",
      "Epoch 11/30\n",
      "455/455 [==============================] - 6s 13ms/step - loss: 0.5895 - acc: 0.7424 - auc: 0.7425 - weighted_acc: 0.6861 - val_loss: 0.4787 - val_acc: 0.8240 - val_auc: 0.7248 - val_weighted_acc: 0.8240 - lr: 0.0010\n",
      "Epoch 12/30\n",
      "455/455 [==============================] - 6s 13ms/step - loss: 0.5875 - acc: 0.7445 - auc: 0.7452 - weighted_acc: 0.6903 - val_loss: 0.4910 - val_acc: 0.8159 - val_auc: 0.7221 - val_weighted_acc: 0.8159 - lr: 0.0010\n",
      "Epoch 13/30\n",
      "455/455 [==============================] - 6s 13ms/step - loss: 0.5822 - acc: 0.7501 - auc: 0.7512 - weighted_acc: 0.6933 - val_loss: 0.4460 - val_acc: 0.8368 - val_auc: 0.7129 - val_weighted_acc: 0.8368 - lr: 0.0010\n",
      "Epoch 14/30\n",
      "455/455 [==============================] - 6s 13ms/step - loss: 0.5787 - acc: 0.7581 - auc: 0.7527 - weighted_acc: 0.6938 - val_loss: 0.5108 - val_acc: 0.7971 - val_auc: 0.7343 - val_weighted_acc: 0.7971 - lr: 0.0010\n",
      "Epoch 15/30\n",
      "455/455 [==============================] - 6s 13ms/step - loss: 0.5747 - acc: 0.7551 - auc: 0.7604 - weighted_acc: 0.7021 - val_loss: 0.5274 - val_acc: 0.7991 - val_auc: 0.7186 - val_weighted_acc: 0.7991 - lr: 0.0010\n",
      "Epoch 16/30\n",
      "455/455 [==============================] - 6s 13ms/step - loss: 0.5735 - acc: 0.7586 - auc: 0.7598 - weighted_acc: 0.6962 - val_loss: 0.4805 - val_acc: 0.8265 - val_auc: 0.7285 - val_weighted_acc: 0.8265 - lr: 0.0010\n",
      "Epoch 17/30\n",
      "455/455 [==============================] - 6s 13ms/step - loss: 0.5725 - acc: 0.7592 - auc: 0.7598 - weighted_acc: 0.6976 - val_loss: 0.4436 - val_acc: 0.8269 - val_auc: 0.7277 - val_weighted_acc: 0.8269 - lr: 0.0010\n",
      "Epoch 18/30\n",
      "455/455 [==============================] - 6s 13ms/step - loss: 0.5688 - acc: 0.7628 - auc: 0.7634 - weighted_acc: 0.7052 - val_loss: 0.4767 - val_acc: 0.8167 - val_auc: 0.7276 - val_weighted_acc: 0.8167 - lr: 0.0010\n",
      "Epoch 19/30\n",
      "455/455 [==============================] - 6s 13ms/step - loss: 0.5704 - acc: 0.7594 - auc: 0.7628 - weighted_acc: 0.6994 - val_loss: 0.5147 - val_acc: 0.7886 - val_auc: 0.7309 - val_weighted_acc: 0.7886 - lr: 0.0010\n",
      "Epoch 20/30\n",
      "455/455 [==============================] - 6s 13ms/step - loss: 0.5686 - acc: 0.7566 - auc: 0.7658 - weighted_acc: 0.6996 - val_loss: 0.4635 - val_acc: 0.8314 - val_auc: 0.7123 - val_weighted_acc: 0.8314 - lr: 0.0010\n",
      "Epoch 21/30\n",
      "455/455 [==============================] - 6s 13ms/step - loss: 0.5650 - acc: 0.7536 - auc: 0.7707 - weighted_acc: 0.7040 - val_loss: 0.4904 - val_acc: 0.7908 - val_auc: 0.7381 - val_weighted_acc: 0.7908 - lr: 0.0010\n",
      "Epoch 22/30\n",
      "455/455 [==============================] - 6s 13ms/step - loss: 0.5580 - acc: 0.7625 - auc: 0.7761 - weighted_acc: 0.7101 - val_loss: 0.4445 - val_acc: 0.8269 - val_auc: 0.7214 - val_weighted_acc: 0.8269 - lr: 0.0010\n",
      "Epoch 23/30\n",
      "455/455 [==============================] - 6s 13ms/step - loss: 0.5579 - acc: 0.7528 - auc: 0.7765 - weighted_acc: 0.7033 - val_loss: 0.4528 - val_acc: 0.8345 - val_auc: 0.7141 - val_weighted_acc: 0.8345 - lr: 0.0010\n",
      "Epoch 24/30\n",
      "455/455 [==============================] - 6s 13ms/step - loss: 0.5584 - acc: 0.7612 - auc: 0.7767 - weighted_acc: 0.7068 - val_loss: 0.4617 - val_acc: 0.8271 - val_auc: 0.7240 - val_weighted_acc: 0.8271 - lr: 0.0010\n",
      "Epoch 25/30\n",
      "455/455 [==============================] - 6s 13ms/step - loss: 0.5539 - acc: 0.7623 - auc: 0.7803 - weighted_acc: 0.7117 - val_loss: 0.4387 - val_acc: 0.8381 - val_auc: 0.7188 - val_weighted_acc: 0.8381 - lr: 0.0010\n",
      "Epoch 26/30\n",
      "455/455 [==============================] - 6s 13ms/step - loss: 0.5516 - acc: 0.7602 - auc: 0.7826 - weighted_acc: 0.7161 - val_loss: 0.4614 - val_acc: 0.8234 - val_auc: 0.7276 - val_weighted_acc: 0.8234 - lr: 0.0010\n",
      "Epoch 27/30\n",
      "455/455 [==============================] - 6s 13ms/step - loss: 0.5502 - acc: 0.7634 - auc: 0.7837 - weighted_acc: 0.7118 - val_loss: 0.4593 - val_acc: 0.8184 - val_auc: 0.7323 - val_weighted_acc: 0.8184 - lr: 0.0010\n",
      "Epoch 28/30\n",
      "455/455 [==============================] - 6s 13ms/step - loss: 0.5499 - acc: 0.7566 - auc: 0.7848 - weighted_acc: 0.7120 - val_loss: 0.4657 - val_acc: 0.8176 - val_auc: 0.7309 - val_weighted_acc: 0.8176 - lr: 0.0010\n",
      "Epoch 29/30\n",
      "455/455 [==============================] - 6s 13ms/step - loss: 0.5482 - acc: 0.7711 - auc: 0.7855 - weighted_acc: 0.7145 - val_loss: 0.4359 - val_acc: 0.8364 - val_auc: 0.7255 - val_weighted_acc: 0.8364 - lr: 0.0010\n",
      "Epoch 30/30\n",
      "455/455 [==============================] - 6s 13ms/step - loss: 0.5446 - acc: 0.7625 - auc: 0.7898 - weighted_acc: 0.7105 - val_loss: 0.5320 - val_acc: 0.7766 - val_auc: 0.7368 - val_weighted_acc: 0.7766 - lr: 0.0010\n"
     ]
    }
   ],
   "source": [
    "\n",
    "epochs = 30\n",
    "batch_size = 32\n",
    "\n",
    "callbacks = [\n",
    "    tf.keras.callbacks.ModelCheckpoint(\n",
    "        \"best_model.h5\", save_best_only=True, monitor=\"val_loss\"\n",
    "    ),\n",
    "    tf.keras.callbacks.ReduceLROnPlateau(\n",
    "        monitor=\"val_loss\", factor=0.5, patience=10, min_lr=0.0001\n",
    "    ),\n",
    "    tf.keras.callbacks.EarlyStopping(monitor=\"val_loss\", patience=50, verbose=1),\n",
    "]\n",
    "\n",
    "\n",
    "model.compile(\n",
    "    optimizer=tf.keras.optimizers.Adam(learning_rate=0.001),\n",
    "    loss=\"binary_crossentropy\",\n",
    "    metrics=[\"acc\",tf.keras.metrics.AUC(name='auc')],\n",
    "    weighted_metrics = \"acc\",\n",
    "    #loss_weights=weights\n",
    ")\n",
    "\n",
    "\n",
    "history = model.fit(\n",
    "    X_train,\n",
    "    np.array(y_train),\n",
    "    batch_size=batch_size,\n",
    "    epochs=epochs,\n",
    "    callbacks=callbacks,\n",
    "    validation_data=(X_val,np.array(y_val)),\n",
    "    class_weight=class_weights,\n",
    "    verbose=1,\n",
    ")"
   ]
  },
  {
   "cell_type": "code",
   "execution_count": 20,
   "id": "35b19159",
   "metadata": {
    "colab": {
     "base_uri": "https://localhost:8080/"
    },
    "id": "NRjdR3E9M6bp",
    "outputId": "d96c53fc-6c1c-4941-a4fc-97de5b9960a0",
    "scrolled": true
   },
   "outputs": [
    {
     "name": "stdout",
     "output_type": "stream",
     "text": [
      "Test loss: 0.5315022468566895\n",
      "Test accuracy: 0.7726151347160339\n"
     ]
    }
   ],
   "source": [
    "score = model.evaluate(X_test, y_test, verbose = 0) \n",
    "\n",
    "print('Test loss:', score[0]) \n",
    "print('Test accuracy:', score[1])"
   ]
  },
  {
   "cell_type": "code",
   "execution_count": 21,
   "id": "e980f034",
   "metadata": {
    "colab": {
     "base_uri": "https://localhost:8080/"
    },
    "id": "PYQLQItpOKBp",
    "outputId": "61c9d790-341c-4b8a-a731-74616d9732b9",
    "scrolled": true
   },
   "outputs": [
    {
     "name": "stdout",
     "output_type": "stream",
     "text": [
      "152/152 [==============================] - 0s 2ms/step\n",
      "[[0.09435148]\n",
      " [0.16989993]\n",
      " [0.2450422 ]\n",
      " ...\n",
      " [0.3537774 ]\n",
      " [0.41688237]\n",
      " [0.5285461 ]]\n"
     ]
    }
   ],
   "source": [
    "pred = model.predict(X_test)\n",
    "print(pred)"
   ]
  },
  {
   "cell_type": "code",
   "execution_count": 22,
   "id": "7ea484a0",
   "metadata": {},
   "outputs": [
    {
     "name": "stdout",
     "output_type": "stream",
     "text": [
      "152/152 [==============================] - 0s 2ms/step - loss: 0.5315 - acc: 0.7726 - auc: 0.7248 - weighted_acc: 0.7726\n"
     ]
    }
   ],
   "source": [
    "metrics_list = model.evaluate(X_test,y_test)"
   ]
  },
  {
   "cell_type": "code",
   "execution_count": 23,
   "id": "16719144",
   "metadata": {},
   "outputs": [
    {
     "name": "stdout",
     "output_type": "stream",
     "text": [
      "[0.5315022468566895, 0.7726151347160339, 0.7248320579528809, 0.7726151347160339]\n"
     ]
    }
   ],
   "source": [
    "print(metrics_list)"
   ]
  },
  {
   "cell_type": "code",
   "execution_count": 24,
   "id": "a162259c",
   "metadata": {
    "id": "ZyOqTnS9W--A"
   },
   "outputs": [],
   "source": [
    "def check_max_pred(prd):\n",
    "  max=0\n",
    "  for i in prd:\n",
    "    if i[0] > max:\n",
    "      max = i[0]\n",
    "  print(max)"
   ]
  },
  {
   "cell_type": "code",
   "execution_count": 25,
   "id": "b97f6fb5",
   "metadata": {
    "colab": {
     "base_uri": "https://localhost:8080/"
    },
    "id": "Vt9hHlHde5G2",
    "outputId": "6a391d6c-1acc-4bfc-d8f3-597d302c87b6",
    "scrolled": false
   },
   "outputs": [
    {
     "name": "stdout",
     "output_type": "stream",
     "text": [
      "0.99984765\n"
     ]
    }
   ],
   "source": [
    "check_max_pred(pred)"
   ]
  },
  {
   "cell_type": "code",
   "execution_count": 26,
   "id": "e6756576",
   "metadata": {
    "id": "Dh7gibaQiOsw"
   },
   "outputs": [],
   "source": [
    "list_patient_rows = list(df_test.groupby(['patient_id'])['patient_id'].count())"
   ]
  },
  {
   "cell_type": "code",
   "execution_count": 27,
   "id": "986885f4",
   "metadata": {
    "id": "ByfsYZiaiqj3"
   },
   "outputs": [],
   "source": [
    "def cumulative(lists): \n",
    "    cu_list = [] \n",
    "    length = len(lists) \n",
    "    cu_list = [sum(lists[0:x:1]) for x in range(0, length+1)] \n",
    "    return cu_list[1:]"
   ]
  },
  {
   "cell_type": "code",
   "execution_count": 28,
   "id": "fdf41303",
   "metadata": {
    "id": "FBeasPNClnpb"
   },
   "outputs": [],
   "source": [
    "pred_groupby_patient = np.split(pred,cumulative(list_patient_rows))\n",
    "pred_groupby_patient = pred_groupby_patient[:-1]\n",
    "\n",
    "df_test = df_test.astype({'murmur':'int'})\n",
    "y_test_grouped = df_test[['patient_id','murmur']].drop_duplicates()['murmur'].to_list()"
   ]
  },
  {
   "cell_type": "code",
   "execution_count": 29,
   "id": "dcf7dd5e",
   "metadata": {
    "id": "cKJrhB9QwQ3_"
   },
   "outputs": [],
   "source": [
    "def mean_pred(prediction):\n",
    "  pred = []\n",
    "  for i in prediction:\n",
    "    lst = [ j[0] for j in i]\n",
    "    avg = sum(lst)/len(lst)\n",
    "    if avg > 0.5:\n",
    "      pred.append(1)\n",
    "    else:\n",
    "      pred.append(0)\n",
    "  return pred\n",
    "\n",
    "def majority_pred(prediction):\n",
    "  pred = []\n",
    "  for i in prediction:\n",
    "    lst = [ j[0] for j in i]\n",
    "    if (sum(elem > 0.5 for elem in lst)) > (len(lst)/2):\n",
    "      pred.append(1)\n",
    "    else:\n",
    "      pred.append(0)\n",
    "  return pred\n"
   ]
  },
  {
   "cell_type": "code",
   "execution_count": 30,
   "id": "d2b2d5ae",
   "metadata": {
    "id": "TYCSAcHFzHLy"
   },
   "outputs": [],
   "source": [
    "pred1 = mean_pred(pred_groupby_patient)\n",
    "pred2 = majority_pred(pred_groupby_patient)\n",
    "\n"
   ]
  },
  {
   "cell_type": "code",
   "execution_count": 31,
   "id": "4ee2658e",
   "metadata": {
    "colab": {
     "base_uri": "https://localhost:8080/"
    },
    "id": "UoHq89-17e8x",
    "outputId": "cd48623a-96dc-4cfe-9206-65f355dba977",
    "scrolled": false
   },
   "outputs": [
    {
     "name": "stdout",
     "output_type": "stream",
     "text": [
      "[0, 0, 0, 0, 1, 0, 0, 1, 1, 0, 1, 0, 0, 0, 0, 0, 1, 0, 0, 0, 1, 0, 0, 0, 0, 0, 0, 0, 0, 1, 0, 0, 0, 0, 1, 0, 0, 0, 0, 0, 1, 0, 0, 0, 0, 0, 1, 1, 0, 0, 0, 0, 0, 0, 0, 0, 1, 0, 0, 0, 0, 1, 1, 0, 0, 0, 0, 0, 0, 0, 1, 0, 0, 0, 0, 0, 0, 1, 0, 0, 0, 0, 0, 1, 0, 0, 1, 0, 0, 0, 1, 0, 0, 0, 0, 0, 0, 1, 0, 0, 0, 0, 0, 0, 1, 1, 1, 0, 0, 1, 0, 1, 1, 0, 0, 1, 1, 1, 0, 1, 0, 0, 0, 0, 0, 0, 1, 0, 0, 0, 0, 0, 0, 0, 0, 1, 0, 1, 0, 1, 0, 0, 0, 0, 1, 0, 0, 0, 0, 0, 0, 0, 0, 0, 0, 0, 0, 1, 0, 0, 0, 0, 1, 0, 0, 0, 0, 0, 0, 0, 0, 0, 0, 0, 0]\n",
      "[0, 0, 0, 0, 1, 0, 0, 1, 1, 0, 1, 0, 0, 0, 0, 0, 1, 0, 0, 0, 0, 0, 0, 0, 0, 0, 0, 0, 0, 1, 0, 0, 0, 0, 1, 0, 0, 0, 0, 0, 1, 0, 0, 0, 0, 0, 1, 0, 0, 0, 0, 0, 0, 0, 0, 0, 1, 0, 0, 0, 0, 1, 1, 0, 0, 0, 0, 0, 0, 0, 0, 0, 0, 0, 0, 0, 0, 1, 0, 0, 0, 0, 0, 1, 0, 0, 1, 0, 0, 0, 1, 0, 0, 0, 0, 0, 0, 1, 0, 0, 0, 0, 0, 0, 1, 0, 1, 0, 0, 1, 0, 1, 1, 0, 0, 1, 0, 1, 0, 1, 0, 0, 0, 0, 0, 0, 0, 0, 0, 0, 0, 0, 0, 0, 0, 1, 0, 1, 0, 1, 0, 0, 0, 0, 1, 0, 0, 0, 0, 0, 0, 0, 0, 0, 0, 0, 0, 1, 0, 0, 0, 0, 1, 0, 0, 0, 0, 0, 0, 0, 0, 0, 0, 0, 0]\n",
      "[1, 0, 0, 1, 1, 0, 0, 1, 1, 1, 1, 0, 1, 0, 0, 0, 1, 0, 0, 0, 0, 0, 0, 0, 0, 0, 0, 0, 0, 0, 1, 0, 1, 1, 0, 0, 1, 0, 0, 0, 0, 0, 0, 0, 0, 0, 0, 1, 0, 0, 0, 0, 0, 0, 0, 1, 0, 0, 0, 0, 0, 0, 0, 0, 0, 0, 0, 0, 0, 0, 1, 0, 0, 0, 0, 0, 0, 1, 0, 0, 0, 0, 1, 1, 0, 0, 1, 1, 1, 1, 1, 0, 0, 0, 0, 0, 0, 1, 0, 0, 0, 0, 0, 0, 0, 1, 1, 0, 0, 1, 0, 1, 1, 0, 0, 1, 1, 0, 0, 1, 0, 0, 0, 0, 0, 0, 1, 0, 0, 0, 0, 0, 0, 0, 0, 0, 0, 0, 1, 1, 0, 0, 0, 0, 1, 0, 1, 0, 0, 0, 0, 0, 0, 0, 0, 1, 0, 1, 0, 0, 0, 0, 0, 0, 1, 0, 0, 0, 0, 1, 0, 0, 0, 0, 0]\n",
      "Accuracy score of mean_pred :  0.8228571428571428\n",
      "Accuracy score of majority_pred :  0.8\n"
     ]
    }
   ],
   "source": [
    "print(pred1)\n",
    "print(pred2)\n",
    "print(y_test_grouped)\n",
    "print(\"Accuracy score of mean_pred : \",accuracy_score(pred1 , y_test_grouped))\n",
    "print(\"Accuracy score of majority_pred : \",accuracy_score(pred2 , y_test_grouped))"
   ]
  },
  {
   "cell_type": "code",
   "execution_count": 32,
   "id": "e8c5221a",
   "metadata": {
    "colab": {
     "base_uri": "https://localhost:8080/"
    },
    "id": "Va4k-0WH4FZw",
    "outputId": "4f6b6364-4d7e-4d5c-9fc7-d46493f75b99",
    "scrolled": true
   },
   "outputs": [
    {
     "name": "stdout",
     "output_type": "stream",
     "text": [
      "Weighted accuracy on test set :  0.7591069330199764\n"
     ]
    }
   ],
   "source": [
    "print(\"Weighted accuracy on test set : \",balanced_accuracy_score(pred1, y_test_grouped))"
   ]
  },
  {
   "cell_type": "code",
   "execution_count": 35,
   "id": "9a95ef3f",
   "metadata": {
    "colab": {
     "base_uri": "https://localhost:8080/",
     "height": 301
    },
    "id": "SO30vCJawoVq",
    "outputId": "f476dc2f-6709-4e34-fa2a-d7ae3cb750ee",
    "scrolled": false
   },
   "outputs": [
    {
     "data": {
      "text/plain": [
       "<sklearn.metrics._plot.confusion_matrix.ConfusionMatrixDisplay at 0x7fe78e887250>"
      ]
     },
     "execution_count": 35,
     "metadata": {},
     "output_type": "execute_result"
    },
    {
     "data": {
      "image/png": "[encoded data removed]",
      "text/plain": [
       "<Figure size 640x480 with 2 Axes>"
      ]
     },
     "metadata": {},
     "output_type": "display_data"
    }
   ],
   "source": [
    "from sklearn.metrics import ConfusionMatrixDisplay\n",
    "ConfusionMatrixDisplay.from_predictions(y_test_grouped, pred1,\n",
    "                                        cmap='Blues', normalize = None)"
   ]
  },
  {
   "cell_type": "code",
   "execution_count": 34,
   "id": "c94d46f4",
   "metadata": {},
   "outputs": [
    {
     "data": {
      "text/plain": [
       "<sklearn.metrics._plot.confusion_matrix.ConfusionMatrixDisplay at 0x7fe78e743610>"
      ]
     },
     "execution_count": 34,
     "metadata": {},
     "output_type": "execute_result"
    },
    {
     "data": {
      "image/png": "[encoded data removed]",
      "text/plain": [
       "<Figure size 640x480 with 2 Axes>"
      ]
     },
     "metadata": {},
     "output_type": "display_data"
    }
   ],
   "source": [
    "from sklearn.metrics import ConfusionMatrixDisplay\n",
    "ConfusionMatrixDisplay.from_predictions(y_test_grouped, pred1,\n",
    "                                        cmap='Blues', normalize = 'true')"
   ]
  },
  {
   "cell_type": "code",
   "execution_count": null,
   "id": "15d6f7b9",
   "metadata": {},
   "outputs": [],
   "source": []
  }
 ],
 "metadata": {
  "accelerator": "GPU",
  "colab": {
   "provenance": []
  },
  "gpuClass": "standard",
  "kernelspec": {
   "display_name": "Python 3 (ipykernel)",
   "language": "python",
   "name": "python3"
  },
  "language_info": {
   "codemirror_mode": {
    "name": "ipython",
    "version": 3
   },
   "file_extension": ".py",
   "mimetype": "text/x-python",
   "name": "python",
   "nbconvert_exporter": "python",
   "pygments_lexer": "ipython3",
   "version": "3.10.9"
  }
 },
 "nbformat": 4,
 "nbformat_minor": 5
}
